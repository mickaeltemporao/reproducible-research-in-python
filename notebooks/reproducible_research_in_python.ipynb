{
  "nbformat": 4,
  "nbformat_minor": 0,
  "metadata": {
    "colab": {
      "name": "20191025_rrip.ipynb",
      "provenance": [],
      "collapsed_sections": [],
      "toc_visible": true
    },
    "kernelspec": {
      "name": "python3",
      "display_name": "Python 3"
    },
    "accelerator": "GPU"
  },
  "cells": [
    {
      "cell_type": "markdown",
      "metadata": {
        "id": "YA8rfoQu93ql",
        "colab_type": "text"
      },
      "source": [
        "# Reproducible Research in Python\n",
        "_Workshop at McMaster University, October 25th 2019_\n",
        "\n",
        "This notebook was created as part of a workshop on *Reproducible Research in Python*. \n",
        "- You can access the workshop materials here: [Reproducible Research in Python](https://github.com/mickaeltemporao/reproducible-research-in-python).\n",
        "\n",
        "## Important Note\n",
        "\n",
        "This is a hands on workshop. It is better if you start coding along with me during the workshop, experiment bugs and try to understand your errors. \n",
        "Learn by doing and try to avoid copy/pasting.\n",
        "\n",
        "Feel free to ask questions at any time during the workshop.\n",
        "\n",
        "## Prerequisites\n",
        "Prior to the workshop, users need to:\n",
        "- [ ] Account on [Google Colab](https://colab.research.google.com/) \n",
        "- [ ] Account on [GitHub](https://github.com/)\n",
        "\n",
        "## Structure\n",
        "This workshop is divided into three parts. The first part is an introduction the [Python](https://www.python.org/) programming language where you will learn the basics of the language and how to use built-in libraries. The second part of the workshop will teach you how to acquire, explore, and transform data. In the third and last part, you will learn how to train, save, and load models from data.\n",
        "\n",
        "## Software\n",
        "- [ ] [Python 3.6.8+](https://docs.python-guide.org/starting/installation/) \n",
        "\n",
        "## Resources\n",
        "- [The Python Package Index](https://pypi.org/)\n",
        "- [Installing Python Pakcages](https://packaging.python.org/tutorials/installing-packages/)\n",
        "- [Pandas Cheatsheet](http://pandas.pydata.org/Pandas_Cheat_Sheet.pdf)\n",
        "- [seaborn: statistical data visualization](https://seaborn.pydata.org/examples/index.html)\n",
        "- [SciKit-Learn](https://scikit-learn.org/stable/)\n",
        "- [Python Regular Expressions](https://www.w3schools.com/python/python_regex.asp)\n",
        "- [Minimal Package Structure](https://python-packaging.readthedocs.io/en/latest/minimal.html)\n",
        "- [Guidelines to choose a licencse](https://help.github.com/en/github/creating-cloning-and-archiving-repositories/licensing-a-repository)\n",
        "- [Guidelines to document your scripts](https://sphinxcontrib-napoleon.readthedocs.io/en/latest/example_numpy.html)\n",
        "\n",
        "\n",
        "## License and credit\n",
        "Science should be open and shared. This workshop is inspired and built on top of other open licensed material, so unless otherwise noted, all materials for this workshop are licensed under the Creative Commons Attribution Share Alike 4.0 International License.\n",
        "\n",
        "The source for the materials of this course is on GitHub at [mickaeltemporao/reproducible-research-in-python](https://github.com/mickaeltemporao/reproducible-research-in-python).\n",
        "\n",
        "## Contact\n",
        "For any follow-up questions:\n",
        "- twitter: [@mickaeltemporao](https://twitter.com/mickaeltemporao)\n",
        "- email: mickael.temporao [at] gmail [dot] com"
      ]
    },
    {
      "cell_type": "markdown",
      "metadata": {
        "id": "OlRyHtG09958",
        "colab_type": "text"
      },
      "source": [
        "# Introduction\n",
        "\n",
        "![Draw the Owl](http://www.forimpact.org/wp-content/uploads/2014/01/HowToDrawOwl.jpg)\n",
        "\n",
        "## Agenda\n",
        "\n",
        "- [Python Basics]() \n",
        "- [Data Acquisition, Analysis, & Transformation]()\n",
        "- [Mdeling & Sharing]()\n",
        "\n",
        "\n",
        "\n",
        "\n"
      ]
    },
    {
      "cell_type": "markdown",
      "metadata": {
        "id": "mkZCKT7VCk2M",
        "colab_type": "text"
      },
      "source": [
        "# Python Basics\n",
        "\n",
        "**Learning Objective:** \n",
        "- Learn how code is executed in an Interactive Python Environment\n",
        "- Get familiar with Python and some of its data types \n",
        "- Learn how to use functions, modules, and packages.\n"
      ]
    },
    {
      "cell_type": "markdown",
      "metadata": {
        "id": "_fiE5U9mXaJm",
        "colab_type": "text"
      },
      "source": [
        "## Python \n",
        "\n",
        "- Open Source \n",
        "- General Purpose Programming Language\n",
        "- Created by Guido Van Rossum\n",
        "- Interpreted\n",
        "- Large Community \n"
      ]
    },
    {
      "cell_type": "markdown",
      "metadata": {
        "id": "XWXP479C8833",
        "colab_type": "text"
      },
      "source": [
        "## IPython Shell\n",
        "\n",
        "- Run Python commands interactively\n",
        "\n",
        "Magic Commands\n",
        "\n",
        "```\n",
        "- %lsmagic\n",
        "- %who\n",
        "- %history\n",
        "- %save\n",
        "- %run\n",
        "- %?\n",
        "```"
      ]
    },
    {
      "cell_type": "markdown",
      "metadata": {
        "id": "YkYBvekj8AWB",
        "colab_type": "text"
      },
      "source": [
        "## Hello World\n"
      ]
    },
    {
      "cell_type": "code",
      "metadata": {
        "id": "8GNA7diq8z-t",
        "colab_type": "code",
        "outputId": "b0ef5020-9162-4df4-e0dd-a65622f789bc",
        "colab": {
          "base_uri": "https://localhost:8080/",
          "height": 34
        }
      },
      "source": [
        "print(\"Greetings!\")"
      ],
      "execution_count": 1,
      "outputs": [
        {
          "output_type": "stream",
          "text": [
            "Greetings!\n"
          ],
          "name": "stdout"
        }
      ]
    },
    {
      "cell_type": "markdown",
      "metadata": {
        "id": "ikqxPVSr86zx",
        "colab_type": "text"
      },
      "source": [
        "If you run the code below, what is the output?\n"
      ]
    },
    {
      "cell_type": "code",
      "metadata": {
        "id": "5YUSoD5Ug4Af",
        "colab_type": "code",
        "outputId": "18622f4c-0c83-46af-a4f6-076c73bd0da9",
        "colab": {
          "base_uri": "https://localhost:8080/",
          "height": 34
        }
      },
      "source": [
        "# Press CTRL/CMD+ENTER to run this cell\n",
        "print(\"5\" + \"3\")"
      ],
      "execution_count": 2,
      "outputs": [
        {
          "output_type": "stream",
          "text": [
            "53\n"
          ],
          "name": "stdout"
        }
      ]
    },
    {
      "cell_type": "markdown",
      "metadata": {
        "id": "LA31CS2fqYYF",
        "colab_type": "text"
      },
      "source": [
        "In python you can sum *STRINGS*. As you are doing the sum of two *STRINGS* the result is 53."
      ]
    },
    {
      "cell_type": "markdown",
      "metadata": {
        "id": "VVsSP_3JqJVS",
        "colab_type": "text"
      },
      "source": [
        "If you run the code below, what do you see?\n"
      ]
    },
    {
      "cell_type": "code",
      "metadata": {
        "id": "U1an4ibdaJaV",
        "colab_type": "code",
        "outputId": "37f96d10-b5fa-4263-f4f0-a47b2957489d",
        "colab": {
          "base_uri": "https://localhost:8080/",
          "height": 84
        }
      },
      "source": [
        "print(\" _____\")\n",
        "# This is a comment.\n",
        "print(\"|     |\")\n",
        "# Here's another comment.\n",
        "print(\"|     |\")\n",
        "\"This is a string\"\n",
        "print(\"|_____|\")\n"
      ],
      "execution_count": 3,
      "outputs": [
        {
          "output_type": "stream",
          "text": [
            " _____\n",
            "|     |\n",
            "|     |\n",
            "|_____|\n"
          ],
          "name": "stdout"
        }
      ]
    },
    {
      "cell_type": "markdown",
      "metadata": {
        "id": "idgh_5Q_wVDe",
        "colab_type": "text"
      },
      "source": [
        "Instructions are executed sequentially.\n"
      ]
    },
    {
      "cell_type": "markdown",
      "metadata": {
        "id": "JJT7WfvhjrH1",
        "colab_type": "text"
      },
      "source": [
        "### Hack Time"
      ]
    },
    {
      "cell_type": "code",
      "metadata": {
        "id": "tdkxojGxklzh",
        "colab_type": "code",
        "colab": {}
      },
      "source": [
        "# You code here.\n",
        "# Print your first and last name?\n"
      ],
      "execution_count": 0,
      "outputs": []
    },
    {
      "cell_type": "markdown",
      "metadata": {
        "id": "YcwnBiyWrCFl",
        "colab_type": "text"
      },
      "source": [
        "## Arithmetic with Python\n",
        "\n",
        "In its most basic form, Python can be used as a simple calculator. Consider the following arithmetic operators:\n",
        "\n",
        "- Addition: +\n",
        "- Subtraction: -\n",
        "- Multiplication: *\n",
        "- Division: /\n",
        "- Exponentiation: **\n",
        "- Modulo: % "
      ]
    },
    {
      "cell_type": "markdown",
      "metadata": {
        "id": "cLIi4NHMoq0g",
        "colab_type": "text"
      },
      "source": [
        "### Hack Time "
      ]
    },
    {
      "cell_type": "code",
      "metadata": {
        "id": "eiFKOoEcobd3",
        "colab_type": "code",
        "colab": {}
      },
      "source": [
        "# Your code here.\n",
        "# Divide 7 by 3.\n",
        "\n",
        "# Raise 2 to the 5 power.\n"
      ],
      "execution_count": 0,
      "outputs": []
    },
    {
      "cell_type": "markdown",
      "metadata": {
        "id": "rMx8hCcXm348",
        "colab_type": "text"
      },
      "source": [
        "## Variables assignment\n",
        "\n",
        "Variables are containers that allow you to store a value (e.g. 5) or an object(e.g. a function).\n",
        "\n",
        "Python uses the symbol **\"=\"** as the assignment statement.\n"
      ]
    },
    {
      "cell_type": "code",
      "metadata": {
        "id": "4xp0CxL4trTo",
        "colab_type": "code",
        "outputId": "53691f75-28ce-4fb6-ae7a-921d9f8e1a58",
        "colab": {
          "base_uri": "https://localhost:8080/",
          "height": 34
        }
      },
      "source": [
        "x = 24\n",
        "x"
      ],
      "execution_count": 4,
      "outputs": [
        {
          "output_type": "execute_result",
          "data": {
            "text/plain": [
              "24"
            ]
          },
          "metadata": {
            "tags": []
          },
          "execution_count": 4
        }
      ]
    },
    {
      "cell_type": "markdown",
      "metadata": {
        "id": "RchpCgYetcHz",
        "colab_type": "text"
      },
      "source": [
        "### Hack Time\n",
        "\n"
      ]
    },
    {
      "cell_type": "code",
      "metadata": {
        "id": "ldux1N7-yOxO",
        "colab_type": "code",
        "colab": {}
      },
      "source": [
        "# Your code here.\n",
        "# Assign numerical values to two variables named `day_1` and `day_2`.\n",
        "\n",
        "# Add these two variables together.\n",
        "\n",
        "# Create a `my_total` variable containing the sum of the day `day_1` and `day_2` variables.\n",
        "\n",
        "# Print the contents of the `my_total` variable.\n"
      ],
      "execution_count": 0,
      "outputs": []
    },
    {
      "cell_type": "markdown",
      "metadata": {
        "id": "v6UGa0nm1SRX",
        "colab_type": "text"
      },
      "source": [
        "## Basic data types in Python\n",
        "\n",
        "Python works with numerous data types. Some of the most basic types to get started are:\n",
        "\n",
        "- Natural numbers like 2 are called integers (*int*). \n",
        "- Decimal values like 2.5 are called floating point (*float*).\n",
        "- Textual values like \"orange\" or 'bananas' are called strings (*str*).\n",
        "- Logical values (True or False) are called boolean (*bool*).\n",
        "- Lists are like variables but can contain any Python type (*list*)."
      ]
    },
    {
      "cell_type": "code",
      "metadata": {
        "id": "4bvNijKX3D1s",
        "colab_type": "code",
        "outputId": "30fdbdc2-66b8-45ae-94bc-5195c226279b",
        "colab": {
          "base_uri": "https://localhost:8080/",
          "height": 34
        }
      },
      "source": [
        "day_1 = 20\n",
        "type(day_1)\n"
      ],
      "execution_count": 5,
      "outputs": [
        {
          "output_type": "execute_result",
          "data": {
            "text/plain": [
              "int"
            ]
          },
          "metadata": {
            "tags": []
          },
          "execution_count": 5
        }
      ]
    },
    {
      "cell_type": "code",
      "metadata": {
        "id": "jZ-RTwBh3Rxu",
        "colab_type": "code",
        "outputId": "8745fcbf-f47c-4c9d-bb7b-92b6bc2bd3ce",
        "colab": {
          "base_uri": "https://localhost:8080/",
          "height": 34
        }
      },
      "source": [
        "day_2 = 30\n",
        "type(day_2)\n"
      ],
      "execution_count": 6,
      "outputs": [
        {
          "output_type": "execute_result",
          "data": {
            "text/plain": [
              "int"
            ]
          },
          "metadata": {
            "tags": []
          },
          "execution_count": 6
        }
      ]
    },
    {
      "cell_type": "code",
      "metadata": {
        "id": "Pkrwcmek3WBC",
        "colab_type": "code",
        "outputId": "08cdaf52-84f1-4ed9-a10c-b6b13fd296c2",
        "colab": {
          "base_uri": "https://localhost:8080/",
          "height": 34
        }
      },
      "source": [
        "description = \"Voting Intentions\"\n",
        "type(description)\n"
      ],
      "execution_count": 7,
      "outputs": [
        {
          "output_type": "execute_result",
          "data": {
            "text/plain": [
              "str"
            ]
          },
          "metadata": {
            "tags": []
          },
          "execution_count": 7
        }
      ]
    },
    {
      "cell_type": "code",
      "metadata": {
        "id": "nKWVO2EwuqmF",
        "colab_type": "code",
        "outputId": "16732452-293f-4588-93e3-c9f79d533803",
        "colab": {
          "base_uri": "https://localhost:8080/",
          "height": 34
        }
      },
      "source": [
        "increasing = True\n",
        "type(increasing)\n"
      ],
      "execution_count": 8,
      "outputs": [
        {
          "output_type": "execute_result",
          "data": {
            "text/plain": [
              "bool"
            ]
          },
          "metadata": {
            "tags": []
          },
          "execution_count": 8
        }
      ]
    },
    {
      "cell_type": "code",
      "metadata": {
        "id": "4JIF0KeG7NPO",
        "colab_type": "code",
        "outputId": "792227cc-107c-4ee5-8849-0ad0fad7722e",
        "colab": {
          "base_uri": "https://localhost:8080/",
          "height": 34
        }
      },
      "source": [
        "data = [description, increasing, \"Tuesday\", day_1, \"Wednesday\", day_2]\n",
        "type(data)"
      ],
      "execution_count": 9,
      "outputs": [
        {
          "output_type": "execute_result",
          "data": {
            "text/plain": [
              "list"
            ]
          },
          "metadata": {
            "tags": []
          },
          "execution_count": 9
        }
      ]
    },
    {
      "cell_type": "markdown",
      "metadata": {
        "id": "hUrBISRs5jdx",
        "colab_type": "text"
      },
      "source": [
        "### Hack Time"
      ]
    },
    {
      "cell_type": "code",
      "metadata": {
        "id": "fz9Eg8Ln5m0P",
        "colab_type": "code",
        "colab": {}
      },
      "source": [
        "# Your Code Here.\n",
        "## Create a variable containinig the average of voting intentions.\n",
        "\n",
        "## What is it's type?\n"
      ],
      "execution_count": 0,
      "outputs": []
    },
    {
      "cell_type": "markdown",
      "metadata": {
        "id": "y1-g8bwU4r44",
        "colab_type": "text"
      },
      "source": [
        "## List Manipulation\n",
        "\n",
        "You can select, slice or edit elements in a list.\n",
        "\n",
        "Note that Python is 0 indexed.\n"
      ]
    },
    {
      "cell_type": "code",
      "metadata": {
        "id": "PBqTX5r021As",
        "colab_type": "code",
        "outputId": "afd5ae4b-2175-4bf7-a47c-216c0f2a4519",
        "colab": {
          "base_uri": "https://localhost:8080/",
          "height": 34
        }
      },
      "source": [
        "# Select an element in a list\n",
        "data\n",
        "data[3]\n"
      ],
      "execution_count": 10,
      "outputs": [
        {
          "output_type": "execute_result",
          "data": {
            "text/plain": [
              "20"
            ]
          },
          "metadata": {
            "tags": []
          },
          "execution_count": 10
        }
      ]
    },
    {
      "cell_type": "code",
      "metadata": {
        "id": "5LTIzvxN25ZS",
        "colab_type": "code",
        "outputId": "51f2c9dd-069b-4f5e-976b-d13f6902e584",
        "colab": {
          "base_uri": "https://localhost:8080/",
          "height": 34
        }
      },
      "source": [
        "# Slicing lists: list[begin:end]\n",
        "data[2:]\n"
      ],
      "execution_count": 11,
      "outputs": [
        {
          "output_type": "execute_result",
          "data": {
            "text/plain": [
              "['Tuesday', 20, 'Wednesday', 30]"
            ]
          },
          "metadata": {
            "tags": []
          },
          "execution_count": 11
        }
      ]
    },
    {
      "cell_type": "code",
      "metadata": {
        "id": "Wj8UZptK257c",
        "colab_type": "code",
        "outputId": "a68f464f-2a2b-436f-f9c5-8c957ad30752",
        "colab": {
          "base_uri": "https://localhost:8080/",
          "height": 34
        }
      },
      "source": [
        "# Editing a list\n",
        "data[0] = \"Monday\"\n",
        "data[1] = 25.6\n",
        "data\n"
      ],
      "execution_count": 12,
      "outputs": [
        {
          "output_type": "execute_result",
          "data": {
            "text/plain": [
              "['Monday', 25.6, 'Tuesday', 20, 'Wednesday', 30]"
            ]
          },
          "metadata": {
            "tags": []
          },
          "execution_count": 12
        }
      ]
    },
    {
      "cell_type": "code",
      "metadata": {
        "id": "BSt4QYkd2687",
        "colab_type": "code",
        "outputId": "134b41b0-e3b5-41fc-bc38-bee398a9b9e8",
        "colab": {
          "base_uri": "https://localhost:8080/",
          "height": 34
        }
      },
      "source": [
        "# Adding to a list\n",
        "day_3 = [\"Thursday\", 40]\n",
        "day_3\n",
        "data = data + day_3\n",
        "data\n"
      ],
      "execution_count": 13,
      "outputs": [
        {
          "output_type": "execute_result",
          "data": {
            "text/plain": [
              "['Monday', 25.6, 'Tuesday', 20, 'Wednesday', 30, 'Thursday', 40]"
            ]
          },
          "metadata": {
            "tags": []
          },
          "execution_count": 13
        }
      ]
    },
    {
      "cell_type": "markdown",
      "metadata": {
        "id": "f66XD41Y27rv",
        "colab_type": "text"
      },
      "source": [
        "\n",
        "### Unpacking from lists\n"
      ]
    },
    {
      "cell_type": "code",
      "metadata": {
        "id": "5wRMK1JU28Y2",
        "colab_type": "code",
        "outputId": "6a3794c1-9e30-416e-cde2-88abad4c81a8",
        "colab": {
          "base_uri": "https://localhost:8080/",
          "height": 50
        }
      },
      "source": [
        "# Unpack contents of a list into multiple variables\n",
        "a, b = range(2)\n",
        "\n",
        "print(\"a:\", a)\n",
        "print(\"b:\", b)\n"
      ],
      "execution_count": 14,
      "outputs": [
        {
          "output_type": "stream",
          "text": [
            "a: 0\n",
            "b: 1\n"
          ],
          "name": "stdout"
        }
      ]
    },
    {
      "cell_type": "code",
      "metadata": {
        "id": "AzI2lV3b4wC5",
        "colab_type": "code",
        "outputId": "d95883ef-3f15-45fc-f6f7-3f8a51797a81",
        "colab": {
          "base_uri": "https://localhost:8080/",
          "height": 67
        }
      },
      "source": [
        "# You can use the asterisk to unpack multiple elements\n",
        "a, b, *c = range(20)\n",
        "\n",
        "print(\"a:\", a)\n",
        "print(\"b:\", b)\n",
        "print(\"c:\", c)\n"
      ],
      "execution_count": 15,
      "outputs": [
        {
          "output_type": "stream",
          "text": [
            "a: 0\n",
            "b: 1\n",
            "c: [2, 3, 4, 5, 6, 7, 8, 9, 10, 11, 12, 13, 14, 15, 16, 17, 18, 19]\n"
          ],
          "name": "stdout"
        }
      ]
    },
    {
      "cell_type": "markdown",
      "metadata": {
        "id": "sH747xtD4w0u",
        "colab_type": "text"
      },
      "source": [
        "## Functions and Methods\n",
        "We have already used some functions until now (e.g. `print()`, `type()`, `range()`).\n",
        "\n",
        "- A function is a group of related statements that perform a specific task.\n",
        "- Help break our program into smaller and modular chunks.\n",
        "- Make your code more organized and manageable. \n",
        "- Avoids repetition and makes code reusable.\n",
        "\n",
        "\n",
        "The general form that functions take is:\n",
        "\n",
        "```\n",
        "output = function_name(input)\n",
        "```\n",
        "\n"
      ]
    },
    {
      "cell_type": "code",
      "metadata": {
        "id": "9TfTXOMi4xtW",
        "colab_type": "code",
        "outputId": "39bec90c-abd9-4591-945e-c5a3dc77d47d",
        "colab": {
          "base_uri": "https://localhost:8080/",
          "height": 34
        }
      },
      "source": [
        "result = type(day_3)\n",
        "result\n"
      ],
      "execution_count": 16,
      "outputs": [
        {
          "output_type": "execute_result",
          "data": {
            "text/plain": [
              "list"
            ]
          },
          "metadata": {
            "tags": []
          },
          "execution_count": 16
        }
      ]
    },
    {
      "cell_type": "code",
      "metadata": {
        "id": "l6pHIl2b5j7X",
        "colab_type": "code",
        "outputId": "e9f0b07d-5544-4fbc-cd21-250ac38d7717",
        "colab": {
          "base_uri": "https://localhost:8080/",
          "height": 487
        }
      },
      "source": [
        "# Note that help is also a function!\n",
        "help(help)\n"
      ],
      "execution_count": 17,
      "outputs": [
        {
          "output_type": "stream",
          "text": [
            "Help on _Helper in module _sitebuiltins object:\n",
            "\n",
            "class _Helper(builtins.object)\n",
            " |  Define the builtin 'help'.\n",
            " |  \n",
            " |  This is a wrapper around pydoc.help that provides a helpful message\n",
            " |  when 'help' is typed at the Python interactive prompt.\n",
            " |  \n",
            " |  Calling help() at the Python prompt starts an interactive help session.\n",
            " |  Calling help(thing) prints help for the python object 'thing'.\n",
            " |  \n",
            " |  Methods defined here:\n",
            " |  \n",
            " |  __call__(self, *args, **kwds)\n",
            " |      Call self as a function.\n",
            " |  \n",
            " |  __repr__(self)\n",
            " |      Return repr(self).\n",
            " |  \n",
            " |  ----------------------------------------------------------------------\n",
            " |  Data descriptors defined here:\n",
            " |  \n",
            " |  __dict__\n",
            " |      dictionary for instance variables (if defined)\n",
            " |  \n",
            " |  __weakref__\n",
            " |      list of weak references to the object (if defined)\n",
            "\n"
          ],
          "name": "stdout"
        }
      ]
    },
    {
      "cell_type": "code",
      "metadata": {
        "id": "Pum0NSjo5m_o",
        "colab_type": "code",
        "colab": {}
      },
      "source": [
        "# Alternatively IPython offers a shortcut\n",
        "?print\n"
      ],
      "execution_count": 0,
      "outputs": []
    },
    {
      "cell_type": "code",
      "metadata": {
        "id": "3F1NULbr5oIn",
        "colab_type": "code",
        "outputId": "9978d6c5-b4f3-4c97-ce84-98aa679498e8",
        "colab": {
          "base_uri": "https://localhost:8080/",
          "height": 34
        }
      },
      "source": [
        "data[1]\n"
      ],
      "execution_count": 19,
      "outputs": [
        {
          "output_type": "execute_result",
          "data": {
            "text/plain": [
              "25.6"
            ]
          },
          "metadata": {
            "tags": []
          },
          "execution_count": 19
        }
      ]
    },
    {
      "cell_type": "code",
      "metadata": {
        "id": "_xgOvtST6EvI",
        "colab_type": "code",
        "outputId": "4e9d1231-957f-45ca-e757-882dc1e7c81e",
        "colab": {
          "base_uri": "https://localhost:8080/",
          "height": 34
        }
      },
      "source": [
        "round(data[1])\n"
      ],
      "execution_count": 20,
      "outputs": [
        {
          "output_type": "execute_result",
          "data": {
            "text/plain": [
              "26"
            ]
          },
          "metadata": {
            "tags": []
          },
          "execution_count": 20
        }
      ]
    },
    {
      "cell_type": "markdown",
      "metadata": {
        "id": "8QsegVDy5onT",
        "colab_type": "text"
      },
      "source": [
        "### Defining your own functions\n",
        "\n",
        "#### The syntax of Function\n",
        "```\n",
        "def function_name(parameters):\n",
        "    \"\"\"The summary line for a function docstring should fit in one line.\"\"\"\n",
        "    tmp = first_statement(s)\n",
        "    output = second_statement(tmp)\n",
        "    return output\n",
        "```\n",
        "A function definition consists of following components:\n",
        "- The Keyword def marks the start of a function header.\n",
        "- A function name to uniquely identify it.\n",
        "- Parameters (arguments) through which we pass values to a function. They are optional.\n",
        "- A colon (:) to mark the end of function header.\n",
        "- \"Optional\" documentation string (docstring) to describe what the function does.\n",
        "- One or more valid python statements that make up the function body. Statements must have same indentation level (usually 4 spaces).\n",
        "- An optional return statement to return a value from the function.\n"
      ]
    },
    {
      "cell_type": "markdown",
      "metadata": {
        "id": "LT3OtNyO5txU",
        "colab_type": "text"
      },
      "source": [
        "### Hack Time\n"
      ]
    },
    {
      "cell_type": "code",
      "metadata": {
        "id": "wNgujVAr64yS",
        "colab_type": "code",
        "colab": {}
      },
      "source": [
        "# Your code here.\n",
        "## Let's create a function that returns the mean of its items.\n"
      ],
      "execution_count": 0,
      "outputs": []
    },
    {
      "cell_type": "markdown",
      "metadata": {
        "id": "gOkBdOWM5wVw",
        "colab_type": "text"
      },
      "source": [
        "### Methods\n",
        "Methods are functions that belong to objects.\n",
        "\n",
        "The general form that methods take is:\n",
        "```\n",
        "`object.method(input)`\n",
        "```\n"
      ]
    },
    {
      "cell_type": "code",
      "metadata": {
        "id": "DhvZq-jn69L8",
        "colab_type": "code",
        "outputId": "e98199bb-4a63-4506-e850-f3933d587739",
        "colab": {
          "base_uri": "https://localhost:8080/",
          "height": 34
        }
      },
      "source": [
        "data.index(\"Tuesday\")\n"
      ],
      "execution_count": 21,
      "outputs": [
        {
          "output_type": "execute_result",
          "data": {
            "text/plain": [
              "2"
            ]
          },
          "metadata": {
            "tags": []
          },
          "execution_count": 21
        }
      ]
    },
    {
      "cell_type": "code",
      "metadata": {
        "id": "VzAgkeS57KbI",
        "colab_type": "code",
        "outputId": "97955515-8381-4f46-dfcf-51aabeff2984",
        "colab": {
          "base_uri": "https://localhost:8080/",
          "height": 118
        }
      },
      "source": [
        "help(data.index)\n"
      ],
      "execution_count": 22,
      "outputs": [
        {
          "output_type": "stream",
          "text": [
            "Help on built-in function index:\n",
            "\n",
            "index(...) method of builtins.list instance\n",
            "    L.index(value, [start, [stop]]) -> integer -- return first index of value.\n",
            "    Raises ValueError if the value is not present.\n",
            "\n"
          ],
          "name": "stdout"
        }
      ]
    },
    {
      "cell_type": "markdown",
      "metadata": {
        "id": "qXL5O4Cv7K-S",
        "colab_type": "text"
      },
      "source": [
        "Each type of data has its own set of methods.\n",
        "\n"
      ]
    },
    {
      "cell_type": "code",
      "metadata": {
        "id": "oxYiWt6q7Lue",
        "colab_type": "code",
        "outputId": "d77421d3-df50-47f1-9a87-a5255686c3b5",
        "colab": {
          "base_uri": "https://localhost:8080/",
          "height": 50
        }
      },
      "source": [
        "print(description)\n",
        "type(description)\n"
      ],
      "execution_count": 23,
      "outputs": [
        {
          "output_type": "stream",
          "text": [
            "Voting Intentions\n"
          ],
          "name": "stdout"
        },
        {
          "output_type": "execute_result",
          "data": {
            "text/plain": [
              "str"
            ]
          },
          "metadata": {
            "tags": []
          },
          "execution_count": 23
        }
      ]
    },
    {
      "cell_type": "code",
      "metadata": {
        "id": "wCsQbUXp7MjH",
        "colab_type": "code",
        "outputId": "b53cc9a4-77fc-4dab-d7df-16b8b391f363",
        "colab": {
          "base_uri": "https://localhost:8080/",
          "height": 34
        }
      },
      "source": [
        "description.upper()\n"
      ],
      "execution_count": 24,
      "outputs": [
        {
          "output_type": "execute_result",
          "data": {
            "text/plain": [
              "'VOTING INTENTIONS'"
            ]
          },
          "metadata": {
            "tags": []
          },
          "execution_count": 24
        }
      ]
    },
    {
      "cell_type": "code",
      "metadata": {
        "id": "v5J6eo9X7NDd",
        "colab_type": "code",
        "outputId": "50f15929-50d0-48a8-f812-5dc25ac20a09",
        "colab": {
          "base_uri": "https://localhost:8080/",
          "height": 34
        }
      },
      "source": [
        "description.count(\"i\")\n"
      ],
      "execution_count": 25,
      "outputs": [
        {
          "output_type": "execute_result",
          "data": {
            "text/plain": [
              "2"
            ]
          },
          "metadata": {
            "tags": []
          },
          "execution_count": 25
        }
      ]
    },
    {
      "cell_type": "markdown",
      "metadata": {
        "id": "4L7iBdgP7NdW",
        "colab_type": "text"
      },
      "source": [
        "You can also chain methods.\n"
      ]
    },
    {
      "cell_type": "code",
      "metadata": {
        "id": "LoTscrd78GV6",
        "colab_type": "code",
        "outputId": "4cf433e0-1fa4-4be4-9dbc-0c632c0474c8",
        "colab": {
          "base_uri": "https://localhost:8080/",
          "height": 34
        }
      },
      "source": [
        "description.lower().count(\"i\")\n"
      ],
      "execution_count": 26,
      "outputs": [
        {
          "output_type": "execute_result",
          "data": {
            "text/plain": [
              "3"
            ]
          },
          "metadata": {
            "tags": []
          },
          "execution_count": 26
        }
      ]
    },
    {
      "cell_type": "code",
      "metadata": {
        "id": "rgp85wTN7N14",
        "colab_type": "code",
        "outputId": "b3afc439-eaf4-4acf-b9fe-ead77e7ae354",
        "colab": {
          "base_uri": "https://localhost:8080/",
          "height": 34
        }
      },
      "source": [
        "day_4 = ['Friday', 35]\n",
        "data.extend(day_4)\n",
        "data\n"
      ],
      "execution_count": 27,
      "outputs": [
        {
          "output_type": "execute_result",
          "data": {
            "text/plain": [
              "['Monday', 25.6, 'Tuesday', 20, 'Wednesday', 30, 'Thursday', 40, 'Friday', 35]"
            ]
          },
          "metadata": {
            "tags": []
          },
          "execution_count": 27
        }
      ]
    },
    {
      "cell_type": "markdown",
      "metadata": {
        "id": "eQJNdyN47OQZ",
        "colab_type": "text"
      },
      "source": [
        "## Modules, and Packages\n",
        "\n",
        "A module is a set of python commands that are saved in a script (eg. script.py).\n",
        "You can load a module and access all its contents at anytime using the command `import module`.\n",
        "\n",
        "Packages are standardized way of organizing code and usually consist of multiple modules.\n",
        "    - Minimal Package Structure: https://python-packaging.readthedocs.io/en/latest/minimal.html\n",
        "\n",
        "Python, comes with pre-installed packages that you can directly load.\n",
        "\n"
      ]
    },
    {
      "cell_type": "code",
      "metadata": {
        "id": "Arp7dXrF7O8B",
        "colab_type": "code",
        "outputId": "584c93f0-e256-4d1f-bb9a-60138cda9fbc",
        "colab": {
          "base_uri": "https://localhost:8080/",
          "height": 34
        }
      },
      "source": [
        "import math\n",
        "pi = math.pi\n",
        "pi\n"
      ],
      "execution_count": 28,
      "outputs": [
        {
          "output_type": "execute_result",
          "data": {
            "text/plain": [
              "3.141592653589793"
            ]
          },
          "metadata": {
            "tags": []
          },
          "execution_count": 28
        }
      ]
    },
    {
      "cell_type": "markdown",
      "metadata": {
        "id": "cfZHL5PI7eB9",
        "colab_type": "text"
      },
      "source": [
        "### File-system interaction.\n"
      ]
    },
    {
      "cell_type": "code",
      "metadata": {
        "id": "8Dzjjl-Z8aST",
        "colab_type": "code",
        "outputId": "59018287-9da9-4b07-a2aa-db7842937efa",
        "colab": {
          "base_uri": "https://localhost:8080/",
          "height": 34
        }
      },
      "source": [
        "import os\n",
        "# Execute a shell command\n",
        "os.system(\"touch test_script.py\")\n"
      ],
      "execution_count": 29,
      "outputs": [
        {
          "output_type": "execute_result",
          "data": {
            "text/plain": [
              "0"
            ]
          },
          "metadata": {
            "tags": []
          },
          "execution_count": 29
        }
      ]
    },
    {
      "cell_type": "code",
      "metadata": {
        "id": "Qn0LLOOG8gt_",
        "colab_type": "code",
        "outputId": "97e8db7b-610c-4f5e-f22f-0beedd5b7488",
        "colab": {
          "base_uri": "https://localhost:8080/",
          "height": 34
        }
      },
      "source": [
        "# Return the current working directory\n",
        "os.getcwd()\n"
      ],
      "execution_count": 30,
      "outputs": [
        {
          "output_type": "execute_result",
          "data": {
            "text/plain": [
              "'/content'"
            ]
          },
          "metadata": {
            "tags": []
          },
          "execution_count": 30
        }
      ]
    },
    {
      "cell_type": "code",
      "metadata": {
        "id": "-0Awpt-b8hJ2",
        "colab_type": "code",
        "outputId": "3c33a670-a81c-4073-8f39-02f867fc7293",
        "colab": {
          "base_uri": "https://localhost:8080/",
          "height": 34
        }
      },
      "source": [
        "# List all of the files and sub-directories in a particular folder\n",
        "os.listdir()\n"
      ],
      "execution_count": 31,
      "outputs": [
        {
          "output_type": "execute_result",
          "data": {
            "text/plain": [
              "['.config', 'test_script.py', 'sample_data']"
            ]
          },
          "metadata": {
            "tags": []
          },
          "execution_count": 31
        }
      ]
    },
    {
      "cell_type": "code",
      "metadata": {
        "id": "PwQTIiEY8hm9",
        "colab_type": "code",
        "outputId": "b7b8475f-fc0f-4d78-be83-10f4be0e61cc",
        "colab": {
          "base_uri": "https://localhost:8080/",
          "height": 34
        }
      },
      "source": [
        "# Create folders recursively\n",
        "my_path = \"my_tmp_project/test1/test2/test3\"\n",
        "os.makedirs(my_path)\n",
        "os.listdir()\n"
      ],
      "execution_count": 32,
      "outputs": [
        {
          "output_type": "execute_result",
          "data": {
            "text/plain": [
              "['.config', 'my_tmp_project', 'test_script.py', 'sample_data']"
            ]
          },
          "metadata": {
            "tags": []
          },
          "execution_count": 32
        }
      ]
    },
    {
      "cell_type": "code",
      "metadata": {
        "id": "ss2YLqWF8iFo",
        "colab_type": "code",
        "outputId": "07324d85-508b-42af-b695-54aa32380047",
        "colab": {
          "base_uri": "https://localhost:8080/",
          "height": 34
        }
      },
      "source": [
        "# Delete directories recursively.\n",
        "os.removedirs(my_path)\n",
        "os.listdir()\n"
      ],
      "execution_count": 33,
      "outputs": [
        {
          "output_type": "execute_result",
          "data": {
            "text/plain": [
              "['.config', 'test_script.py', 'sample_data']"
            ]
          },
          "metadata": {
            "tags": []
          },
          "execution_count": 33
        }
      ]
    },
    {
      "cell_type": "code",
      "metadata": {
        "id": "NXHeruRs8klu",
        "colab_type": "code",
        "outputId": "18e9d44c-c41a-4164-980b-31d29e3ad5e2",
        "colab": {
          "base_uri": "https://localhost:8080/",
          "height": 34
        }
      },
      "source": [
        "# Handling slashes / in file paths\n",
        "file = \"process.py\"\n",
        "folder = \"Documents/project1\"\n",
        "full_path = os.path.join(folder, file)\n",
        "full_path\n"
      ],
      "execution_count": 34,
      "outputs": [
        {
          "output_type": "execute_result",
          "data": {
            "text/plain": [
              "'Documents/project1/process.py'"
            ]
          },
          "metadata": {
            "tags": []
          },
          "execution_count": 34
        }
      ]
    },
    {
      "cell_type": "code",
      "metadata": {
        "id": "T7O7raZk8jQS",
        "colab_type": "code",
        "outputId": "00564227-8553-435d-9f04-9717f91c9f89",
        "colab": {
          "base_uri": "https://localhost:8080/",
          "height": 34
        }
      },
      "source": [
        "os.rename(\"test_script.py\", \"tmp_script.py\")\n",
        "os.listdir()\n"
      ],
      "execution_count": 35,
      "outputs": [
        {
          "output_type": "execute_result",
          "data": {
            "text/plain": [
              "['.config', 'tmp_script.py', 'sample_data']"
            ]
          },
          "metadata": {
            "tags": []
          },
          "execution_count": 35
        }
      ]
    },
    {
      "cell_type": "code",
      "metadata": {
        "id": "GV0AsBL7vkHa",
        "colab_type": "code",
        "colab": {}
      },
      "source": [
        "# Create and write data to a file\n",
        "file_path = \"tmp_file.txt\"\n",
        "file_contents = \"Hello Again,\\nThis is a new Line!\"\n",
        "\n",
        "file = open(file_path, 'w') \n",
        "file.write(file_contents) \n",
        "file.close() \n"
      ],
      "execution_count": 0,
      "outputs": []
    },
    {
      "cell_type": "code",
      "metadata": {
        "id": "FQbQbD1EwGuA",
        "colab_type": "code",
        "colab": {}
      },
      "source": [
        "# Using the contextual `with` statement\n",
        "with open(file_path, 'w') as file: \n",
        "    file.write(file_contents) \n"
      ],
      "execution_count": 0,
      "outputs": []
    },
    {
      "cell_type": "code",
      "metadata": {
        "id": "QluXfaYjzcLp",
        "colab_type": "code",
        "outputId": "8a4bfde9-ebeb-4e52-ab64-6b709c81fa51",
        "colab": {
          "base_uri": "https://localhost:8080/",
          "height": 50
        }
      },
      "source": [
        "# Reading the contents of a file\n",
        "with open(file_path, \"r\") as file:\n",
        "\tread_contents = file.read()\n",
        "\n",
        "print(read_contents)"
      ],
      "execution_count": 38,
      "outputs": [
        {
          "output_type": "stream",
          "text": [
            "Hello Again,\n",
            "This is a new Line!\n"
          ],
          "name": "stdout"
        }
      ]
    },
    {
      "cell_type": "code",
      "metadata": {
        "id": "JDCwla_G8jxg",
        "colab_type": "code",
        "outputId": "8040cddc-fa0b-433c-d8ad-229c99f39892",
        "colab": {
          "base_uri": "https://localhost:8080/",
          "height": 34
        }
      },
      "source": [
        "## Delete a file\n",
        "os.remove(file_path)\n",
        "os.listdir()\n"
      ],
      "execution_count": 39,
      "outputs": [
        {
          "output_type": "execute_result",
          "data": {
            "text/plain": [
              "['.config', 'tmp_script.py', 'sample_data']"
            ]
          },
          "metadata": {
            "tags": []
          },
          "execution_count": 39
        }
      ]
    },
    {
      "cell_type": "code",
      "metadata": {
        "id": "uxwhiSOV8lu4",
        "colab_type": "code",
        "outputId": "513bc291-b478-4584-dc72-8a5fd96ddbae",
        "colab": {
          "base_uri": "https://localhost:8080/",
          "height": 34
        }
      },
      "source": [
        "# Get the directory and file name from a full path\n",
        "file = os.path.basename(full_path)\n",
        "folder = os.path.dirname(full_path)\n",
        "print(file, folder)\n"
      ],
      "execution_count": 40,
      "outputs": [
        {
          "output_type": "stream",
          "text": [
            "process.py Documents/project1\n"
          ],
          "name": "stdout"
        }
      ]
    },
    {
      "cell_type": "code",
      "metadata": {
        "id": "sywOLHbk8meo",
        "colab_type": "code",
        "outputId": "0f23b3b3-1e67-4121-ced9-97f804cb9631",
        "colab": {
          "base_uri": "https://localhost:8080/",
          "height": 34
        }
      },
      "source": [
        "# Check if a file or folder exists\n",
        "os.path.exists(full_path)\n"
      ],
      "execution_count": 41,
      "outputs": [
        {
          "output_type": "execute_result",
          "data": {
            "text/plain": [
              "False"
            ]
          },
          "metadata": {
            "tags": []
          },
          "execution_count": 41
        }
      ]
    },
    {
      "cell_type": "code",
      "metadata": {
        "id": "VudqGVaX8m_t",
        "colab_type": "code",
        "outputId": "93f201b0-3905-42fa-e921-7dff695bbc5f",
        "colab": {
          "base_uri": "https://localhost:8080/",
          "height": 34
        }
      },
      "source": [
        "# Get the extension of a file\n",
        "name, extension = os.path.splitext(file)\n",
        "print(name, extension)\n"
      ],
      "execution_count": 42,
      "outputs": [
        {
          "output_type": "stream",
          "text": [
            "process .py\n"
          ],
          "name": "stdout"
        }
      ]
    },
    {
      "cell_type": "markdown",
      "metadata": {
        "id": "g_UNpeuM7Rdd",
        "colab_type": "text"
      },
      "source": [
        "### Install package\n",
        "\n",
        "To install a package you use the command `pip install package_name` in your terminal.\n",
        "\n",
        "There are thousands of packages available such as:\n",
        "    - matplotlib\n",
        "    - numpy\n",
        "    - pandas\n",
        "    - pytorch\n",
        "    - sci-kit learn\n",
        "    - ...\n",
        "\n",
        "For more packages see:\n",
        "    - The Python Package Index: https://pypi.org/\n"
      ]
    },
    {
      "cell_type": "code",
      "metadata": {
        "id": "1QfCcjkH7Sun",
        "colab_type": "code",
        "outputId": "2f5e6a3e-aaf2-4b5b-f9bd-960f78010ff6",
        "colab": {
          "base_uri": "https://localhost:8080/",
          "height": 269
        }
      },
      "source": [
        "# We will rely on some IPython magic to directly interact with the terminal.\n",
        "!pip install wikipedia\n"
      ],
      "execution_count": 43,
      "outputs": [
        {
          "output_type": "stream",
          "text": [
            "Collecting wikipedia\n",
            "  Downloading https://files.pythonhosted.org/packages/67/35/25e68fbc99e672127cc6fbb14b8ec1ba3dfef035bf1e4c90f78f24a80b7d/wikipedia-1.4.0.tar.gz\n",
            "Requirement already satisfied: beautifulsoup4 in /usr/local/lib/python3.6/dist-packages (from wikipedia) (4.6.3)\n",
            "Requirement already satisfied: requests<3.0.0,>=2.0.0 in /usr/local/lib/python3.6/dist-packages (from wikipedia) (2.21.0)\n",
            "Requirement already satisfied: idna<2.9,>=2.5 in /usr/local/lib/python3.6/dist-packages (from requests<3.0.0,>=2.0.0->wikipedia) (2.8)\n",
            "Requirement already satisfied: chardet<3.1.0,>=3.0.2 in /usr/local/lib/python3.6/dist-packages (from requests<3.0.0,>=2.0.0->wikipedia) (3.0.4)\n",
            "Requirement already satisfied: certifi>=2017.4.17 in /usr/local/lib/python3.6/dist-packages (from requests<3.0.0,>=2.0.0->wikipedia) (2019.9.11)\n",
            "Requirement already satisfied: urllib3<1.25,>=1.21.1 in /usr/local/lib/python3.6/dist-packages (from requests<3.0.0,>=2.0.0->wikipedia) (1.24.3)\n",
            "Building wheels for collected packages: wikipedia\n",
            "  Building wheel for wikipedia (setup.py) ... \u001b[?25l\u001b[?25hdone\n",
            "  Created wheel for wikipedia: filename=wikipedia-1.4.0-cp36-none-any.whl size=11686 sha256=ab00da1bee4cdf88e4eb8fa5d0006fc77fefa5f9a61cab72ef1d891189ef0c75\n",
            "  Stored in directory: /root/.cache/pip/wheels/87/2a/18/4e471fd96d12114d16fe4a446d00c3b38fb9efcb744bd31f4a\n",
            "Successfully built wikipedia\n",
            "Installing collected packages: wikipedia\n",
            "Successfully installed wikipedia-1.4.0\n"
          ],
          "name": "stdout"
        }
      ]
    },
    {
      "cell_type": "markdown",
      "metadata": {
        "id": "s9nC5_RwqJcx",
        "colab_type": "text"
      },
      "source": [
        "# Data Acquisition, Exploration, and Transformation\n"
      ]
    },
    {
      "cell_type": "markdown",
      "metadata": {
        "id": "sofsPeRDqNRO",
        "colab_type": "text"
      },
      "source": [
        "With some Python basics we will starting to combine existing packages to acquire, analysis, and transform data.\n"
      ]
    },
    {
      "cell_type": "code",
      "metadata": {
        "id": "PTx-1l9i4MPy",
        "colab_type": "code",
        "colab": {}
      },
      "source": [
        "# Load the required libraries\n",
        "import pandas as pd\n",
        "import wikipedia as wp\n",
        "import matplotlib\n",
        "matplotlib.rcParams['figure.figsize'] = [10, 5]\n"
      ],
      "execution_count": 0,
      "outputs": []
    },
    {
      "cell_type": "code",
      "metadata": {
        "id": "5CrD5shz5Vwu",
        "colab_type": "code",
        "colab": {}
      },
      "source": [
        "# Identify Wikipedia Page and acquire the date\n",
        "page_title = \"Opinion polling for the 2019 Canadian federal election\"\n"
      ],
      "execution_count": 0,
      "outputs": []
    },
    {
      "cell_type": "code",
      "metadata": {
        "id": "XtBh69Va9lfm",
        "colab_type": "code",
        "colab": {}
      },
      "source": [
        "#Get the html source\n",
        "html = wp.page(page_title).html().encode(\"UTF-8\")\n"
      ],
      "execution_count": 0,
      "outputs": []
    },
    {
      "cell_type": "code",
      "metadata": {
        "id": "DlqQzI8R5Zz3",
        "colab_type": "code",
        "colab": {}
      },
      "source": [
        "# Extract tables and convert the html tables into pd.DataFrames()\n",
        "df = pd.read_html(html)[0].iloc[2:,:]\n"
      ],
      "execution_count": 0,
      "outputs": []
    },
    {
      "cell_type": "code",
      "metadata": {
        "id": "6KIE5UUg5cu7",
        "colab_type": "code",
        "outputId": "3b344725-cabb-4697-e88b-ff217bd59f9b",
        "colab": {
          "base_uri": "https://localhost:8080/",
          "height": 309
        }
      },
      "source": [
        "# Inspect the data\n",
        "df.head()\n"
      ],
      "execution_count": 48,
      "outputs": [
        {
          "output_type": "execute_result",
          "data": {
            "text/html": [
              "<div>\n",
              "<style scoped>\n",
              "    .dataframe tbody tr th:only-of-type {\n",
              "        vertical-align: middle;\n",
              "    }\n",
              "\n",
              "    .dataframe tbody tr th {\n",
              "        vertical-align: top;\n",
              "    }\n",
              "\n",
              "    .dataframe thead tr th {\n",
              "        text-align: left;\n",
              "    }\n",
              "</style>\n",
              "<table border=\"1\" class=\"dataframe\">\n",
              "  <thead>\n",
              "    <tr>\n",
              "      <th></th>\n",
              "      <th>Polling firm</th>\n",
              "      <th>Last dateof polling[1]</th>\n",
              "      <th>Link</th>\n",
              "      <th>LPC</th>\n",
              "      <th>CPC</th>\n",
              "      <th>NDP</th>\n",
              "      <th>BQ</th>\n",
              "      <th>GPC</th>\n",
              "      <th>PPC</th>\n",
              "      <th>Marginof error[2]</th>\n",
              "      <th>Samplesize[3]</th>\n",
              "      <th>Polling method[4]</th>\n",
              "      <th>Lead</th>\n",
              "    </tr>\n",
              "    <tr>\n",
              "      <th></th>\n",
              "      <th>Polling firm</th>\n",
              "      <th>Last dateof polling[1]</th>\n",
              "      <th>Link</th>\n",
              "      <th>Unnamed: 3_level_1</th>\n",
              "      <th>Unnamed: 4_level_1</th>\n",
              "      <th>Unnamed: 5_level_1</th>\n",
              "      <th>Unnamed: 6_level_1</th>\n",
              "      <th>Unnamed: 7_level_1</th>\n",
              "      <th>Unnamed: 8_level_1</th>\n",
              "      <th>Marginof error[2]</th>\n",
              "      <th>Samplesize[3]</th>\n",
              "      <th>Polling method[4]</th>\n",
              "      <th>Lead</th>\n",
              "    </tr>\n",
              "  </thead>\n",
              "  <tbody>\n",
              "    <tr>\n",
              "      <th>2</th>\n",
              "      <td>Nanos Research</td>\n",
              "      <td>October 20, 2019</td>\n",
              "      <td>PDF</td>\n",
              "      <td>31.7</td>\n",
              "      <td>32.5</td>\n",
              "      <td>20.8</td>\n",
              "      <td>7.2</td>\n",
              "      <td>6.0</td>\n",
              "      <td>1.5</td>\n",
              "      <td>Â±3.6 pp</td>\n",
              "      <td>800</td>\n",
              "      <td>telephone</td>\n",
              "      <td>0.8</td>\n",
              "    </tr>\n",
              "    <tr>\n",
              "      <th>3</th>\n",
              "      <td>Mainstreet Research</td>\n",
              "      <td>October 20, 2019</td>\n",
              "      <td>HTML</td>\n",
              "      <td>31.6</td>\n",
              "      <td>32.2</td>\n",
              "      <td>18.3</td>\n",
              "      <td>7.9</td>\n",
              "      <td>6.1</td>\n",
              "      <td>2.8</td>\n",
              "      <td>Â±2.17 pp</td>\n",
              "      <td>2032</td>\n",
              "      <td>IVR</td>\n",
              "      <td>0.6</td>\n",
              "    </tr>\n",
              "    <tr>\n",
              "      <th>4</th>\n",
              "      <td>Research Co.</td>\n",
              "      <td>October 20, 2019</td>\n",
              "      <td>HTML</td>\n",
              "      <td>32.0</td>\n",
              "      <td>31.0</td>\n",
              "      <td>19.0</td>\n",
              "      <td>7.0</td>\n",
              "      <td>8.0</td>\n",
              "      <td>2.0</td>\n",
              "      <td>Â±3.1 pp</td>\n",
              "      <td>957</td>\n",
              "      <td>online</td>\n",
              "      <td>1.0</td>\n",
              "    </tr>\n",
              "    <tr>\n",
              "      <th>5</th>\n",
              "      <td>EKOS</td>\n",
              "      <td>October 20, 2019</td>\n",
              "      <td>PDF</td>\n",
              "      <td>34.2</td>\n",
              "      <td>30.0</td>\n",
              "      <td>18.3</td>\n",
              "      <td>5.0</td>\n",
              "      <td>8.1</td>\n",
              "      <td>3.5</td>\n",
              "      <td>Â±2.2 pp</td>\n",
              "      <td>1994</td>\n",
              "      <td>telephone/IVR</td>\n",
              "      <td>4.2</td>\n",
              "    </tr>\n",
              "    <tr>\n",
              "      <th>6</th>\n",
              "      <td>Campaign Research</td>\n",
              "      <td>October 20, 2019</td>\n",
              "      <td>HTML</td>\n",
              "      <td>31.4</td>\n",
              "      <td>31.3</td>\n",
              "      <td>17.8</td>\n",
              "      <td>6.6</td>\n",
              "      <td>9.1</td>\n",
              "      <td>2.7</td>\n",
              "      <td>Â±1.4 pp</td>\n",
              "      <td>1498</td>\n",
              "      <td>online (rolling)</td>\n",
              "      <td>0.1</td>\n",
              "    </tr>\n",
              "  </tbody>\n",
              "</table>\n",
              "</div>"
            ],
            "text/plain": [
              "          Polling firm Last dateof polling[1]  ... Polling method[4] Lead\n",
              "          Polling firm Last dateof polling[1]  ... Polling method[4] Lead\n",
              "2       Nanos Research       October 20, 2019  ...         telephone  0.8\n",
              "3  Mainstreet Research       October 20, 2019  ...               IVR  0.6\n",
              "4         Research Co.       October 20, 2019  ...            online  1.0\n",
              "5                 EKOS       October 20, 2019  ...     telephone/IVR  4.2\n",
              "6    Campaign Research       October 20, 2019  ...  online (rolling)  0.1\n",
              "\n",
              "[5 rows x 13 columns]"
            ]
          },
          "metadata": {
            "tags": []
          },
          "execution_count": 48
        }
      ]
    },
    {
      "cell_type": "code",
      "metadata": {
        "id": "EjUNJ9Ba5iln",
        "colab_type": "code",
        "outputId": "60007116-7c9e-4e8b-a593-b79d5ae38c63",
        "colab": {
          "base_uri": "https://localhost:8080/",
          "height": 252
        }
      },
      "source": [
        "# We notice that there seems to be a double header\n",
        "df.columns\n"
      ],
      "execution_count": 49,
      "outputs": [
        {
          "output_type": "execute_result",
          "data": {
            "text/plain": [
              "MultiIndex([(          'Polling firm',           'Polling firm'),\n",
              "            ('Last dateof polling[1]', 'Last dateof polling[1]'),\n",
              "            (                  'Link',                   'Link'),\n",
              "            (                   'LPC',     'Unnamed: 3_level_1'),\n",
              "            (                   'CPC',     'Unnamed: 4_level_1'),\n",
              "            (                   'NDP',     'Unnamed: 5_level_1'),\n",
              "            (                    'BQ',     'Unnamed: 6_level_1'),\n",
              "            (                   'GPC',     'Unnamed: 7_level_1'),\n",
              "            (                   'PPC',     'Unnamed: 8_level_1'),\n",
              "            (     'Marginof error[2]',      'Marginof error[2]'),\n",
              "            (         'Samplesize[3]',          'Samplesize[3]'),\n",
              "            (     'Polling method[4]',      'Polling method[4]'),\n",
              "            (                  'Lead',                   'Lead')],\n",
              "           )"
            ]
          },
          "metadata": {
            "tags": []
          },
          "execution_count": 49
        }
      ]
    },
    {
      "cell_type": "code",
      "metadata": {
        "id": "fK6ERcta5jWT",
        "colab_type": "code",
        "outputId": "1e2e1a98-36ee-4e1b-b748-28240216eced",
        "colab": {
          "base_uri": "https://localhost:8080/",
          "height": 34
        }
      },
      "source": [
        "# What is the type of columns\n",
        "type(df.columns)\n"
      ],
      "execution_count": 50,
      "outputs": [
        {
          "output_type": "execute_result",
          "data": {
            "text/plain": [
              "pandas.core.indexes.multi.MultiIndex"
            ]
          },
          "metadata": {
            "tags": []
          },
          "execution_count": 50
        }
      ]
    },
    {
      "cell_type": "code",
      "metadata": {
        "id": "xA2JYlIe5kcC",
        "colab_type": "code",
        "outputId": "aeffc30c-2664-44c5-fd47-ee408e6f1db4",
        "colab": {
          "base_uri": "https://localhost:8080/",
          "height": 235
        }
      },
      "source": [
        "# Let's use a loop to extract and edit each element of the MultiIndex \n",
        "columnn_names = []\n",
        "for c in df.columns:\n",
        "    tmp = c[0].lower()\n",
        "    columnn_names.append(tmp.replace(\" \", \"_\"))\n",
        "\n",
        "columnn_names\n"
      ],
      "execution_count": 51,
      "outputs": [
        {
          "output_type": "execute_result",
          "data": {
            "text/plain": [
              "['polling_firm',\n",
              " 'last_dateof_polling[1]',\n",
              " 'link',\n",
              " 'lpc',\n",
              " 'cpc',\n",
              " 'ndp',\n",
              " 'bq',\n",
              " 'gpc',\n",
              " 'ppc',\n",
              " 'marginof_error[2]',\n",
              " 'samplesize[3]',\n",
              " 'polling_method[4]',\n",
              " 'lead']"
            ]
          },
          "metadata": {
            "tags": []
          },
          "execution_count": 51
        }
      ]
    },
    {
      "cell_type": "code",
      "metadata": {
        "id": "QrBVR0gU5lUK",
        "colab_type": "code",
        "colab": {}
      },
      "source": [
        "# Let's use regular expressions and list comprehension this time\n",
        "import re\n",
        "regex = \"[a-z]+\"\n",
        "columnn_names = [\"_\".join(re.findall(regex, i)) for i in columnn_names]\n"
      ],
      "execution_count": 0,
      "outputs": []
    },
    {
      "cell_type": "code",
      "metadata": {
        "id": "wmGVxVMs5l3h",
        "colab_type": "code",
        "outputId": "f1762457-c8b4-4c5c-e963-c63934a77e99",
        "colab": {
          "base_uri": "https://localhost:8080/",
          "height": 195
        }
      },
      "source": [
        "# Let's edit the columns of our dataset\n",
        "df.columns = columnn_names\n",
        "df.head()\n"
      ],
      "execution_count": 53,
      "outputs": [
        {
          "output_type": "execute_result",
          "data": {
            "text/html": [
              "<div>\n",
              "<style scoped>\n",
              "    .dataframe tbody tr th:only-of-type {\n",
              "        vertical-align: middle;\n",
              "    }\n",
              "\n",
              "    .dataframe tbody tr th {\n",
              "        vertical-align: top;\n",
              "    }\n",
              "\n",
              "    .dataframe thead th {\n",
              "        text-align: right;\n",
              "    }\n",
              "</style>\n",
              "<table border=\"1\" class=\"dataframe\">\n",
              "  <thead>\n",
              "    <tr style=\"text-align: right;\">\n",
              "      <th></th>\n",
              "      <th>polling_firm</th>\n",
              "      <th>last_dateof_polling</th>\n",
              "      <th>link</th>\n",
              "      <th>lpc</th>\n",
              "      <th>cpc</th>\n",
              "      <th>ndp</th>\n",
              "      <th>bq</th>\n",
              "      <th>gpc</th>\n",
              "      <th>ppc</th>\n",
              "      <th>marginof_error</th>\n",
              "      <th>samplesize</th>\n",
              "      <th>polling_method</th>\n",
              "      <th>lead</th>\n",
              "    </tr>\n",
              "  </thead>\n",
              "  <tbody>\n",
              "    <tr>\n",
              "      <th>2</th>\n",
              "      <td>Nanos Research</td>\n",
              "      <td>October 20, 2019</td>\n",
              "      <td>PDF</td>\n",
              "      <td>31.7</td>\n",
              "      <td>32.5</td>\n",
              "      <td>20.8</td>\n",
              "      <td>7.2</td>\n",
              "      <td>6.0</td>\n",
              "      <td>1.5</td>\n",
              "      <td>Â±3.6 pp</td>\n",
              "      <td>800</td>\n",
              "      <td>telephone</td>\n",
              "      <td>0.8</td>\n",
              "    </tr>\n",
              "    <tr>\n",
              "      <th>3</th>\n",
              "      <td>Mainstreet Research</td>\n",
              "      <td>October 20, 2019</td>\n",
              "      <td>HTML</td>\n",
              "      <td>31.6</td>\n",
              "      <td>32.2</td>\n",
              "      <td>18.3</td>\n",
              "      <td>7.9</td>\n",
              "      <td>6.1</td>\n",
              "      <td>2.8</td>\n",
              "      <td>Â±2.17 pp</td>\n",
              "      <td>2032</td>\n",
              "      <td>IVR</td>\n",
              "      <td>0.6</td>\n",
              "    </tr>\n",
              "    <tr>\n",
              "      <th>4</th>\n",
              "      <td>Research Co.</td>\n",
              "      <td>October 20, 2019</td>\n",
              "      <td>HTML</td>\n",
              "      <td>32.0</td>\n",
              "      <td>31.0</td>\n",
              "      <td>19.0</td>\n",
              "      <td>7.0</td>\n",
              "      <td>8.0</td>\n",
              "      <td>2.0</td>\n",
              "      <td>Â±3.1 pp</td>\n",
              "      <td>957</td>\n",
              "      <td>online</td>\n",
              "      <td>1.0</td>\n",
              "    </tr>\n",
              "    <tr>\n",
              "      <th>5</th>\n",
              "      <td>EKOS</td>\n",
              "      <td>October 20, 2019</td>\n",
              "      <td>PDF</td>\n",
              "      <td>34.2</td>\n",
              "      <td>30.0</td>\n",
              "      <td>18.3</td>\n",
              "      <td>5.0</td>\n",
              "      <td>8.1</td>\n",
              "      <td>3.5</td>\n",
              "      <td>Â±2.2 pp</td>\n",
              "      <td>1994</td>\n",
              "      <td>telephone/IVR</td>\n",
              "      <td>4.2</td>\n",
              "    </tr>\n",
              "    <tr>\n",
              "      <th>6</th>\n",
              "      <td>Campaign Research</td>\n",
              "      <td>October 20, 2019</td>\n",
              "      <td>HTML</td>\n",
              "      <td>31.4</td>\n",
              "      <td>31.3</td>\n",
              "      <td>17.8</td>\n",
              "      <td>6.6</td>\n",
              "      <td>9.1</td>\n",
              "      <td>2.7</td>\n",
              "      <td>Â±1.4 pp</td>\n",
              "      <td>1498</td>\n",
              "      <td>online (rolling)</td>\n",
              "      <td>0.1</td>\n",
              "    </tr>\n",
              "  </tbody>\n",
              "</table>\n",
              "</div>"
            ],
            "text/plain": [
              "          polling_firm last_dateof_polling  ...    polling_method  lead\n",
              "2       Nanos Research    October 20, 2019  ...         telephone   0.8\n",
              "3  Mainstreet Research    October 20, 2019  ...               IVR   0.6\n",
              "4         Research Co.    October 20, 2019  ...            online   1.0\n",
              "5                 EKOS    October 20, 2019  ...     telephone/IVR   4.2\n",
              "6    Campaign Research    October 20, 2019  ...  online (rolling)   0.1\n",
              "\n",
              "[5 rows x 13 columns]"
            ]
          },
          "metadata": {
            "tags": []
          },
          "execution_count": 53
        }
      ]
    },
    {
      "cell_type": "code",
      "metadata": {
        "id": "HSoXadEo5mXQ",
        "colab_type": "code",
        "outputId": "1a3ab2a4-aa5a-4ab7-91fe-d5d6f8c87292",
        "colab": {
          "base_uri": "https://localhost:8080/",
          "height": 34
        }
      },
      "source": [
        "# Let's further rename those columns\n",
        "names_dict = {\n",
        "    \"polling_firm\": \"source\",\n",
        "    \"last_dateof_polling\": \"date\",\n",
        "    \"samplesize\": \"sample_size\",\n",
        "    \"marginof_error\": \"error\",\n",
        "    \"cons\": \"cpc\",\n",
        "    \"liberal\": \"lpc\",\n",
        "    \"green\": \"gpc\",\n",
        "    \"polling_method\": \"method\",\n",
        "}\n",
        "\n",
        "type(names_dict)\n"
      ],
      "execution_count": 54,
      "outputs": [
        {
          "output_type": "execute_result",
          "data": {
            "text/plain": [
              "dict"
            ]
          },
          "metadata": {
            "tags": []
          },
          "execution_count": 54
        }
      ]
    },
    {
      "cell_type": "code",
      "metadata": {
        "id": "_Gke_V1T5nRh",
        "colab_type": "code",
        "outputId": "71f0b3c3-b592-419f-b29b-03a1a7eb8ee1",
        "colab": {
          "base_uri": "https://localhost:8080/",
          "height": 195
        }
      },
      "source": [
        "# Pass the new dictionary as an argument to the .rename method\n",
        "df.rename(columns=names_dict, inplace=True)\n",
        "df.head()\n"
      ],
      "execution_count": 55,
      "outputs": [
        {
          "output_type": "execute_result",
          "data": {
            "text/html": [
              "<div>\n",
              "<style scoped>\n",
              "    .dataframe tbody tr th:only-of-type {\n",
              "        vertical-align: middle;\n",
              "    }\n",
              "\n",
              "    .dataframe tbody tr th {\n",
              "        vertical-align: top;\n",
              "    }\n",
              "\n",
              "    .dataframe thead th {\n",
              "        text-align: right;\n",
              "    }\n",
              "</style>\n",
              "<table border=\"1\" class=\"dataframe\">\n",
              "  <thead>\n",
              "    <tr style=\"text-align: right;\">\n",
              "      <th></th>\n",
              "      <th>source</th>\n",
              "      <th>date</th>\n",
              "      <th>link</th>\n",
              "      <th>lpc</th>\n",
              "      <th>cpc</th>\n",
              "      <th>ndp</th>\n",
              "      <th>bq</th>\n",
              "      <th>gpc</th>\n",
              "      <th>ppc</th>\n",
              "      <th>error</th>\n",
              "      <th>sample_size</th>\n",
              "      <th>method</th>\n",
              "      <th>lead</th>\n",
              "    </tr>\n",
              "  </thead>\n",
              "  <tbody>\n",
              "    <tr>\n",
              "      <th>2</th>\n",
              "      <td>Nanos Research</td>\n",
              "      <td>October 20, 2019</td>\n",
              "      <td>PDF</td>\n",
              "      <td>31.7</td>\n",
              "      <td>32.5</td>\n",
              "      <td>20.8</td>\n",
              "      <td>7.2</td>\n",
              "      <td>6.0</td>\n",
              "      <td>1.5</td>\n",
              "      <td>Â±3.6 pp</td>\n",
              "      <td>800</td>\n",
              "      <td>telephone</td>\n",
              "      <td>0.8</td>\n",
              "    </tr>\n",
              "    <tr>\n",
              "      <th>3</th>\n",
              "      <td>Mainstreet Research</td>\n",
              "      <td>October 20, 2019</td>\n",
              "      <td>HTML</td>\n",
              "      <td>31.6</td>\n",
              "      <td>32.2</td>\n",
              "      <td>18.3</td>\n",
              "      <td>7.9</td>\n",
              "      <td>6.1</td>\n",
              "      <td>2.8</td>\n",
              "      <td>Â±2.17 pp</td>\n",
              "      <td>2032</td>\n",
              "      <td>IVR</td>\n",
              "      <td>0.6</td>\n",
              "    </tr>\n",
              "    <tr>\n",
              "      <th>4</th>\n",
              "      <td>Research Co.</td>\n",
              "      <td>October 20, 2019</td>\n",
              "      <td>HTML</td>\n",
              "      <td>32.0</td>\n",
              "      <td>31.0</td>\n",
              "      <td>19.0</td>\n",
              "      <td>7.0</td>\n",
              "      <td>8.0</td>\n",
              "      <td>2.0</td>\n",
              "      <td>Â±3.1 pp</td>\n",
              "      <td>957</td>\n",
              "      <td>online</td>\n",
              "      <td>1.0</td>\n",
              "    </tr>\n",
              "    <tr>\n",
              "      <th>5</th>\n",
              "      <td>EKOS</td>\n",
              "      <td>October 20, 2019</td>\n",
              "      <td>PDF</td>\n",
              "      <td>34.2</td>\n",
              "      <td>30.0</td>\n",
              "      <td>18.3</td>\n",
              "      <td>5.0</td>\n",
              "      <td>8.1</td>\n",
              "      <td>3.5</td>\n",
              "      <td>Â±2.2 pp</td>\n",
              "      <td>1994</td>\n",
              "      <td>telephone/IVR</td>\n",
              "      <td>4.2</td>\n",
              "    </tr>\n",
              "    <tr>\n",
              "      <th>6</th>\n",
              "      <td>Campaign Research</td>\n",
              "      <td>October 20, 2019</td>\n",
              "      <td>HTML</td>\n",
              "      <td>31.4</td>\n",
              "      <td>31.3</td>\n",
              "      <td>17.8</td>\n",
              "      <td>6.6</td>\n",
              "      <td>9.1</td>\n",
              "      <td>2.7</td>\n",
              "      <td>Â±1.4 pp</td>\n",
              "      <td>1498</td>\n",
              "      <td>online (rolling)</td>\n",
              "      <td>0.1</td>\n",
              "    </tr>\n",
              "  </tbody>\n",
              "</table>\n",
              "</div>"
            ],
            "text/plain": [
              "                source              date  ...            method  lead\n",
              "2       Nanos Research  October 20, 2019  ...         telephone   0.8\n",
              "3  Mainstreet Research  October 20, 2019  ...               IVR   0.6\n",
              "4         Research Co.  October 20, 2019  ...            online   1.0\n",
              "5                 EKOS  October 20, 2019  ...     telephone/IVR   4.2\n",
              "6    Campaign Research  October 20, 2019  ...  online (rolling)   0.1\n",
              "\n",
              "[5 rows x 13 columns]"
            ]
          },
          "metadata": {
            "tags": []
          },
          "execution_count": 55
        }
      ]
    },
    {
      "cell_type": "code",
      "metadata": {
        "id": "n9V7ryxd5n2h",
        "colab_type": "code",
        "outputId": "bcffd803-16dd-4696-dcd2-be4362bbe12c",
        "colab": {
          "base_uri": "https://localhost:8080/",
          "height": 252
        }
      },
      "source": [
        "# Let's check the data types\n",
        "df.dtypes\n"
      ],
      "execution_count": 56,
      "outputs": [
        {
          "output_type": "execute_result",
          "data": {
            "text/plain": [
              "source          object\n",
              "date            object\n",
              "link            object\n",
              "lpc            float64\n",
              "cpc            float64\n",
              "ndp            float64\n",
              "bq             float64\n",
              "gpc            float64\n",
              "ppc            float64\n",
              "error           object\n",
              "sample_size     object\n",
              "method          object\n",
              "lead           float64\n",
              "dtype: object"
            ]
          },
          "metadata": {
            "tags": []
          },
          "execution_count": 56
        }
      ]
    },
    {
      "cell_type": "code",
      "metadata": {
        "id": "fkoKzrsj5ppH",
        "colab_type": "code",
        "outputId": "41c8545c-b5ce-4068-eb73-830a44103d53",
        "colab": {
          "base_uri": "https://localhost:8080/",
          "height": 195
        }
      },
      "source": [
        "# The date field needs to be converted\n",
        "df[['date']] = pd.to_datetime(df.date)\n",
        "df.head()\n"
      ],
      "execution_count": 57,
      "outputs": [
        {
          "output_type": "execute_result",
          "data": {
            "text/html": [
              "<div>\n",
              "<style scoped>\n",
              "    .dataframe tbody tr th:only-of-type {\n",
              "        vertical-align: middle;\n",
              "    }\n",
              "\n",
              "    .dataframe tbody tr th {\n",
              "        vertical-align: top;\n",
              "    }\n",
              "\n",
              "    .dataframe thead th {\n",
              "        text-align: right;\n",
              "    }\n",
              "</style>\n",
              "<table border=\"1\" class=\"dataframe\">\n",
              "  <thead>\n",
              "    <tr style=\"text-align: right;\">\n",
              "      <th></th>\n",
              "      <th>source</th>\n",
              "      <th>date</th>\n",
              "      <th>link</th>\n",
              "      <th>lpc</th>\n",
              "      <th>cpc</th>\n",
              "      <th>ndp</th>\n",
              "      <th>bq</th>\n",
              "      <th>gpc</th>\n",
              "      <th>ppc</th>\n",
              "      <th>error</th>\n",
              "      <th>sample_size</th>\n",
              "      <th>method</th>\n",
              "      <th>lead</th>\n",
              "    </tr>\n",
              "  </thead>\n",
              "  <tbody>\n",
              "    <tr>\n",
              "      <th>2</th>\n",
              "      <td>Nanos Research</td>\n",
              "      <td>2019-10-20</td>\n",
              "      <td>PDF</td>\n",
              "      <td>31.7</td>\n",
              "      <td>32.5</td>\n",
              "      <td>20.8</td>\n",
              "      <td>7.2</td>\n",
              "      <td>6.0</td>\n",
              "      <td>1.5</td>\n",
              "      <td>Â±3.6 pp</td>\n",
              "      <td>800</td>\n",
              "      <td>telephone</td>\n",
              "      <td>0.8</td>\n",
              "    </tr>\n",
              "    <tr>\n",
              "      <th>3</th>\n",
              "      <td>Mainstreet Research</td>\n",
              "      <td>2019-10-20</td>\n",
              "      <td>HTML</td>\n",
              "      <td>31.6</td>\n",
              "      <td>32.2</td>\n",
              "      <td>18.3</td>\n",
              "      <td>7.9</td>\n",
              "      <td>6.1</td>\n",
              "      <td>2.8</td>\n",
              "      <td>Â±2.17 pp</td>\n",
              "      <td>2032</td>\n",
              "      <td>IVR</td>\n",
              "      <td>0.6</td>\n",
              "    </tr>\n",
              "    <tr>\n",
              "      <th>4</th>\n",
              "      <td>Research Co.</td>\n",
              "      <td>2019-10-20</td>\n",
              "      <td>HTML</td>\n",
              "      <td>32.0</td>\n",
              "      <td>31.0</td>\n",
              "      <td>19.0</td>\n",
              "      <td>7.0</td>\n",
              "      <td>8.0</td>\n",
              "      <td>2.0</td>\n",
              "      <td>Â±3.1 pp</td>\n",
              "      <td>957</td>\n",
              "      <td>online</td>\n",
              "      <td>1.0</td>\n",
              "    </tr>\n",
              "    <tr>\n",
              "      <th>5</th>\n",
              "      <td>EKOS</td>\n",
              "      <td>2019-10-20</td>\n",
              "      <td>PDF</td>\n",
              "      <td>34.2</td>\n",
              "      <td>30.0</td>\n",
              "      <td>18.3</td>\n",
              "      <td>5.0</td>\n",
              "      <td>8.1</td>\n",
              "      <td>3.5</td>\n",
              "      <td>Â±2.2 pp</td>\n",
              "      <td>1994</td>\n",
              "      <td>telephone/IVR</td>\n",
              "      <td>4.2</td>\n",
              "    </tr>\n",
              "    <tr>\n",
              "      <th>6</th>\n",
              "      <td>Campaign Research</td>\n",
              "      <td>2019-10-20</td>\n",
              "      <td>HTML</td>\n",
              "      <td>31.4</td>\n",
              "      <td>31.3</td>\n",
              "      <td>17.8</td>\n",
              "      <td>6.6</td>\n",
              "      <td>9.1</td>\n",
              "      <td>2.7</td>\n",
              "      <td>Â±1.4 pp</td>\n",
              "      <td>1498</td>\n",
              "      <td>online (rolling)</td>\n",
              "      <td>0.1</td>\n",
              "    </tr>\n",
              "  </tbody>\n",
              "</table>\n",
              "</div>"
            ],
            "text/plain": [
              "                source       date  link  ...  sample_size            method  lead\n",
              "2       Nanos Research 2019-10-20   PDF  ...          800         telephone   0.8\n",
              "3  Mainstreet Research 2019-10-20  HTML  ...         2032               IVR   0.6\n",
              "4         Research Co. 2019-10-20  HTML  ...          957            online   1.0\n",
              "5                 EKOS 2019-10-20   PDF  ...         1994     telephone/IVR   4.2\n",
              "6    Campaign Research 2019-10-20  HTML  ...         1498  online (rolling)   0.1\n",
              "\n",
              "[5 rows x 13 columns]"
            ]
          },
          "metadata": {
            "tags": []
          },
          "execution_count": 57
        }
      ]
    },
    {
      "cell_type": "code",
      "metadata": {
        "id": "mJd2dc2Y5qWE",
        "colab_type": "code",
        "colab": {}
      },
      "source": [
        "# We should also only keep the numeric values for the margins of error\n",
        "regex = \"(\\d+\\.*\\d*)\"\n",
        "df.error = df.error.str.extract(regex)\n"
      ],
      "execution_count": 0,
      "outputs": []
    },
    {
      "cell_type": "code",
      "metadata": {
        "id": "CY-ZCGVA5q7U",
        "colab_type": "code",
        "outputId": "4f82890d-e5fd-4ac1-cc78-2bcc32878c6d",
        "colab": {
          "base_uri": "https://localhost:8080/",
          "height": 195
        }
      },
      "source": [
        "# Let's look again at our dataset\n",
        "df.head()\n"
      ],
      "execution_count": 59,
      "outputs": [
        {
          "output_type": "execute_result",
          "data": {
            "text/html": [
              "<div>\n",
              "<style scoped>\n",
              "    .dataframe tbody tr th:only-of-type {\n",
              "        vertical-align: middle;\n",
              "    }\n",
              "\n",
              "    .dataframe tbody tr th {\n",
              "        vertical-align: top;\n",
              "    }\n",
              "\n",
              "    .dataframe thead th {\n",
              "        text-align: right;\n",
              "    }\n",
              "</style>\n",
              "<table border=\"1\" class=\"dataframe\">\n",
              "  <thead>\n",
              "    <tr style=\"text-align: right;\">\n",
              "      <th></th>\n",
              "      <th>source</th>\n",
              "      <th>date</th>\n",
              "      <th>link</th>\n",
              "      <th>lpc</th>\n",
              "      <th>cpc</th>\n",
              "      <th>ndp</th>\n",
              "      <th>bq</th>\n",
              "      <th>gpc</th>\n",
              "      <th>ppc</th>\n",
              "      <th>error</th>\n",
              "      <th>sample_size</th>\n",
              "      <th>method</th>\n",
              "      <th>lead</th>\n",
              "    </tr>\n",
              "  </thead>\n",
              "  <tbody>\n",
              "    <tr>\n",
              "      <th>2</th>\n",
              "      <td>Nanos Research</td>\n",
              "      <td>2019-10-20</td>\n",
              "      <td>PDF</td>\n",
              "      <td>31.7</td>\n",
              "      <td>32.5</td>\n",
              "      <td>20.8</td>\n",
              "      <td>7.2</td>\n",
              "      <td>6.0</td>\n",
              "      <td>1.5</td>\n",
              "      <td>3.6</td>\n",
              "      <td>800</td>\n",
              "      <td>telephone</td>\n",
              "      <td>0.8</td>\n",
              "    </tr>\n",
              "    <tr>\n",
              "      <th>3</th>\n",
              "      <td>Mainstreet Research</td>\n",
              "      <td>2019-10-20</td>\n",
              "      <td>HTML</td>\n",
              "      <td>31.6</td>\n",
              "      <td>32.2</td>\n",
              "      <td>18.3</td>\n",
              "      <td>7.9</td>\n",
              "      <td>6.1</td>\n",
              "      <td>2.8</td>\n",
              "      <td>2.17</td>\n",
              "      <td>2032</td>\n",
              "      <td>IVR</td>\n",
              "      <td>0.6</td>\n",
              "    </tr>\n",
              "    <tr>\n",
              "      <th>4</th>\n",
              "      <td>Research Co.</td>\n",
              "      <td>2019-10-20</td>\n",
              "      <td>HTML</td>\n",
              "      <td>32.0</td>\n",
              "      <td>31.0</td>\n",
              "      <td>19.0</td>\n",
              "      <td>7.0</td>\n",
              "      <td>8.0</td>\n",
              "      <td>2.0</td>\n",
              "      <td>3.1</td>\n",
              "      <td>957</td>\n",
              "      <td>online</td>\n",
              "      <td>1.0</td>\n",
              "    </tr>\n",
              "    <tr>\n",
              "      <th>5</th>\n",
              "      <td>EKOS</td>\n",
              "      <td>2019-10-20</td>\n",
              "      <td>PDF</td>\n",
              "      <td>34.2</td>\n",
              "      <td>30.0</td>\n",
              "      <td>18.3</td>\n",
              "      <td>5.0</td>\n",
              "      <td>8.1</td>\n",
              "      <td>3.5</td>\n",
              "      <td>2.2</td>\n",
              "      <td>1994</td>\n",
              "      <td>telephone/IVR</td>\n",
              "      <td>4.2</td>\n",
              "    </tr>\n",
              "    <tr>\n",
              "      <th>6</th>\n",
              "      <td>Campaign Research</td>\n",
              "      <td>2019-10-20</td>\n",
              "      <td>HTML</td>\n",
              "      <td>31.4</td>\n",
              "      <td>31.3</td>\n",
              "      <td>17.8</td>\n",
              "      <td>6.6</td>\n",
              "      <td>9.1</td>\n",
              "      <td>2.7</td>\n",
              "      <td>1.4</td>\n",
              "      <td>1498</td>\n",
              "      <td>online (rolling)</td>\n",
              "      <td>0.1</td>\n",
              "    </tr>\n",
              "  </tbody>\n",
              "</table>\n",
              "</div>"
            ],
            "text/plain": [
              "                source       date  link  ...  sample_size            method  lead\n",
              "2       Nanos Research 2019-10-20   PDF  ...          800         telephone   0.8\n",
              "3  Mainstreet Research 2019-10-20  HTML  ...         2032               IVR   0.6\n",
              "4         Research Co. 2019-10-20  HTML  ...          957            online   1.0\n",
              "5                 EKOS 2019-10-20   PDF  ...         1994     telephone/IVR   4.2\n",
              "6    Campaign Research 2019-10-20  HTML  ...         1498  online (rolling)   0.1\n",
              "\n",
              "[5 rows x 13 columns]"
            ]
          },
          "metadata": {
            "tags": []
          },
          "execution_count": 59
        }
      ]
    },
    {
      "cell_type": "code",
      "metadata": {
        "id": "KS93D1r55rbv",
        "colab_type": "code",
        "outputId": "c646743c-d6f2-4060-8d95-964f148fcc22",
        "colab": {
          "base_uri": "https://localhost:8080/",
          "height": 195
        }
      },
      "source": [
        "# What if we look at a random subsample\n",
        "df.sample(5)\n"
      ],
      "execution_count": 60,
      "outputs": [
        {
          "output_type": "execute_result",
          "data": {
            "text/html": [
              "<div>\n",
              "<style scoped>\n",
              "    .dataframe tbody tr th:only-of-type {\n",
              "        vertical-align: middle;\n",
              "    }\n",
              "\n",
              "    .dataframe tbody tr th {\n",
              "        vertical-align: top;\n",
              "    }\n",
              "\n",
              "    .dataframe thead th {\n",
              "        text-align: right;\n",
              "    }\n",
              "</style>\n",
              "<table border=\"1\" class=\"dataframe\">\n",
              "  <thead>\n",
              "    <tr style=\"text-align: right;\">\n",
              "      <th></th>\n",
              "      <th>source</th>\n",
              "      <th>date</th>\n",
              "      <th>link</th>\n",
              "      <th>lpc</th>\n",
              "      <th>cpc</th>\n",
              "      <th>ndp</th>\n",
              "      <th>bq</th>\n",
              "      <th>gpc</th>\n",
              "      <th>ppc</th>\n",
              "      <th>error</th>\n",
              "      <th>sample_size</th>\n",
              "      <th>method</th>\n",
              "      <th>lead</th>\n",
              "    </tr>\n",
              "  </thead>\n",
              "  <tbody>\n",
              "    <tr>\n",
              "      <th>14</th>\n",
              "      <td>Nanos Research</td>\n",
              "      <td>2019-10-18</td>\n",
              "      <td>PDF</td>\n",
              "      <td>32.6</td>\n",
              "      <td>30.3</td>\n",
              "      <td>18.4</td>\n",
              "      <td>7.1</td>\n",
              "      <td>9.3</td>\n",
              "      <td>1.9</td>\n",
              "      <td>2.8</td>\n",
              "      <td>1,200 (1/3)</td>\n",
              "      <td>telephone (rolling)</td>\n",
              "      <td>2.3</td>\n",
              "    </tr>\n",
              "    <tr>\n",
              "      <th>29</th>\n",
              "      <td>Mainstreet Research</td>\n",
              "      <td>2019-10-14</td>\n",
              "      <td>HTML</td>\n",
              "      <td>30.7</td>\n",
              "      <td>31.1</td>\n",
              "      <td>17.2</td>\n",
              "      <td>8.1</td>\n",
              "      <td>8.5</td>\n",
              "      <td>3.6</td>\n",
              "      <td>2.15</td>\n",
              "      <td>2,076 (1/3)</td>\n",
              "      <td>IVR (rolling)</td>\n",
              "      <td>0.4</td>\n",
              "    </tr>\n",
              "    <tr>\n",
              "      <th>112</th>\n",
              "      <td>Nanos Research</td>\n",
              "      <td>2019-09-15</td>\n",
              "      <td>PDF</td>\n",
              "      <td>34.0</td>\n",
              "      <td>34.4</td>\n",
              "      <td>16.4</td>\n",
              "      <td>4.4</td>\n",
              "      <td>7.8</td>\n",
              "      <td>2.3</td>\n",
              "      <td>2.8</td>\n",
              "      <td>1,200 (1/3)</td>\n",
              "      <td>telephone (rolling)</td>\n",
              "      <td>0.4</td>\n",
              "    </tr>\n",
              "    <tr>\n",
              "      <th>105</th>\n",
              "      <td>Nanos Research</td>\n",
              "      <td>2019-09-18</td>\n",
              "      <td>PDF</td>\n",
              "      <td>35.0</td>\n",
              "      <td>37.8</td>\n",
              "      <td>11.8</td>\n",
              "      <td>4.0</td>\n",
              "      <td>7.7</td>\n",
              "      <td>2.8</td>\n",
              "      <td>2.8</td>\n",
              "      <td>1,200 (1/3)</td>\n",
              "      <td>telephone (rolling)</td>\n",
              "      <td>2.8</td>\n",
              "    </tr>\n",
              "    <tr>\n",
              "      <th>40</th>\n",
              "      <td>Angus Reid</td>\n",
              "      <td>2019-10-10</td>\n",
              "      <td>PDF</td>\n",
              "      <td>29.0</td>\n",
              "      <td>34.0</td>\n",
              "      <td>17.0</td>\n",
              "      <td>7.0</td>\n",
              "      <td>9.0</td>\n",
              "      <td>3.0</td>\n",
              "      <td>1.8</td>\n",
              "      <td>3031</td>\n",
              "      <td>online</td>\n",
              "      <td>5.0</td>\n",
              "    </tr>\n",
              "  </tbody>\n",
              "</table>\n",
              "</div>"
            ],
            "text/plain": [
              "                  source       date  ...               method  lead\n",
              "14        Nanos Research 2019-10-18  ...  telephone (rolling)   2.3\n",
              "29   Mainstreet Research 2019-10-14  ...        IVR (rolling)   0.4\n",
              "112       Nanos Research 2019-09-15  ...  telephone (rolling)   0.4\n",
              "105       Nanos Research 2019-09-18  ...  telephone (rolling)   2.8\n",
              "40            Angus Reid 2019-10-10  ...               online   5.0\n",
              "\n",
              "[5 rows x 13 columns]"
            ]
          },
          "metadata": {
            "tags": []
          },
          "execution_count": 60
        }
      ]
    },
    {
      "cell_type": "code",
      "metadata": {
        "id": "0GIcT7Pq5r4W",
        "colab_type": "code",
        "colab": {}
      },
      "source": [
        "# Let's clean the sample\n",
        "regex = r\"\\(.*\\)\"\n",
        "df.sample_size = df.sample_size.str.replace(regex, \"\")\n",
        "df.sample_size = df.sample_size.str.replace(\" |,\", \"\")\n"
      ],
      "execution_count": 0,
      "outputs": []
    },
    {
      "cell_type": "code",
      "metadata": {
        "id": "4iU8LAAX5tjx",
        "colab_type": "code",
        "outputId": "1fd25762-3032-4740-90c0-6821be1443ea",
        "colab": {
          "base_uri": "https://localhost:8080/",
          "height": 195
        }
      },
      "source": [
        "# How does the data look now?\n",
        "df.sample(5)\n"
      ],
      "execution_count": 62,
      "outputs": [
        {
          "output_type": "execute_result",
          "data": {
            "text/html": [
              "<div>\n",
              "<style scoped>\n",
              "    .dataframe tbody tr th:only-of-type {\n",
              "        vertical-align: middle;\n",
              "    }\n",
              "\n",
              "    .dataframe tbody tr th {\n",
              "        vertical-align: top;\n",
              "    }\n",
              "\n",
              "    .dataframe thead th {\n",
              "        text-align: right;\n",
              "    }\n",
              "</style>\n",
              "<table border=\"1\" class=\"dataframe\">\n",
              "  <thead>\n",
              "    <tr style=\"text-align: right;\">\n",
              "      <th></th>\n",
              "      <th>source</th>\n",
              "      <th>date</th>\n",
              "      <th>link</th>\n",
              "      <th>lpc</th>\n",
              "      <th>cpc</th>\n",
              "      <th>ndp</th>\n",
              "      <th>bq</th>\n",
              "      <th>gpc</th>\n",
              "      <th>ppc</th>\n",
              "      <th>error</th>\n",
              "      <th>sample_size</th>\n",
              "      <th>method</th>\n",
              "      <th>lead</th>\n",
              "    </tr>\n",
              "  </thead>\n",
              "  <tbody>\n",
              "    <tr>\n",
              "      <th>40</th>\n",
              "      <td>Angus Reid</td>\n",
              "      <td>2019-10-10</td>\n",
              "      <td>PDF</td>\n",
              "      <td>29.0</td>\n",
              "      <td>34.0</td>\n",
              "      <td>17.0</td>\n",
              "      <td>7.0</td>\n",
              "      <td>9.0</td>\n",
              "      <td>3.0</td>\n",
              "      <td>1.8</td>\n",
              "      <td>3031</td>\n",
              "      <td>online</td>\n",
              "      <td>5.0</td>\n",
              "    </tr>\n",
              "    <tr>\n",
              "      <th>97</th>\n",
              "      <td>Forum Research</td>\n",
              "      <td>2019-09-21</td>\n",
              "      <td>PDF</td>\n",
              "      <td>33.0</td>\n",
              "      <td>33.0</td>\n",
              "      <td>11.0</td>\n",
              "      <td>6.0</td>\n",
              "      <td>11.0</td>\n",
              "      <td>5.0</td>\n",
              "      <td>3</td>\n",
              "      <td>2449</td>\n",
              "      <td>IVR</td>\n",
              "      <td>0.0</td>\n",
              "    </tr>\n",
              "    <tr>\n",
              "      <th>51</th>\n",
              "      <td>Ipsos</td>\n",
              "      <td>2019-10-07</td>\n",
              "      <td>HTML</td>\n",
              "      <td>35.0</td>\n",
              "      <td>34.0</td>\n",
              "      <td>15.0</td>\n",
              "      <td>7.0</td>\n",
              "      <td>7.0</td>\n",
              "      <td>2.0</td>\n",
              "      <td>2.9</td>\n",
              "      <td>1502</td>\n",
              "      <td>online</td>\n",
              "      <td>1.0</td>\n",
              "    </tr>\n",
              "    <tr>\n",
              "      <th>71</th>\n",
              "      <td>Mainstreet Research</td>\n",
              "      <td>2019-09-29</td>\n",
              "      <td>HTML</td>\n",
              "      <td>34.4</td>\n",
              "      <td>34.1</td>\n",
              "      <td>10.9</td>\n",
              "      <td>5.6</td>\n",
              "      <td>10.5</td>\n",
              "      <td>3.4</td>\n",
              "      <td>2.12</td>\n",
              "      <td>2140</td>\n",
              "      <td>IVR (rolling)</td>\n",
              "      <td>0.3</td>\n",
              "    </tr>\n",
              "    <tr>\n",
              "      <th>41</th>\n",
              "      <td>EKOS</td>\n",
              "      <td>2019-10-10</td>\n",
              "      <td>PDF</td>\n",
              "      <td>30.5</td>\n",
              "      <td>31.7</td>\n",
              "      <td>13.1</td>\n",
              "      <td>5.4</td>\n",
              "      <td>12.8</td>\n",
              "      <td>4.7</td>\n",
              "      <td>2.2</td>\n",
              "      <td>1947</td>\n",
              "      <td>telephone/IVR</td>\n",
              "      <td>1.2</td>\n",
              "    </tr>\n",
              "  </tbody>\n",
              "</table>\n",
              "</div>"
            ],
            "text/plain": [
              "                 source       date  link  ...  sample_size         method  lead\n",
              "40           Angus Reid 2019-10-10   PDF  ...         3031         online   5.0\n",
              "97       Forum Research 2019-09-21   PDF  ...         2449            IVR   0.0\n",
              "51                Ipsos 2019-10-07  HTML  ...         1502         online   1.0\n",
              "71  Mainstreet Research 2019-09-29  HTML  ...         2140  IVR (rolling)   0.3\n",
              "41                 EKOS 2019-10-10   PDF  ...         1947  telephone/IVR   1.2\n",
              "\n",
              "[5 rows x 13 columns]"
            ]
          },
          "metadata": {
            "tags": []
          },
          "execution_count": 62
        }
      ]
    },
    {
      "cell_type": "code",
      "metadata": {
        "id": "7eaf8vO05uuZ",
        "colab_type": "code",
        "outputId": "1d35eb33-b0db-4ee6-fcad-6fd9a6b44b6a",
        "colab": {
          "base_uri": "https://localhost:8080/",
          "height": 319
        }
      },
      "source": [
        "# What about the data types?\n",
        "df.info()\n"
      ],
      "execution_count": 63,
      "outputs": [
        {
          "output_type": "stream",
          "text": [
            "<class 'pandas.core.frame.DataFrame'>\n",
            "RangeIndex: 117 entries, 2 to 118\n",
            "Data columns (total 13 columns):\n",
            "source         117 non-null object\n",
            "date           117 non-null datetime64[ns]\n",
            "link           117 non-null object\n",
            "lpc            117 non-null float64\n",
            "cpc            117 non-null float64\n",
            "ndp            116 non-null float64\n",
            "bq             116 non-null float64\n",
            "gpc            116 non-null float64\n",
            "ppc            115 non-null float64\n",
            "error          110 non-null object\n",
            "sample_size    117 non-null object\n",
            "method         117 non-null object\n",
            "lead           117 non-null float64\n",
            "dtypes: datetime64[ns](1), float64(7), object(5)\n",
            "memory usage: 12.0+ KB\n"
          ],
          "name": "stdout"
        }
      ]
    },
    {
      "cell_type": "code",
      "metadata": {
        "id": "6HADs6lW5vmB",
        "colab_type": "code",
        "outputId": "fb6291cd-1f64-47f2-85be-c824a9e2255f",
        "colab": {
          "base_uri": "https://localhost:8080/",
          "height": 402
        }
      },
      "source": [
        "# Which of these variables are still objects?\n",
        "df.select_dtypes(include='object')\n"
      ],
      "execution_count": 64,
      "outputs": [
        {
          "output_type": "execute_result",
          "data": {
            "text/html": [
              "<div>\n",
              "<style scoped>\n",
              "    .dataframe tbody tr th:only-of-type {\n",
              "        vertical-align: middle;\n",
              "    }\n",
              "\n",
              "    .dataframe tbody tr th {\n",
              "        vertical-align: top;\n",
              "    }\n",
              "\n",
              "    .dataframe thead th {\n",
              "        text-align: right;\n",
              "    }\n",
              "</style>\n",
              "<table border=\"1\" class=\"dataframe\">\n",
              "  <thead>\n",
              "    <tr style=\"text-align: right;\">\n",
              "      <th></th>\n",
              "      <th>source</th>\n",
              "      <th>link</th>\n",
              "      <th>error</th>\n",
              "      <th>sample_size</th>\n",
              "      <th>method</th>\n",
              "    </tr>\n",
              "  </thead>\n",
              "  <tbody>\n",
              "    <tr>\n",
              "      <th>2</th>\n",
              "      <td>Nanos Research</td>\n",
              "      <td>PDF</td>\n",
              "      <td>3.6</td>\n",
              "      <td>800</td>\n",
              "      <td>telephone</td>\n",
              "    </tr>\n",
              "    <tr>\n",
              "      <th>3</th>\n",
              "      <td>Mainstreet Research</td>\n",
              "      <td>HTML</td>\n",
              "      <td>2.17</td>\n",
              "      <td>2032</td>\n",
              "      <td>IVR</td>\n",
              "    </tr>\n",
              "    <tr>\n",
              "      <th>4</th>\n",
              "      <td>Research Co.</td>\n",
              "      <td>HTML</td>\n",
              "      <td>3.1</td>\n",
              "      <td>957</td>\n",
              "      <td>online</td>\n",
              "    </tr>\n",
              "    <tr>\n",
              "      <th>5</th>\n",
              "      <td>EKOS</td>\n",
              "      <td>PDF</td>\n",
              "      <td>2.2</td>\n",
              "      <td>1994</td>\n",
              "      <td>telephone/IVR</td>\n",
              "    </tr>\n",
              "    <tr>\n",
              "      <th>6</th>\n",
              "      <td>Campaign Research</td>\n",
              "      <td>HTML</td>\n",
              "      <td>1.4</td>\n",
              "      <td>1498</td>\n",
              "      <td>online (rolling)</td>\n",
              "    </tr>\n",
              "    <tr>\n",
              "      <th>...</th>\n",
              "      <td>...</td>\n",
              "      <td>...</td>\n",
              "      <td>...</td>\n",
              "      <td>...</td>\n",
              "      <td>...</td>\n",
              "    </tr>\n",
              "    <tr>\n",
              "      <th>114</th>\n",
              "      <td>Nanos Research</td>\n",
              "      <td>PDF</td>\n",
              "      <td>2.8</td>\n",
              "      <td>1200</td>\n",
              "      <td>telephone (rolling)</td>\n",
              "    </tr>\n",
              "    <tr>\n",
              "      <th>115</th>\n",
              "      <td>Ipsos</td>\n",
              "      <td>HTML</td>\n",
              "      <td>2.2</td>\n",
              "      <td>2562</td>\n",
              "      <td>online/telephone</td>\n",
              "    </tr>\n",
              "    <tr>\n",
              "      <th>116</th>\n",
              "      <td>Nanos Research</td>\n",
              "      <td>PDF</td>\n",
              "      <td>2.8</td>\n",
              "      <td>1200</td>\n",
              "      <td>telephone (rolling)</td>\n",
              "    </tr>\n",
              "    <tr>\n",
              "      <th>117</th>\n",
              "      <td>DART/Maru</td>\n",
              "      <td>PDF</td>\n",
              "      <td>2.9</td>\n",
              "      <td>1517</td>\n",
              "      <td>online</td>\n",
              "    </tr>\n",
              "    <tr>\n",
              "      <th>118</th>\n",
              "      <td>Forum Research</td>\n",
              "      <td>PDF</td>\n",
              "      <td>3</td>\n",
              "      <td>1001</td>\n",
              "      <td>IVR</td>\n",
              "    </tr>\n",
              "  </tbody>\n",
              "</table>\n",
              "<p>117 rows × 5 columns</p>\n",
              "</div>"
            ],
            "text/plain": [
              "                  source  link error sample_size               method\n",
              "2         Nanos Research   PDF   3.6         800            telephone\n",
              "3    Mainstreet Research  HTML  2.17        2032                  IVR\n",
              "4           Research Co.  HTML   3.1         957               online\n",
              "5                   EKOS   PDF   2.2        1994        telephone/IVR\n",
              "6      Campaign Research  HTML   1.4        1498     online (rolling)\n",
              "..                   ...   ...   ...         ...                  ...\n",
              "114       Nanos Research   PDF   2.8        1200  telephone (rolling)\n",
              "115                Ipsos  HTML   2.2        2562     online/telephone\n",
              "116       Nanos Research   PDF   2.8        1200  telephone (rolling)\n",
              "117            DART/Maru   PDF   2.9        1517               online\n",
              "118       Forum Research   PDF     3        1001                  IVR\n",
              "\n",
              "[117 rows x 5 columns]"
            ]
          },
          "metadata": {
            "tags": []
          },
          "execution_count": 64
        }
      ]
    },
    {
      "cell_type": "code",
      "metadata": {
        "id": "-rXgXmeb5yC3",
        "colab_type": "code",
        "colab": {}
      },
      "source": [
        "# Let's use a dictionary to recode the data types\n",
        "convert_dict = {\n",
        "    'error': float,\n",
        "    'sample_size': int,\n",
        "    'lead': float\n",
        "}\n",
        "\n",
        "df = df.astype(convert_dict)\n"
      ],
      "execution_count": 0,
      "outputs": []
    },
    {
      "cell_type": "code",
      "metadata": {
        "id": "nUku2bRB5y4D",
        "colab_type": "code",
        "outputId": "e67d2648-89d4-4f2a-e089-32d97a017824",
        "colab": {
          "base_uri": "https://localhost:8080/",
          "height": 343
        }
      },
      "source": [
        "# Let's look once again at our data\n",
        "df.sample(10)\n"
      ],
      "execution_count": 66,
      "outputs": [
        {
          "output_type": "execute_result",
          "data": {
            "text/html": [
              "<div>\n",
              "<style scoped>\n",
              "    .dataframe tbody tr th:only-of-type {\n",
              "        vertical-align: middle;\n",
              "    }\n",
              "\n",
              "    .dataframe tbody tr th {\n",
              "        vertical-align: top;\n",
              "    }\n",
              "\n",
              "    .dataframe thead th {\n",
              "        text-align: right;\n",
              "    }\n",
              "</style>\n",
              "<table border=\"1\" class=\"dataframe\">\n",
              "  <thead>\n",
              "    <tr style=\"text-align: right;\">\n",
              "      <th></th>\n",
              "      <th>source</th>\n",
              "      <th>date</th>\n",
              "      <th>link</th>\n",
              "      <th>lpc</th>\n",
              "      <th>cpc</th>\n",
              "      <th>ndp</th>\n",
              "      <th>bq</th>\n",
              "      <th>gpc</th>\n",
              "      <th>ppc</th>\n",
              "      <th>error</th>\n",
              "      <th>sample_size</th>\n",
              "      <th>method</th>\n",
              "      <th>lead</th>\n",
              "    </tr>\n",
              "  </thead>\n",
              "  <tbody>\n",
              "    <tr>\n",
              "      <th>12</th>\n",
              "      <td>Leger</td>\n",
              "      <td>2019-10-18</td>\n",
              "      <td>PDF</td>\n",
              "      <td>33.0</td>\n",
              "      <td>33.0</td>\n",
              "      <td>18.0</td>\n",
              "      <td>8.0</td>\n",
              "      <td>6.0</td>\n",
              "      <td>2.0</td>\n",
              "      <td>2.13</td>\n",
              "      <td>2117</td>\n",
              "      <td>online</td>\n",
              "      <td>0.0</td>\n",
              "    </tr>\n",
              "    <tr>\n",
              "      <th>93</th>\n",
              "      <td>Nanos Research</td>\n",
              "      <td>2019-09-22</td>\n",
              "      <td>PDF</td>\n",
              "      <td>33.1</td>\n",
              "      <td>34.3</td>\n",
              "      <td>12.8</td>\n",
              "      <td>5.8</td>\n",
              "      <td>10.6</td>\n",
              "      <td>2.9</td>\n",
              "      <td>2.80</td>\n",
              "      <td>1200</td>\n",
              "      <td>telephone (rolling)</td>\n",
              "      <td>1.2</td>\n",
              "    </tr>\n",
              "    <tr>\n",
              "      <th>18</th>\n",
              "      <td>EKOS</td>\n",
              "      <td>2019-10-17</td>\n",
              "      <td>PDF</td>\n",
              "      <td>31.0</td>\n",
              "      <td>32.5</td>\n",
              "      <td>17.6</td>\n",
              "      <td>5.5</td>\n",
              "      <td>7.9</td>\n",
              "      <td>3.6</td>\n",
              "      <td>2.30</td>\n",
              "      <td>1881</td>\n",
              "      <td>telephone/IVR</td>\n",
              "      <td>1.5</td>\n",
              "    </tr>\n",
              "    <tr>\n",
              "      <th>105</th>\n",
              "      <td>Nanos Research</td>\n",
              "      <td>2019-09-18</td>\n",
              "      <td>PDF</td>\n",
              "      <td>35.0</td>\n",
              "      <td>37.8</td>\n",
              "      <td>11.8</td>\n",
              "      <td>4.0</td>\n",
              "      <td>7.7</td>\n",
              "      <td>2.8</td>\n",
              "      <td>2.80</td>\n",
              "      <td>1200</td>\n",
              "      <td>telephone (rolling)</td>\n",
              "      <td>2.8</td>\n",
              "    </tr>\n",
              "    <tr>\n",
              "      <th>70</th>\n",
              "      <td>Ipsos</td>\n",
              "      <td>2019-09-30</td>\n",
              "      <td>HTML</td>\n",
              "      <td>34.0</td>\n",
              "      <td>37.0</td>\n",
              "      <td>15.0</td>\n",
              "      <td>5.0</td>\n",
              "      <td>7.0</td>\n",
              "      <td>2.0</td>\n",
              "      <td>2.90</td>\n",
              "      <td>1489</td>\n",
              "      <td>online</td>\n",
              "      <td>3.0</td>\n",
              "    </tr>\n",
              "    <tr>\n",
              "      <th>48</th>\n",
              "      <td>Nanos Research</td>\n",
              "      <td>2019-10-08</td>\n",
              "      <td>PDF</td>\n",
              "      <td>35.6</td>\n",
              "      <td>34.8</td>\n",
              "      <td>13.4</td>\n",
              "      <td>5.2</td>\n",
              "      <td>9.1</td>\n",
              "      <td>1.2</td>\n",
              "      <td>2.80</td>\n",
              "      <td>1200</td>\n",
              "      <td>telephone (rolling)</td>\n",
              "      <td>0.8</td>\n",
              "    </tr>\n",
              "    <tr>\n",
              "      <th>24</th>\n",
              "      <td>Nanos Research</td>\n",
              "      <td>2019-10-16</td>\n",
              "      <td>PDF</td>\n",
              "      <td>31.5</td>\n",
              "      <td>32.5</td>\n",
              "      <td>18.9</td>\n",
              "      <td>6.0</td>\n",
              "      <td>9.2</td>\n",
              "      <td>1.6</td>\n",
              "      <td>2.80</td>\n",
              "      <td>1200</td>\n",
              "      <td>telephone (rolling)</td>\n",
              "      <td>1.0</td>\n",
              "    </tr>\n",
              "    <tr>\n",
              "      <th>75</th>\n",
              "      <td>Nanos Research</td>\n",
              "      <td>2019-09-28</td>\n",
              "      <td>PDF</td>\n",
              "      <td>32.5</td>\n",
              "      <td>34.2</td>\n",
              "      <td>13.0</td>\n",
              "      <td>4.6</td>\n",
              "      <td>12.6</td>\n",
              "      <td>2.1</td>\n",
              "      <td>2.80</td>\n",
              "      <td>1200</td>\n",
              "      <td>telephone (rolling)</td>\n",
              "      <td>1.7</td>\n",
              "    </tr>\n",
              "    <tr>\n",
              "      <th>95</th>\n",
              "      <td>Abacus Data</td>\n",
              "      <td>2019-09-22</td>\n",
              "      <td>HTML</td>\n",
              "      <td>32.0</td>\n",
              "      <td>34.0</td>\n",
              "      <td>15.0</td>\n",
              "      <td>4.0</td>\n",
              "      <td>10.0</td>\n",
              "      <td>3.0</td>\n",
              "      <td>2.30</td>\n",
              "      <td>1929</td>\n",
              "      <td>online</td>\n",
              "      <td>2.0</td>\n",
              "    </tr>\n",
              "    <tr>\n",
              "      <th>72</th>\n",
              "      <td>Nanos Research</td>\n",
              "      <td>2019-09-29</td>\n",
              "      <td>PDF</td>\n",
              "      <td>32.7</td>\n",
              "      <td>34.0</td>\n",
              "      <td>13.2</td>\n",
              "      <td>4.1</td>\n",
              "      <td>12.6</td>\n",
              "      <td>2.5</td>\n",
              "      <td>2.80</td>\n",
              "      <td>1200</td>\n",
              "      <td>telephone (rolling)</td>\n",
              "      <td>1.3</td>\n",
              "    </tr>\n",
              "  </tbody>\n",
              "</table>\n",
              "</div>"
            ],
            "text/plain": [
              "             source       date  link  ...  sample_size               method  lead\n",
              "12            Leger 2019-10-18   PDF  ...         2117               online   0.0\n",
              "93   Nanos Research 2019-09-22   PDF  ...         1200  telephone (rolling)   1.2\n",
              "18             EKOS 2019-10-17   PDF  ...         1881        telephone/IVR   1.5\n",
              "105  Nanos Research 2019-09-18   PDF  ...         1200  telephone (rolling)   2.8\n",
              "70            Ipsos 2019-09-30  HTML  ...         1489               online   3.0\n",
              "48   Nanos Research 2019-10-08   PDF  ...         1200  telephone (rolling)   0.8\n",
              "24   Nanos Research 2019-10-16   PDF  ...         1200  telephone (rolling)   1.0\n",
              "75   Nanos Research 2019-09-28   PDF  ...         1200  telephone (rolling)   1.7\n",
              "95      Abacus Data 2019-09-22  HTML  ...         1929               online   2.0\n",
              "72   Nanos Research 2019-09-29   PDF  ...         1200  telephone (rolling)   1.3\n",
              "\n",
              "[10 rows x 13 columns]"
            ]
          },
          "metadata": {
            "tags": []
          },
          "execution_count": 66
        }
      ]
    },
    {
      "cell_type": "code",
      "metadata": {
        "id": "i84Qzw2W5zaf",
        "colab_type": "code",
        "outputId": "3189db16-d52e-4d2c-f96b-3dc0002ff521",
        "colab": {
          "base_uri": "https://localhost:8080/",
          "height": 402
        }
      },
      "source": [
        "# What are the remaining objects?\n",
        "df.select_dtypes(include='object')\n"
      ],
      "execution_count": 67,
      "outputs": [
        {
          "output_type": "execute_result",
          "data": {
            "text/html": [
              "<div>\n",
              "<style scoped>\n",
              "    .dataframe tbody tr th:only-of-type {\n",
              "        vertical-align: middle;\n",
              "    }\n",
              "\n",
              "    .dataframe tbody tr th {\n",
              "        vertical-align: top;\n",
              "    }\n",
              "\n",
              "    .dataframe thead th {\n",
              "        text-align: right;\n",
              "    }\n",
              "</style>\n",
              "<table border=\"1\" class=\"dataframe\">\n",
              "  <thead>\n",
              "    <tr style=\"text-align: right;\">\n",
              "      <th></th>\n",
              "      <th>source</th>\n",
              "      <th>link</th>\n",
              "      <th>method</th>\n",
              "    </tr>\n",
              "  </thead>\n",
              "  <tbody>\n",
              "    <tr>\n",
              "      <th>2</th>\n",
              "      <td>Nanos Research</td>\n",
              "      <td>PDF</td>\n",
              "      <td>telephone</td>\n",
              "    </tr>\n",
              "    <tr>\n",
              "      <th>3</th>\n",
              "      <td>Mainstreet Research</td>\n",
              "      <td>HTML</td>\n",
              "      <td>IVR</td>\n",
              "    </tr>\n",
              "    <tr>\n",
              "      <th>4</th>\n",
              "      <td>Research Co.</td>\n",
              "      <td>HTML</td>\n",
              "      <td>online</td>\n",
              "    </tr>\n",
              "    <tr>\n",
              "      <th>5</th>\n",
              "      <td>EKOS</td>\n",
              "      <td>PDF</td>\n",
              "      <td>telephone/IVR</td>\n",
              "    </tr>\n",
              "    <tr>\n",
              "      <th>6</th>\n",
              "      <td>Campaign Research</td>\n",
              "      <td>HTML</td>\n",
              "      <td>online (rolling)</td>\n",
              "    </tr>\n",
              "    <tr>\n",
              "      <th>...</th>\n",
              "      <td>...</td>\n",
              "      <td>...</td>\n",
              "      <td>...</td>\n",
              "    </tr>\n",
              "    <tr>\n",
              "      <th>114</th>\n",
              "      <td>Nanos Research</td>\n",
              "      <td>PDF</td>\n",
              "      <td>telephone (rolling)</td>\n",
              "    </tr>\n",
              "    <tr>\n",
              "      <th>115</th>\n",
              "      <td>Ipsos</td>\n",
              "      <td>HTML</td>\n",
              "      <td>online/telephone</td>\n",
              "    </tr>\n",
              "    <tr>\n",
              "      <th>116</th>\n",
              "      <td>Nanos Research</td>\n",
              "      <td>PDF</td>\n",
              "      <td>telephone (rolling)</td>\n",
              "    </tr>\n",
              "    <tr>\n",
              "      <th>117</th>\n",
              "      <td>DART/Maru</td>\n",
              "      <td>PDF</td>\n",
              "      <td>online</td>\n",
              "    </tr>\n",
              "    <tr>\n",
              "      <th>118</th>\n",
              "      <td>Forum Research</td>\n",
              "      <td>PDF</td>\n",
              "      <td>IVR</td>\n",
              "    </tr>\n",
              "  </tbody>\n",
              "</table>\n",
              "<p>117 rows × 3 columns</p>\n",
              "</div>"
            ],
            "text/plain": [
              "                  source  link               method\n",
              "2         Nanos Research   PDF            telephone\n",
              "3    Mainstreet Research  HTML                  IVR\n",
              "4           Research Co.  HTML               online\n",
              "5                   EKOS   PDF        telephone/IVR\n",
              "6      Campaign Research  HTML     online (rolling)\n",
              "..                   ...   ...                  ...\n",
              "114       Nanos Research   PDF  telephone (rolling)\n",
              "115                Ipsos  HTML     online/telephone\n",
              "116       Nanos Research   PDF  telephone (rolling)\n",
              "117            DART/Maru   PDF               online\n",
              "118       Forum Research   PDF                  IVR\n",
              "\n",
              "[117 rows x 3 columns]"
            ]
          },
          "metadata": {
            "tags": []
          },
          "execution_count": 67
        }
      ]
    },
    {
      "cell_type": "code",
      "metadata": {
        "id": "S14uJehz5z_8",
        "colab_type": "code",
        "colab": {}
      },
      "source": [
        "# Keep only necessary variables\n",
        "to_keep = [\n",
        "    'source',\n",
        "    'date',\n",
        "    'lpc',\n",
        "    'cpc',\n",
        "    'ndp',\n",
        "    'bq',\n",
        "    'gpc',\n",
        "    'ppc',\n",
        "    'method'\n",
        "]\n",
        "\n",
        "df = df[to_keep]\n"
      ],
      "execution_count": 0,
      "outputs": []
    },
    {
      "cell_type": "code",
      "metadata": {
        "id": "_jc2nEBV7SaA",
        "colab_type": "code",
        "outputId": "a5909773-8cb9-49dd-ef15-795da9f9d4af",
        "colab": {
          "base_uri": "https://localhost:8080/",
          "height": 420
        }
      },
      "source": [
        "# Save the dataframe to a file\n",
        "file_name = \"national_polls_2019.csv\"\n",
        "df.to_csv(file_name, index=False)\n",
        "print(df)\n",
        "\n",
        "df.dtypes\n"
      ],
      "execution_count": 69,
      "outputs": [
        {
          "output_type": "stream",
          "text": [
            "                  source       date   lpc  ...   gpc  ppc               method\n",
            "2         Nanos Research 2019-10-20  31.7  ...   6.0  1.5            telephone\n",
            "3    Mainstreet Research 2019-10-20  31.6  ...   6.1  2.8                  IVR\n",
            "4           Research Co. 2019-10-20  32.0  ...   8.0  2.0               online\n",
            "5                   EKOS 2019-10-20  34.2  ...   8.1  3.5        telephone/IVR\n",
            "6      Campaign Research 2019-10-20  31.4  ...   9.1  2.7     online (rolling)\n",
            "..                   ...        ...   ...  ...   ...  ...                  ...\n",
            "114       Nanos Research 2019-09-14  35.2  ...   9.6  2.0  telephone (rolling)\n",
            "115                Ipsos 2019-09-13  35.0  ...   9.0  2.0     online/telephone\n",
            "116       Nanos Research 2019-09-13  35.4  ...   9.5  2.4  telephone (rolling)\n",
            "117            DART/Maru 2019-09-11  32.0  ...   8.0  2.0               online\n",
            "118       Forum Research 2019-09-11  32.4  ...  11.6  4.9                  IVR\n",
            "\n",
            "[117 rows x 9 columns]\n"
          ],
          "name": "stdout"
        },
        {
          "output_type": "execute_result",
          "data": {
            "text/plain": [
              "source            object\n",
              "date      datetime64[ns]\n",
              "lpc              float64\n",
              "cpc              float64\n",
              "ndp              float64\n",
              "bq               float64\n",
              "gpc              float64\n",
              "ppc              float64\n",
              "method            object\n",
              "dtype: object"
            ]
          },
          "metadata": {
            "tags": []
          },
          "execution_count": 69
        }
      ]
    },
    {
      "cell_type": "code",
      "metadata": {
        "id": "CWw_gIt07TLE",
        "colab_type": "code",
        "outputId": "7365d1f1-d19b-4f36-87ba-26d543d556f2",
        "colab": {
          "base_uri": "https://localhost:8080/",
          "height": 185
        }
      },
      "source": [
        "# Read the data back-in from the recorded csv file.\n",
        "\n",
        "# More info on read_csv\n",
        "# https://pandas.pydata.org/pandas-docs/stable/reference/api/pandas.read_csv.html\n",
        "df = pd.read_csv(\"national_polls_2019.csv\", parse_dates=['date'])\n",
        "df.dtypes\n"
      ],
      "execution_count": 70,
      "outputs": [
        {
          "output_type": "execute_result",
          "data": {
            "text/plain": [
              "source            object\n",
              "date      datetime64[ns]\n",
              "lpc              float64\n",
              "cpc              float64\n",
              "ndp              float64\n",
              "bq               float64\n",
              "gpc              float64\n",
              "ppc              float64\n",
              "method            object\n",
              "dtype: object"
            ]
          },
          "metadata": {
            "tags": []
          },
          "execution_count": 70
        }
      ]
    },
    {
      "cell_type": "markdown",
      "metadata": {
        "id": "lZU-7tcN7XU-",
        "colab_type": "text"
      },
      "source": [
        "## Time Series Operations\n"
      ]
    },
    {
      "cell_type": "code",
      "metadata": {
        "id": "UpZQqLUB7Zxr",
        "colab_type": "code",
        "colab": {}
      },
      "source": [
        "# Let's transform this into a time-series\n",
        "df.set_index('date', inplace=True)\n"
      ],
      "execution_count": 0,
      "outputs": []
    },
    {
      "cell_type": "code",
      "metadata": {
        "id": "TcaAaVWD7ch7",
        "colab_type": "code",
        "colab": {}
      },
      "source": [
        "# Time-series data should be stored in descending order\n",
        "df = df.sort_values(by=['date', 'source'])\n"
      ],
      "execution_count": 0,
      "outputs": []
    },
    {
      "cell_type": "code",
      "metadata": {
        "id": "DDLa0Ws_7c_W",
        "colab_type": "code",
        "outputId": "e46bb35b-8573-452f-e61b-675e730aff35",
        "colab": {
          "base_uri": "https://localhost:8080/",
          "height": 225
        }
      },
      "source": [
        "# How does the data look now?\n",
        "df.head()\n"
      ],
      "execution_count": 73,
      "outputs": [
        {
          "output_type": "execute_result",
          "data": {
            "text/html": [
              "<div>\n",
              "<style scoped>\n",
              "    .dataframe tbody tr th:only-of-type {\n",
              "        vertical-align: middle;\n",
              "    }\n",
              "\n",
              "    .dataframe tbody tr th {\n",
              "        vertical-align: top;\n",
              "    }\n",
              "\n",
              "    .dataframe thead th {\n",
              "        text-align: right;\n",
              "    }\n",
              "</style>\n",
              "<table border=\"1\" class=\"dataframe\">\n",
              "  <thead>\n",
              "    <tr style=\"text-align: right;\">\n",
              "      <th></th>\n",
              "      <th>source</th>\n",
              "      <th>lpc</th>\n",
              "      <th>cpc</th>\n",
              "      <th>ndp</th>\n",
              "      <th>bq</th>\n",
              "      <th>gpc</th>\n",
              "      <th>ppc</th>\n",
              "      <th>method</th>\n",
              "    </tr>\n",
              "    <tr>\n",
              "      <th>date</th>\n",
              "      <th></th>\n",
              "      <th></th>\n",
              "      <th></th>\n",
              "      <th></th>\n",
              "      <th></th>\n",
              "      <th></th>\n",
              "      <th></th>\n",
              "      <th></th>\n",
              "    </tr>\n",
              "  </thead>\n",
              "  <tbody>\n",
              "    <tr>\n",
              "      <th>2019-09-11</th>\n",
              "      <td>DART/Maru</td>\n",
              "      <td>32.0</td>\n",
              "      <td>35.0</td>\n",
              "      <td>15.0</td>\n",
              "      <td>6.0</td>\n",
              "      <td>8.0</td>\n",
              "      <td>2.0</td>\n",
              "      <td>online</td>\n",
              "    </tr>\n",
              "    <tr>\n",
              "      <th>2019-09-11</th>\n",
              "      <td>Forum Research</td>\n",
              "      <td>32.4</td>\n",
              "      <td>36.3</td>\n",
              "      <td>8.6</td>\n",
              "      <td>4.1</td>\n",
              "      <td>11.6</td>\n",
              "      <td>4.9</td>\n",
              "      <td>IVR</td>\n",
              "    </tr>\n",
              "    <tr>\n",
              "      <th>2019-09-13</th>\n",
              "      <td>Ipsos</td>\n",
              "      <td>35.0</td>\n",
              "      <td>35.0</td>\n",
              "      <td>14.0</td>\n",
              "      <td>4.0</td>\n",
              "      <td>9.0</td>\n",
              "      <td>2.0</td>\n",
              "      <td>online/telephone</td>\n",
              "    </tr>\n",
              "    <tr>\n",
              "      <th>2019-09-13</th>\n",
              "      <td>Nanos Research</td>\n",
              "      <td>35.4</td>\n",
              "      <td>32.8</td>\n",
              "      <td>15.7</td>\n",
              "      <td>3.6</td>\n",
              "      <td>9.5</td>\n",
              "      <td>2.4</td>\n",
              "      <td>telephone (rolling)</td>\n",
              "    </tr>\n",
              "    <tr>\n",
              "      <th>2019-09-14</th>\n",
              "      <td>Nanos Research</td>\n",
              "      <td>35.2</td>\n",
              "      <td>32.3</td>\n",
              "      <td>16.6</td>\n",
              "      <td>3.8</td>\n",
              "      <td>9.6</td>\n",
              "      <td>2.0</td>\n",
              "      <td>telephone (rolling)</td>\n",
              "    </tr>\n",
              "  </tbody>\n",
              "</table>\n",
              "</div>"
            ],
            "text/plain": [
              "                    source   lpc   cpc  ...   gpc  ppc               method\n",
              "date                                    ...                                \n",
              "2019-09-11       DART/Maru  32.0  35.0  ...   8.0  2.0               online\n",
              "2019-09-11  Forum Research  32.4  36.3  ...  11.6  4.9                  IVR\n",
              "2019-09-13           Ipsos  35.0  35.0  ...   9.0  2.0     online/telephone\n",
              "2019-09-13  Nanos Research  35.4  32.8  ...   9.5  2.4  telephone (rolling)\n",
              "2019-09-14  Nanos Research  35.2  32.3  ...   9.6  2.0  telephone (rolling)\n",
              "\n",
              "[5 rows x 8 columns]"
            ]
          },
          "metadata": {
            "tags": []
          },
          "execution_count": 73
        }
      ]
    },
    {
      "cell_type": "code",
      "metadata": {
        "id": "dIMp9oU07eXZ",
        "colab_type": "code",
        "outputId": "07bab797-08e2-4469-8793-0e277f33d1fb",
        "colab": {
          "base_uri": "https://localhost:8080/",
          "height": 225
        }
      },
      "source": [
        "# What about the tail?\n",
        "df.tail()\n"
      ],
      "execution_count": 74,
      "outputs": [
        {
          "output_type": "execute_result",
          "data": {
            "text/html": [
              "<div>\n",
              "<style scoped>\n",
              "    .dataframe tbody tr th:only-of-type {\n",
              "        vertical-align: middle;\n",
              "    }\n",
              "\n",
              "    .dataframe tbody tr th {\n",
              "        vertical-align: top;\n",
              "    }\n",
              "\n",
              "    .dataframe thead th {\n",
              "        text-align: right;\n",
              "    }\n",
              "</style>\n",
              "<table border=\"1\" class=\"dataframe\">\n",
              "  <thead>\n",
              "    <tr style=\"text-align: right;\">\n",
              "      <th></th>\n",
              "      <th>source</th>\n",
              "      <th>lpc</th>\n",
              "      <th>cpc</th>\n",
              "      <th>ndp</th>\n",
              "      <th>bq</th>\n",
              "      <th>gpc</th>\n",
              "      <th>ppc</th>\n",
              "      <th>method</th>\n",
              "    </tr>\n",
              "    <tr>\n",
              "      <th>date</th>\n",
              "      <th></th>\n",
              "      <th></th>\n",
              "      <th></th>\n",
              "      <th></th>\n",
              "      <th></th>\n",
              "      <th></th>\n",
              "      <th></th>\n",
              "      <th></th>\n",
              "    </tr>\n",
              "  </thead>\n",
              "  <tbody>\n",
              "    <tr>\n",
              "      <th>2019-10-20</th>\n",
              "      <td>Campaign Research</td>\n",
              "      <td>31.4</td>\n",
              "      <td>31.3</td>\n",
              "      <td>17.8</td>\n",
              "      <td>6.6</td>\n",
              "      <td>9.1</td>\n",
              "      <td>2.7</td>\n",
              "      <td>online (rolling)</td>\n",
              "    </tr>\n",
              "    <tr>\n",
              "      <th>2019-10-20</th>\n",
              "      <td>EKOS</td>\n",
              "      <td>34.2</td>\n",
              "      <td>30.0</td>\n",
              "      <td>18.3</td>\n",
              "      <td>5.0</td>\n",
              "      <td>8.1</td>\n",
              "      <td>3.5</td>\n",
              "      <td>telephone/IVR</td>\n",
              "    </tr>\n",
              "    <tr>\n",
              "      <th>2019-10-20</th>\n",
              "      <td>Mainstreet Research</td>\n",
              "      <td>31.6</td>\n",
              "      <td>32.2</td>\n",
              "      <td>18.3</td>\n",
              "      <td>7.9</td>\n",
              "      <td>6.1</td>\n",
              "      <td>2.8</td>\n",
              "      <td>IVR</td>\n",
              "    </tr>\n",
              "    <tr>\n",
              "      <th>2019-10-20</th>\n",
              "      <td>Nanos Research</td>\n",
              "      <td>31.7</td>\n",
              "      <td>32.5</td>\n",
              "      <td>20.8</td>\n",
              "      <td>7.2</td>\n",
              "      <td>6.0</td>\n",
              "      <td>1.5</td>\n",
              "      <td>telephone</td>\n",
              "    </tr>\n",
              "    <tr>\n",
              "      <th>2019-10-20</th>\n",
              "      <td>Research Co.</td>\n",
              "      <td>32.0</td>\n",
              "      <td>31.0</td>\n",
              "      <td>19.0</td>\n",
              "      <td>7.0</td>\n",
              "      <td>8.0</td>\n",
              "      <td>2.0</td>\n",
              "      <td>online</td>\n",
              "    </tr>\n",
              "  </tbody>\n",
              "</table>\n",
              "</div>"
            ],
            "text/plain": [
              "                         source   lpc   cpc  ...  gpc  ppc            method\n",
              "date                                         ...                            \n",
              "2019-10-20    Campaign Research  31.4  31.3  ...  9.1  2.7  online (rolling)\n",
              "2019-10-20                 EKOS  34.2  30.0  ...  8.1  3.5     telephone/IVR\n",
              "2019-10-20  Mainstreet Research  31.6  32.2  ...  6.1  2.8               IVR\n",
              "2019-10-20       Nanos Research  31.7  32.5  ...  6.0  1.5         telephone\n",
              "2019-10-20         Research Co.  32.0  31.0  ...  8.0  2.0            online\n",
              "\n",
              "[5 rows x 8 columns]"
            ]
          },
          "metadata": {
            "tags": []
          },
          "execution_count": 74
        }
      ]
    },
    {
      "cell_type": "code",
      "metadata": {
        "id": "gXfA8snl7ezQ",
        "colab_type": "code",
        "outputId": "d5676419-e86c-466a-8f2a-dcc38e125b6c",
        "colab": {
          "base_uri": "https://localhost:8080/",
          "height": 758
        }
      },
      "source": [
        "# A time indexed data frame provides a lot of control over the data\n",
        "df.loc[df.index > '2019-10-15']\n"
      ],
      "execution_count": 75,
      "outputs": [
        {
          "output_type": "execute_result",
          "data": {
            "text/html": [
              "<div>\n",
              "<style scoped>\n",
              "    .dataframe tbody tr th:only-of-type {\n",
              "        vertical-align: middle;\n",
              "    }\n",
              "\n",
              "    .dataframe tbody tr th {\n",
              "        vertical-align: top;\n",
              "    }\n",
              "\n",
              "    .dataframe thead th {\n",
              "        text-align: right;\n",
              "    }\n",
              "</style>\n",
              "<table border=\"1\" class=\"dataframe\">\n",
              "  <thead>\n",
              "    <tr style=\"text-align: right;\">\n",
              "      <th></th>\n",
              "      <th>source</th>\n",
              "      <th>lpc</th>\n",
              "      <th>cpc</th>\n",
              "      <th>ndp</th>\n",
              "      <th>bq</th>\n",
              "      <th>gpc</th>\n",
              "      <th>ppc</th>\n",
              "      <th>method</th>\n",
              "    </tr>\n",
              "    <tr>\n",
              "      <th>date</th>\n",
              "      <th></th>\n",
              "      <th></th>\n",
              "      <th></th>\n",
              "      <th></th>\n",
              "      <th></th>\n",
              "      <th></th>\n",
              "      <th></th>\n",
              "      <th></th>\n",
              "    </tr>\n",
              "  </thead>\n",
              "  <tbody>\n",
              "    <tr>\n",
              "      <th>2019-10-16</th>\n",
              "      <td>DART/Maru</td>\n",
              "      <td>29.0</td>\n",
              "      <td>33.0</td>\n",
              "      <td>21.0</td>\n",
              "      <td>8.0</td>\n",
              "      <td>7.0</td>\n",
              "      <td>2.0</td>\n",
              "      <td>online</td>\n",
              "    </tr>\n",
              "    <tr>\n",
              "      <th>2019-10-16</th>\n",
              "      <td>Forum Research</td>\n",
              "      <td>30.0</td>\n",
              "      <td>29.0</td>\n",
              "      <td>20.0</td>\n",
              "      <td>7.0</td>\n",
              "      <td>8.0</td>\n",
              "      <td>4.0</td>\n",
              "      <td>IVR</td>\n",
              "    </tr>\n",
              "    <tr>\n",
              "      <th>2019-10-16</th>\n",
              "      <td>Mainstreet Research</td>\n",
              "      <td>31.9</td>\n",
              "      <td>30.9</td>\n",
              "      <td>18.6</td>\n",
              "      <td>7.6</td>\n",
              "      <td>7.0</td>\n",
              "      <td>3.2</td>\n",
              "      <td>IVR (rolling)</td>\n",
              "    </tr>\n",
              "    <tr>\n",
              "      <th>2019-10-16</th>\n",
              "      <td>Nanos Research</td>\n",
              "      <td>31.5</td>\n",
              "      <td>32.5</td>\n",
              "      <td>18.9</td>\n",
              "      <td>6.0</td>\n",
              "      <td>9.2</td>\n",
              "      <td>1.6</td>\n",
              "      <td>telephone (rolling)</td>\n",
              "    </tr>\n",
              "    <tr>\n",
              "      <th>2019-10-17</th>\n",
              "      <td>EKOS</td>\n",
              "      <td>31.0</td>\n",
              "      <td>32.5</td>\n",
              "      <td>17.6</td>\n",
              "      <td>5.5</td>\n",
              "      <td>7.9</td>\n",
              "      <td>3.6</td>\n",
              "      <td>telephone/IVR</td>\n",
              "    </tr>\n",
              "    <tr>\n",
              "      <th>2019-10-17</th>\n",
              "      <td>Innovative Research</td>\n",
              "      <td>33.0</td>\n",
              "      <td>31.0</td>\n",
              "      <td>14.0</td>\n",
              "      <td>9.0</td>\n",
              "      <td>8.0</td>\n",
              "      <td>4.0</td>\n",
              "      <td>online</td>\n",
              "    </tr>\n",
              "    <tr>\n",
              "      <th>2019-10-17</th>\n",
              "      <td>Innovative Research</td>\n",
              "      <td>34.0</td>\n",
              "      <td>30.0</td>\n",
              "      <td>19.0</td>\n",
              "      <td>6.0</td>\n",
              "      <td>8.0</td>\n",
              "      <td>2.0</td>\n",
              "      <td>online</td>\n",
              "    </tr>\n",
              "    <tr>\n",
              "      <th>2019-10-17</th>\n",
              "      <td>Mainstreet Research</td>\n",
              "      <td>32.1</td>\n",
              "      <td>31.9</td>\n",
              "      <td>18.8</td>\n",
              "      <td>7.6</td>\n",
              "      <td>5.8</td>\n",
              "      <td>3.0</td>\n",
              "      <td>IVR (rolling)</td>\n",
              "    </tr>\n",
              "    <tr>\n",
              "      <th>2019-10-17</th>\n",
              "      <td>Nanos Research</td>\n",
              "      <td>31.5</td>\n",
              "      <td>31.6</td>\n",
              "      <td>19.0</td>\n",
              "      <td>6.2</td>\n",
              "      <td>9.5</td>\n",
              "      <td>1.8</td>\n",
              "      <td>telephone (rolling)</td>\n",
              "    </tr>\n",
              "    <tr>\n",
              "      <th>2019-10-18</th>\n",
              "      <td>Campaign Research</td>\n",
              "      <td>31.0</td>\n",
              "      <td>31.0</td>\n",
              "      <td>18.0</td>\n",
              "      <td>7.0</td>\n",
              "      <td>9.0</td>\n",
              "      <td>3.0</td>\n",
              "      <td>online</td>\n",
              "    </tr>\n",
              "    <tr>\n",
              "      <th>2019-10-18</th>\n",
              "      <td>Forum Research</td>\n",
              "      <td>31.7</td>\n",
              "      <td>29.9</td>\n",
              "      <td>17.5</td>\n",
              "      <td>9.0</td>\n",
              "      <td>8.3</td>\n",
              "      <td>3.0</td>\n",
              "      <td>IVR</td>\n",
              "    </tr>\n",
              "    <tr>\n",
              "      <th>2019-10-18</th>\n",
              "      <td>Leger</td>\n",
              "      <td>33.0</td>\n",
              "      <td>33.0</td>\n",
              "      <td>18.0</td>\n",
              "      <td>8.0</td>\n",
              "      <td>6.0</td>\n",
              "      <td>2.0</td>\n",
              "      <td>online</td>\n",
              "    </tr>\n",
              "    <tr>\n",
              "      <th>2019-10-18</th>\n",
              "      <td>Mainstreet Research</td>\n",
              "      <td>32.8</td>\n",
              "      <td>31.9</td>\n",
              "      <td>18.3</td>\n",
              "      <td>7.2</td>\n",
              "      <td>5.5</td>\n",
              "      <td>3.3</td>\n",
              "      <td>IVR (rolling)</td>\n",
              "    </tr>\n",
              "    <tr>\n",
              "      <th>2019-10-18</th>\n",
              "      <td>Nanos Research</td>\n",
              "      <td>32.6</td>\n",
              "      <td>30.3</td>\n",
              "      <td>18.4</td>\n",
              "      <td>7.1</td>\n",
              "      <td>9.3</td>\n",
              "      <td>1.9</td>\n",
              "      <td>telephone (rolling)</td>\n",
              "    </tr>\n",
              "    <tr>\n",
              "      <th>2019-10-19</th>\n",
              "      <td>Abacus Data</td>\n",
              "      <td>34.0</td>\n",
              "      <td>32.0</td>\n",
              "      <td>16.0</td>\n",
              "      <td>8.0</td>\n",
              "      <td>8.0</td>\n",
              "      <td>2.0</td>\n",
              "      <td>online</td>\n",
              "    </tr>\n",
              "    <tr>\n",
              "      <th>2019-10-19</th>\n",
              "      <td>Campaign Research</td>\n",
              "      <td>31.7</td>\n",
              "      <td>31.4</td>\n",
              "      <td>17.4</td>\n",
              "      <td>6.6</td>\n",
              "      <td>9.1</td>\n",
              "      <td>2.7</td>\n",
              "      <td>online (rolling)</td>\n",
              "    </tr>\n",
              "    <tr>\n",
              "      <th>2019-10-19</th>\n",
              "      <td>Ipsos</td>\n",
              "      <td>31.0</td>\n",
              "      <td>33.0</td>\n",
              "      <td>18.0</td>\n",
              "      <td>7.0</td>\n",
              "      <td>6.0</td>\n",
              "      <td>3.0</td>\n",
              "      <td>online/telephone</td>\n",
              "    </tr>\n",
              "    <tr>\n",
              "      <th>2019-10-19</th>\n",
              "      <td>Nanos Research</td>\n",
              "      <td>31.0</td>\n",
              "      <td>31.5</td>\n",
              "      <td>18.8</td>\n",
              "      <td>7.0</td>\n",
              "      <td>9.5</td>\n",
              "      <td>1.8</td>\n",
              "      <td>telephone (rolling)</td>\n",
              "    </tr>\n",
              "    <tr>\n",
              "      <th>2019-10-20</th>\n",
              "      <td>Campaign Research</td>\n",
              "      <td>31.4</td>\n",
              "      <td>31.3</td>\n",
              "      <td>17.8</td>\n",
              "      <td>6.6</td>\n",
              "      <td>9.1</td>\n",
              "      <td>2.7</td>\n",
              "      <td>online (rolling)</td>\n",
              "    </tr>\n",
              "    <tr>\n",
              "      <th>2019-10-20</th>\n",
              "      <td>EKOS</td>\n",
              "      <td>34.2</td>\n",
              "      <td>30.0</td>\n",
              "      <td>18.3</td>\n",
              "      <td>5.0</td>\n",
              "      <td>8.1</td>\n",
              "      <td>3.5</td>\n",
              "      <td>telephone/IVR</td>\n",
              "    </tr>\n",
              "    <tr>\n",
              "      <th>2019-10-20</th>\n",
              "      <td>Mainstreet Research</td>\n",
              "      <td>31.6</td>\n",
              "      <td>32.2</td>\n",
              "      <td>18.3</td>\n",
              "      <td>7.9</td>\n",
              "      <td>6.1</td>\n",
              "      <td>2.8</td>\n",
              "      <td>IVR</td>\n",
              "    </tr>\n",
              "    <tr>\n",
              "      <th>2019-10-20</th>\n",
              "      <td>Nanos Research</td>\n",
              "      <td>31.7</td>\n",
              "      <td>32.5</td>\n",
              "      <td>20.8</td>\n",
              "      <td>7.2</td>\n",
              "      <td>6.0</td>\n",
              "      <td>1.5</td>\n",
              "      <td>telephone</td>\n",
              "    </tr>\n",
              "    <tr>\n",
              "      <th>2019-10-20</th>\n",
              "      <td>Research Co.</td>\n",
              "      <td>32.0</td>\n",
              "      <td>31.0</td>\n",
              "      <td>19.0</td>\n",
              "      <td>7.0</td>\n",
              "      <td>8.0</td>\n",
              "      <td>2.0</td>\n",
              "      <td>online</td>\n",
              "    </tr>\n",
              "  </tbody>\n",
              "</table>\n",
              "</div>"
            ],
            "text/plain": [
              "                         source   lpc   cpc  ...  gpc  ppc               method\n",
              "date                                         ...                               \n",
              "2019-10-16            DART/Maru  29.0  33.0  ...  7.0  2.0               online\n",
              "2019-10-16       Forum Research  30.0  29.0  ...  8.0  4.0                  IVR\n",
              "2019-10-16  Mainstreet Research  31.9  30.9  ...  7.0  3.2        IVR (rolling)\n",
              "2019-10-16       Nanos Research  31.5  32.5  ...  9.2  1.6  telephone (rolling)\n",
              "2019-10-17                 EKOS  31.0  32.5  ...  7.9  3.6        telephone/IVR\n",
              "2019-10-17  Innovative Research  33.0  31.0  ...  8.0  4.0               online\n",
              "2019-10-17  Innovative Research  34.0  30.0  ...  8.0  2.0               online\n",
              "2019-10-17  Mainstreet Research  32.1  31.9  ...  5.8  3.0        IVR (rolling)\n",
              "2019-10-17       Nanos Research  31.5  31.6  ...  9.5  1.8  telephone (rolling)\n",
              "2019-10-18    Campaign Research  31.0  31.0  ...  9.0  3.0               online\n",
              "2019-10-18       Forum Research  31.7  29.9  ...  8.3  3.0                  IVR\n",
              "2019-10-18                Leger  33.0  33.0  ...  6.0  2.0               online\n",
              "2019-10-18  Mainstreet Research  32.8  31.9  ...  5.5  3.3        IVR (rolling)\n",
              "2019-10-18       Nanos Research  32.6  30.3  ...  9.3  1.9  telephone (rolling)\n",
              "2019-10-19          Abacus Data  34.0  32.0  ...  8.0  2.0               online\n",
              "2019-10-19    Campaign Research  31.7  31.4  ...  9.1  2.7     online (rolling)\n",
              "2019-10-19                Ipsos  31.0  33.0  ...  6.0  3.0     online/telephone\n",
              "2019-10-19       Nanos Research  31.0  31.5  ...  9.5  1.8  telephone (rolling)\n",
              "2019-10-20    Campaign Research  31.4  31.3  ...  9.1  2.7     online (rolling)\n",
              "2019-10-20                 EKOS  34.2  30.0  ...  8.1  3.5        telephone/IVR\n",
              "2019-10-20  Mainstreet Research  31.6  32.2  ...  6.1  2.8                  IVR\n",
              "2019-10-20       Nanos Research  31.7  32.5  ...  6.0  1.5            telephone\n",
              "2019-10-20         Research Co.  32.0  31.0  ...  8.0  2.0               online\n",
              "\n",
              "[23 rows x 8 columns]"
            ]
          },
          "metadata": {
            "tags": []
          },
          "execution_count": 75
        }
      ]
    },
    {
      "cell_type": "code",
      "metadata": {
        "id": "mgCuP_EU7fOG",
        "colab_type": "code",
        "outputId": "dc8db0ed-3721-45f0-88c9-0f5558260ce3",
        "colab": {
          "base_uri": "https://localhost:8080/",
          "height": 134
        }
      },
      "source": [
        "# We can look at a single party\n",
        "df.lpc.loc['2019-10-20']\n"
      ],
      "execution_count": 76,
      "outputs": [
        {
          "output_type": "execute_result",
          "data": {
            "text/plain": [
              "date\n",
              "2019-10-20    31.4\n",
              "2019-10-20    34.2\n",
              "2019-10-20    31.6\n",
              "2019-10-20    31.7\n",
              "2019-10-20    32.0\n",
              "Name: lpc, dtype: float64"
            ]
          },
          "metadata": {
            "tags": []
          },
          "execution_count": 76
        }
      ]
    },
    {
      "cell_type": "code",
      "metadata": {
        "id": "h96QxTsi7gBd",
        "colab_type": "code",
        "outputId": "281decd9-2012-4e3d-ec0c-c25acd1f8669",
        "colab": {
          "base_uri": "https://localhost:8080/",
          "height": 431
        }
      },
      "source": [
        "# We can focus on a subset of columns\n",
        "parties = [\"lpc\", \"cpc\", \"ndp\", \"bq\", \"gpc\", \"ppc\"]\n",
        "df.loc[:, parties]\n"
      ],
      "execution_count": 77,
      "outputs": [
        {
          "output_type": "execute_result",
          "data": {
            "text/html": [
              "<div>\n",
              "<style scoped>\n",
              "    .dataframe tbody tr th:only-of-type {\n",
              "        vertical-align: middle;\n",
              "    }\n",
              "\n",
              "    .dataframe tbody tr th {\n",
              "        vertical-align: top;\n",
              "    }\n",
              "\n",
              "    .dataframe thead th {\n",
              "        text-align: right;\n",
              "    }\n",
              "</style>\n",
              "<table border=\"1\" class=\"dataframe\">\n",
              "  <thead>\n",
              "    <tr style=\"text-align: right;\">\n",
              "      <th></th>\n",
              "      <th>lpc</th>\n",
              "      <th>cpc</th>\n",
              "      <th>ndp</th>\n",
              "      <th>bq</th>\n",
              "      <th>gpc</th>\n",
              "      <th>ppc</th>\n",
              "    </tr>\n",
              "    <tr>\n",
              "      <th>date</th>\n",
              "      <th></th>\n",
              "      <th></th>\n",
              "      <th></th>\n",
              "      <th></th>\n",
              "      <th></th>\n",
              "      <th></th>\n",
              "    </tr>\n",
              "  </thead>\n",
              "  <tbody>\n",
              "    <tr>\n",
              "      <th>2019-09-11</th>\n",
              "      <td>32.0</td>\n",
              "      <td>35.0</td>\n",
              "      <td>15.0</td>\n",
              "      <td>6.0</td>\n",
              "      <td>8.0</td>\n",
              "      <td>2.0</td>\n",
              "    </tr>\n",
              "    <tr>\n",
              "      <th>2019-09-11</th>\n",
              "      <td>32.4</td>\n",
              "      <td>36.3</td>\n",
              "      <td>8.6</td>\n",
              "      <td>4.1</td>\n",
              "      <td>11.6</td>\n",
              "      <td>4.9</td>\n",
              "    </tr>\n",
              "    <tr>\n",
              "      <th>2019-09-13</th>\n",
              "      <td>35.0</td>\n",
              "      <td>35.0</td>\n",
              "      <td>14.0</td>\n",
              "      <td>4.0</td>\n",
              "      <td>9.0</td>\n",
              "      <td>2.0</td>\n",
              "    </tr>\n",
              "    <tr>\n",
              "      <th>2019-09-13</th>\n",
              "      <td>35.4</td>\n",
              "      <td>32.8</td>\n",
              "      <td>15.7</td>\n",
              "      <td>3.6</td>\n",
              "      <td>9.5</td>\n",
              "      <td>2.4</td>\n",
              "    </tr>\n",
              "    <tr>\n",
              "      <th>2019-09-14</th>\n",
              "      <td>35.2</td>\n",
              "      <td>32.3</td>\n",
              "      <td>16.6</td>\n",
              "      <td>3.8</td>\n",
              "      <td>9.6</td>\n",
              "      <td>2.0</td>\n",
              "    </tr>\n",
              "    <tr>\n",
              "      <th>...</th>\n",
              "      <td>...</td>\n",
              "      <td>...</td>\n",
              "      <td>...</td>\n",
              "      <td>...</td>\n",
              "      <td>...</td>\n",
              "      <td>...</td>\n",
              "    </tr>\n",
              "    <tr>\n",
              "      <th>2019-10-20</th>\n",
              "      <td>31.4</td>\n",
              "      <td>31.3</td>\n",
              "      <td>17.8</td>\n",
              "      <td>6.6</td>\n",
              "      <td>9.1</td>\n",
              "      <td>2.7</td>\n",
              "    </tr>\n",
              "    <tr>\n",
              "      <th>2019-10-20</th>\n",
              "      <td>34.2</td>\n",
              "      <td>30.0</td>\n",
              "      <td>18.3</td>\n",
              "      <td>5.0</td>\n",
              "      <td>8.1</td>\n",
              "      <td>3.5</td>\n",
              "    </tr>\n",
              "    <tr>\n",
              "      <th>2019-10-20</th>\n",
              "      <td>31.6</td>\n",
              "      <td>32.2</td>\n",
              "      <td>18.3</td>\n",
              "      <td>7.9</td>\n",
              "      <td>6.1</td>\n",
              "      <td>2.8</td>\n",
              "    </tr>\n",
              "    <tr>\n",
              "      <th>2019-10-20</th>\n",
              "      <td>31.7</td>\n",
              "      <td>32.5</td>\n",
              "      <td>20.8</td>\n",
              "      <td>7.2</td>\n",
              "      <td>6.0</td>\n",
              "      <td>1.5</td>\n",
              "    </tr>\n",
              "    <tr>\n",
              "      <th>2019-10-20</th>\n",
              "      <td>32.0</td>\n",
              "      <td>31.0</td>\n",
              "      <td>19.0</td>\n",
              "      <td>7.0</td>\n",
              "      <td>8.0</td>\n",
              "      <td>2.0</td>\n",
              "    </tr>\n",
              "  </tbody>\n",
              "</table>\n",
              "<p>117 rows × 6 columns</p>\n",
              "</div>"
            ],
            "text/plain": [
              "             lpc   cpc   ndp   bq   gpc  ppc\n",
              "date                                        \n",
              "2019-09-11  32.0  35.0  15.0  6.0   8.0  2.0\n",
              "2019-09-11  32.4  36.3   8.6  4.1  11.6  4.9\n",
              "2019-09-13  35.0  35.0  14.0  4.0   9.0  2.0\n",
              "2019-09-13  35.4  32.8  15.7  3.6   9.5  2.4\n",
              "2019-09-14  35.2  32.3  16.6  3.8   9.6  2.0\n",
              "...          ...   ...   ...  ...   ...  ...\n",
              "2019-10-20  31.4  31.3  17.8  6.6   9.1  2.7\n",
              "2019-10-20  34.2  30.0  18.3  5.0   8.1  3.5\n",
              "2019-10-20  31.6  32.2  18.3  7.9   6.1  2.8\n",
              "2019-10-20  31.7  32.5  20.8  7.2   6.0  1.5\n",
              "2019-10-20  32.0  31.0  19.0  7.0   8.0  2.0\n",
              "\n",
              "[117 rows x 6 columns]"
            ]
          },
          "metadata": {
            "tags": []
          },
          "execution_count": 77
        }
      ]
    },
    {
      "cell_type": "code",
      "metadata": {
        "id": "iXkeJ4CE7ggt",
        "colab_type": "code",
        "outputId": "c9b9102f-005b-486a-f397-916dc359bd6c",
        "colab": {
          "base_uri": "https://localhost:8080/",
          "height": 275
        }
      },
      "source": [
        "# We can aggregate/resample the data\n",
        "df[parties].resample('D', how='mean').head()\n"
      ],
      "execution_count": 78,
      "outputs": [
        {
          "output_type": "stream",
          "text": [
            "/usr/local/lib/python3.6/dist-packages/ipykernel_launcher.py:1: FutureWarning: how in .resample() is deprecated\n",
            "the new syntax is .resample(...).mean()\n",
            "  \"\"\"Entry point for launching an IPython kernel.\n"
          ],
          "name": "stderr"
        },
        {
          "output_type": "execute_result",
          "data": {
            "text/html": [
              "<div>\n",
              "<style scoped>\n",
              "    .dataframe tbody tr th:only-of-type {\n",
              "        vertical-align: middle;\n",
              "    }\n",
              "\n",
              "    .dataframe tbody tr th {\n",
              "        vertical-align: top;\n",
              "    }\n",
              "\n",
              "    .dataframe thead th {\n",
              "        text-align: right;\n",
              "    }\n",
              "</style>\n",
              "<table border=\"1\" class=\"dataframe\">\n",
              "  <thead>\n",
              "    <tr style=\"text-align: right;\">\n",
              "      <th></th>\n",
              "      <th>lpc</th>\n",
              "      <th>cpc</th>\n",
              "      <th>ndp</th>\n",
              "      <th>bq</th>\n",
              "      <th>gpc</th>\n",
              "      <th>ppc</th>\n",
              "    </tr>\n",
              "    <tr>\n",
              "      <th>date</th>\n",
              "      <th></th>\n",
              "      <th></th>\n",
              "      <th></th>\n",
              "      <th></th>\n",
              "      <th></th>\n",
              "      <th></th>\n",
              "    </tr>\n",
              "  </thead>\n",
              "  <tbody>\n",
              "    <tr>\n",
              "      <th>2019-09-11</th>\n",
              "      <td>32.200000</td>\n",
              "      <td>35.65</td>\n",
              "      <td>11.800000</td>\n",
              "      <td>5.050000</td>\n",
              "      <td>9.800000</td>\n",
              "      <td>3.450000</td>\n",
              "    </tr>\n",
              "    <tr>\n",
              "      <th>2019-09-12</th>\n",
              "      <td>NaN</td>\n",
              "      <td>NaN</td>\n",
              "      <td>NaN</td>\n",
              "      <td>NaN</td>\n",
              "      <td>NaN</td>\n",
              "      <td>NaN</td>\n",
              "    </tr>\n",
              "    <tr>\n",
              "      <th>2019-09-13</th>\n",
              "      <td>35.200000</td>\n",
              "      <td>33.90</td>\n",
              "      <td>14.850000</td>\n",
              "      <td>3.800000</td>\n",
              "      <td>9.250000</td>\n",
              "      <td>2.200000</td>\n",
              "    </tr>\n",
              "    <tr>\n",
              "      <th>2019-09-14</th>\n",
              "      <td>35.200000</td>\n",
              "      <td>32.30</td>\n",
              "      <td>16.600000</td>\n",
              "      <td>3.800000</td>\n",
              "      <td>9.600000</td>\n",
              "      <td>2.000000</td>\n",
              "    </tr>\n",
              "    <tr>\n",
              "      <th>2019-09-15</th>\n",
              "      <td>35.166667</td>\n",
              "      <td>33.80</td>\n",
              "      <td>13.333333</td>\n",
              "      <td>4.233333</td>\n",
              "      <td>9.566667</td>\n",
              "      <td>3.266667</td>\n",
              "    </tr>\n",
              "  </tbody>\n",
              "</table>\n",
              "</div>"
            ],
            "text/plain": [
              "                  lpc    cpc        ndp        bq       gpc       ppc\n",
              "date                                                                 \n",
              "2019-09-11  32.200000  35.65  11.800000  5.050000  9.800000  3.450000\n",
              "2019-09-12        NaN    NaN        NaN       NaN       NaN       NaN\n",
              "2019-09-13  35.200000  33.90  14.850000  3.800000  9.250000  2.200000\n",
              "2019-09-14  35.200000  32.30  16.600000  3.800000  9.600000  2.000000\n",
              "2019-09-15  35.166667  33.80  13.333333  4.233333  9.566667  3.266667"
            ]
          },
          "metadata": {
            "tags": []
          },
          "execution_count": 78
        }
      ]
    },
    {
      "cell_type": "code",
      "metadata": {
        "id": "KnKK-ba07g-E",
        "colab_type": "code",
        "outputId": "8cdc7919-3f3c-4288-c02b-d91003727490",
        "colab": {
          "base_uri": "https://localhost:8080/",
          "height": 436
        }
      },
      "source": [
        "# We can also use pandas to plot\n",
        "df[parties].resample('D', how='mean').plot()\n"
      ],
      "execution_count": 79,
      "outputs": [
        {
          "output_type": "stream",
          "text": [
            "/usr/local/lib/python3.6/dist-packages/ipykernel_launcher.py:1: FutureWarning: how in .resample() is deprecated\n",
            "the new syntax is .resample(...).mean()\n",
            "  \"\"\"Entry point for launching an IPython kernel.\n"
          ],
          "name": "stderr"
        },
        {
          "output_type": "execute_result",
          "data": {
            "text/plain": [
              "<matplotlib.axes._subplots.AxesSubplot at 0x7f1393dad550>"
            ]
          },
          "metadata": {
            "tags": []
          },
          "execution_count": 79
        },
        {
          "output_type": "display_data",
          "data": {
            "image/png": "[encoded data removed]",
            "text/plain": [
              "<Figure size 720x360 with 1 Axes>"
            ]
          },
          "metadata": {
            "tags": []
          }
        }
      ]
    },
    {
      "cell_type": "code",
      "metadata": {
        "id": "8gJjUSkR7hYj",
        "colab_type": "code",
        "outputId": "1d6261d5-83b6-426a-db3d-3acb01cb1f4d",
        "colab": {
          "base_uri": "https://localhost:8080/",
          "height": 337
        }
      },
      "source": [
        "# We can look at the distributions for each party\n",
        "df[parties].plot(kind='kde')\n"
      ],
      "execution_count": 80,
      "outputs": [
        {
          "output_type": "execute_result",
          "data": {
            "text/plain": [
              "<matplotlib.axes._subplots.AxesSubplot at 0x7f13925897b8>"
            ]
          },
          "metadata": {
            "tags": []
          },
          "execution_count": 80
        },
        {
          "output_type": "display_data",
          "data": {
            "image/png": "[encoded data removed]",
            "text/plain": [
              "<Figure size 720x360 with 1 Axes>"
            ]
          },
          "metadata": {
            "tags": []
          }
        }
      ]
    },
    {
      "cell_type": "code",
      "metadata": {
        "id": "f4_ZrItD7iDm",
        "colab_type": "code",
        "outputId": "6a41e8e6-6414-445b-fdbe-958b9d7597cc",
        "colab": {
          "base_uri": "https://localhost:8080/",
          "height": 337
        }
      },
      "source": [
        "# Or do a simple box-plot\n",
        "df[parties].boxplot()\n"
      ],
      "execution_count": 81,
      "outputs": [
        {
          "output_type": "execute_result",
          "data": {
            "text/plain": [
              "<matplotlib.axes._subplots.AxesSubplot at 0x7f138388c710>"
            ]
          },
          "metadata": {
            "tags": []
          },
          "execution_count": 81
        },
        {
          "output_type": "display_data",
          "data": {
            "image/png": "[encoded data removed]",
            "text/plain": [
              "<Figure size 720x360 with 1 Axes>"
            ]
          },
          "metadata": {
            "tags": []
          }
        }
      ]
    },
    {
      "cell_type": "code",
      "metadata": {
        "id": "DZykjhTV7iei",
        "colab_type": "code",
        "outputId": "1e68830b-9cde-4b0c-b46c-0ba13f197c80",
        "colab": {
          "base_uri": "https://localhost:8080/",
          "height": 168
        }
      },
      "source": [
        "# Let's look at missing values\n",
        "df.isnull().mean()\n"
      ],
      "execution_count": 82,
      "outputs": [
        {
          "output_type": "execute_result",
          "data": {
            "text/plain": [
              "source    0.000000\n",
              "lpc       0.000000\n",
              "cpc       0.000000\n",
              "ndp       0.008547\n",
              "bq        0.008547\n",
              "gpc       0.008547\n",
              "ppc       0.017094\n",
              "method    0.000000\n",
              "dtype: float64"
            ]
          },
          "metadata": {
            "tags": []
          },
          "execution_count": 82
        }
      ]
    },
    {
      "cell_type": "code",
      "metadata": {
        "id": "PvyYBoaa7i72",
        "colab_type": "code",
        "outputId": "26b29f79-7039-4d68-aba2-60b3616919e1",
        "colab": {
          "base_uri": "https://localhost:8080/",
          "height": 431
        }
      },
      "source": [
        "# We can remove missing values\n",
        "df.dropna()\n"
      ],
      "execution_count": 83,
      "outputs": [
        {
          "output_type": "execute_result",
          "data": {
            "text/html": [
              "<div>\n",
              "<style scoped>\n",
              "    .dataframe tbody tr th:only-of-type {\n",
              "        vertical-align: middle;\n",
              "    }\n",
              "\n",
              "    .dataframe tbody tr th {\n",
              "        vertical-align: top;\n",
              "    }\n",
              "\n",
              "    .dataframe thead th {\n",
              "        text-align: right;\n",
              "    }\n",
              "</style>\n",
              "<table border=\"1\" class=\"dataframe\">\n",
              "  <thead>\n",
              "    <tr style=\"text-align: right;\">\n",
              "      <th></th>\n",
              "      <th>source</th>\n",
              "      <th>lpc</th>\n",
              "      <th>cpc</th>\n",
              "      <th>ndp</th>\n",
              "      <th>bq</th>\n",
              "      <th>gpc</th>\n",
              "      <th>ppc</th>\n",
              "      <th>method</th>\n",
              "    </tr>\n",
              "    <tr>\n",
              "      <th>date</th>\n",
              "      <th></th>\n",
              "      <th></th>\n",
              "      <th></th>\n",
              "      <th></th>\n",
              "      <th></th>\n",
              "      <th></th>\n",
              "      <th></th>\n",
              "      <th></th>\n",
              "    </tr>\n",
              "  </thead>\n",
              "  <tbody>\n",
              "    <tr>\n",
              "      <th>2019-09-11</th>\n",
              "      <td>DART/Maru</td>\n",
              "      <td>32.0</td>\n",
              "      <td>35.0</td>\n",
              "      <td>15.0</td>\n",
              "      <td>6.0</td>\n",
              "      <td>8.0</td>\n",
              "      <td>2.0</td>\n",
              "      <td>online</td>\n",
              "    </tr>\n",
              "    <tr>\n",
              "      <th>2019-09-11</th>\n",
              "      <td>Forum Research</td>\n",
              "      <td>32.4</td>\n",
              "      <td>36.3</td>\n",
              "      <td>8.6</td>\n",
              "      <td>4.1</td>\n",
              "      <td>11.6</td>\n",
              "      <td>4.9</td>\n",
              "      <td>IVR</td>\n",
              "    </tr>\n",
              "    <tr>\n",
              "      <th>2019-09-13</th>\n",
              "      <td>Ipsos</td>\n",
              "      <td>35.0</td>\n",
              "      <td>35.0</td>\n",
              "      <td>14.0</td>\n",
              "      <td>4.0</td>\n",
              "      <td>9.0</td>\n",
              "      <td>2.0</td>\n",
              "      <td>online/telephone</td>\n",
              "    </tr>\n",
              "    <tr>\n",
              "      <th>2019-09-13</th>\n",
              "      <td>Nanos Research</td>\n",
              "      <td>35.4</td>\n",
              "      <td>32.8</td>\n",
              "      <td>15.7</td>\n",
              "      <td>3.6</td>\n",
              "      <td>9.5</td>\n",
              "      <td>2.4</td>\n",
              "      <td>telephone (rolling)</td>\n",
              "    </tr>\n",
              "    <tr>\n",
              "      <th>2019-09-14</th>\n",
              "      <td>Nanos Research</td>\n",
              "      <td>35.2</td>\n",
              "      <td>32.3</td>\n",
              "      <td>16.6</td>\n",
              "      <td>3.8</td>\n",
              "      <td>9.6</td>\n",
              "      <td>2.0</td>\n",
              "      <td>telephone (rolling)</td>\n",
              "    </tr>\n",
              "    <tr>\n",
              "      <th>...</th>\n",
              "      <td>...</td>\n",
              "      <td>...</td>\n",
              "      <td>...</td>\n",
              "      <td>...</td>\n",
              "      <td>...</td>\n",
              "      <td>...</td>\n",
              "      <td>...</td>\n",
              "      <td>...</td>\n",
              "    </tr>\n",
              "    <tr>\n",
              "      <th>2019-10-20</th>\n",
              "      <td>Campaign Research</td>\n",
              "      <td>31.4</td>\n",
              "      <td>31.3</td>\n",
              "      <td>17.8</td>\n",
              "      <td>6.6</td>\n",
              "      <td>9.1</td>\n",
              "      <td>2.7</td>\n",
              "      <td>online (rolling)</td>\n",
              "    </tr>\n",
              "    <tr>\n",
              "      <th>2019-10-20</th>\n",
              "      <td>EKOS</td>\n",
              "      <td>34.2</td>\n",
              "      <td>30.0</td>\n",
              "      <td>18.3</td>\n",
              "      <td>5.0</td>\n",
              "      <td>8.1</td>\n",
              "      <td>3.5</td>\n",
              "      <td>telephone/IVR</td>\n",
              "    </tr>\n",
              "    <tr>\n",
              "      <th>2019-10-20</th>\n",
              "      <td>Mainstreet Research</td>\n",
              "      <td>31.6</td>\n",
              "      <td>32.2</td>\n",
              "      <td>18.3</td>\n",
              "      <td>7.9</td>\n",
              "      <td>6.1</td>\n",
              "      <td>2.8</td>\n",
              "      <td>IVR</td>\n",
              "    </tr>\n",
              "    <tr>\n",
              "      <th>2019-10-20</th>\n",
              "      <td>Nanos Research</td>\n",
              "      <td>31.7</td>\n",
              "      <td>32.5</td>\n",
              "      <td>20.8</td>\n",
              "      <td>7.2</td>\n",
              "      <td>6.0</td>\n",
              "      <td>1.5</td>\n",
              "      <td>telephone</td>\n",
              "    </tr>\n",
              "    <tr>\n",
              "      <th>2019-10-20</th>\n",
              "      <td>Research Co.</td>\n",
              "      <td>32.0</td>\n",
              "      <td>31.0</td>\n",
              "      <td>19.0</td>\n",
              "      <td>7.0</td>\n",
              "      <td>8.0</td>\n",
              "      <td>2.0</td>\n",
              "      <td>online</td>\n",
              "    </tr>\n",
              "  </tbody>\n",
              "</table>\n",
              "<p>115 rows × 8 columns</p>\n",
              "</div>"
            ],
            "text/plain": [
              "                         source   lpc   cpc  ...   gpc  ppc               method\n",
              "date                                         ...                                \n",
              "2019-09-11            DART/Maru  32.0  35.0  ...   8.0  2.0               online\n",
              "2019-09-11       Forum Research  32.4  36.3  ...  11.6  4.9                  IVR\n",
              "2019-09-13                Ipsos  35.0  35.0  ...   9.0  2.0     online/telephone\n",
              "2019-09-13       Nanos Research  35.4  32.8  ...   9.5  2.4  telephone (rolling)\n",
              "2019-09-14       Nanos Research  35.2  32.3  ...   9.6  2.0  telephone (rolling)\n",
              "...                         ...   ...   ...  ...   ...  ...                  ...\n",
              "2019-10-20    Campaign Research  31.4  31.3  ...   9.1  2.7     online (rolling)\n",
              "2019-10-20                 EKOS  34.2  30.0  ...   8.1  3.5        telephone/IVR\n",
              "2019-10-20  Mainstreet Research  31.6  32.2  ...   6.1  2.8                  IVR\n",
              "2019-10-20       Nanos Research  31.7  32.5  ...   6.0  1.5            telephone\n",
              "2019-10-20         Research Co.  32.0  31.0  ...   8.0  2.0               online\n",
              "\n",
              "[115 rows x 8 columns]"
            ]
          },
          "metadata": {
            "tags": []
          },
          "execution_count": 83
        }
      ]
    },
    {
      "cell_type": "code",
      "metadata": {
        "id": "V4IlZuOX7jou",
        "colab_type": "code",
        "colab": {}
      },
      "source": [
        "# We just lost half of our dataset...\n",
        "# Maybe we should fill the missing values\n",
        "tmp_df = df.fillna(method='ffill', limit=3).copy()\n",
        "tmp_df.isnull().mean()\n",
        "\n",
        "df = tmp_df\n"
      ],
      "execution_count": 0,
      "outputs": []
    },
    {
      "cell_type": "code",
      "metadata": {
        "id": "xu5b5Dtx7kTu",
        "colab_type": "code",
        "outputId": "a8e9f50b-3e02-4dbc-d3c2-93fe88506060",
        "colab": {
          "base_uri": "https://localhost:8080/",
          "height": 235
        }
      },
      "source": [
        "# Let's investigate which polling firms have released the most polls\n",
        "df.source.value_counts()\n"
      ],
      "execution_count": 85,
      "outputs": [
        {
          "output_type": "execute_result",
          "data": {
            "text/plain": [
              "Nanos Research         37\n",
              "Mainstreet Research    29\n",
              "Innovative Research     7\n",
              "Forum Research          6\n",
              "Ipsos                   6\n",
              "EKOS                    6\n",
              "Abacus Data             5\n",
              "Angus Reid              5\n",
              "Leger                   5\n",
              "Campaign Research       5\n",
              "DART/Maru               4\n",
              "Research Co.            2\n",
              "Name: source, dtype: int64"
            ]
          },
          "metadata": {
            "tags": []
          },
          "execution_count": 85
        }
      ]
    },
    {
      "cell_type": "code",
      "metadata": {
        "id": "bLZIK8ik7k-g",
        "colab_type": "code",
        "colab": {}
      },
      "source": [
        "# Let's remove the firms that released less than 5 polls\n",
        "tmp_mask = df.source.value_counts() >= 5\n",
        "mask = tmp_mask.index[tmp_mask]\n",
        "\n",
        "df = df[df.source.isin(mask)]\n"
      ],
      "execution_count": 0,
      "outputs": []
    },
    {
      "cell_type": "code",
      "metadata": {
        "id": "_Hn75nR57ll_",
        "colab_type": "code",
        "outputId": "19539fd7-1085-4251-87c8-4bfa9fa7c12a",
        "colab": {
          "base_uri": "https://localhost:8080/",
          "height": 337
        }
      },
      "source": [
        "# Once again we could decide to visualize directly the result\n",
        "df.source.value_counts().plot(kind='barh')\n"
      ],
      "execution_count": 87,
      "outputs": [
        {
          "output_type": "execute_result",
          "data": {
            "text/plain": [
              "<matplotlib.axes._subplots.AxesSubplot at 0x7f138376a400>"
            ]
          },
          "metadata": {
            "tags": []
          },
          "execution_count": 87
        },
        {
          "output_type": "display_data",
          "data": {
            "image/png": "[encoded data removed]",
            "text/plain": [
              "<Figure size 720x360 with 1 Axes>"
            ]
          },
          "metadata": {
            "tags": []
          }
        }
      ]
    },
    {
      "cell_type": "code",
      "metadata": {
        "id": "e8f6prY87mPR",
        "colab_type": "code",
        "outputId": "f00886ee-e36a-44d9-c1d7-191a7f352e04",
        "colab": {
          "base_uri": "https://localhost:8080/",
          "height": 373
        }
      },
      "source": [
        "# Let's try to do grouped operations and see how did each of these firms portrayed the liberal party\n",
        "\n",
        "df.groupby('source').lpc.describe().sort_values(by='mean')\n"
      ],
      "execution_count": 88,
      "outputs": [
        {
          "output_type": "execute_result",
          "data": {
            "text/html": [
              "<div>\n",
              "<style scoped>\n",
              "    .dataframe tbody tr th:only-of-type {\n",
              "        vertical-align: middle;\n",
              "    }\n",
              "\n",
              "    .dataframe tbody tr th {\n",
              "        vertical-align: top;\n",
              "    }\n",
              "\n",
              "    .dataframe thead th {\n",
              "        text-align: right;\n",
              "    }\n",
              "</style>\n",
              "<table border=\"1\" class=\"dataframe\">\n",
              "  <thead>\n",
              "    <tr style=\"text-align: right;\">\n",
              "      <th></th>\n",
              "      <th>count</th>\n",
              "      <th>mean</th>\n",
              "      <th>std</th>\n",
              "      <th>min</th>\n",
              "      <th>25%</th>\n",
              "      <th>50%</th>\n",
              "      <th>75%</th>\n",
              "      <th>max</th>\n",
              "    </tr>\n",
              "    <tr>\n",
              "      <th>source</th>\n",
              "      <th></th>\n",
              "      <th></th>\n",
              "      <th></th>\n",
              "      <th></th>\n",
              "      <th></th>\n",
              "      <th></th>\n",
              "      <th></th>\n",
              "      <th></th>\n",
              "    </tr>\n",
              "  </thead>\n",
              "  <tbody>\n",
              "    <tr>\n",
              "      <th>Angus Reid</th>\n",
              "      <td>5.0</td>\n",
              "      <td>30.200000</td>\n",
              "      <td>1.643168</td>\n",
              "      <td>29.0</td>\n",
              "      <td>29.000</td>\n",
              "      <td>30.00</td>\n",
              "      <td>30.00</td>\n",
              "      <td>33.0</td>\n",
              "    </tr>\n",
              "    <tr>\n",
              "      <th>Campaign Research</th>\n",
              "      <td>5.0</td>\n",
              "      <td>31.020000</td>\n",
              "      <td>1.188276</td>\n",
              "      <td>29.0</td>\n",
              "      <td>31.000</td>\n",
              "      <td>31.40</td>\n",
              "      <td>31.70</td>\n",
              "      <td>32.0</td>\n",
              "    </tr>\n",
              "    <tr>\n",
              "      <th>Forum Research</th>\n",
              "      <td>6.0</td>\n",
              "      <td>31.516667</td>\n",
              "      <td>2.183957</td>\n",
              "      <td>28.0</td>\n",
              "      <td>30.425</td>\n",
              "      <td>32.05</td>\n",
              "      <td>32.85</td>\n",
              "      <td>34.0</td>\n",
              "    </tr>\n",
              "    <tr>\n",
              "      <th>EKOS</th>\n",
              "      <td>6.0</td>\n",
              "      <td>32.050000</td>\n",
              "      <td>1.461164</td>\n",
              "      <td>30.5</td>\n",
              "      <td>31.050</td>\n",
              "      <td>31.60</td>\n",
              "      <td>33.05</td>\n",
              "      <td>34.2</td>\n",
              "    </tr>\n",
              "    <tr>\n",
              "      <th>Ipsos</th>\n",
              "      <td>6.0</td>\n",
              "      <td>32.833333</td>\n",
              "      <td>2.136976</td>\n",
              "      <td>30.0</td>\n",
              "      <td>31.250</td>\n",
              "      <td>33.00</td>\n",
              "      <td>34.75</td>\n",
              "      <td>35.0</td>\n",
              "    </tr>\n",
              "    <tr>\n",
              "      <th>Leger</th>\n",
              "      <td>5.0</td>\n",
              "      <td>33.200000</td>\n",
              "      <td>1.303840</td>\n",
              "      <td>31.0</td>\n",
              "      <td>33.000</td>\n",
              "      <td>34.00</td>\n",
              "      <td>34.00</td>\n",
              "      <td>34.0</td>\n",
              "    </tr>\n",
              "    <tr>\n",
              "      <th>Mainstreet Research</th>\n",
              "      <td>29.0</td>\n",
              "      <td>33.389655</td>\n",
              "      <td>2.101589</td>\n",
              "      <td>28.9</td>\n",
              "      <td>31.900</td>\n",
              "      <td>33.40</td>\n",
              "      <td>34.40</td>\n",
              "      <td>37.2</td>\n",
              "    </tr>\n",
              "    <tr>\n",
              "      <th>Abacus Data</th>\n",
              "      <td>5.0</td>\n",
              "      <td>33.600000</td>\n",
              "      <td>1.516575</td>\n",
              "      <td>32.0</td>\n",
              "      <td>32.000</td>\n",
              "      <td>34.00</td>\n",
              "      <td>35.00</td>\n",
              "      <td>35.0</td>\n",
              "    </tr>\n",
              "    <tr>\n",
              "      <th>Nanos Research</th>\n",
              "      <td>37.0</td>\n",
              "      <td>33.859459</td>\n",
              "      <td>1.685141</td>\n",
              "      <td>31.0</td>\n",
              "      <td>32.500</td>\n",
              "      <td>34.20</td>\n",
              "      <td>35.30</td>\n",
              "      <td>36.9</td>\n",
              "    </tr>\n",
              "    <tr>\n",
              "      <th>Innovative Research</th>\n",
              "      <td>7.0</td>\n",
              "      <td>34.571429</td>\n",
              "      <td>0.786796</td>\n",
              "      <td>33.0</td>\n",
              "      <td>34.500</td>\n",
              "      <td>35.00</td>\n",
              "      <td>35.00</td>\n",
              "      <td>35.0</td>\n",
              "    </tr>\n",
              "  </tbody>\n",
              "</table>\n",
              "</div>"
            ],
            "text/plain": [
              "                     count       mean       std  ...    50%    75%   max\n",
              "source                                           ...                    \n",
              "Angus Reid             5.0  30.200000  1.643168  ...  30.00  30.00  33.0\n",
              "Campaign Research      5.0  31.020000  1.188276  ...  31.40  31.70  32.0\n",
              "Forum Research         6.0  31.516667  2.183957  ...  32.05  32.85  34.0\n",
              "EKOS                   6.0  32.050000  1.461164  ...  31.60  33.05  34.2\n",
              "Ipsos                  6.0  32.833333  2.136976  ...  33.00  34.75  35.0\n",
              "Leger                  5.0  33.200000  1.303840  ...  34.00  34.00  34.0\n",
              "Mainstreet Research   29.0  33.389655  2.101589  ...  33.40  34.40  37.2\n",
              "Abacus Data            5.0  33.600000  1.516575  ...  34.00  35.00  35.0\n",
              "Nanos Research        37.0  33.859459  1.685141  ...  34.20  35.30  36.9\n",
              "Innovative Research    7.0  34.571429  0.786796  ...  35.00  35.00  35.0\n",
              "\n",
              "[10 rows x 8 columns]"
            ]
          },
          "metadata": {
            "tags": []
          },
          "execution_count": 88
        }
      ]
    },
    {
      "cell_type": "code",
      "metadata": {
        "id": "LFhQ0vrt7mvU",
        "colab_type": "code",
        "outputId": "b8e93d96-71c7-436b-9f88-eb9e45f8ea85",
        "colab": {
          "base_uri": "https://localhost:8080/",
          "height": 373
        }
      },
      "source": [
        "# We can also look at the means for all the parties\n",
        "df.groupby('source')[parties].mean().sort_values('lpc')\n"
      ],
      "execution_count": 89,
      "outputs": [
        {
          "output_type": "execute_result",
          "data": {
            "text/html": [
              "<div>\n",
              "<style scoped>\n",
              "    .dataframe tbody tr th:only-of-type {\n",
              "        vertical-align: middle;\n",
              "    }\n",
              "\n",
              "    .dataframe tbody tr th {\n",
              "        vertical-align: top;\n",
              "    }\n",
              "\n",
              "    .dataframe thead th {\n",
              "        text-align: right;\n",
              "    }\n",
              "</style>\n",
              "<table border=\"1\" class=\"dataframe\">\n",
              "  <thead>\n",
              "    <tr style=\"text-align: right;\">\n",
              "      <th></th>\n",
              "      <th>lpc</th>\n",
              "      <th>cpc</th>\n",
              "      <th>ndp</th>\n",
              "      <th>bq</th>\n",
              "      <th>gpc</th>\n",
              "      <th>ppc</th>\n",
              "    </tr>\n",
              "    <tr>\n",
              "      <th>source</th>\n",
              "      <th></th>\n",
              "      <th></th>\n",
              "      <th></th>\n",
              "      <th></th>\n",
              "      <th></th>\n",
              "      <th></th>\n",
              "    </tr>\n",
              "  </thead>\n",
              "  <tbody>\n",
              "    <tr>\n",
              "      <th>Angus Reid</th>\n",
              "      <td>30.200000</td>\n",
              "      <td>35.000000</td>\n",
              "      <td>15.600000</td>\n",
              "      <td>6.600000</td>\n",
              "      <td>9.000000</td>\n",
              "      <td>3.200000</td>\n",
              "    </tr>\n",
              "    <tr>\n",
              "      <th>Campaign Research</th>\n",
              "      <td>31.020000</td>\n",
              "      <td>31.740000</td>\n",
              "      <td>17.240000</td>\n",
              "      <td>6.440000</td>\n",
              "      <td>9.640000</td>\n",
              "      <td>2.880000</td>\n",
              "    </tr>\n",
              "    <tr>\n",
              "      <th>Forum Research</th>\n",
              "      <td>31.516667</td>\n",
              "      <td>32.366667</td>\n",
              "      <td>13.683333</td>\n",
              "      <td>6.516667</td>\n",
              "      <td>10.483333</td>\n",
              "      <td>3.983333</td>\n",
              "    </tr>\n",
              "    <tr>\n",
              "      <th>EKOS</th>\n",
              "      <td>32.050000</td>\n",
              "      <td>32.066667</td>\n",
              "      <td>14.950000</td>\n",
              "      <td>5.033333</td>\n",
              "      <td>9.883333</td>\n",
              "      <td>4.066667</td>\n",
              "    </tr>\n",
              "    <tr>\n",
              "      <th>Ipsos</th>\n",
              "      <td>32.833333</td>\n",
              "      <td>34.500000</td>\n",
              "      <td>16.166667</td>\n",
              "      <td>5.666667</td>\n",
              "      <td>8.000000</td>\n",
              "      <td>2.166667</td>\n",
              "    </tr>\n",
              "    <tr>\n",
              "      <th>Leger</th>\n",
              "      <td>33.200000</td>\n",
              "      <td>32.800000</td>\n",
              "      <td>15.000000</td>\n",
              "      <td>6.000000</td>\n",
              "      <td>10.000000</td>\n",
              "      <td>3.000000</td>\n",
              "    </tr>\n",
              "    <tr>\n",
              "      <th>Mainstreet Research</th>\n",
              "      <td>33.389655</td>\n",
              "      <td>33.803448</td>\n",
              "      <td>13.224138</td>\n",
              "      <td>6.031034</td>\n",
              "      <td>9.148276</td>\n",
              "      <td>3.351724</td>\n",
              "    </tr>\n",
              "    <tr>\n",
              "      <th>Abacus Data</th>\n",
              "      <td>33.600000</td>\n",
              "      <td>32.800000</td>\n",
              "      <td>16.000000</td>\n",
              "      <td>5.600000</td>\n",
              "      <td>9.000000</td>\n",
              "      <td>2.000000</td>\n",
              "    </tr>\n",
              "    <tr>\n",
              "      <th>Nanos Research</th>\n",
              "      <td>33.859459</td>\n",
              "      <td>33.862162</td>\n",
              "      <td>15.413514</td>\n",
              "      <td>5.175676</td>\n",
              "      <td>9.302703</td>\n",
              "      <td>1.840541</td>\n",
              "    </tr>\n",
              "    <tr>\n",
              "      <th>Innovative Research</th>\n",
              "      <td>34.571429</td>\n",
              "      <td>31.714286</td>\n",
              "      <td>14.428571</td>\n",
              "      <td>5.714286</td>\n",
              "      <td>9.571429</td>\n",
              "      <td>3.714286</td>\n",
              "    </tr>\n",
              "  </tbody>\n",
              "</table>\n",
              "</div>"
            ],
            "text/plain": [
              "                           lpc        cpc  ...        gpc       ppc\n",
              "source                                     ...                     \n",
              "Angus Reid           30.200000  35.000000  ...   9.000000  3.200000\n",
              "Campaign Research    31.020000  31.740000  ...   9.640000  2.880000\n",
              "Forum Research       31.516667  32.366667  ...  10.483333  3.983333\n",
              "EKOS                 32.050000  32.066667  ...   9.883333  4.066667\n",
              "Ipsos                32.833333  34.500000  ...   8.000000  2.166667\n",
              "Leger                33.200000  32.800000  ...  10.000000  3.000000\n",
              "Mainstreet Research  33.389655  33.803448  ...   9.148276  3.351724\n",
              "Abacus Data          33.600000  32.800000  ...   9.000000  2.000000\n",
              "Nanos Research       33.859459  33.862162  ...   9.302703  1.840541\n",
              "Innovative Research  34.571429  31.714286  ...   9.571429  3.714286\n",
              "\n",
              "[10 rows x 6 columns]"
            ]
          },
          "metadata": {
            "tags": []
          },
          "execution_count": 89
        }
      ]
    },
    {
      "cell_type": "code",
      "metadata": {
        "id": "uXft9CUK7nZ_",
        "colab_type": "code",
        "outputId": "239b2995-fea6-4623-9ec4-92bce356a400",
        "colab": {
          "base_uri": "https://localhost:8080/",
          "height": 195
        }
      },
      "source": [
        "# We can also apply custom functions by groups\n",
        "z_score = lambda x: (x-x.mean()) / x.std()\n",
        "df.reset_index().groupby('source')[parties].apply(z_score).head()\n"
      ],
      "execution_count": 90,
      "outputs": [
        {
          "output_type": "execute_result",
          "data": {
            "text/html": [
              "<div>\n",
              "<style scoped>\n",
              "    .dataframe tbody tr th:only-of-type {\n",
              "        vertical-align: middle;\n",
              "    }\n",
              "\n",
              "    .dataframe tbody tr th {\n",
              "        vertical-align: top;\n",
              "    }\n",
              "\n",
              "    .dataframe thead th {\n",
              "        text-align: right;\n",
              "    }\n",
              "</style>\n",
              "<table border=\"1\" class=\"dataframe\">\n",
              "  <thead>\n",
              "    <tr style=\"text-align: right;\">\n",
              "      <th></th>\n",
              "      <th>lpc</th>\n",
              "      <th>cpc</th>\n",
              "      <th>ndp</th>\n",
              "      <th>bq</th>\n",
              "      <th>gpc</th>\n",
              "      <th>ppc</th>\n",
              "    </tr>\n",
              "  </thead>\n",
              "  <tbody>\n",
              "    <tr>\n",
              "      <th>0</th>\n",
              "      <td>0.404465</td>\n",
              "      <td>1.355624</td>\n",
              "      <td>-1.192809</td>\n",
              "      <td>-1.498273</td>\n",
              "      <td>0.604738</td>\n",
              "      <td>1.050338</td>\n",
              "    </tr>\n",
              "    <tr>\n",
              "      <th>1</th>\n",
              "      <td>1.013894</td>\n",
              "      <td>0.267261</td>\n",
              "      <td>-0.935276</td>\n",
              "      <td>-1.107019</td>\n",
              "      <td>0.559017</td>\n",
              "      <td>-0.408248</td>\n",
              "    </tr>\n",
              "    <tr>\n",
              "      <th>2</th>\n",
              "      <td>0.914191</td>\n",
              "      <td>-0.615389</td>\n",
              "      <td>0.120454</td>\n",
              "      <td>-1.633702</td>\n",
              "      <td>0.129742</td>\n",
              "      <td>1.059954</td>\n",
              "    </tr>\n",
              "    <tr>\n",
              "      <th>3</th>\n",
              "      <td>0.795507</td>\n",
              "      <td>-0.905075</td>\n",
              "      <td>0.498860</td>\n",
              "      <td>-1.426337</td>\n",
              "      <td>0.195502</td>\n",
              "      <td>0.302112</td>\n",
              "    </tr>\n",
              "    <tr>\n",
              "      <th>4</th>\n",
              "      <td>0.544705</td>\n",
              "      <td>0.207020</td>\n",
              "      <td>-0.192582</td>\n",
              "      <td>-1.069045</td>\n",
              "      <td>1.259882</td>\n",
              "      <td>0.300376</td>\n",
              "    </tr>\n",
              "  </tbody>\n",
              "</table>\n",
              "</div>"
            ],
            "text/plain": [
              "        lpc       cpc       ndp        bq       gpc       ppc\n",
              "0  0.404465  1.355624 -1.192809 -1.498273  0.604738  1.050338\n",
              "1  1.013894  0.267261 -0.935276 -1.107019  0.559017 -0.408248\n",
              "2  0.914191 -0.615389  0.120454 -1.633702  0.129742  1.059954\n",
              "3  0.795507 -0.905075  0.498860 -1.426337  0.195502  0.302112\n",
              "4  0.544705  0.207020 -0.192582 -1.069045  1.259882  0.300376"
            ]
          },
          "metadata": {
            "tags": []
          },
          "execution_count": 90
        }
      ]
    },
    {
      "cell_type": "code",
      "metadata": {
        "id": "DsuHM2tt7oCX",
        "colab_type": "code",
        "outputId": "fca7b648-0387-460d-cbfb-1fa1a9f4f3fd",
        "colab": {
          "base_uri": "https://localhost:8080/",
          "height": 195
        }
      },
      "source": [
        "# Most algorithms need you to reshape the date to a long format\n",
        "long_df = pd.melt(\n",
        "    df.reset_index(),\n",
        "    id_vars=['date', 'source'],\n",
        "    value_vars=parties,\n",
        "    var_name='party',\n",
        "    value_name='share',\n",
        ")\n",
        "\n",
        "long_df.head()\n"
      ],
      "execution_count": 91,
      "outputs": [
        {
          "output_type": "execute_result",
          "data": {
            "text/html": [
              "<div>\n",
              "<style scoped>\n",
              "    .dataframe tbody tr th:only-of-type {\n",
              "        vertical-align: middle;\n",
              "    }\n",
              "\n",
              "    .dataframe tbody tr th {\n",
              "        vertical-align: top;\n",
              "    }\n",
              "\n",
              "    .dataframe thead th {\n",
              "        text-align: right;\n",
              "    }\n",
              "</style>\n",
              "<table border=\"1\" class=\"dataframe\">\n",
              "  <thead>\n",
              "    <tr style=\"text-align: right;\">\n",
              "      <th></th>\n",
              "      <th>date</th>\n",
              "      <th>source</th>\n",
              "      <th>party</th>\n",
              "      <th>share</th>\n",
              "    </tr>\n",
              "  </thead>\n",
              "  <tbody>\n",
              "    <tr>\n",
              "      <th>0</th>\n",
              "      <td>2019-09-11</td>\n",
              "      <td>Forum Research</td>\n",
              "      <td>lpc</td>\n",
              "      <td>32.4</td>\n",
              "    </tr>\n",
              "    <tr>\n",
              "      <th>1</th>\n",
              "      <td>2019-09-13</td>\n",
              "      <td>Ipsos</td>\n",
              "      <td>lpc</td>\n",
              "      <td>35.0</td>\n",
              "    </tr>\n",
              "    <tr>\n",
              "      <th>2</th>\n",
              "      <td>2019-09-13</td>\n",
              "      <td>Nanos Research</td>\n",
              "      <td>lpc</td>\n",
              "      <td>35.4</td>\n",
              "    </tr>\n",
              "    <tr>\n",
              "      <th>3</th>\n",
              "      <td>2019-09-14</td>\n",
              "      <td>Nanos Research</td>\n",
              "      <td>lpc</td>\n",
              "      <td>35.2</td>\n",
              "    </tr>\n",
              "    <tr>\n",
              "      <th>4</th>\n",
              "      <td>2019-09-15</td>\n",
              "      <td>Innovative Research</td>\n",
              "      <td>lpc</td>\n",
              "      <td>35.0</td>\n",
              "    </tr>\n",
              "  </tbody>\n",
              "</table>\n",
              "</div>"
            ],
            "text/plain": [
              "        date               source party  share\n",
              "0 2019-09-11       Forum Research   lpc   32.4\n",
              "1 2019-09-13                Ipsos   lpc   35.0\n",
              "2 2019-09-13       Nanos Research   lpc   35.4\n",
              "3 2019-09-14       Nanos Research   lpc   35.2\n",
              "4 2019-09-15  Innovative Research   lpc   35.0"
            ]
          },
          "metadata": {
            "tags": []
          },
          "execution_count": 91
        }
      ]
    },
    {
      "cell_type": "markdown",
      "metadata": {
        "id": "0120ySvK7ozG",
        "colab_type": "text"
      },
      "source": [
        "## Seaborn, a statistical data visualization library uses long-format\n"
      ]
    },
    {
      "cell_type": "code",
      "metadata": {
        "id": "iAamHM8f7qmT",
        "colab_type": "code",
        "outputId": "7237bf5f-e07c-42e6-f729-6cb276ff94a3",
        "colab": {
          "base_uri": "https://localhost:8080/",
          "height": 356
        }
      },
      "source": [
        "# Seaborn, a statistical data visualization library uses long-format\n",
        "import seaborn as sns\n",
        "sns.set(style=\"whitegrid\", palette=\"muted\")\n",
        "\n",
        "sns.swarmplot(\n",
        "    x=\"party\",\n",
        "    y=\"share\",\n",
        "    hue=\"source\",\n",
        "    data=long_df,\n",
        ")\n"
      ],
      "execution_count": 92,
      "outputs": [
        {
          "output_type": "execute_result",
          "data": {
            "text/plain": [
              "<matplotlib.axes._subplots.AxesSubplot at 0x7f13829e0e48>"
            ]
          },
          "metadata": {
            "tags": []
          },
          "execution_count": 92
        },
        {
          "output_type": "display_data",
          "data": {
            "image/png": "[encoded data removed]",
            "text/plain": [
              "<Figure size 720x360 with 1 Axes>"
            ]
          },
          "metadata": {
            "tags": []
          }
        }
      ]
    },
    {
      "cell_type": "code",
      "metadata": {
        "id": "X1x73YzS7ud-",
        "colab_type": "code",
        "outputId": "40f9510f-6bc9-4d0d-c54f-f218b5da17be",
        "colab": {
          "base_uri": "https://localhost:8080/",
          "height": 195
        }
      },
      "source": [
        "# Let's say we want to add the sample size back?\n",
        "new_df = long_df.merge(\n",
        "    df[['method', 'source']].reset_index(),\n",
        "    on=['date', 'source']\n",
        ")\n",
        "\n",
        "new_df.head()\n"
      ],
      "execution_count": 93,
      "outputs": [
        {
          "output_type": "execute_result",
          "data": {
            "text/html": [
              "<div>\n",
              "<style scoped>\n",
              "    .dataframe tbody tr th:only-of-type {\n",
              "        vertical-align: middle;\n",
              "    }\n",
              "\n",
              "    .dataframe tbody tr th {\n",
              "        vertical-align: top;\n",
              "    }\n",
              "\n",
              "    .dataframe thead th {\n",
              "        text-align: right;\n",
              "    }\n",
              "</style>\n",
              "<table border=\"1\" class=\"dataframe\">\n",
              "  <thead>\n",
              "    <tr style=\"text-align: right;\">\n",
              "      <th></th>\n",
              "      <th>date</th>\n",
              "      <th>source</th>\n",
              "      <th>party</th>\n",
              "      <th>share</th>\n",
              "      <th>method</th>\n",
              "    </tr>\n",
              "  </thead>\n",
              "  <tbody>\n",
              "    <tr>\n",
              "      <th>0</th>\n",
              "      <td>2019-09-11</td>\n",
              "      <td>Forum Research</td>\n",
              "      <td>lpc</td>\n",
              "      <td>32.4</td>\n",
              "      <td>IVR</td>\n",
              "    </tr>\n",
              "    <tr>\n",
              "      <th>1</th>\n",
              "      <td>2019-09-11</td>\n",
              "      <td>Forum Research</td>\n",
              "      <td>cpc</td>\n",
              "      <td>36.3</td>\n",
              "      <td>IVR</td>\n",
              "    </tr>\n",
              "    <tr>\n",
              "      <th>2</th>\n",
              "      <td>2019-09-11</td>\n",
              "      <td>Forum Research</td>\n",
              "      <td>ndp</td>\n",
              "      <td>8.6</td>\n",
              "      <td>IVR</td>\n",
              "    </tr>\n",
              "    <tr>\n",
              "      <th>3</th>\n",
              "      <td>2019-09-11</td>\n",
              "      <td>Forum Research</td>\n",
              "      <td>bq</td>\n",
              "      <td>4.1</td>\n",
              "      <td>IVR</td>\n",
              "    </tr>\n",
              "    <tr>\n",
              "      <th>4</th>\n",
              "      <td>2019-09-11</td>\n",
              "      <td>Forum Research</td>\n",
              "      <td>gpc</td>\n",
              "      <td>11.6</td>\n",
              "      <td>IVR</td>\n",
              "    </tr>\n",
              "  </tbody>\n",
              "</table>\n",
              "</div>"
            ],
            "text/plain": [
              "        date          source party  share method\n",
              "0 2019-09-11  Forum Research   lpc   32.4    IVR\n",
              "1 2019-09-11  Forum Research   cpc   36.3    IVR\n",
              "2 2019-09-11  Forum Research   ndp    8.6    IVR\n",
              "3 2019-09-11  Forum Research    bq    4.1    IVR\n",
              "4 2019-09-11  Forum Research   gpc   11.6    IVR"
            ]
          },
          "metadata": {
            "tags": []
          },
          "execution_count": 93
        }
      ]
    },
    {
      "cell_type": "code",
      "metadata": {
        "id": "QxCX7w2j7vDh",
        "colab_type": "code",
        "outputId": "269bfc42-4580-494e-a88d-cb79db76381c",
        "colab": {
          "base_uri": "https://localhost:8080/",
          "height": 225
        }
      },
      "source": [
        "# We can also expand the dataframe back to a wide format\n",
        "new_df = new_df.pivot_table(\n",
        "    index=['date', 'source', 'method'],\n",
        "    columns='party',\n",
        "    values='share',\n",
        ")\n",
        "\n",
        "new_df.head()"
      ],
      "execution_count": 94,
      "outputs": [
        {
          "output_type": "execute_result",
          "data": {
            "text/html": [
              "<div>\n",
              "<style scoped>\n",
              "    .dataframe tbody tr th:only-of-type {\n",
              "        vertical-align: middle;\n",
              "    }\n",
              "\n",
              "    .dataframe tbody tr th {\n",
              "        vertical-align: top;\n",
              "    }\n",
              "\n",
              "    .dataframe thead th {\n",
              "        text-align: right;\n",
              "    }\n",
              "</style>\n",
              "<table border=\"1\" class=\"dataframe\">\n",
              "  <thead>\n",
              "    <tr style=\"text-align: right;\">\n",
              "      <th></th>\n",
              "      <th></th>\n",
              "      <th>party</th>\n",
              "      <th>bq</th>\n",
              "      <th>cpc</th>\n",
              "      <th>gpc</th>\n",
              "      <th>lpc</th>\n",
              "      <th>ndp</th>\n",
              "      <th>ppc</th>\n",
              "    </tr>\n",
              "    <tr>\n",
              "      <th>date</th>\n",
              "      <th>source</th>\n",
              "      <th>method</th>\n",
              "      <th></th>\n",
              "      <th></th>\n",
              "      <th></th>\n",
              "      <th></th>\n",
              "      <th></th>\n",
              "      <th></th>\n",
              "    </tr>\n",
              "  </thead>\n",
              "  <tbody>\n",
              "    <tr>\n",
              "      <th>2019-09-11</th>\n",
              "      <th>Forum Research</th>\n",
              "      <th>IVR</th>\n",
              "      <td>4.1</td>\n",
              "      <td>36.3</td>\n",
              "      <td>11.6</td>\n",
              "      <td>32.4</td>\n",
              "      <td>8.6</td>\n",
              "      <td>4.9</td>\n",
              "    </tr>\n",
              "    <tr>\n",
              "      <th rowspan=\"2\" valign=\"top\">2019-09-13</th>\n",
              "      <th>Ipsos</th>\n",
              "      <th>online/telephone</th>\n",
              "      <td>4.0</td>\n",
              "      <td>35.0</td>\n",
              "      <td>9.0</td>\n",
              "      <td>35.0</td>\n",
              "      <td>14.0</td>\n",
              "      <td>2.0</td>\n",
              "    </tr>\n",
              "    <tr>\n",
              "      <th>Nanos Research</th>\n",
              "      <th>telephone (rolling)</th>\n",
              "      <td>3.6</td>\n",
              "      <td>32.8</td>\n",
              "      <td>9.5</td>\n",
              "      <td>35.4</td>\n",
              "      <td>15.7</td>\n",
              "      <td>2.4</td>\n",
              "    </tr>\n",
              "    <tr>\n",
              "      <th>2019-09-14</th>\n",
              "      <th>Nanos Research</th>\n",
              "      <th>telephone (rolling)</th>\n",
              "      <td>3.8</td>\n",
              "      <td>32.3</td>\n",
              "      <td>9.6</td>\n",
              "      <td>35.2</td>\n",
              "      <td>16.6</td>\n",
              "      <td>2.0</td>\n",
              "    </tr>\n",
              "    <tr>\n",
              "      <th>2019-09-15</th>\n",
              "      <th>Innovative Research</th>\n",
              "      <th>online</th>\n",
              "      <td>4.0</td>\n",
              "      <td>32.0</td>\n",
              "      <td>11.0</td>\n",
              "      <td>35.0</td>\n",
              "      <td>14.0</td>\n",
              "      <td>4.0</td>\n",
              "    </tr>\n",
              "  </tbody>\n",
              "</table>\n",
              "</div>"
            ],
            "text/plain": [
              "party                                                bq   cpc  ...   ndp  ppc\n",
              "date       source              method                          ...           \n",
              "2019-09-11 Forum Research      IVR                  4.1  36.3  ...   8.6  4.9\n",
              "2019-09-13 Ipsos               online/telephone     4.0  35.0  ...  14.0  2.0\n",
              "           Nanos Research      telephone (rolling)  3.6  32.8  ...  15.7  2.4\n",
              "2019-09-14 Nanos Research      telephone (rolling)  3.8  32.3  ...  16.6  2.0\n",
              "2019-09-15 Innovative Research online               4.0  32.0  ...  14.0  4.0\n",
              "\n",
              "[5 rows x 6 columns]"
            ]
          },
          "metadata": {
            "tags": []
          },
          "execution_count": 94
        }
      ]
    },
    {
      "cell_type": "markdown",
      "metadata": {
        "id": "Z89XnYAW4FMf",
        "colab_type": "text"
      },
      "source": [
        "# Data Mdeling & Sharing\n"
      ]
    },
    {
      "cell_type": "markdown",
      "metadata": {
        "id": "YuxJmjzq4G4w",
        "colab_type": "text"
      },
      "source": [
        "Let's try to forecast the election based on existing polls!\n"
      ]
    },
    {
      "cell_type": "code",
      "metadata": {
        "id": "q8ZQeV6O_w6b",
        "colab_type": "code",
        "colab": {}
      },
      "source": [
        "# We will rely on data from the 2015 election to train a model.\n",
        "title_train = \"Opinion polling for the 2015 Canadian federal election\"\n",
        "html = wp.page(title_train).html().encode(\"UTF-8\")\n",
        "df_train = pd.read_html(html)[0]\n"
      ],
      "execution_count": 0,
      "outputs": []
    },
    {
      "cell_type": "code",
      "metadata": {
        "id": "8NhH4KDc_1S0",
        "colab_type": "code",
        "colab": {}
      },
      "source": [
        "# Cleaning the training set.\n",
        "import re\n"
      ],
      "execution_count": 0,
      "outputs": []
    },
    {
      "cell_type": "code",
      "metadata": {
        "id": "Vv2mh4kc_2Am",
        "colab_type": "code",
        "colab": {}
      },
      "source": [
        "# A function to fix the column names\n",
        "def fix_names(input_df, names_dict):\n",
        "    \"\"\"Renames the columns in the input dataframe.\"\"\"\n",
        "    regex = \"[a-z]+\"\n",
        "\n",
        "    columnn_names = []\n",
        "\n",
        "    tmp_df = input_df.copy()\n",
        "\n",
        "    for c in tmp_df.columns:\n",
        "        tmp = c.lower()\n",
        "        columnn_names.append(tmp.replace(\" \", \"_\"))\n",
        "\n",
        "    tmp_names = [\"_\".join(re.findall(regex, i)) for i in columnn_names]\n",
        "    tmp_df.columns = tmp_names\n",
        "\n",
        "    return tmp_df.rename(columns=names_dict)\n"
      ],
      "execution_count": 0,
      "outputs": []
    },
    {
      "cell_type": "code",
      "metadata": {
        "id": "LZ_C-bxH_2-d",
        "colab_type": "code",
        "outputId": "e96dfb73-0840-4fda-c9fc-414a171fff2e",
        "colab": {
          "base_uri": "https://localhost:8080/",
          "height": 67
        }
      },
      "source": [
        "# Let's edit them...\n",
        "df_train = fix_names(df_train, names_dict)\n",
        "df_train.columns\n"
      ],
      "execution_count": 98,
      "outputs": [
        {
          "output_type": "execute_result",
          "data": {
            "text/plain": [
              "Index(['source', 'date', 'link', 'cpc', 'ndp', 'lpc', 'bq', 'gpc', 'error',\n",
              "       'sample_size', 'method', 'lead'],\n",
              "      dtype='object')"
            ]
          },
          "metadata": {
            "tags": []
          },
          "execution_count": 98
        }
      ]
    },
    {
      "cell_type": "code",
      "metadata": {
        "id": "Qs5-LfEo_3mt",
        "colab_type": "code",
        "outputId": "955e2f48-5981-405c-8b4b-ab8053b86266",
        "colab": {
          "base_uri": "https://localhost:8080/",
          "height": 303
        }
      },
      "source": [
        "# Let's keep relevant variables only\n",
        "df_train = df_train[to_keep]\n"
      ],
      "execution_count": 99,
      "outputs": [
        {
          "output_type": "error",
          "ename": "KeyError",
          "evalue": "ignored",
          "traceback": [
            "\u001b[0;31m---------------------------------------------------------------------------\u001b[0m",
            "\u001b[0;31mKeyError\u001b[0m                                  Traceback (most recent call last)",
            "\u001b[0;32m<ipython-input-99-60659a65309b>\u001b[0m in \u001b[0;36m<module>\u001b[0;34m()\u001b[0m\n\u001b[0;32m----> 1\u001b[0;31m \u001b[0mdf_train\u001b[0m \u001b[0;34m=\u001b[0m \u001b[0mdf_train\u001b[0m\u001b[0;34m[\u001b[0m\u001b[0mto_keep\u001b[0m\u001b[0;34m]\u001b[0m\u001b[0;34m\u001b[0m\u001b[0;34m\u001b[0m\u001b[0m\n\u001b[0m",
            "\u001b[0;32m/usr/local/lib/python3.6/dist-packages/pandas/core/frame.py\u001b[0m in \u001b[0;36m__getitem__\u001b[0;34m(self, key)\u001b[0m\n\u001b[1;32m   2999\u001b[0m             \u001b[0;32mif\u001b[0m \u001b[0mis_iterator\u001b[0m\u001b[0;34m(\u001b[0m\u001b[0mkey\u001b[0m\u001b[0;34m)\u001b[0m\u001b[0;34m:\u001b[0m\u001b[0;34m\u001b[0m\u001b[0;34m\u001b[0m\u001b[0m\n\u001b[1;32m   3000\u001b[0m                 \u001b[0mkey\u001b[0m \u001b[0;34m=\u001b[0m \u001b[0mlist\u001b[0m\u001b[0;34m(\u001b[0m\u001b[0mkey\u001b[0m\u001b[0;34m)\u001b[0m\u001b[0;34m\u001b[0m\u001b[0;34m\u001b[0m\u001b[0m\n\u001b[0;32m-> 3001\u001b[0;31m             \u001b[0mindexer\u001b[0m \u001b[0;34m=\u001b[0m \u001b[0mself\u001b[0m\u001b[0;34m.\u001b[0m\u001b[0mloc\u001b[0m\u001b[0;34m.\u001b[0m\u001b[0m_convert_to_indexer\u001b[0m\u001b[0;34m(\u001b[0m\u001b[0mkey\u001b[0m\u001b[0;34m,\u001b[0m \u001b[0maxis\u001b[0m\u001b[0;34m=\u001b[0m\u001b[0;36m1\u001b[0m\u001b[0;34m,\u001b[0m \u001b[0mraise_missing\u001b[0m\u001b[0;34m=\u001b[0m\u001b[0;32mTrue\u001b[0m\u001b[0;34m)\u001b[0m\u001b[0;34m\u001b[0m\u001b[0;34m\u001b[0m\u001b[0m\n\u001b[0m\u001b[1;32m   3002\u001b[0m \u001b[0;34m\u001b[0m\u001b[0m\n\u001b[1;32m   3003\u001b[0m         \u001b[0;31m# take() does not accept boolean indexers\u001b[0m\u001b[0;34m\u001b[0m\u001b[0;34m\u001b[0m\u001b[0;34m\u001b[0m\u001b[0m\n",
            "\u001b[0;32m/usr/local/lib/python3.6/dist-packages/pandas/core/indexing.py\u001b[0m in \u001b[0;36m_convert_to_indexer\u001b[0;34m(self, obj, axis, is_setter, raise_missing)\u001b[0m\n\u001b[1;32m   1283\u001b[0m                 \u001b[0;31m# When setting, missing keys are not allowed, even with .loc:\u001b[0m\u001b[0;34m\u001b[0m\u001b[0;34m\u001b[0m\u001b[0;34m\u001b[0m\u001b[0m\n\u001b[1;32m   1284\u001b[0m                 \u001b[0mkwargs\u001b[0m \u001b[0;34m=\u001b[0m \u001b[0;34m{\u001b[0m\u001b[0;34m\"raise_missing\"\u001b[0m\u001b[0;34m:\u001b[0m \u001b[0;32mTrue\u001b[0m \u001b[0;32mif\u001b[0m \u001b[0mis_setter\u001b[0m \u001b[0;32melse\u001b[0m \u001b[0mraise_missing\u001b[0m\u001b[0;34m}\u001b[0m\u001b[0;34m\u001b[0m\u001b[0;34m\u001b[0m\u001b[0m\n\u001b[0;32m-> 1285\u001b[0;31m                 \u001b[0;32mreturn\u001b[0m \u001b[0mself\u001b[0m\u001b[0;34m.\u001b[0m\u001b[0m_get_listlike_indexer\u001b[0m\u001b[0;34m(\u001b[0m\u001b[0mobj\u001b[0m\u001b[0;34m,\u001b[0m \u001b[0maxis\u001b[0m\u001b[0;34m,\u001b[0m \u001b[0;34m**\u001b[0m\u001b[0mkwargs\u001b[0m\u001b[0;34m)\u001b[0m\u001b[0;34m[\u001b[0m\u001b[0;36m1\u001b[0m\u001b[0;34m]\u001b[0m\u001b[0;34m\u001b[0m\u001b[0;34m\u001b[0m\u001b[0m\n\u001b[0m\u001b[1;32m   1286\u001b[0m         \u001b[0;32melse\u001b[0m\u001b[0;34m:\u001b[0m\u001b[0;34m\u001b[0m\u001b[0;34m\u001b[0m\u001b[0m\n\u001b[1;32m   1287\u001b[0m             \u001b[0;32mtry\u001b[0m\u001b[0;34m:\u001b[0m\u001b[0;34m\u001b[0m\u001b[0;34m\u001b[0m\u001b[0m\n",
            "\u001b[0;32m/usr/local/lib/python3.6/dist-packages/pandas/core/indexing.py\u001b[0m in \u001b[0;36m_get_listlike_indexer\u001b[0;34m(self, key, axis, raise_missing)\u001b[0m\n\u001b[1;32m   1090\u001b[0m \u001b[0;34m\u001b[0m\u001b[0m\n\u001b[1;32m   1091\u001b[0m         self._validate_read_indexer(\n\u001b[0;32m-> 1092\u001b[0;31m             \u001b[0mkeyarr\u001b[0m\u001b[0;34m,\u001b[0m \u001b[0mindexer\u001b[0m\u001b[0;34m,\u001b[0m \u001b[0mo\u001b[0m\u001b[0;34m.\u001b[0m\u001b[0m_get_axis_number\u001b[0m\u001b[0;34m(\u001b[0m\u001b[0maxis\u001b[0m\u001b[0;34m)\u001b[0m\u001b[0;34m,\u001b[0m \u001b[0mraise_missing\u001b[0m\u001b[0;34m=\u001b[0m\u001b[0mraise_missing\u001b[0m\u001b[0;34m\u001b[0m\u001b[0;34m\u001b[0m\u001b[0m\n\u001b[0m\u001b[1;32m   1093\u001b[0m         )\n\u001b[1;32m   1094\u001b[0m         \u001b[0;32mreturn\u001b[0m \u001b[0mkeyarr\u001b[0m\u001b[0;34m,\u001b[0m \u001b[0mindexer\u001b[0m\u001b[0;34m\u001b[0m\u001b[0;34m\u001b[0m\u001b[0m\n",
            "\u001b[0;32m/usr/local/lib/python3.6/dist-packages/pandas/core/indexing.py\u001b[0m in \u001b[0;36m_validate_read_indexer\u001b[0;34m(self, key, indexer, axis, raise_missing)\u001b[0m\n\u001b[1;32m   1183\u001b[0m             \u001b[0;32mif\u001b[0m \u001b[0;32mnot\u001b[0m \u001b[0;34m(\u001b[0m\u001b[0mself\u001b[0m\u001b[0;34m.\u001b[0m\u001b[0mname\u001b[0m \u001b[0;34m==\u001b[0m \u001b[0;34m\"loc\"\u001b[0m \u001b[0;32mand\u001b[0m \u001b[0;32mnot\u001b[0m \u001b[0mraise_missing\u001b[0m\u001b[0;34m)\u001b[0m\u001b[0;34m:\u001b[0m\u001b[0;34m\u001b[0m\u001b[0;34m\u001b[0m\u001b[0m\n\u001b[1;32m   1184\u001b[0m                 \u001b[0mnot_found\u001b[0m \u001b[0;34m=\u001b[0m \u001b[0mlist\u001b[0m\u001b[0;34m(\u001b[0m\u001b[0mset\u001b[0m\u001b[0;34m(\u001b[0m\u001b[0mkey\u001b[0m\u001b[0;34m)\u001b[0m \u001b[0;34m-\u001b[0m \u001b[0mset\u001b[0m\u001b[0;34m(\u001b[0m\u001b[0max\u001b[0m\u001b[0;34m)\u001b[0m\u001b[0;34m)\u001b[0m\u001b[0;34m\u001b[0m\u001b[0;34m\u001b[0m\u001b[0m\n\u001b[0;32m-> 1185\u001b[0;31m                 \u001b[0;32mraise\u001b[0m \u001b[0mKeyError\u001b[0m\u001b[0;34m(\u001b[0m\u001b[0;34m\"{} not in index\"\u001b[0m\u001b[0;34m.\u001b[0m\u001b[0mformat\u001b[0m\u001b[0;34m(\u001b[0m\u001b[0mnot_found\u001b[0m\u001b[0;34m)\u001b[0m\u001b[0;34m)\u001b[0m\u001b[0;34m\u001b[0m\u001b[0;34m\u001b[0m\u001b[0m\n\u001b[0m\u001b[1;32m   1186\u001b[0m \u001b[0;34m\u001b[0m\u001b[0m\n\u001b[1;32m   1187\u001b[0m             \u001b[0;31m# we skip the warning on Categorical/Interval\u001b[0m\u001b[0;34m\u001b[0m\u001b[0;34m\u001b[0m\u001b[0;34m\u001b[0m\u001b[0m\n",
            "\u001b[0;31mKeyError\u001b[0m: \"['ppc'] not in index\""
          ]
        }
      ]
    },
    {
      "cell_type": "code",
      "metadata": {
        "id": "-wo9R3N1_4GZ",
        "colab_type": "code",
        "colab": {}
      },
      "source": [
        "# Remember lists also have useful methods\n",
        "to_keep.remove('ppc')\n"
      ],
      "execution_count": 0,
      "outputs": []
    },
    {
      "cell_type": "code",
      "metadata": {
        "id": "mDrGHYm8_4mg",
        "colab_type": "code",
        "outputId": "472a5ed8-fb14-4555-e099-71a0d00274eb",
        "colab": {
          "base_uri": "https://localhost:8080/",
          "height": 195
        }
      },
      "source": [
        "# What does the training set look like ?\n",
        "df_train = df_train[to_keep]\n",
        "df_train.head()\n"
      ],
      "execution_count": 101,
      "outputs": [
        {
          "output_type": "execute_result",
          "data": {
            "text/html": [
              "<div>\n",
              "<style scoped>\n",
              "    .dataframe tbody tr th:only-of-type {\n",
              "        vertical-align: middle;\n",
              "    }\n",
              "\n",
              "    .dataframe tbody tr th {\n",
              "        vertical-align: top;\n",
              "    }\n",
              "\n",
              "    .dataframe thead th {\n",
              "        text-align: right;\n",
              "    }\n",
              "</style>\n",
              "<table border=\"1\" class=\"dataframe\">\n",
              "  <thead>\n",
              "    <tr style=\"text-align: right;\">\n",
              "      <th></th>\n",
              "      <th>source</th>\n",
              "      <th>date</th>\n",
              "      <th>lpc</th>\n",
              "      <th>cpc</th>\n",
              "      <th>ndp</th>\n",
              "      <th>bq</th>\n",
              "      <th>gpc</th>\n",
              "      <th>method</th>\n",
              "    </tr>\n",
              "  </thead>\n",
              "  <tbody>\n",
              "    <tr>\n",
              "      <th>0</th>\n",
              "      <td>NaN</td>\n",
              "      <td>NaN</td>\n",
              "      <td>NaN</td>\n",
              "      <td>NaN</td>\n",
              "      <td>NaN</td>\n",
              "      <td>NaN</td>\n",
              "      <td>NaN</td>\n",
              "      <td>NaN</td>\n",
              "    </tr>\n",
              "    <tr>\n",
              "      <th>1</th>\n",
              "      <td>Election</td>\n",
              "      <td>October 19, 2015</td>\n",
              "      <td>39.5</td>\n",
              "      <td>31.9</td>\n",
              "      <td>19.7</td>\n",
              "      <td>4.7</td>\n",
              "      <td>3.4</td>\n",
              "      <td>NaN</td>\n",
              "    </tr>\n",
              "    <tr>\n",
              "      <th>2</th>\n",
              "      <td>NaN</td>\n",
              "      <td>NaN</td>\n",
              "      <td>NaN</td>\n",
              "      <td>NaN</td>\n",
              "      <td>NaN</td>\n",
              "      <td>NaN</td>\n",
              "      <td>NaN</td>\n",
              "      <td>NaN</td>\n",
              "    </tr>\n",
              "    <tr>\n",
              "      <th>3</th>\n",
              "      <td>Nanos Research</td>\n",
              "      <td>October 18, 2015</td>\n",
              "      <td>39.1</td>\n",
              "      <td>30.5</td>\n",
              "      <td>19.7</td>\n",
              "      <td>5.5</td>\n",
              "      <td>4.6</td>\n",
              "      <td>telephone</td>\n",
              "    </tr>\n",
              "    <tr>\n",
              "      <th>4</th>\n",
              "      <td>Forum Research</td>\n",
              "      <td>October 18, 2015</td>\n",
              "      <td>40.0</td>\n",
              "      <td>30.0</td>\n",
              "      <td>20.0</td>\n",
              "      <td>6.0</td>\n",
              "      <td>3.0</td>\n",
              "      <td>IVR</td>\n",
              "    </tr>\n",
              "  </tbody>\n",
              "</table>\n",
              "</div>"
            ],
            "text/plain": [
              "           source              date   lpc   cpc   ndp   bq  gpc     method\n",
              "0             NaN               NaN   NaN   NaN   NaN  NaN  NaN        NaN\n",
              "1        Election  October 19, 2015  39.5  31.9  19.7  4.7  3.4        NaN\n",
              "2             NaN               NaN   NaN   NaN   NaN  NaN  NaN        NaN\n",
              "3  Nanos Research  October 18, 2015  39.1  30.5  19.7  5.5  4.6  telephone\n",
              "4  Forum Research  October 18, 2015  40.0  30.0  20.0  6.0  3.0        IVR"
            ]
          },
          "metadata": {
            "tags": []
          },
          "execution_count": 101
        }
      ]
    },
    {
      "cell_type": "code",
      "metadata": {
        "id": "v16hmGjF_5DN",
        "colab_type": "code",
        "colab": {}
      },
      "source": [
        "# Let's store and remove the election results\n",
        "results_2015 = df_train.iloc[1]\n",
        "df_train = df_train.drop(1).dropna()\n"
      ],
      "execution_count": 0,
      "outputs": []
    },
    {
      "cell_type": "code",
      "metadata": {
        "id": "HRKATV5V_5hG",
        "colab_type": "code",
        "colab": {}
      },
      "source": [
        "# Let's deal with missing values\n",
        "df_train.dropna(inplace=True)\n"
      ],
      "execution_count": 0,
      "outputs": []
    },
    {
      "cell_type": "code",
      "metadata": {
        "id": "I7KfKMpj_5_d",
        "colab_type": "code",
        "outputId": "f05387fc-63f2-40d4-c72d-4a6131999bf1",
        "colab": {
          "base_uri": "https://localhost:8080/",
          "height": 402
        }
      },
      "source": [
        "# What about the data types?\n",
        "df_train.select_dtypes(include='object')\n"
      ],
      "execution_count": 104,
      "outputs": [
        {
          "output_type": "execute_result",
          "data": {
            "text/html": [
              "<div>\n",
              "<style scoped>\n",
              "    .dataframe tbody tr th:only-of-type {\n",
              "        vertical-align: middle;\n",
              "    }\n",
              "\n",
              "    .dataframe tbody tr th {\n",
              "        vertical-align: top;\n",
              "    }\n",
              "\n",
              "    .dataframe thead th {\n",
              "        text-align: right;\n",
              "    }\n",
              "</style>\n",
              "<table border=\"1\" class=\"dataframe\">\n",
              "  <thead>\n",
              "    <tr style=\"text-align: right;\">\n",
              "      <th></th>\n",
              "      <th>source</th>\n",
              "      <th>date</th>\n",
              "      <th>method</th>\n",
              "    </tr>\n",
              "  </thead>\n",
              "  <tbody>\n",
              "    <tr>\n",
              "      <th>3</th>\n",
              "      <td>Nanos Research</td>\n",
              "      <td>October 18, 2015</td>\n",
              "      <td>telephone</td>\n",
              "    </tr>\n",
              "    <tr>\n",
              "      <th>4</th>\n",
              "      <td>Forum Research</td>\n",
              "      <td>October 18, 2015</td>\n",
              "      <td>IVR</td>\n",
              "    </tr>\n",
              "    <tr>\n",
              "      <th>5</th>\n",
              "      <td>EKOS</td>\n",
              "      <td>October 18, 2015</td>\n",
              "      <td>IVR/telephone â rolling (1/3)</td>\n",
              "    </tr>\n",
              "    <tr>\n",
              "      <th>6</th>\n",
              "      <td>EKOS</td>\n",
              "      <td>October 17, 2015</td>\n",
              "      <td>IVR/telephone â rolling (1/2)</td>\n",
              "    </tr>\n",
              "    <tr>\n",
              "      <th>7</th>\n",
              "      <td>Ipsos Reid</td>\n",
              "      <td>October 17, 2015</td>\n",
              "      <td>online/telephone</td>\n",
              "    </tr>\n",
              "    <tr>\n",
              "      <th>...</th>\n",
              "      <td>...</td>\n",
              "      <td>...</td>\n",
              "      <td>...</td>\n",
              "    </tr>\n",
              "    <tr>\n",
              "      <th>112</th>\n",
              "      <td>Forum Research</td>\n",
              "      <td>August 11, 2015</td>\n",
              "      <td>IVR</td>\n",
              "    </tr>\n",
              "    <tr>\n",
              "      <th>113</th>\n",
              "      <td>EKOS</td>\n",
              "      <td>August 11, 2015</td>\n",
              "      <td>IVR</td>\n",
              "    </tr>\n",
              "    <tr>\n",
              "      <th>114</th>\n",
              "      <td>Ipsos Reid</td>\n",
              "      <td>August 10, 2015</td>\n",
              "      <td>telephone/online</td>\n",
              "    </tr>\n",
              "    <tr>\n",
              "      <th>115</th>\n",
              "      <td>Nanos Research</td>\n",
              "      <td>August 7, 2015</td>\n",
              "      <td>telephone â rolling (1/4)</td>\n",
              "    </tr>\n",
              "    <tr>\n",
              "      <th>116</th>\n",
              "      <td>Forum Research</td>\n",
              "      <td>August 2, 2015</td>\n",
              "      <td>IVR</td>\n",
              "    </tr>\n",
              "  </tbody>\n",
              "</table>\n",
              "<p>114 rows × 3 columns</p>\n",
              "</div>"
            ],
            "text/plain": [
              "             source              date                           method\n",
              "3    Nanos Research  October 18, 2015                        telephone\n",
              "4    Forum Research  October 18, 2015                              IVR\n",
              "5              EKOS  October 18, 2015  IVR/telephone â rolling (1/3)\n",
              "6              EKOS  October 17, 2015  IVR/telephone â rolling (1/2)\n",
              "7        Ipsos Reid  October 17, 2015                 online/telephone\n",
              "..              ...               ...                              ...\n",
              "112  Forum Research   August 11, 2015                              IVR\n",
              "113            EKOS   August 11, 2015                              IVR\n",
              "114      Ipsos Reid   August 10, 2015                 telephone/online\n",
              "115  Nanos Research    August 7, 2015      telephone â rolling (1/4)\n",
              "116  Forum Research    August 2, 2015                              IVR\n",
              "\n",
              "[114 rows x 3 columns]"
            ]
          },
          "metadata": {
            "tags": []
          },
          "execution_count": 104
        }
      ]
    },
    {
      "cell_type": "code",
      "metadata": {
        "id": "Wb9EL1Ab_6bM",
        "colab_type": "code",
        "outputId": "90d09f11-05bb-4d18-fedd-69143388a0dc",
        "colab": {
          "base_uri": "https://localhost:8080/",
          "height": 136
        }
      },
      "source": [
        "# Let's fix that date variable\n",
        "df_train['date'] = pd.to_datetime(df_train.date)\n",
        "df_train.sample(3)\n"
      ],
      "execution_count": 105,
      "outputs": [
        {
          "output_type": "execute_result",
          "data": {
            "text/html": [
              "<div>\n",
              "<style scoped>\n",
              "    .dataframe tbody tr th:only-of-type {\n",
              "        vertical-align: middle;\n",
              "    }\n",
              "\n",
              "    .dataframe tbody tr th {\n",
              "        vertical-align: top;\n",
              "    }\n",
              "\n",
              "    .dataframe thead th {\n",
              "        text-align: right;\n",
              "    }\n",
              "</style>\n",
              "<table border=\"1\" class=\"dataframe\">\n",
              "  <thead>\n",
              "    <tr style=\"text-align: right;\">\n",
              "      <th></th>\n",
              "      <th>source</th>\n",
              "      <th>date</th>\n",
              "      <th>lpc</th>\n",
              "      <th>cpc</th>\n",
              "      <th>ndp</th>\n",
              "      <th>bq</th>\n",
              "      <th>gpc</th>\n",
              "      <th>method</th>\n",
              "    </tr>\n",
              "  </thead>\n",
              "  <tbody>\n",
              "    <tr>\n",
              "      <th>82</th>\n",
              "      <td>Nanos Research</td>\n",
              "      <td>2015-09-14</td>\n",
              "      <td>29.6</td>\n",
              "      <td>31.0</td>\n",
              "      <td>30.4</td>\n",
              "      <td>2.9</td>\n",
              "      <td>4.8</td>\n",
              "      <td>telephone â rolling (1/3)</td>\n",
              "    </tr>\n",
              "    <tr>\n",
              "      <th>73</th>\n",
              "      <td>Nanos Research</td>\n",
              "      <td>2015-09-19</td>\n",
              "      <td>30.3</td>\n",
              "      <td>30.8</td>\n",
              "      <td>29.1</td>\n",
              "      <td>3.7</td>\n",
              "      <td>5.1</td>\n",
              "      <td>telephone â rolling (1/3)</td>\n",
              "    </tr>\n",
              "    <tr>\n",
              "      <th>74</th>\n",
              "      <td>Forum Research</td>\n",
              "      <td>2015-09-18</td>\n",
              "      <td>29.0</td>\n",
              "      <td>33.0</td>\n",
              "      <td>29.0</td>\n",
              "      <td>4.0</td>\n",
              "      <td>4.0</td>\n",
              "      <td>IVR</td>\n",
              "    </tr>\n",
              "  </tbody>\n",
              "</table>\n",
              "</div>"
            ],
            "text/plain": [
              "            source       date   lpc  ...   bq  gpc                       method\n",
              "82  Nanos Research 2015-09-14  29.6  ...  2.9  4.8  telephone â rolling (1/3)\n",
              "73  Nanos Research 2015-09-19  30.3  ...  3.7  5.1  telephone â rolling (1/3)\n",
              "74  Forum Research 2015-09-18  29.0  ...  4.0  4.0                          IVR\n",
              "\n",
              "[3 rows x 8 columns]"
            ]
          },
          "metadata": {
            "tags": []
          },
          "execution_count": 105
        }
      ]
    },
    {
      "cell_type": "code",
      "metadata": {
        "id": "p3jFedUS_66O",
        "colab_type": "code",
        "outputId": "bc41bfb2-afa5-4ed7-89f9-8ad238562db0",
        "colab": {
          "base_uri": "https://localhost:8080/",
          "height": 195
        }
      },
      "source": [
        "# As we mentioned, most algorithms require the data to be in long-format\n",
        "df_train = pd.melt(\n",
        "    df_train.reset_index(),\n",
        "    id_vars=['date', 'source', 'method'],\n",
        "    value_vars=parties.remove('ppc'),\n",
        "    var_name='party',\n",
        "    value_name='share',\n",
        ")\n",
        "\n",
        "df_train.head()\n"
      ],
      "execution_count": 106,
      "outputs": [
        {
          "output_type": "execute_result",
          "data": {
            "text/html": [
              "<div>\n",
              "<style scoped>\n",
              "    .dataframe tbody tr th:only-of-type {\n",
              "        vertical-align: middle;\n",
              "    }\n",
              "\n",
              "    .dataframe tbody tr th {\n",
              "        vertical-align: top;\n",
              "    }\n",
              "\n",
              "    .dataframe thead th {\n",
              "        text-align: right;\n",
              "    }\n",
              "</style>\n",
              "<table border=\"1\" class=\"dataframe\">\n",
              "  <thead>\n",
              "    <tr style=\"text-align: right;\">\n",
              "      <th></th>\n",
              "      <th>date</th>\n",
              "      <th>source</th>\n",
              "      <th>method</th>\n",
              "      <th>party</th>\n",
              "      <th>share</th>\n",
              "    </tr>\n",
              "  </thead>\n",
              "  <tbody>\n",
              "    <tr>\n",
              "      <th>0</th>\n",
              "      <td>2015-10-18</td>\n",
              "      <td>Nanos Research</td>\n",
              "      <td>telephone</td>\n",
              "      <td>index</td>\n",
              "      <td>3.0</td>\n",
              "    </tr>\n",
              "    <tr>\n",
              "      <th>1</th>\n",
              "      <td>2015-10-18</td>\n",
              "      <td>Forum Research</td>\n",
              "      <td>IVR</td>\n",
              "      <td>index</td>\n",
              "      <td>4.0</td>\n",
              "    </tr>\n",
              "    <tr>\n",
              "      <th>2</th>\n",
              "      <td>2015-10-18</td>\n",
              "      <td>EKOS</td>\n",
              "      <td>IVR/telephone â rolling (1/3)</td>\n",
              "      <td>index</td>\n",
              "      <td>5.0</td>\n",
              "    </tr>\n",
              "    <tr>\n",
              "      <th>3</th>\n",
              "      <td>2015-10-17</td>\n",
              "      <td>EKOS</td>\n",
              "      <td>IVR/telephone â rolling (1/2)</td>\n",
              "      <td>index</td>\n",
              "      <td>6.0</td>\n",
              "    </tr>\n",
              "    <tr>\n",
              "      <th>4</th>\n",
              "      <td>2015-10-17</td>\n",
              "      <td>Ipsos Reid</td>\n",
              "      <td>online/telephone</td>\n",
              "      <td>index</td>\n",
              "      <td>7.0</td>\n",
              "    </tr>\n",
              "  </tbody>\n",
              "</table>\n",
              "</div>"
            ],
            "text/plain": [
              "        date          source                           method  party  share\n",
              "0 2015-10-18  Nanos Research                        telephone  index    3.0\n",
              "1 2015-10-18  Forum Research                              IVR  index    4.0\n",
              "2 2015-10-18            EKOS  IVR/telephone â rolling (1/3)  index    5.0\n",
              "3 2015-10-17            EKOS  IVR/telephone â rolling (1/2)  index    6.0\n",
              "4 2015-10-17      Ipsos Reid                 online/telephone  index    7.0"
            ]
          },
          "metadata": {
            "tags": []
          },
          "execution_count": 106
        }
      ]
    },
    {
      "cell_type": "markdown",
      "metadata": {
        "id": "8JIVTlFk_7nW",
        "colab_type": "text"
      },
      "source": [
        "Let's do some more exploration and see if polls actually improve as we get closer to the election day?\n"
      ]
    },
    {
      "cell_type": "code",
      "metadata": {
        "id": "KiGE5ZRD_8db",
        "colab_type": "code",
        "outputId": "3933fef7-8dfb-4ffc-b96b-914676feb35d",
        "colab": {
          "base_uri": "https://localhost:8080/",
          "height": 195
        }
      },
      "source": [
        "# We need to merge the outcome of the election back\n",
        "targets = (\n",
        "    results_2015\n",
        "    .transpose()\n",
        "    .iloc[2:-1]\n",
        "    .reset_index()\n",
        ")\n",
        "\n",
        "targets.columns = ['party', 'outcome']\n",
        "targets['outcome'] = targets.outcome.astype('float')\n",
        "\n",
        "df_train = df_train.merge(targets)\n",
        "df_train.head()\n"
      ],
      "execution_count": 107,
      "outputs": [
        {
          "output_type": "execute_result",
          "data": {
            "text/html": [
              "<div>\n",
              "<style scoped>\n",
              "    .dataframe tbody tr th:only-of-type {\n",
              "        vertical-align: middle;\n",
              "    }\n",
              "\n",
              "    .dataframe tbody tr th {\n",
              "        vertical-align: top;\n",
              "    }\n",
              "\n",
              "    .dataframe thead th {\n",
              "        text-align: right;\n",
              "    }\n",
              "</style>\n",
              "<table border=\"1\" class=\"dataframe\">\n",
              "  <thead>\n",
              "    <tr style=\"text-align: right;\">\n",
              "      <th></th>\n",
              "      <th>date</th>\n",
              "      <th>source</th>\n",
              "      <th>method</th>\n",
              "      <th>party</th>\n",
              "      <th>share</th>\n",
              "      <th>outcome</th>\n",
              "    </tr>\n",
              "  </thead>\n",
              "  <tbody>\n",
              "    <tr>\n",
              "      <th>0</th>\n",
              "      <td>2015-10-18</td>\n",
              "      <td>Nanos Research</td>\n",
              "      <td>telephone</td>\n",
              "      <td>lpc</td>\n",
              "      <td>39.1</td>\n",
              "      <td>39.5</td>\n",
              "    </tr>\n",
              "    <tr>\n",
              "      <th>1</th>\n",
              "      <td>2015-10-18</td>\n",
              "      <td>Forum Research</td>\n",
              "      <td>IVR</td>\n",
              "      <td>lpc</td>\n",
              "      <td>40.0</td>\n",
              "      <td>39.5</td>\n",
              "    </tr>\n",
              "    <tr>\n",
              "      <th>2</th>\n",
              "      <td>2015-10-18</td>\n",
              "      <td>EKOS</td>\n",
              "      <td>IVR/telephone â rolling (1/3)</td>\n",
              "      <td>lpc</td>\n",
              "      <td>35.8</td>\n",
              "      <td>39.5</td>\n",
              "    </tr>\n",
              "    <tr>\n",
              "      <th>3</th>\n",
              "      <td>2015-10-17</td>\n",
              "      <td>EKOS</td>\n",
              "      <td>IVR/telephone â rolling (1/2)</td>\n",
              "      <td>lpc</td>\n",
              "      <td>34.3</td>\n",
              "      <td>39.5</td>\n",
              "    </tr>\n",
              "    <tr>\n",
              "      <th>4</th>\n",
              "      <td>2015-10-17</td>\n",
              "      <td>Ipsos Reid</td>\n",
              "      <td>online/telephone</td>\n",
              "      <td>lpc</td>\n",
              "      <td>38.0</td>\n",
              "      <td>39.5</td>\n",
              "    </tr>\n",
              "  </tbody>\n",
              "</table>\n",
              "</div>"
            ],
            "text/plain": [
              "        date          source  ... share outcome\n",
              "0 2015-10-18  Nanos Research  ...  39.1    39.5\n",
              "1 2015-10-18  Forum Research  ...  40.0    39.5\n",
              "2 2015-10-18            EKOS  ...  35.8    39.5\n",
              "3 2015-10-17            EKOS  ...  34.3    39.5\n",
              "4 2015-10-17      Ipsos Reid  ...  38.0    39.5\n",
              "\n",
              "[5 rows x 6 columns]"
            ]
          },
          "metadata": {
            "tags": []
          },
          "execution_count": 107
        }
      ]
    },
    {
      "cell_type": "code",
      "metadata": {
        "id": "p0kr_VCd__Mj",
        "colab_type": "code",
        "outputId": "bfe673a4-38f5-46a9-cf97-cf019dfe2137",
        "colab": {
          "base_uri": "https://localhost:8080/",
          "height": 394
        }
      },
      "source": [
        "# Does time have an impact on the error of pollsters?\n",
        "df_train['error'] = abs(df_train.share - df_train.outcome)\n",
        "df_train.set_index('date', inplace=True)\n",
        "df_train.error.resample('D').mean().plot()\n"
      ],
      "execution_count": 108,
      "outputs": [
        {
          "output_type": "execute_result",
          "data": {
            "text/plain": [
              "<matplotlib.axes._subplots.AxesSubplot at 0x7f137fc57048>"
            ]
          },
          "metadata": {
            "tags": []
          },
          "execution_count": 108
        },
        {
          "output_type": "display_data",
          "data": {
            "image/png": "[encoded data removed]",
            "text/plain": [
              "<Figure size 720x360 with 1 Axes>"
            ]
          },
          "metadata": {
            "tags": []
          }
        }
      ]
    },
    {
      "cell_type": "code",
      "metadata": {
        "id": "Aj-PEYSf__yk",
        "colab_type": "code",
        "outputId": "340b2b26-fd0b-4b44-f9b5-f7a76cf3cda2",
        "colab": {
          "base_uri": "https://localhost:8080/",
          "height": 269
        }
      },
      "source": [
        "# What about the data collection method?\n",
        "df_train.method.value_counts()\n"
      ],
      "execution_count": 109,
      "outputs": [
        {
          "output_type": "execute_result",
          "data": {
            "text/plain": [
              "telephone â rolling (1/3)        185\n",
              "online                             135\n",
              "IVR                                125\n",
              "IVR/telephone â rolling (1/3)     35\n",
              "telephone                           20\n",
              "telephone â rolling (1/4)         20\n",
              "IVR/telephone â rolling (1/2)     10\n",
              "IVR/telephone â rolling (2/3)     10\n",
              "telephone â rolling (2/5)          5\n",
              "IVR/telephone â rolling            5\n",
              "telephone â rolling                5\n",
              "telephone â rolling (1/2)          5\n",
              "telephone/online                     5\n",
              "online/telephone                     5\n",
              "Name: method, dtype: int64"
            ]
          },
          "metadata": {
            "tags": []
          },
          "execution_count": 109
        }
      ]
    },
    {
      "cell_type": "code",
      "metadata": {
        "id": "pEB2FwS2AANM",
        "colab_type": "code",
        "outputId": "30d00e79-63e5-49a1-dc54-3179d565d3c0",
        "colab": {
          "base_uri": "https://localhost:8080/",
          "height": 151
        }
      },
      "source": [
        "# Let's use some regex to do an initial cleaning\n",
        "regex = r\"\\(.*\\)|/| |rolling\"\n",
        "df_train['method'] = df_train.method.str.replace(regex, \"\")\n",
        "df_train['method'].value_counts()\n"
      ],
      "execution_count": 110,
      "outputs": [
        {
          "output_type": "execute_result",
          "data": {
            "text/plain": [
              "telephoneâ       220\n",
              "online             135\n",
              "IVR                125\n",
              "IVRtelephoneâ     60\n",
              "telephone           20\n",
              "onlinetelephone      5\n",
              "telephoneonline      5\n",
              "Name: method, dtype: int64"
            ]
          },
          "metadata": {
            "tags": []
          },
          "execution_count": 110
        }
      ]
    },
    {
      "cell_type": "code",
      "metadata": {
        "id": "7lYfd3naAAsY",
        "colab_type": "code",
        "outputId": "eb7a44ca-b5d5-4ae1-dcd0-502036ff1d5c",
        "colab": {
          "base_uri": "https://localhost:8080/",
          "height": 84
        }
      },
      "source": [
        "# Let's groups these even further\n",
        "df_train['method'] = df_train.method.str.lower().str[:3]\n",
        "df_train['method'].value_counts()\n"
      ],
      "execution_count": 111,
      "outputs": [
        {
          "output_type": "execute_result",
          "data": {
            "text/plain": [
              "tel    245\n",
              "ivr    185\n",
              "onl    140\n",
              "Name: method, dtype: int64"
            ]
          },
          "metadata": {
            "tags": []
          },
          "execution_count": 111
        }
      ]
    },
    {
      "cell_type": "code",
      "metadata": {
        "id": "ol0xixb0ABGq",
        "colab_type": "code",
        "outputId": "9067ddad-8c4c-4e3d-c663-dbd5baa28298",
        "colab": {
          "base_uri": "https://localhost:8080/",
          "height": 356
        }
      },
      "source": [
        "# Let's use seaborn this time as we now have a long-dataset and see see if there is an abservable difference between the data collection methods\n",
        "sns.violinplot(x=\"method\", y=\"error\",\n",
        "               split=True, inner=\"quart\",\n",
        "               data=df_train)\n"
      ],
      "execution_count": 112,
      "outputs": [
        {
          "output_type": "execute_result",
          "data": {
            "text/plain": [
              "<matplotlib.axes._subplots.AxesSubplot at 0x7f137e1d3908>"
            ]
          },
          "metadata": {
            "tags": []
          },
          "execution_count": 112
        },
        {
          "output_type": "display_data",
          "data": {
            "image/png": "[encoded data removed]",
            "text/plain": [
              "<Figure size 720x360 with 1 Axes>"
            ]
          },
          "metadata": {
            "tags": []
          }
        }
      ]
    },
    {
      "cell_type": "markdown",
      "metadata": {
        "id": "AoaVKeB0ABoT",
        "colab_type": "text"
      },
      "source": [
        "Now that we have some intuition about 2015!\n",
        "\n",
        "## Let's start modeling\n"
      ]
    },
    {
      "cell_type": "code",
      "metadata": {
        "id": "OBcf3YkBAi7-",
        "colab_type": "code",
        "outputId": "d2eea634-9cd3-4394-df0a-b54befb93753",
        "colab": {
          "base_uri": "https://localhost:8080/",
          "height": 34
        }
      },
      "source": [
        "# We need to prepare our test set and verify it has the same form as the train set.\n",
        "df_test = new_df.stack()\n",
        "df_test.name = 'share'\n",
        "df_test = df_test.reset_index().set_index('date')\n",
        "\n",
        "data_2019 = {\n",
        "    \"party\": [\"lpc\", \"cpc\", \"bq\", \"ndp\", \"gpc\"],\n",
        "    \"outcome\": [33.1,34.4, 7.7, 15.9, 6.5],\n",
        "}\n",
        "\n",
        "df_test = df_test.reset_index().merge(pd.DataFrame(data_2019)).set_index('date')\n",
        "df_test['error'] = abs(df_test.share - df_test.outcome)\n",
        "all(df_test.columns == df_train.columns)\n"
      ],
      "execution_count": 113,
      "outputs": [
        {
          "output_type": "execute_result",
          "data": {
            "text/plain": [
              "True"
            ]
          },
          "metadata": {
            "tags": []
          },
          "execution_count": 113
        }
      ]
    },
    {
      "cell_type": "code",
      "metadata": {
        "id": "3WyU3xaeAo5w",
        "colab_type": "code",
        "colab": {}
      },
      "source": [
        "# Let's create a function to clean the method string!\n",
        "def str_magic(input_series):\n",
        "    regex = r\"\\(.*\\)|/| |rolling\"\n",
        "    tmp = input_series.copy()\n",
        "    tmp = df_test['method'].copy()\n",
        "    tmp = tmp.str.replace(regex, \"\")\n",
        "    return tmp.str.lower().str[:3]\n",
        "\n",
        "df_test['method'] = str_magic(df_test['method'])\n"
      ],
      "execution_count": 0,
      "outputs": []
    },
    {
      "cell_type": "code",
      "metadata": {
        "id": "_CZmdmSLApqn",
        "colab_type": "code",
        "colab": {}
      },
      "source": [
        "# Now that we have our train and test sets let's train our models\n",
        "from sklearn.linear_model import LinearRegression\n",
        "from sklearn.ensemble import RandomForestRegressor\n",
        "import pickle\n"
      ],
      "execution_count": 0,
      "outputs": []
    },
    {
      "cell_type": "code",
      "metadata": {
        "id": "OdyAlJbqAqSF",
        "colab_type": "code",
        "colab": {}
      },
      "source": [
        "# We need to prepare our features\n",
        "\n",
        "election_day_2015 = \"2015-10-19\"\n",
        "election_day_2019 = \"2019-10-21\"\n",
        "\n",
        "def add_days(df, election_day):\n",
        "    test = pd.to_datetime(election_day) - df.reset_index()['date']\n",
        "    test.index = df.index\n",
        "    df['days'] = test.dt.days\n",
        "    return df\n",
        "\n",
        "df_train = add_days(df_train, election_day_2015)\n",
        "df_test = add_days(df_test, election_day_2019)\n",
        "\n"
      ],
      "execution_count": 0,
      "outputs": []
    },
    {
      "cell_type": "code",
      "metadata": {
        "id": "3o7s1JInAsUG",
        "colab_type": "code",
        "outputId": "dfe39a93-f26c-4aea-c347-7c0bcb7b73b5",
        "colab": {
          "base_uri": "https://localhost:8080/",
          "height": 339
        }
      },
      "source": [
        "# One-Hot Encoding\n",
        "# Let's remove the group with most counts\n",
        "df_train.method.value_counts().plot(kind='barh')\n"
      ],
      "execution_count": 117,
      "outputs": [
        {
          "output_type": "execute_result",
          "data": {
            "text/plain": [
              "<matplotlib.axes._subplots.AxesSubplot at 0x7f137e1d35f8>"
            ]
          },
          "metadata": {
            "tags": []
          },
          "execution_count": 117
        },
        {
          "output_type": "display_data",
          "data": {
            "image/png": "[encoded data removed]",
            "text/plain": [
              "<Figure size 720x360 with 1 Axes>"
            ]
          },
          "metadata": {
            "tags": []
          }
        }
      ]
    },
    {
      "cell_type": "code",
      "metadata": {
        "id": "jRqJ8jjKAvyx",
        "colab_type": "code",
        "colab": {}
      },
      "source": [
        "# Let's drop the most common value\n",
        "train_dummies = pd.get_dummies(df_train['method'])\n",
        "train_dummies.pop('tel')\n",
        "df_train = pd.concat([df_train, train_dummies], axis=1)\n",
        "\n",
        "test_dummies = pd.get_dummies(df_test['method'])\n",
        "test_dummies.pop('tel')\n",
        "df_test = pd.concat([df_test, test_dummies], axis=1)\n",
        "\n",
        "y_var = 'outcome'\n",
        "X_vars = ['share', 'days', 'ivr', 'onl']\n",
        "\n",
        "predictions = []\n",
        "\n",
        "models = [\n",
        "    LinearRegression(),\n",
        "    RandomForestRegressor(),\n",
        "]\n"
      ],
      "execution_count": 0,
      "outputs": []
    },
    {
      "cell_type": "code",
      "metadata": {
        "id": "_XFmeOf1AwyJ",
        "colab_type": "code",
        "outputId": "c9877c39-5727-4de4-9040-179710ca4d45",
        "colab": {
          "base_uri": "https://localhost:8080/",
          "height": 1000
        }
      },
      "source": [
        "# Fit, predict, and save your models\n",
        "for i in range(2):\n",
        "    models[i].fit(df_train[X_vars], df_train[y_var])\n",
        "    predictions.append(models[i].predict(df_test[X_vars]))\n",
        "    pickle.dump(models[i], open(f\"model_{i}.pkl\", 'wb'))\n",
        "\n",
        "predictions[0]"
      ],
      "execution_count": 119,
      "outputs": [
        {
          "output_type": "stream",
          "text": [
            "/usr/local/lib/python3.6/dist-packages/sklearn/ensemble/forest.py:245: FutureWarning: The default value of n_estimators will change from 10 in version 0.20 to 100 in 0.22.\n",
            "  \"10 in version 0.20 to 100 in 0.22.\", FutureWarning)\n"
          ],
          "name": "stderr"
        },
        {
          "output_type": "execute_result",
          "data": {
            "text/plain": [
              "array([ 3.73912665,  3.59647675,  3.14607511,  3.35181949,  3.59740465,\n",
              "        3.94626287,  3.96812475,  4.62427078,  4.15200725,  4.27650935,\n",
              "        4.62473473,  3.55849177,  4.05029493,  3.55895571,  4.35867953,\n",
              "        3.04621857,  4.4617837 ,  4.99684667,  5.69393027,  4.56488786,\n",
              "        4.8946704 ,  3.60065227,  4.56535181,  4.56535181,  5.40833544,\n",
              "        5.65392059,  3.60111622,  4.46317554,  5.30615916,  4.62798235,\n",
              "        4.62798235,  4.87420036,  5.10134267,  4.6284463 ,  5.18258496,\n",
              "        4.28068487,  4.62891024,  5.28568912,  3.97322816,  3.35785079,\n",
              "        5.49189745,  4.17943649,  2.53765694,  5.28708096,  3.66669934,\n",
              "        6.6835704 ,  4.63076603,  4.63076603,  4.97962425,  3.97508394,\n",
              "        5.69856973,  4.9800882 ,  4.07818811,  4.63169392,  5.39111302,\n",
              "        5.10505424,  5.49421719,  5.51607906,  5.41390279,  4.63308576,\n",
              "        4.49060477,  6.00881012,  4.69634915,  4.63401365,  6.68681803,\n",
              "        6.2145545 ,  4.6968131 ,  6.72821954,  6.68728198,  5.80445757,\n",
              "        4.79991726,  6.93396393,  4.69774099,  5.66180768,  6.68820987,\n",
              "        6.68820987,  5.0061256 ,  5.66180768,  7.34498875,  4.90348538,\n",
              "        5.51979064,  5.82817524,  6.68960171,  7.55166102,  5.52071853,\n",
              "        7.86004563,  7.71693179,  6.03484751,  7.65522914,  5.52164642,\n",
              "        6.73193111,  7.34777243,  5.62475059,  5.11201344,  7.20465859,\n",
              "        7.34823637,  5.83049497,  6.69192144,  8.78566338,  7.71832363,\n",
              "        6.93813944,  6.75472088,  7.71878757,  6.28182451,  6.69238539,\n",
              "        6.65254461,  6.28228846,  4.60020418,  7.65754887,  6.858289  ,\n",
              "       36.78927708, 35.41494457, 33.11701898, 32.60428183, 32.3366659 ,\n",
              "       35.45681003, 34.76019037, 36.44273859, 35.25199353, 36.3002576 ,\n",
              "       33.36399598, 37.63504439, 34.84236055, 38.25134965, 34.63754406,\n",
              "       37.84125272, 34.63800801, 37.22587535, 33.40678933, 35.25431327,\n",
              "       35.89201646, 34.3927179 , 35.76797831, 36.2811794 , 34.66079778,\n",
              "       35.41958403, 36.44598622, 36.38428357, 33.84013998, 34.39364579,\n",
              "       33.3672436 , 35.97418664, 35.79076808, 31.31490317, 36.28257124,\n",
              "       33.94370809, 33.36817149, 36.07775475, 34.04681225, 34.45783707,\n",
              "       34.12851848, 34.56094124, 31.3795584 , 34.53954331, 34.35612475,\n",
              "       37.47563603, 37.47563603, 34.39642947, 36.59281163, 34.86978979,\n",
              "       31.35862442, 36.49063536, 34.25441242, 34.39735736, 36.90166018,\n",
              "       35.58919921, 35.25988062, 34.66590119, 32.92148142, 33.37234701,\n",
              "       33.02458558, 33.72166918, 33.74353106, 33.3732749 , 34.39967709,\n",
              "       33.51685269, 35.18095807, 35.46748079, 31.32093447, 32.38827423,\n",
              "       35.18142201, 32.59401861, 33.53964246, 32.34826456, 34.40106893,\n",
              "       31.32186237, 32.00050313, 31.32186237, 32.08128147, 33.54010641,\n",
              "       32.41152795, 32.61727233, 32.34965639, 32.69851462, 32.41245584,\n",
              "       31.46729594, 33.37698647, 32.10546308, 30.95455879, 32.82394461,\n",
              "       29.31277924, 31.26294339, 32.82440855, 32.8248725 , 30.8119089 ,\n",
              "       32.28980953, 31.90111053, 31.32557394, 30.2374691 , 33.37837831,\n",
              "       32.29027347, 30.56725163, 32.35244007, 31.73659876, 33.37884226,\n",
              "       31.79939821, 31.63442249, 30.26025887, 32.59912202, 32.82626434,\n",
              "       11.43714305,  8.72848769,  9.20184801,  9.30495218, 10.78221996,\n",
              "        9.69411512,  7.45789219,  8.72987953,  9.18137797,  6.12403329,\n",
              "       10.78314785,  6.63769833,  9.9007874 ,  7.35664381,  9.59333069,\n",
              "        8.99935125, 10.20963595,  8.69189454, 10.8259412 , 10.51802055,\n",
              "        9.20555958,  9.7590654 , 10.10792362, 10.10792362, 10.33506594,\n",
              "       10.78593153, 10.78593153,  9.38990603,  9.82232879,  9.75999329,\n",
              "       10.78639548,  9.08244933,  8.48846989,  9.76045724,  8.98027305,\n",
              "        9.20741537,  9.76092118,  9.49393809, 10.2342815 , 13.00603135,\n",
              "        9.90542686, 12.39065399, 13.21223968, 10.31645168, 12.39111793,\n",
              "        7.70997259,  6.6835704 , 10.78917915,  9.80371453, 10.8519786 ,\n",
              "       11.85698286,  9.80417848,  9.92868058, 10.79010705,  8.77824024,\n",
              "        9.62122387,  8.8813444 ,  7.8768041 ,  7.05614629,  7.71229232,\n",
              "        7.67245155,  9.49857756,  9.315159  ,  9.76602459,  6.68681803,\n",
              "        9.90960238,  9.52090338, 11.86023048, 10.79289073, 10.11534676,\n",
              "        8.8028858 ,  9.60260961,  7.87958777,  8.74101424,  8.74101424,\n",
              "        9.76741643, 12.60150178,  9.76741643,  9.19251269,  8.49589303,\n",
              "        8.5989972 ,  8.70210136,  7.71600389,  8.06486212,  9.01048597,\n",
              "        8.2706065 ,  7.71693179,  6.44540839,  7.4499487 ,  9.11405408,\n",
              "        7.7583333 ,  6.73193111,  8.90923759,  7.57537869,  7.71785968,\n",
              "        5.50071244,  9.21762219,  8.74472581,  8.06718185,  5.66551925,\n",
              "        5.19325573,  9.0128057 ,  7.71878757,  8.84782998,  5.6659832 ,\n",
              "        9.21855008,  8.84829393,  7.78205096,  5.81002493,  5.62660637,\n",
              "       32.78630855, 35.41494457, 35.78566467, 35.58084818, 35.41587246,\n",
              "       36.99641331, 34.3496295 , 33.36353203, 37.30479791, 35.27385541,\n",
              "       34.39039816, 35.89016067, 37.71628668, 35.37742352, 37.30618975,\n",
              "       34.55676572, 36.38289173, 32.29914485, 33.40678933, 34.3305513 ,\n",
              "       33.22337077, 32.33991352, 32.38085109, 34.12573481, 33.42911515,\n",
              "       30.28757309, 32.34037747, 34.84468028, 35.48238348, 35.42004798,\n",
              "       34.39364579, 35.66626598, 35.68812786, 35.42051192, 34.84560818,\n",
              "       35.89387224, 35.42097587, 33.81966994, 34.76529378, 32.91823379,\n",
              "       34.43643914, 32.81605752, 33.74028343, 34.84746396, 33.0218019 ,\n",
              "       30.29082072, 34.39642947, 34.39642947, 33.7188855 , 32.50906476,\n",
              "       34.43783098, 33.92462989, 34.56233308, 32.34455298, 33.82245361,\n",
              "       33.22847418, 34.74667953, 36.71870556, 36.61652929, 35.42515139,\n",
              "       37.13019433, 33.51638874, 34.66729303, 35.42607928, 35.42607928,\n",
              "       33.0036516 , 34.97567763, 28.28266548, 31.32093447, 32.08035357,\n",
              "       36.00254376, 30.54121424, 37.33733055, 32.34826456, 29.26905799,\n",
              "       29.26905799, 30.7688205 , 35.42747112, 29.20735534, 35.79819122,\n",
              "       33.54057035, 31.79615058, 30.29685202, 31.05627112, 32.61773628,\n",
              "       31.05673506, 29.27137772, 31.48962176, 31.26247945, 32.2081033 ,\n",
              "       30.33918143, 32.28934558, 31.79800637, 31.28526922, 33.89111546,\n",
              "       32.49508997, 31.79847031, 31.32557394, 32.08499304, 33.37837831,\n",
              "       33.21403544, 32.92797667, 34.40524445, 32.04451942, 31.32603788,\n",
              "       31.28619711, 31.73706271, 34.57114806, 31.98328071, 32.00514259,\n",
              "        8.35793649, 13.86049863, 15.56554157, 16.48976749, 13.86142652,\n",
              "        9.38619446, 16.284951  , 12.83548828,  9.48929863, 15.25901276,\n",
              "       11.80955004, 13.41195277,  9.59286674, 11.56489277,  9.90125134,\n",
              "       12.59175891, 10.72283704, 13.51598482, 10.8259412 , 11.23650208,\n",
              "       13.82436943, 14.89107633, 10.72376493, 10.72376493, 12.59315075,\n",
              "       14.89154028, 14.89154028, 11.03214953, 12.69625491, 11.81279766,\n",
              "       12.83919985, 10.62205261, 12.49143842, 13.86606598, 10.51987633,\n",
              "       14.33942631, 14.89293212, 10.52034028, 14.85309135, 14.23771398,\n",
              "       11.54767036, 12.80121486, 11.15943531, 10.72701256, 13.00695925,\n",
              "       13.86838572, 14.8947879 , 13.86838572, 11.44595803, 14.1364656 ,\n",
              "       11.85698286, 11.44642198, 15.06069152, 13.86931361, 11.75480658,\n",
              "       14.75323481, 11.24206944, 13.62465635, 15.47264423, 15.92350982,\n",
              "       14.85726686, 13.19362543, 14.85773081, 12.84523115, 14.89803553,\n",
              "       13.09144916, 13.31859147, 12.88663267, 17.97770604, 14.22095551,\n",
              "       13.2164152 , 15.04254121, 13.93536068, 17.97863393, 16.95223174,\n",
              "       19.00503612, 12.90942244, 14.89942737, 16.58260844, 15.16750725,\n",
              "       18.04189732, 19.68460477, 20.03283014, 16.58400027, 19.17186762,\n",
              "       17.20030553, 19.00735585, 18.35167376, 18.32981189, 18.76223464,\n",
              "       20.07515955, 18.63819649, 18.8653388 , 17.53147991, 16.44227827,\n",
              "       18.84394087, 18.96844297, 17.9823455 , 17.51008198, 17.9823455 ,\n",
              "       18.33120373, 18.3530656 , 15.93000507, 17.36696814, 17.98280945,\n",
              "       18.76409042, 17.77799296, 18.25135328, 18.33213162, 20.81735875])"
            ]
          },
          "metadata": {
            "tags": []
          },
          "execution_count": 119
        }
      ]
    },
    {
      "cell_type": "code",
      "metadata": {
        "id": "C0LPvyXjAykO",
        "colab_type": "code",
        "outputId": "9d37fe6f-2587-4989-c166-3967e63409ca",
        "colab": {
          "base_uri": "https://localhost:8080/",
          "height": 67
        }
      },
      "source": [
        "# Load your models from the disc and make a prediction\n",
        "input_date = '2019-09-20'\n",
        "\n",
        "file_name = \"model_0.pkl\"\n",
        "loaded_model = pickle.load(open(file_name, 'rb'))\n",
        "\n",
        "predictions = loaded_model.predict(df_test.loc[input_date,X_vars])\n",
        "results = df_test.loc[input_date, [y_var] + [\"party\", \"share\"]].assign(model_0=predictions)\n",
        "results['abs_e_poll'] = abs(results.outcome - results.share)\n",
        "results['abs_e_model_0'] = abs(results.outcome - results.model_0)\n",
        "\n",
        "print(results.loc[:,results.columns.str.contains('abs_e')].sum())\n"
      ],
      "execution_count": 153,
      "outputs": [
        {
          "output_type": "stream",
          "text": [
            "abs_e_poll       25.300000\n",
            "abs_e_model_0    26.551708\n",
            "dtype: float64\n"
          ],
          "name": "stdout"
        }
      ]
    }
  ]
}