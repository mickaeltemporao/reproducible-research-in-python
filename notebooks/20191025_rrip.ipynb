{
  "nbformat": 4,
  "nbformat_minor": 0,
  "metadata": {
    "colab": {
      "name": "20191025_rrip.ipynb",
      "provenance": [],
      "collapsed_sections": [],
      "include_colab_link": true
    },
    "kernelspec": {
      "name": "python3",
      "display_name": "Python 3"
    },
    "accelerator": "GPU"
  },
  "cells": [
    {
      "cell_type": "markdown",
      "metadata": {
        "id": "view-in-github",
        "colab_type": "text"
      },
      "source": [
        "<a href=\"https://colab.research.google.com/github/mickaeltemporao/reproducible-research-in-python/blob/master/notebooks/20191025_rrip.ipynb\" target=\"_parent\"><img src=\"https://colab.research.google.com/assets/colab-badge.svg\" alt=\"Open In Colab\"/></a>"
      ]
    },
    {
      "cell_type": "markdown",
      "metadata": {
        "id": "YA8rfoQu93ql",
        "colab_type": "text"
      },
      "source": [
        "# Reproducible Research in Python\n",
        "Workshop McMaster University, October 25th 2019\n",
        "\n",
        "This notebook was created as part of a workshop on *Reproducible Research in Python*. You can check the Workshop here: [Reproducible Research in Python](XXX)\n",
        "\n",
        "### Important Note\n",
        "\n",
        "This is a hands on workshop. It is better if you start coding along with me during the workshop, experiment bugs and try to understand your errors. \n",
        "Learn by doing and do not copy/paste code, instead type anything. \n",
        "\n",
        "Feel free to ask me questions at any time during the workshop.\n",
        "\n",
        "### Prerequisites\n",
        "Prior to the workshop, users need to:\n",
        "- [ ] Account on [Google Colab](https://colab.research.google.com/) \n",
        "- [ ] Account on [GitHub](https://github.com/)\n",
        "- [ ] Local [Python 3.6.8+](https://docs.python-guide.org/starting/installation/) [optional]\n",
        "\n",
        "### Structure\n",
        "This workshop is divided into three parts. The first part is an introduction the [Python](https://www.python.org/) programming language where you will learn the basics of the language and how to use built-in libraries. The second part of the workshop you will learn how to acquire, explore, and transform data (Pandas, Seaborn). In the third and last part, you will learn how to create pipelines to train models from the data and create a python package to share your code (sci-kit learn, poetry).\n",
        "\n",
        "### Software\n",
        "XXX\n",
        "\n",
        "### Resources\n",
        "XXX\n",
        "\n",
        "### License and credit\n",
        "XXX\n",
        "\n",
        "### Contact\n",
        "For any follow-up questions:\n",
        "- twitter: [@mickaeltemporao](https://twitter.com/mickaeltemporao)\n",
        "- email: mickael.temporao@gmail.com"
      ]
    },
    {
      "cell_type": "markdown",
      "metadata": {
        "id": "OlRyHtG09958",
        "colab_type": "text"
      },
      "source": [
        "# Agenda\n",
        "\n",
        "- [Introduction]() \n",
        "    - [Hello World]()\n",
        "    - [Python Basics]()\n",
        "    - [Python Tips & Tricks]()\n",
        "- [Data Acquisition, Analysis, & Transformation]()\n",
        "    - [Pandas]()\n",
        "    - [Seaborn]()\n",
        "- [Mdeling & Sharing]()\n",
        "    - [sci-kit learn]()\n",
        "    - [poetry]()"
      ]
    },
    {
      "cell_type": "markdown",
      "metadata": {
        "id": "7N1xYI1j3ZEZ",
        "colab_type": "text"
      },
      "source": [
        "# Introduction\n",
        "\n",
        "![Draw the Owl](http://www.forimpact.org/wp-content/uploads/2014/01/HowToDrawOwl.jpg)\n"
      ]
    },
    {
      "cell_type": "markdown",
      "metadata": {
        "id": "_fiE5U9mXaJm",
        "colab_type": "text"
      },
      "source": [
        "## Python \n",
        "\n",
        "- Open Source \n",
        "- General Purpose Programming Language\n",
        "- Created by Guido Van Rossum\n",
        "- Interpreted\n",
        "- Large Community "
      ]
    },
    {
      "cell_type": "markdown",
      "metadata": {
        "id": "YkYBvekj8AWB",
        "colab_type": "text"
      },
      "source": [
        "## Hello World\n",
        "\n",
        "**Learning Objective:**\n",
        "- Gain familiarity with an Interactive Python Environment\n",
        "- Learn how code is executed\n",
        "- Learn about *strings* in Python"
      ]
    },
    {
      "cell_type": "code",
      "metadata": {
        "id": "8GNA7diq8z-t",
        "colab_type": "code",
        "colab": {}
      },
      "source": [
        "print(\"Greetings!\")"
      ],
      "execution_count": 0,
      "outputs": []
    },
    {
      "cell_type": "markdown",
      "metadata": {
        "id": "ikqxPVSr86zx",
        "colab_type": "text"
      },
      "source": [
        "## Exercise #1\n"
      ]
    },
    {
      "cell_type": "code",
      "metadata": {
        "id": "5YUSoD5Ug4Af",
        "colab_type": "code",
        "colab": {}
      },
      "source": [
        "# Press CTRL/CMD+ENTER to run this cell\n",
        "print(\"5\" + \"3\")"
      ],
      "execution_count": 0,
      "outputs": []
    },
    {
      "cell_type": "markdown",
      "metadata": {
        "id": "DiS8xiGCgxGY",
        "colab_type": "text"
      },
      "source": [
        "What's the output of Exercise 1?"
      ]
    },
    {
      "cell_type": "markdown",
      "metadata": {
        "id": "MwMPk-svffxa",
        "colab_type": "text"
      },
      "source": [
        "## Excercise 2"
      ]
    },
    {
      "cell_type": "code",
      "metadata": {
        "id": "xJW3UOq2iZ-e",
        "colab_type": "code",
        "colab": {}
      },
      "source": [
        "# Instructions are executed sequentially\n",
        "# Run the code below\n",
        "print(\" _____\")\n",
        "print(\"|     |\")\n",
        "print(\"|     |\")\n",
        "print(\"|_____|\")"
      ],
      "execution_count": 0,
      "outputs": []
    },
    {
      "cell_type": "code",
      "metadata": {
        "id": "LVdFAgVUjZlN",
        "colab_type": "code",
        "outputId": "f8a13f03-ecc2-44f9-e15c-061c4baf0f10",
        "colab": {
          "base_uri": "https://localhost:8080/",
          "height": 34
        }
      },
      "source": [
        "# What is the output of the previous sell?\n",
        "# Edit the print function with your answer.\n",
        "print(\"Nothing?\")"
      ],
      "execution_count": 0,
      "outputs": [
        {
          "output_type": "stream",
          "text": [
            "Nothing?\n"
          ],
          "name": "stdout"
        }
      ]
    },
    {
      "cell_type": "markdown",
      "metadata": {
        "id": "JJT7WfvhjrH1",
        "colab_type": "text"
      },
      "source": [
        "## Hack-Time"
      ]
    },
    {
      "cell_type": "code",
      "metadata": {
        "id": "tdkxojGxklzh",
        "colab_type": "code",
        "colab": {}
      },
      "source": [
        "# Print your first and last name?"
      ],
      "execution_count": 0,
      "outputs": []
    },
    {
      "cell_type": "markdown",
      "metadata": {
        "id": "mkZCKT7VCk2M",
        "colab_type": "text"
      },
      "source": [
        "# Python Basics"
      ]
    },
    {
      "cell_type": "code",
      "metadata": {
        "id": "YcwnBiyWrCFl",
        "colab_type": "code",
        "outputId": "d87bb10f-f271-4508-f46e-22d8c9341b0d",
        "colab": {
          "base_uri": "https://localhost:8080/",
          "height": 34
        }
      },
      "source": [
        "## Variables \n",
        "### Reproducibility!\n",
        "\n",
        "## Lists\n",
        "### Data Types\n",
        "### List Manipulation\n",
        "#### Subsetting & Slicing\n",
        "#### Adding & Removing\n",
        "\n",
        "## Functions and Libraries\n",
        "### Functions\n",
        "#### Methods\n",
        "### Packages\n",
        "\n",
        "## Built-in Libraries"
      ],
      "execution_count": 0,
      "outputs": [
        {
          "output_type": "stream",
          "text": [
            "Python 3.6.8\n"
          ],
          "name": "stdout"
        }
      ]
    },
    {
      "cell_type": "markdown",
      "metadata": {
        "id": "bjrMpga3m0N-",
        "colab_type": "text"
      },
      "source": [
        "## Some IPython Magic\n",
        "\n",
        "- %who\n",
        "- %history\n",
        "- %save\n",
        "- %run "
      ]
    },
    {
      "cell_type": "code",
      "metadata": {
        "id": "neRVEnjqqENX",
        "colab_type": "code",
        "outputId": "35bef963-8efb-4cf2-c970-bb04eeedb4ce",
        "colab": {
          "base_uri": "https://localhost:8080/",
          "height": 156
        }
      },
      "source": [
        "%lsmagic"
      ],
      "execution_count": 0,
      "outputs": [
        {
          "output_type": "execute_result",
          "data": {
            "application/json": {
              "cell": {
                "prun": "ExecutionMagics",
                "file": "Other",
                "!": "OSMagics",
                "capture": "ExecutionMagics",
                "timeit": "ExecutionMagics",
                "script": "ScriptMagics",
                "pypy": "Other",
                "system": "OSMagics",
                "perl": "Other",
                "html": "DisplayMagics",
                "bash": "Other",
                "shell": "Other",
                "HTML": "Other",
                "python": "Other",
                "SVG": "Other",
                "javascript": "DisplayMagics",
                "bigquery": "Other",
                "js": "DisplayMagics",
                "writefile": "OSMagics",
                "ruby": "Other",
                "python3": "Other",
                "python2": "Other",
                "latex": "DisplayMagics",
                "sx": "OSMagics",
                "svg": "DisplayMagics",
                "sh": "Other",
                "time": "ExecutionMagics",
                "debug": "ExecutionMagics"
              },
              "line": {
                "psource": "NamespaceMagics",
                "logstart": "LoggingMagics",
                "popd": "OSMagics",
                "tensorflow_version": "Other",
                "loadpy": "CodeMagics",
                "colors": "BasicMagics",
                "who_ls": "NamespaceMagics",
                "lf": "Other",
                "ll": "Other",
                "pprint": "BasicMagics",
                "lk": "Other",
                "ls": "Other",
                "save": "CodeMagics",
                "tb": "ExecutionMagics",
                "lx": "Other",
                "pylab": "PylabMagics",
                "killbgscripts": "ScriptMagics",
                "quickref": "BasicMagics",
                "magic": "BasicMagics",
                "dhist": "OSMagics",
                "edit": "KernelMagics",
                "logstop": "LoggingMagics",
                "gui": "BasicMagics",
                "prun": "ExecutionMagics",
                "debug": "ExecutionMagics",
                "page": "BasicMagics",
                "logstate": "LoggingMagics",
                "ed": "Other",
                "pushd": "OSMagics",
                "timeit": "ExecutionMagics",
                "set_env": "OSMagics",
                "rehashx": "OSMagics",
                "hist": "Other",
                "qtconsole": "KernelMagics",
                "rm": "Other",
                "dirs": "OSMagics",
                "run": "ExecutionMagics",
                "reset_selective": "NamespaceMagics",
                "pinfo2": "NamespaceMagics",
                "matplotlib": "PylabMagics",
                "unload_ext": "ExtensionMagics",
                "doctest_mode": "BasicMagics",
                "logoff": "LoggingMagics",
                "reload_ext": "ExtensionMagics",
                "pdb": "ExecutionMagics",
                "load": "CodeMagics",
                "lsmagic": "BasicMagics",
                "autosave": "KernelMagics",
                "cd": "OSMagics",
                "pastebin": "CodeMagics",
                "alias_magic": "BasicMagics",
                "cp": "Other",
                "autocall": "AutoMagics",
                "ldir": "Other",
                "bookmark": "OSMagics",
                "connect_info": "KernelMagics",
                "mkdir": "Other",
                "system": "OSMagics",
                "whos": "NamespaceMagics",
                "rmdir": "Other",
                "automagic": "AutoMagics",
                "store": "StoreMagics",
                "more": "KernelMagics",
                "shell": "Other",
                "pdef": "NamespaceMagics",
                "precision": "BasicMagics",
                "pinfo": "NamespaceMagics",
                "pwd": "OSMagics",
                "psearch": "NamespaceMagics",
                "reset": "NamespaceMagics",
                "recall": "HistoryMagics",
                "xdel": "NamespaceMagics",
                "xmode": "BasicMagics",
                "cat": "Other",
                "mv": "Other",
                "rerun": "HistoryMagics",
                "logon": "LoggingMagics",
                "history": "HistoryMagics",
                "pycat": "OSMagics",
                "pip": "Other",
                "unalias": "OSMagics",
                "env": "OSMagics",
                "load_ext": "ExtensionMagics",
                "config": "ConfigMagics",
                "profile": "BasicMagics",
                "pfile": "NamespaceMagics",
                "less": "KernelMagics",
                "who": "NamespaceMagics",
                "notebook": "BasicMagics",
                "man": "KernelMagics",
                "sx": "OSMagics",
                "macro": "ExecutionMagics",
                "clear": "KernelMagics",
                "alias": "OSMagics",
                "time": "ExecutionMagics",
                "sc": "OSMagics",
                "rep": "Other",
                "pdoc": "NamespaceMagics"
              }
            },
            "text/plain": [
              "Available line magics:\n",
              "%alias  %alias_magic  %autocall  %automagic  %autosave  %bookmark  %cat  %cd  %clear  %colors  %config  %connect_info  %cp  %debug  %dhist  %dirs  %doctest_mode  %ed  %edit  %env  %gui  %hist  %history  %killbgscripts  %ldir  %less  %lf  %lk  %ll  %load  %load_ext  %loadpy  %logoff  %logon  %logstart  %logstate  %logstop  %ls  %lsmagic  %lx  %macro  %magic  %man  %matplotlib  %mkdir  %more  %mv  %notebook  %page  %pastebin  %pdb  %pdef  %pdoc  %pfile  %pinfo  %pinfo2  %pip  %popd  %pprint  %precision  %profile  %prun  %psearch  %psource  %pushd  %pwd  %pycat  %pylab  %qtconsole  %quickref  %recall  %rehashx  %reload_ext  %rep  %rerun  %reset  %reset_selective  %rm  %rmdir  %run  %save  %sc  %set_env  %shell  %store  %sx  %system  %tb  %tensorflow_version  %time  %timeit  %unalias  %unload_ext  %who  %who_ls  %whos  %xdel  %xmode\n",
              "\n",
              "Available cell magics:\n",
              "%%!  %%HTML  %%SVG  %%bash  %%bigquery  %%capture  %%debug  %%file  %%html  %%javascript  %%js  %%latex  %%perl  %%prun  %%pypy  %%python  %%python2  %%python3  %%ruby  %%script  %%sh  %%shell  %%svg  %%sx  %%system  %%time  %%timeit  %%writefile\n",
              "\n",
              "Automagic is ON, % prefix IS NOT needed for line magics."
            ]
          },
          "metadata": {
            "tags": []
          },
          "execution_count": 17
        }
      ]
    }
  ]
}