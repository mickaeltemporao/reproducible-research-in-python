{
  "nbformat": 4,
  "nbformat_minor": 0,
  "metadata": {
    "colab": {
      "name": "20191025_rrip.ipynb",
      "provenance": [],
      "collapsed_sections": [],
      "toc_visible": true,
      "include_colab_link": true
    },
    "kernelspec": {
      "name": "python3",
      "display_name": "Python 3"
    },
    "accelerator": "GPU"
  },
  "cells": [
    {
      "cell_type": "markdown",
      "metadata": {
        "id": "view-in-github",
        "colab_type": "text"
      },
      "source": [
        "<a href=\"https://colab.research.google.com/github/mickaeltemporao/reproducible-research-in-python/blob/master/notebooks/20191025_rrip.ipynb\" target=\"_parent\"><img src=\"https://colab.research.google.com/assets/colab-badge.svg\" alt=\"Open In Colab\"/></a>"
      ]
    },
    {
      "cell_type": "markdown",
      "metadata": {
        "id": "YA8rfoQu93ql",
        "colab_type": "text"
      },
      "source": [
        "# Reproducible Research in Python\n",
        "Workshop McMaster University, October 25th 2019\n",
        "\n",
        "This notebook was created as part of a workshop on *Reproducible Research in Python*. You can check the Workshop here: [Reproducible Research in Python](XXX)\n",
        "\n",
        "### Important Note\n",
        "\n",
        "This is a hands on workshop. It is better if you start coding along with me during the workshop, experiment bugs and try to understand your errors. \n",
        "Learn by doing and do not copy/paste code, instead type anything. \n",
        "\n",
        "Feel free to ask me questions at any time during the workshop.\n",
        "\n",
        "### Prerequisites\n",
        "Prior to the workshop, users need to:\n",
        "- [ ] Account on [Google Colab](https://colab.research.google.com/) \n",
        "- [ ] Account on [GitHub](https://github.com/)\n",
        "\n",
        "### Structure\n",
        "This workshop is divided into three parts. The first part is an introduction the [Python](https://www.python.org/) programming language where you will learn the basics of the language and how to use built-in libraries. The second part of the workshop you will learn how to acquire, explore, and transform data (Pandas, Seaborn). In the third and last part, you will learn how to create pipelines to train models from the data and create a python package to share your code (sci-kit learn, poetry).\n",
        "\n",
        "### Software\n",
        "- [ ] [Python 3.6.8+](https://docs.python-guide.org/starting/installation/) \n",
        "\n",
        "### Resources\n",
        "- The Python Package Index: https://pypi.org/\n",
        "- Installing Python Pakcages: https://packaging.python.org/tutorials/installing-packages/\n",
        "- Minimal Package Structure: https://python-packaging.readthedocs.io/en/latest/minimal.html\n",
        "- Guidelines to document your code: https://sphinxcontrib-napoleon.readthedocs.io/en/latest/example_numpy.html\n",
        "\n",
        "### License and credit\n",
        "XXX\n",
        "\n",
        "### Contact\n",
        "For any follow-up questions:\n",
        "- twitter: [@mickaeltemporao](https://twitter.com/mickaeltemporao)\n",
        "- email: mickael.temporao@gmail.com"
      ]
    },
    {
      "cell_type": "markdown",
      "metadata": {
        "id": "OlRyHtG09958",
        "colab_type": "text"
      },
      "source": [
        "# Introduction\n",
        "\n",
        "![Draw the Owl](http://www.forimpact.org/wp-content/uploads/2014/01/HowToDrawOwl.jpg)\n",
        "\n",
        "## Agenda\n",
        "\n",
        "- [Python Basics]() \n",
        "- [Data Acquisition, Analysis, & Transformation]()\n",
        "- [Mdeling & Sharing]()\n",
        "\n",
        "\n",
        "\n",
        "\n"
      ]
    },
    {
      "cell_type": "markdown",
      "metadata": {
        "id": "mkZCKT7VCk2M",
        "colab_type": "text"
      },
      "source": [
        "# Python Basics\n",
        "\n",
        "**Learning Objective:** \n",
        "- Learn how code is executed in an Interactive Python Environment\n",
        "- Get familiar with Python and some of its data types \n",
        "- Learn how to use functions, modules, packages.\n"
      ]
    },
    {
      "cell_type": "markdown",
      "metadata": {
        "id": "_fiE5U9mXaJm",
        "colab_type": "text"
      },
      "source": [
        "## Python \n",
        "\n",
        "- Open Source \n",
        "- General Purpose Programming Language\n",
        "- Created by Guido Van Rossum\n",
        "- Interpreted\n",
        "- Large Community \n"
      ]
    },
    {
      "cell_type": "markdown",
      "metadata": {
        "id": "XWXP479C8833",
        "colab_type": "text"
      },
      "source": [
        "## IPython Shell\n",
        "\n",
        "- Run Python commands interactively\n",
        "\n",
        "Magic Commands\n",
        "\n",
        "```\n",
        "- %lsmagic\n",
        "- %who\n",
        "- %history\n",
        "- %save\n",
        "- %run\n",
        "- %?\n",
        "```"
      ]
    },
    {
      "cell_type": "markdown",
      "metadata": {
        "id": "YkYBvekj8AWB",
        "colab_type": "text"
      },
      "source": [
        "## Hello World\n"
      ]
    },
    {
      "cell_type": "code",
      "metadata": {
        "id": "8GNA7diq8z-t",
        "colab_type": "code",
        "outputId": "43b8a08a-113d-4a06-a5cb-1b3eea46cfe6",
        "colab": {
          "base_uri": "https://localhost:8080/",
          "height": 34
        }
      },
      "source": [
        "print(\"Greetings!\")"
      ],
      "execution_count": 182,
      "outputs": [
        {
          "output_type": "stream",
          "text": [
            "Greetings!\n"
          ],
          "name": "stdout"
        }
      ]
    },
    {
      "cell_type": "markdown",
      "metadata": {
        "id": "ikqxPVSr86zx",
        "colab_type": "text"
      },
      "source": [
        "If you run the code below, what is the output?\n"
      ]
    },
    {
      "cell_type": "code",
      "metadata": {
        "id": "5YUSoD5Ug4Af",
        "colab_type": "code",
        "outputId": "291e9faa-65b7-4ceb-9487-cc6fe54aebd9",
        "colab": {
          "base_uri": "https://localhost:8080/",
          "height": 34
        }
      },
      "source": [
        "# Press CTRL/CMD+ENTER to run this cell\n",
        "print(\"5\" + \"3\")"
      ],
      "execution_count": 183,
      "outputs": [
        {
          "output_type": "stream",
          "text": [
            "53\n"
          ],
          "name": "stdout"
        }
      ]
    },
    {
      "cell_type": "markdown",
      "metadata": {
        "id": "LA31CS2fqYYF",
        "colab_type": "text"
      },
      "source": [
        "In python you can sum *STRINGS*. As you are doing the sum of two *STRINGS* the result is 53."
      ]
    },
    {
      "cell_type": "markdown",
      "metadata": {
        "id": "VVsSP_3JqJVS",
        "colab_type": "text"
      },
      "source": [
        "If you run the code below, what do you see?\n"
      ]
    },
    {
      "cell_type": "code",
      "metadata": {
        "id": "U1an4ibdaJaV",
        "colab_type": "code",
        "outputId": "ff3279dc-2934-4e11-f48c-6f03d2fdb31c",
        "colab": {
          "base_uri": "https://localhost:8080/",
          "height": 84
        }
      },
      "source": [
        "print(\" _____\")\n",
        "# This is a comment.\n",
        "print(\"|     |\")\n",
        "# Here's another comment.\n",
        "print(\"|     |\")\n",
        "\"This is a string\"\n",
        "print(\"|_____|\")\n"
      ],
      "execution_count": 184,
      "outputs": [
        {
          "output_type": "stream",
          "text": [
            " _____\n",
            "|     |\n",
            "|     |\n",
            "|_____|\n"
          ],
          "name": "stdout"
        }
      ]
    },
    {
      "cell_type": "markdown",
      "metadata": {
        "id": "idgh_5Q_wVDe",
        "colab_type": "text"
      },
      "source": [
        "Instructions are executed sequentially.\n"
      ]
    },
    {
      "cell_type": "markdown",
      "metadata": {
        "id": "JJT7WfvhjrH1",
        "colab_type": "text"
      },
      "source": [
        "### Hack Time"
      ]
    },
    {
      "cell_type": "code",
      "metadata": {
        "id": "tdkxojGxklzh",
        "colab_type": "code",
        "colab": {}
      },
      "source": [
        "# You code here.\n",
        "# Print your first and last name?\n"
      ],
      "execution_count": 0,
      "outputs": []
    },
    {
      "cell_type": "markdown",
      "metadata": {
        "id": "YcwnBiyWrCFl",
        "colab_type": "text"
      },
      "source": [
        "## Arithmetic with Python\n",
        "\n",
        "In its most basic form, Python can be used as a simple calculator. Consider the following arithmetic operators:\n",
        "\n",
        "- Addition: +\n",
        "- Subtraction: -\n",
        "- Multiplication: *\n",
        "- Division: /\n",
        "- Exponentiation: **\n",
        "- Modulo: % "
      ]
    },
    {
      "cell_type": "markdown",
      "metadata": {
        "id": "cLIi4NHMoq0g",
        "colab_type": "text"
      },
      "source": [
        "### Hack Time "
      ]
    },
    {
      "cell_type": "code",
      "metadata": {
        "id": "eiFKOoEcobd3",
        "colab_type": "code",
        "colab": {}
      },
      "source": [
        "# Your code here.\n",
        "# Divide 7 by 3.\n",
        "\n",
        "# Raise 2 to the 5 power.\n"
      ],
      "execution_count": 0,
      "outputs": []
    },
    {
      "cell_type": "markdown",
      "metadata": {
        "id": "rMx8hCcXm348",
        "colab_type": "text"
      },
      "source": [
        "## Variables assignment\n",
        "\n",
        "Variables are containers that allow you to store a value (e.g. 5) or an object(e.g. a function).\n",
        "\n",
        "Python uses the symbol **\"=\"** as the assignment statement.\n"
      ]
    },
    {
      "cell_type": "code",
      "metadata": {
        "id": "4xp0CxL4trTo",
        "colab_type": "code",
        "outputId": "aec0314a-198c-4d36-90fb-b166dc17489f",
        "colab": {
          "base_uri": "https://localhost:8080/",
          "height": 34
        }
      },
      "source": [
        "x = 24\n",
        "x"
      ],
      "execution_count": 185,
      "outputs": [
        {
          "output_type": "execute_result",
          "data": {
            "text/plain": [
              "24"
            ]
          },
          "metadata": {
            "tags": []
          },
          "execution_count": 185
        }
      ]
    },
    {
      "cell_type": "markdown",
      "metadata": {
        "id": "RchpCgYetcHz",
        "colab_type": "text"
      },
      "source": [
        "### Hack Time\n",
        "\n"
      ]
    },
    {
      "cell_type": "code",
      "metadata": {
        "id": "ldux1N7-yOxO",
        "colab_type": "code",
        "colab": {}
      },
      "source": [
        "# Your code here.\n",
        "# Assign numerical values to two variables named `day_1` and `day_2`.\n",
        "\n",
        "# Add these two variables together.\n",
        "\n",
        "# Create a `my_total` variable containing the sum of the day `day_1` and `day_2` variables.\n",
        "\n",
        "# Print the contents of the `my_total` variable.\n"
      ],
      "execution_count": 0,
      "outputs": []
    },
    {
      "cell_type": "markdown",
      "metadata": {
        "id": "v6UGa0nm1SRX",
        "colab_type": "text"
      },
      "source": [
        "## Basic data types in Python\n",
        "\n",
        "Python works with numerous data types. Some of the most basic types to get started are:\n",
        "\n",
        "- Natural numbers like 2 are called integers (*int*). \n",
        "- Decimal values like 2.5 are called floating point (*float*).\n",
        "- Textual values like \"orange\" or 'bananas' are called strings (*str*).\n",
        "- Logical values (True or False) are called boolean (*bool*).\n",
        "- Lists are like variables but can contain any Python type (*list*)."
      ]
    },
    {
      "cell_type": "code",
      "metadata": {
        "id": "4bvNijKX3D1s",
        "colab_type": "code",
        "outputId": "ed8242ce-da01-49b3-bc24-2c527c344744",
        "colab": {
          "base_uri": "https://localhost:8080/",
          "height": 34
        }
      },
      "source": [
        "day_1 = 20\n",
        "type(day_1)\n"
      ],
      "execution_count": 186,
      "outputs": [
        {
          "output_type": "execute_result",
          "data": {
            "text/plain": [
              "int"
            ]
          },
          "metadata": {
            "tags": []
          },
          "execution_count": 186
        }
      ]
    },
    {
      "cell_type": "code",
      "metadata": {
        "id": "jZ-RTwBh3Rxu",
        "colab_type": "code",
        "outputId": "9f3c85ef-56b7-46a2-c8da-6452d6aaa46f",
        "colab": {
          "base_uri": "https://localhost:8080/",
          "height": 34
        }
      },
      "source": [
        "day_2 = 30\n",
        "type(day_2)\n"
      ],
      "execution_count": 187,
      "outputs": [
        {
          "output_type": "execute_result",
          "data": {
            "text/plain": [
              "int"
            ]
          },
          "metadata": {
            "tags": []
          },
          "execution_count": 187
        }
      ]
    },
    {
      "cell_type": "code",
      "metadata": {
        "id": "Pkrwcmek3WBC",
        "colab_type": "code",
        "outputId": "09717f4c-6255-4b37-8854-69eadb2c3875",
        "colab": {
          "base_uri": "https://localhost:8080/",
          "height": 34
        }
      },
      "source": [
        "description = \"Voting Intentions\"\n",
        "type(description)\n"
      ],
      "execution_count": 188,
      "outputs": [
        {
          "output_type": "execute_result",
          "data": {
            "text/plain": [
              "str"
            ]
          },
          "metadata": {
            "tags": []
          },
          "execution_count": 188
        }
      ]
    },
    {
      "cell_type": "code",
      "metadata": {
        "id": "nKWVO2EwuqmF",
        "colab_type": "code",
        "outputId": "99102156-60a6-49bf-9393-75dee5d1c2bd",
        "colab": {
          "base_uri": "https://localhost:8080/",
          "height": 34
        }
      },
      "source": [
        "increasing = True\n",
        "type(increasing)\n"
      ],
      "execution_count": 189,
      "outputs": [
        {
          "output_type": "execute_result",
          "data": {
            "text/plain": [
              "bool"
            ]
          },
          "metadata": {
            "tags": []
          },
          "execution_count": 189
        }
      ]
    },
    {
      "cell_type": "code",
      "metadata": {
        "id": "4JIF0KeG7NPO",
        "colab_type": "code",
        "outputId": "132e54a5-d7e7-4dab-aced-ebf481216911",
        "colab": {
          "base_uri": "https://localhost:8080/",
          "height": 34
        }
      },
      "source": [
        "data = [description, increasing, \"Tuesday\", day_1, \"Wednesday\", day_2]\n",
        "type(data)"
      ],
      "execution_count": 190,
      "outputs": [
        {
          "output_type": "execute_result",
          "data": {
            "text/plain": [
              "list"
            ]
          },
          "metadata": {
            "tags": []
          },
          "execution_count": 190
        }
      ]
    },
    {
      "cell_type": "markdown",
      "metadata": {
        "id": "hUrBISRs5jdx",
        "colab_type": "text"
      },
      "source": [
        "### Hack Time"
      ]
    },
    {
      "cell_type": "code",
      "metadata": {
        "id": "fz9Eg8Ln5m0P",
        "colab_type": "code",
        "colab": {}
      },
      "source": [
        "# Your Code Here.\n",
        "## Create a variable containinig the average of voting intentions.\n",
        "\n",
        "## What is it's type?\n"
      ],
      "execution_count": 0,
      "outputs": []
    },
    {
      "cell_type": "markdown",
      "metadata": {
        "id": "y1-g8bwU4r44",
        "colab_type": "text"
      },
      "source": [
        "## List Manipulation\n",
        "\n",
        "You can select, slice or edit elements in a list.\n",
        "\n",
        "Note that Python is 0 indexed.\n"
      ]
    },
    {
      "cell_type": "code",
      "metadata": {
        "id": "PBqTX5r021As",
        "colab_type": "code",
        "colab": {
          "base_uri": "https://localhost:8080/",
          "height": 34
        },
        "outputId": "9b14503e-7a7a-47f8-95d2-c6370e5afd28"
      },
      "source": [
        "# Select an element in a list\n",
        "data\n",
        "data[3]\n"
      ],
      "execution_count": 191,
      "outputs": [
        {
          "output_type": "execute_result",
          "data": {
            "text/plain": [
              "20"
            ]
          },
          "metadata": {
            "tags": []
          },
          "execution_count": 191
        }
      ]
    },
    {
      "cell_type": "code",
      "metadata": {
        "id": "5LTIzvxN25ZS",
        "colab_type": "code",
        "colab": {
          "base_uri": "https://localhost:8080/",
          "height": 34
        },
        "outputId": "3c9158cb-187e-4118-ae89-7be74c138249"
      },
      "source": [
        "# Slicing lists: list[begin:end]\n",
        "data[2:]\n"
      ],
      "execution_count": 192,
      "outputs": [
        {
          "output_type": "execute_result",
          "data": {
            "text/plain": [
              "['Tuesday', 20, 'Wednesday', 30]"
            ]
          },
          "metadata": {
            "tags": []
          },
          "execution_count": 192
        }
      ]
    },
    {
      "cell_type": "code",
      "metadata": {
        "id": "Wj8UZptK257c",
        "colab_type": "code",
        "colab": {
          "base_uri": "https://localhost:8080/",
          "height": 34
        },
        "outputId": "a0c3e435-e282-4104-af84-7934f15e1b55"
      },
      "source": [
        "# Editing a list\n",
        "data[0] = \"Monday\"\n",
        "data[1] = 25.6\n",
        "data\n"
      ],
      "execution_count": 193,
      "outputs": [
        {
          "output_type": "execute_result",
          "data": {
            "text/plain": [
              "['Monday', 25.6, 'Tuesday', 20, 'Wednesday', 30]"
            ]
          },
          "metadata": {
            "tags": []
          },
          "execution_count": 193
        }
      ]
    },
    {
      "cell_type": "code",
      "metadata": {
        "id": "BSt4QYkd2687",
        "colab_type": "code",
        "colab": {
          "base_uri": "https://localhost:8080/",
          "height": 34
        },
        "outputId": "c07527a8-65ab-486c-acf4-541322bdc16b"
      },
      "source": [
        "# Adding to a list\n",
        "day_3 = [\"Thursday\", 40]\n",
        "day_3\n",
        "data = data + day_3\n",
        "data\n"
      ],
      "execution_count": 194,
      "outputs": [
        {
          "output_type": "execute_result",
          "data": {
            "text/plain": [
              "['Monday', 25.6, 'Tuesday', 20, 'Wednesday', 30, 'Thursday', 40]"
            ]
          },
          "metadata": {
            "tags": []
          },
          "execution_count": 194
        }
      ]
    },
    {
      "cell_type": "markdown",
      "metadata": {
        "id": "f66XD41Y27rv",
        "colab_type": "text"
      },
      "source": [
        "\n",
        "### Unpacking from lists\n"
      ]
    },
    {
      "cell_type": "code",
      "metadata": {
        "id": "5wRMK1JU28Y2",
        "colab_type": "code",
        "colab": {
          "base_uri": "https://localhost:8080/",
          "height": 50
        },
        "outputId": "aa34252b-27bb-41eb-9b80-2ca74dd98296"
      },
      "source": [
        "# Unpack contents of a list into multiple variables\n",
        "a, b = range(2)\n",
        "\n",
        "print(\"a:\", a)\n",
        "print(\"b:\", b)\n",
        "\n"
      ],
      "execution_count": 195,
      "outputs": [
        {
          "output_type": "stream",
          "text": [
            "a: 0\n",
            "b: 1\n"
          ],
          "name": "stdout"
        }
      ]
    },
    {
      "cell_type": "code",
      "metadata": {
        "id": "AzI2lV3b4wC5",
        "colab_type": "code",
        "colab": {
          "base_uri": "https://localhost:8080/",
          "height": 67
        },
        "outputId": "0e077794-9b0b-458e-f838-d23e381051c3"
      },
      "source": [
        "# You can use the asterisk to unpack multiple elements\n",
        "a, b, *c = range(20)\n",
        "\n",
        "print(\"a:\", a)\n",
        "print(\"b:\", b)\n",
        "print(\"c:\", c)\n",
        "\n",
        "\n"
      ],
      "execution_count": 196,
      "outputs": [
        {
          "output_type": "stream",
          "text": [
            "a: 0\n",
            "b: 1\n",
            "c: [2, 3, 4, 5, 6, 7, 8, 9, 10, 11, 12, 13, 14, 15, 16, 17, 18, 19]\n"
          ],
          "name": "stdout"
        }
      ]
    },
    {
      "cell_type": "markdown",
      "metadata": {
        "id": "sH747xtD4w0u",
        "colab_type": "text"
      },
      "source": [
        "## Functions and Methods\n",
        "We have already used some functions until now (e.g. `print()`, `type()`, `range()`).\n",
        "\n",
        "- A function is a group of related statements that perform a specific task.\n",
        "- Help break our program into smaller and modular chunks.\n",
        "- Make your code more organized and manageable. \n",
        "- Avoids repetition and makes code reusable.\n",
        "\n",
        "\n",
        "The general form that functions take is:\n",
        "\n",
        "```\n",
        "output = function_name(input)\n",
        "```\n",
        "\n"
      ]
    },
    {
      "cell_type": "code",
      "metadata": {
        "id": "9TfTXOMi4xtW",
        "colab_type": "code",
        "colab": {
          "base_uri": "https://localhost:8080/",
          "height": 34
        },
        "outputId": "85b80c55-4ddb-488c-e45a-2c5e33965943"
      },
      "source": [
        "result = type(day_3)\n",
        "result\n"
      ],
      "execution_count": 197,
      "outputs": [
        {
          "output_type": "execute_result",
          "data": {
            "text/plain": [
              "list"
            ]
          },
          "metadata": {
            "tags": []
          },
          "execution_count": 197
        }
      ]
    },
    {
      "cell_type": "code",
      "metadata": {
        "id": "l6pHIl2b5j7X",
        "colab_type": "code",
        "colab": {
          "base_uri": "https://localhost:8080/",
          "height": 507
        },
        "outputId": "97af2df0-f454-4622-aea2-d458479a3a64"
      },
      "source": [
        "# Note that help is also a function!\n",
        "help(help)\n"
      ],
      "execution_count": 198,
      "outputs": [
        {
          "output_type": "stream",
          "text": [
            "Help on _Helper in module _sitebuiltins object:\n",
            "\n",
            "class _Helper(builtins.object)\n",
            " |  Define the builtin 'help'.\n",
            " |  \n",
            " |  This is a wrapper around pydoc.help that provides a helpful message\n",
            " |  when 'help' is typed at the Python interactive prompt.\n",
            " |  \n",
            " |  Calling help() at the Python prompt starts an interactive help session.\n",
            " |  Calling help(thing) prints help for the python object 'thing'.\n",
            " |  \n",
            " |  Methods defined here:\n",
            " |  \n",
            " |  __call__(self, *args, **kwds)\n",
            " |      Call self as a function.\n",
            " |  \n",
            " |  __repr__(self)\n",
            " |      Return repr(self).\n",
            " |  \n",
            " |  ----------------------------------------------------------------------\n",
            " |  Data descriptors defined here:\n",
            " |  \n",
            " |  __dict__\n",
            " |      dictionary for instance variables (if defined)\n",
            " |  \n",
            " |  __weakref__\n",
            " |      list of weak references to the object (if defined)\n",
            "\n"
          ],
          "name": "stdout"
        }
      ]
    },
    {
      "cell_type": "code",
      "metadata": {
        "id": "Pum0NSjo5m_o",
        "colab_type": "code",
        "colab": {}
      },
      "source": [
        "# Alternatively IPython offers a shortcut\n",
        "?print\n"
      ],
      "execution_count": 0,
      "outputs": []
    },
    {
      "cell_type": "code",
      "metadata": {
        "id": "3F1NULbr5oIn",
        "colab_type": "code",
        "colab": {
          "base_uri": "https://localhost:8080/",
          "height": 34
        },
        "outputId": "fdb8f27e-0c33-48bd-9361-4ffe9f2a069b"
      },
      "source": [
        "data[1]\n"
      ],
      "execution_count": 200,
      "outputs": [
        {
          "output_type": "execute_result",
          "data": {
            "text/plain": [
              "25.6"
            ]
          },
          "metadata": {
            "tags": []
          },
          "execution_count": 200
        }
      ]
    },
    {
      "cell_type": "code",
      "metadata": {
        "id": "_xgOvtST6EvI",
        "colab_type": "code",
        "colab": {
          "base_uri": "https://localhost:8080/",
          "height": 34
        },
        "outputId": "d75d1364-ef0d-48c5-f5a4-e9d2e53b7145"
      },
      "source": [
        "round(data[1])\n"
      ],
      "execution_count": 201,
      "outputs": [
        {
          "output_type": "execute_result",
          "data": {
            "text/plain": [
              "26"
            ]
          },
          "metadata": {
            "tags": []
          },
          "execution_count": 201
        }
      ]
    },
    {
      "cell_type": "markdown",
      "metadata": {
        "id": "8QsegVDy5onT",
        "colab_type": "text"
      },
      "source": [
        "### Defining your own functions\n",
        "\n",
        "#### The syntax of Function\n",
        "```\n",
        "def function_name(parameters):\n",
        "    \"\"\"The summary line for a function docstring should fit in one line.\"\"\"\n",
        "    tmp = first_statement(s)\n",
        "    output = second_statement(tmp)\n",
        "    return output\n",
        "```\n",
        "A function definition consists of following components:\n",
        "- The Keyword def marks the start of a function header.\n",
        "- A function name to uniquely identify it.\n",
        "- Parameters (arguments) through which we pass values to a function. They are optional.\n",
        "- A colon (:) to mark the end of function header.\n",
        "- \"Optional\" documentation string (docstring) to describe what the function does.\n",
        "- One or more valid python statements that make up the function body. Statements must have same indentation level (usually 4 spaces).\n",
        "- An optional return statement to return a value from the function.\n"
      ]
    },
    {
      "cell_type": "markdown",
      "metadata": {
        "id": "LT3OtNyO5txU",
        "colab_type": "text"
      },
      "source": [
        "### Hack Time\n"
      ]
    },
    {
      "cell_type": "code",
      "metadata": {
        "id": "wNgujVAr64yS",
        "colab_type": "code",
        "colab": {}
      },
      "source": [
        "# Your code here.\n",
        "## Let's create a function that returns the mean of its items.\n"
      ],
      "execution_count": 0,
      "outputs": []
    },
    {
      "cell_type": "markdown",
      "metadata": {
        "id": "gOkBdOWM5wVw",
        "colab_type": "text"
      },
      "source": [
        "### Methods\n",
        "Methods are functions that belong to objects.\n",
        "\n",
        "The general form that methods take is:\n",
        "```\n",
        "`object.method(input)`\n",
        "```\n"
      ]
    },
    {
      "cell_type": "code",
      "metadata": {
        "id": "DhvZq-jn69L8",
        "colab_type": "code",
        "colab": {
          "base_uri": "https://localhost:8080/",
          "height": 34
        },
        "outputId": "8ac627d4-4589-43be-cab1-f35062b26a69"
      },
      "source": [
        "data.index(\"Tuesday\")\n"
      ],
      "execution_count": 202,
      "outputs": [
        {
          "output_type": "execute_result",
          "data": {
            "text/plain": [
              "2"
            ]
          },
          "metadata": {
            "tags": []
          },
          "execution_count": 202
        }
      ]
    },
    {
      "cell_type": "code",
      "metadata": {
        "id": "VzAgkeS57KbI",
        "colab_type": "code",
        "colab": {
          "base_uri": "https://localhost:8080/",
          "height": 138
        },
        "outputId": "571a7ae3-0eca-422c-b361-11d66c8015a4"
      },
      "source": [
        "help(data.index)\n"
      ],
      "execution_count": 203,
      "outputs": [
        {
          "output_type": "stream",
          "text": [
            "Help on built-in function index:\n",
            "\n",
            "index(...) method of builtins.list instance\n",
            "    L.index(value, [start, [stop]]) -> integer -- return first index of value.\n",
            "    Raises ValueError if the value is not present.\n",
            "\n"
          ],
          "name": "stdout"
        }
      ]
    },
    {
      "cell_type": "markdown",
      "metadata": {
        "id": "qXL5O4Cv7K-S",
        "colab_type": "text"
      },
      "source": [
        "Each type of data has its own set of methods.\n",
        "\n"
      ]
    },
    {
      "cell_type": "code",
      "metadata": {
        "id": "oxYiWt6q7Lue",
        "colab_type": "code",
        "colab": {
          "base_uri": "https://localhost:8080/",
          "height": 50
        },
        "outputId": "88315a28-41ec-48ff-e3cd-10583dcbd30a"
      },
      "source": [
        "print(description)\n",
        "type(description)\n"
      ],
      "execution_count": 204,
      "outputs": [
        {
          "output_type": "stream",
          "text": [
            "Voting Intentions\n"
          ],
          "name": "stdout"
        },
        {
          "output_type": "execute_result",
          "data": {
            "text/plain": [
              "str"
            ]
          },
          "metadata": {
            "tags": []
          },
          "execution_count": 204
        }
      ]
    },
    {
      "cell_type": "code",
      "metadata": {
        "id": "wCsQbUXp7MjH",
        "colab_type": "code",
        "colab": {
          "base_uri": "https://localhost:8080/",
          "height": 34
        },
        "outputId": "50bb1de7-84c1-4893-9499-a6c280275c3b"
      },
      "source": [
        "description.upper()\n"
      ],
      "execution_count": 205,
      "outputs": [
        {
          "output_type": "execute_result",
          "data": {
            "text/plain": [
              "'VOTING INTENTIONS'"
            ]
          },
          "metadata": {
            "tags": []
          },
          "execution_count": 205
        }
      ]
    },
    {
      "cell_type": "code",
      "metadata": {
        "id": "v5J6eo9X7NDd",
        "colab_type": "code",
        "colab": {
          "base_uri": "https://localhost:8080/",
          "height": 34
        },
        "outputId": "61f1b960-aef1-4cf8-c547-b56578187cbd"
      },
      "source": [
        "description.count(\"i\")\n"
      ],
      "execution_count": 206,
      "outputs": [
        {
          "output_type": "execute_result",
          "data": {
            "text/plain": [
              "2"
            ]
          },
          "metadata": {
            "tags": []
          },
          "execution_count": 206
        }
      ]
    },
    {
      "cell_type": "markdown",
      "metadata": {
        "id": "4L7iBdgP7NdW",
        "colab_type": "text"
      },
      "source": [
        "You can also chain methods.\n"
      ]
    },
    {
      "cell_type": "code",
      "metadata": {
        "id": "LoTscrd78GV6",
        "colab_type": "code",
        "colab": {
          "base_uri": "https://localhost:8080/",
          "height": 34
        },
        "outputId": "01989894-fd04-4135-bfca-13f11bd49c29"
      },
      "source": [
        "description.lower().count(\"i\")\n"
      ],
      "execution_count": 207,
      "outputs": [
        {
          "output_type": "execute_result",
          "data": {
            "text/plain": [
              "3"
            ]
          },
          "metadata": {
            "tags": []
          },
          "execution_count": 207
        }
      ]
    },
    {
      "cell_type": "code",
      "metadata": {
        "id": "rgp85wTN7N14",
        "colab_type": "code",
        "colab": {
          "base_uri": "https://localhost:8080/",
          "height": 54
        },
        "outputId": "74b77aa4-3967-435d-d724-ba26bc5cb06e"
      },
      "source": [
        "day_4 = ['Friday', 35]\n",
        "data.extend(day_4)\n",
        "data\n"
      ],
      "execution_count": 208,
      "outputs": [
        {
          "output_type": "execute_result",
          "data": {
            "text/plain": [
              "['Monday', 25.6, 'Tuesday', 20, 'Wednesday', 30, 'Thursday', 40, 'Friday', 35]"
            ]
          },
          "metadata": {
            "tags": []
          },
          "execution_count": 208
        }
      ]
    },
    {
      "cell_type": "markdown",
      "metadata": {
        "id": "eQJNdyN47OQZ",
        "colab_type": "text"
      },
      "source": [
        "## Modules, and Packages\n",
        "\n",
        "A module is a set of python commands that are saved in a script (eg. script.py).\n",
        "You can load a module and access all its contents at anytime using the command `import module`.\n",
        "\n",
        "Packages are standardized way of organizing code and usually consist of multiple modules.\n",
        "    - Minimal Package Structure: https://python-packaging.readthedocs.io/en/latest/minimal.html\n",
        "\n",
        "Python, comes with pre-installed packages that you can directly load.\n",
        "\n"
      ]
    },
    {
      "cell_type": "code",
      "metadata": {
        "id": "Arp7dXrF7O8B",
        "colab_type": "code",
        "colab": {
          "base_uri": "https://localhost:8080/",
          "height": 34
        },
        "outputId": "ce1004b1-1e08-462d-831d-7241cc5637a5"
      },
      "source": [
        "import math\n",
        "pi = math.pi\n",
        "pi\n"
      ],
      "execution_count": 210,
      "outputs": [
        {
          "output_type": "execute_result",
          "data": {
            "text/plain": [
              "3.141592653589793"
            ]
          },
          "metadata": {
            "tags": []
          },
          "execution_count": 210
        }
      ]
    },
    {
      "cell_type": "markdown",
      "metadata": {
        "id": "cfZHL5PI7eB9",
        "colab_type": "text"
      },
      "source": [
        "### Interacting with the file-system and paths.\n"
      ]
    },
    {
      "cell_type": "code",
      "metadata": {
        "id": "8Dzjjl-Z8aST",
        "colab_type": "code",
        "colab": {
          "base_uri": "https://localhost:8080/",
          "height": 34
        },
        "outputId": "4233f209-0020-461f-f9c8-b3e335395404"
      },
      "source": [
        "import os\n",
        "# Execute a shell command\n",
        "os.system(\"echo 'Hello Again!'\")\n"
      ],
      "execution_count": 228,
      "outputs": [
        {
          "output_type": "execute_result",
          "data": {
            "text/plain": [
              "0"
            ]
          },
          "metadata": {
            "tags": []
          },
          "execution_count": 228
        }
      ]
    },
    {
      "cell_type": "code",
      "metadata": {
        "id": "Qn0LLOOG8gt_",
        "colab_type": "code",
        "colab": {
          "base_uri": "https://localhost:8080/",
          "height": 34
        },
        "outputId": "8ce3a8e1-690a-4133-dadc-18840c6b74c0"
      },
      "source": [
        "# Return the current working directory\n",
        "os.getcwd()\n"
      ],
      "execution_count": 229,
      "outputs": [
        {
          "output_type": "execute_result",
          "data": {
            "text/plain": [
              "'/content'"
            ]
          },
          "metadata": {
            "tags": []
          },
          "execution_count": 229
        }
      ]
    },
    {
      "cell_type": "code",
      "metadata": {
        "id": "-0Awpt-b8hJ2",
        "colab_type": "code",
        "colab": {
          "base_uri": "https://localhost:8080/",
          "height": 34
        },
        "outputId": "fa37b557-8849-4827-de42-8560b69aa8e2"
      },
      "source": [
        "# List all of the files and sub-directories in a particular folder\n",
        "os.listdir()\n"
      ],
      "execution_count": 230,
      "outputs": [
        {
          "output_type": "execute_result",
          "data": {
            "text/plain": [
              "['.config', 'tmp_script.py', 'sample_data']"
            ]
          },
          "metadata": {
            "tags": []
          },
          "execution_count": 230
        }
      ]
    },
    {
      "cell_type": "code",
      "metadata": {
        "id": "PwQTIiEY8hm9",
        "colab_type": "code",
        "colab": {
          "base_uri": "https://localhost:8080/",
          "height": 34
        },
        "outputId": "27960d29-ca00-4333-e396-14c81f190ac1"
      },
      "source": [
        "# Create folders recursively\n",
        "my_path = \"my_tmp_project/test1/test2/test3\"\n",
        "os.makedirs(my_path)\n",
        "os.listdir()\n"
      ],
      "execution_count": 231,
      "outputs": [
        {
          "output_type": "execute_result",
          "data": {
            "text/plain": [
              "['.config', 'my_tmp_project', 'tmp_script.py', 'sample_data']"
            ]
          },
          "metadata": {
            "tags": []
          },
          "execution_count": 231
        }
      ]
    },
    {
      "cell_type": "code",
      "metadata": {
        "id": "ss2YLqWF8iFo",
        "colab_type": "code",
        "colab": {
          "base_uri": "https://localhost:8080/",
          "height": 34
        },
        "outputId": "6627cab0-8921-47f8-9bbb-3181a06bbec6"
      },
      "source": [
        "# Delete directories recursively.\n",
        "os.removedirs(my_path)\n",
        "os.listdir()\n"
      ],
      "execution_count": 232,
      "outputs": [
        {
          "output_type": "execute_result",
          "data": {
            "text/plain": [
              "['.config', 'tmp_script.py', 'sample_data']"
            ]
          },
          "metadata": {
            "tags": []
          },
          "execution_count": 232
        }
      ]
    },
    {
      "cell_type": "code",
      "metadata": {
        "id": "0RrHGZ9Z8ing",
        "colab_type": "code",
        "colab": {
          "base_uri": "https://localhost:8080/",
          "height": 34
        },
        "outputId": "6d8cbbae-545e-4e88-f787-a523db34b493"
      },
      "source": [
        "# Create and Rename a file or folder\n",
        "os.system(\"touch test_script.py\")\n",
        "os.listdir()\n"
      ],
      "execution_count": 233,
      "outputs": [
        {
          "output_type": "execute_result",
          "data": {
            "text/plain": [
              "['.config', 'test_script.py', 'tmp_script.py', 'sample_data']"
            ]
          },
          "metadata": {
            "tags": []
          },
          "execution_count": 233
        }
      ]
    },
    {
      "cell_type": "code",
      "metadata": {
        "id": "T7O7raZk8jQS",
        "colab_type": "code",
        "colab": {
          "base_uri": "https://localhost:8080/",
          "height": 34
        },
        "outputId": "3cb83ea4-801b-4ad7-acc4-0cece95a76c0"
      },
      "source": [
        "os.rename(\"test_script.py\", \"tmp_script.py\")\n",
        "os.listdir()\n"
      ],
      "execution_count": 234,
      "outputs": [
        {
          "output_type": "execute_result",
          "data": {
            "text/plain": [
              "['.config', 'tmp_script.py', 'sample_data']"
            ]
          },
          "metadata": {
            "tags": []
          },
          "execution_count": 234
        }
      ]
    },
    {
      "cell_type": "code",
      "metadata": {
        "id": "JDCwla_G8jxg",
        "colab_type": "code",
        "colab": {
          "base_uri": "https://localhost:8080/",
          "height": 34
        },
        "outputId": "8ceecd07-8ee3-4d36-f033-c8b9ec2205f4"
      },
      "source": [
        "## Delete a file\n",
        "os.remove(\"tmp_script.py\")\n",
        "os.listdir()\n"
      ],
      "execution_count": 235,
      "outputs": [
        {
          "output_type": "execute_result",
          "data": {
            "text/plain": [
              "['.config', 'sample_data']"
            ]
          },
          "metadata": {
            "tags": []
          },
          "execution_count": 235
        }
      ]
    },
    {
      "cell_type": "code",
      "metadata": {
        "id": "NXHeruRs8klu",
        "colab_type": "code",
        "colab": {
          "base_uri": "https://localhost:8080/",
          "height": 34
        },
        "outputId": "8802f229-c6c7-41bf-b686-76b3cd4f9d11"
      },
      "source": [
        "# Handling slashes / in file paths\n",
        "file = \"process.py\"\n",
        "folder = \"Documents/project1\"\n",
        "full_path = os.path.join(folder, file)\n",
        "full_path\n"
      ],
      "execution_count": 237,
      "outputs": [
        {
          "output_type": "execute_result",
          "data": {
            "text/plain": [
              "'Documents/project1/process.py'"
            ]
          },
          "metadata": {
            "tags": []
          },
          "execution_count": 237
        }
      ]
    },
    {
      "cell_type": "code",
      "metadata": {
        "id": "uxwhiSOV8lu4",
        "colab_type": "code",
        "colab": {
          "base_uri": "https://localhost:8080/",
          "height": 34
        },
        "outputId": "336b766b-1f4f-462b-b01f-b60009c7ec3e"
      },
      "source": [
        "# Get the directory and file name from a full path\n",
        "file = os.path.basename(full_path)\n",
        "folder = os.path.dirname(full_path)\n",
        "print(file, folder)\n"
      ],
      "execution_count": 239,
      "outputs": [
        {
          "output_type": "stream",
          "text": [
            "process.py Documents/project1\n"
          ],
          "name": "stdout"
        }
      ]
    },
    {
      "cell_type": "code",
      "metadata": {
        "id": "sywOLHbk8meo",
        "colab_type": "code",
        "colab": {
          "base_uri": "https://localhost:8080/",
          "height": 34
        },
        "outputId": "bced70c2-690b-42d3-cf0f-f8df2407693e"
      },
      "source": [
        "# Check if a file or folder exists\n",
        "os.path.exists(full_path)\n"
      ],
      "execution_count": 240,
      "outputs": [
        {
          "output_type": "execute_result",
          "data": {
            "text/plain": [
              "False"
            ]
          },
          "metadata": {
            "tags": []
          },
          "execution_count": 240
        }
      ]
    },
    {
      "cell_type": "code",
      "metadata": {
        "id": "VudqGVaX8m_t",
        "colab_type": "code",
        "colab": {
          "base_uri": "https://localhost:8080/",
          "height": 34
        },
        "outputId": "92ae38a4-70a2-4530-b0ab-4e4a05257e56"
      },
      "source": [
        "# Get the extension of a file\n",
        "name, extension = os.path.splitext(file)\n",
        "print(name, extension)\n"
      ],
      "execution_count": 241,
      "outputs": [
        {
          "output_type": "stream",
          "text": [
            "process .py\n"
          ],
          "name": "stdout"
        }
      ]
    },
    {
      "cell_type": "markdown",
      "metadata": {
        "id": "g_UNpeuM7Rdd",
        "colab_type": "text"
      },
      "source": [
        "### Install package\n",
        "\n",
        "To install a package you use the command `pip install package_name` in your terminal.\n",
        "\n",
        "There are thousands of packages available such as:\n",
        "    - matplotlib\n",
        "    - numpy\n",
        "    - pandas\n",
        "    - pytorch\n",
        "    - sci-kit learn\n",
        "    - ...\n",
        "\n",
        "For more packages see:\n",
        "    - The Python Package Index: https://pypi.org/\n"
      ]
    },
    {
      "cell_type": "code",
      "metadata": {
        "id": "1QfCcjkH7Sun",
        "colab_type": "code",
        "colab": {
          "base_uri": "https://localhost:8080/",
          "height": 121
        },
        "outputId": "a39dcdd3-ac74-4278-9a13-7cee9a823748"
      },
      "source": [
        "# We will rely on some IPython magic to directly interact with the terminal.\n",
        "!pip install pandas\n"
      ],
      "execution_count": 223,
      "outputs": [
        {
          "output_type": "stream",
          "text": [
            "Requirement already satisfied: pandas in /usr/local/lib/python3.6/dist-packages (0.24.2)\n",
            "Requirement already satisfied: numpy>=1.12.0 in /usr/local/lib/python3.6/dist-packages (from pandas) (1.16.5)\n",
            "Requirement already satisfied: python-dateutil>=2.5.0 in /usr/local/lib/python3.6/dist-packages (from pandas) (2.5.3)\n",
            "Requirement already satisfied: pytz>=2011k in /usr/local/lib/python3.6/dist-packages (from pandas) (2018.9)\n",
            "Requirement already satisfied: six>=1.5 in /usr/local/lib/python3.6/dist-packages (from python-dateutil>=2.5.0->pandas) (1.12.0)\n"
          ],
          "name": "stdout"
        }
      ]
    },
    {
      "cell_type": "markdown",
      "metadata": {
        "id": "l5HlU9sxWSn0",
        "colab_type": "text"
      },
      "source": [
        "# Data Acquisition, Analysis, & Transformation\n",
        "## Pandas\n",
        "## Seaborn\n"
      ]
    },
    {
      "cell_type": "markdown",
      "metadata": {
        "id": "7Ls8P_-uZwdf",
        "colab_type": "text"
      },
      "source": [
        "# Mdeling & Sharing\n",
        "## sci-kit learn\n",
        "## poetry"
      ]
    }
  ]
}