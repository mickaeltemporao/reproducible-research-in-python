{
  "nbformat": 4,
  "nbformat_minor": 0,
  "metadata": {
    "colab": {
      "name": "20191025_rrip.ipynb",
      "provenance": [],
      "collapsed_sections": [
        "7N1xYI1j3ZEZ"
      ],
      "include_colab_link": true
    },
    "kernelspec": {
      "name": "python3",
      "display_name": "Python 3"
    },
    "accelerator": "GPU"
  },
  "cells": [
    {
      "cell_type": "markdown",
      "metadata": {
        "id": "view-in-github",
        "colab_type": "text"
      },
      "source": [
        "<a href=\"https://colab.research.google.com/github/mickaeltemporao/reproducible-research-in-python/blob/master/notebooks/20191025_rrip.ipynb\" target=\"_parent\"><img src=\"https://colab.research.google.com/assets/colab-badge.svg\" alt=\"Open In Colab\"/></a>"
      ]
    },
    {
      "cell_type": "markdown",
      "metadata": {
        "id": "YA8rfoQu93ql",
        "colab_type": "text"
      },
      "source": [
        "# Reproducible Research in Python\n",
        "Workshop McMaster University, October 25th 2019\n",
        "\n",
        "This notebook was created as part of a workshop on *Reproducible Research in Python*. You can check the Workshop here: [Reproducible Research in Python](XXX)\n",
        "\n",
        "### Important Note\n",
        "\n",
        "This is a hands on workshop. It is better if you start coding along with me during the workshop, experiment bugs and try to understand your errors. \n",
        "Learn by doing and do not copy/paste code, instead type anything. \n",
        "\n",
        "Feel free to ask me questions at any time during the workshop.\n",
        "\n",
        "### Prerequisites\n",
        "Prior to the workshop, users need to:\n",
        "- [ ] Account on [Google Colab](https://colab.research.google.com/) \n",
        "- [ ] Account on [GitHub](https://github.com/)\n",
        "- [ ] Local [Python 3.6.8+](https://docs.python-guide.org/starting/installation/) [optional]\n",
        "\n",
        "### Structure\n",
        "This workshop is divided into three parts. The first part is an introduction the [Python](https://www.python.org/) programming language where you will learn the basics of the language and how to use built-in libraries. The second part of the workshop you will learn how to acquire, explore, and transform data (Pandas, Seaborn). In the third and last part, you will learn how to create pipelines to train models from the data and create a python package to share your code (sci-kit learn, poetry).\n",
        "\n",
        "### Software\n",
        "XXX\n",
        "\n",
        "### Resources\n",
        "XXX\n",
        "\n",
        "### License and credit\n",
        "XXX\n",
        "\n",
        "### Contact\n",
        "For any follow-up questions:\n",
        "- twitter: [@mickaeltemporao](https://twitter.com/mickaeltemporao)\n",
        "- email: mickael.temporao@gmail.com"
      ]
    },
    {
      "cell_type": "markdown",
      "metadata": {
        "id": "OlRyHtG09958",
        "colab_type": "text"
      },
      "source": [
        "# Agenda\n",
        "\n",
        "- [Introduction]() \n",
        "    - [Hello World]()\n",
        "    - [Python Basics]()\n",
        "    - [Python Tips & Tricks]()\n",
        "- [Data Acquisition, Analysis, & Transformation]()\n",
        "    - [Pandas]()\n",
        "    - [Seaborn]()\n",
        "- [Mdeling & Sharing]()\n",
        "    - [sci-kit learn]()\n",
        "    - [poetry]()"
      ]
    },
    {
      "cell_type": "markdown",
      "metadata": {
        "id": "7N1xYI1j3ZEZ",
        "colab_type": "text"
      },
      "source": [
        "# Introduction\n",
        "\n",
        "![Draw the Owl](https://http://www.forimpact.org/wp-content/uploads/2014/01/HowToDrawOwl.jpg)\n"
      ]
    },
    {
      "cell_type": "code",
      "metadata": {
        "id": "_fiE5U9mXaJm",
        "colab_type": "code",
        "colab": {}
      },
      "source": [
        "import pandas as pd\n",
        "import os\n",
        "pd.read_"
      ],
      "execution_count": 0,
      "outputs": []
    },
    {
      "cell_type": "code",
      "metadata": {
        "id": "G2T-ZKfkxVGw",
        "colab_type": "code",
        "outputId": "2585c935-5232-4bc6-b5a5-479612a332bb",
        "colab": {
          "base_uri": "https://localhost:8080/",
          "height": 34
        }
      },
      "source": [
        "os.getenv('EDITOR')\n",
        "def testyyyy():\n",
        "    print('yes')\n",
        "testyyyy()   "
      ],
      "execution_count": 0,
      "outputs": [
        {
          "output_type": "stream",
          "text": [
            "yes\n"
          ],
          "name": "stdout"
        }
      ]
    },
    {
      "cell_type": "code",
      "metadata": {
        "id": "3d1DKgBKXcmU",
        "colab_type": "code",
        "colab": {}
      },
      "source": [
        "data = pd.Series([1,3,4,2,35,2])"
      ],
      "execution_count": 0,
      "outputs": []
    },
    {
      "cell_type": "code",
      "metadata": {
        "id": "vdrDIFWvXiUz",
        "colab_type": "code",
        "colab": {}
      },
      "source": [
        "data.plot(title='test')"
      ],
      "execution_count": 0,
      "outputs": []
    },
    {
      "cell_type": "markdown",
      "metadata": {
        "id": "YkYBvekj8AWB",
        "colab_type": "text"
      },
      "source": [
        "## Hello World\n"
      ]
    },
    {
      "cell_type": "code",
      "metadata": {
        "id": "8GNA7diq8z-t",
        "colab_type": "code",
        "outputId": "51bf0549-145f-4f61-dfaf-4bac951091ae",
        "colab": {
          "base_uri": "https://localhost:8080/",
          "height": 50
        }
      },
      "source": [
        "print(\"Greetings!\")\n",
        "!python --version"
      ],
      "execution_count": 0,
      "outputs": [
        {
          "output_type": "stream",
          "text": [
            "Greetings!\n",
            "Python 3.6.8\n"
          ],
          "name": "stdout"
        }
      ]
    },
    {
      "cell_type": "code",
      "metadata": {
        "id": "ikqxPVSr86zx",
        "colab_type": "code",
        "outputId": "8e032d5e-31e9-462f-ec66-9c2fc2598f3a",
        "colab": {
          "base_uri": "https://localhost:8080/",
          "height": 34
        }
      },
      "source": [
        "print(\"How is everyone doing until now?\")"
      ],
      "execution_count": 0,
      "outputs": [
        {
          "output_type": "stream",
          "text": [
            "How is everyone doing until now?\n"
          ],
          "name": "stdout"
        }
      ]
    },
    {
      "cell_type": "markdown",
      "metadata": {
        "id": "mkZCKT7VCk2M",
        "colab_type": "text"
      },
      "source": [
        "# New Section"
      ]
    }
  ]
}