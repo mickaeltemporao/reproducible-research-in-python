{
  "nbformat": 4,
  "nbformat_minor": 0,
  "metadata": {
    "colab": {
      "name": "20191025_rrip.ipynb",
      "provenance": [],
      "collapsed_sections": [
        "7N1xYI1j3ZEZ"
      ],
      "include_colab_link": true
    },
    "kernelspec": {
      "name": "python3",
      "display_name": "Python 3"
    },
    "accelerator": "GPU"
  },
  "cells": [
    {
      "cell_type": "markdown",
      "metadata": {
        "id": "view-in-github",
        "colab_type": "text"
      },
      "source": [
        "<a href=\"https://colab.research.google.com/github/mickaeltemporao/reproducible-research-in-python/blob/master/notebooks/20191025_rrip.ipynb\" target=\"_parent\"><img src=\"https://colab.research.google.com/assets/colab-badge.svg\" alt=\"Open In Colab\"/></a>"
      ]
    },
    {
      "cell_type": "markdown",
      "metadata": {
        "id": "YA8rfoQu93ql",
        "colab_type": "text"
      },
      "source": [
        "# Workshop\n",
        "## Reproducible Research in Python\n",
        "### McMaster University, October 25th 2019\n",
        "\n",
        "### Important Note\n",
        "\n",
        "This is a hands on workshop. It is better if you start coding along with me. Feel free to ask me questions at any time during the workshop.\n",
        "\n",
        "For any follow-up questions:\n",
        "- twitter: [@mickaeltemporao](https://twitter.com/mickaeltemporao)\n",
        "- email: mickael.temporao@gmail.com\n"
      ]
    },
    {
      "cell_type": "markdown",
      "metadata": {
        "id": "OlRyHtG09958",
        "colab_type": "text"
      },
      "source": [
        "# Agenda\n",
        "\n",
        "- [Requirements]()\n",
        "- [Introduction]()\n",
        "    - [Hello World]()\n",
        "    - [Python Basics]()\n",
        "- [Exploration]()\n",
        "    - [Fun with Pandas]()\n",
        "- [Modeling]()\n",
        "- [Sharing]()"
      ]
    },
    {
      "cell_type": "markdown",
      "metadata": {
        "id": "YkYBvekj8AWB",
        "colab_type": "text"
      },
      "source": [
        "# Hello World\n",
        "\n",
        "This notebook was created as part of a workshop on *Reproducible Research in Python*. You can check the Workshop here: [Reproducible Research in Python](XXX)"
      ]
    },
    {
      "cell_type": "code",
      "metadata": {
        "id": "8GNA7diq8z-t",
        "colab_type": "code",
        "colab": {
          "base_uri": "https://localhost:8080/",
          "height": 34
        },
        "outputId": "954c3411-81e7-4f58-991b-6f610ccee1ed"
      },
      "source": [
        "print(\"Greetings!\")"
      ],
      "execution_count": 19,
      "outputs": [
        {
          "output_type": "stream",
          "text": [
            "Greetings!\n"
          ],
          "name": "stdout"
        }
      ]
    },
    {
      "cell_type": "code",
      "metadata": {
        "id": "ikqxPVSr86zx",
        "colab_type": "code",
        "colab": {
          "base_uri": "https://localhost:8080/",
          "height": 34
        },
        "outputId": "8e032d5e-31e9-462f-ec66-9c2fc2598f3a"
      },
      "source": [
        "print(\"How is everyone doing until now?\")"
      ],
      "execution_count": 20,
      "outputs": [
        {
          "output_type": "stream",
          "text": [
            "How is everyone doing until now?\n"
          ],
          "name": "stdout"
        }
      ]
    },
    {
      "cell_type": "markdown",
      "metadata": {
        "id": "7N1xYI1j3ZEZ",
        "colab_type": "text"
      },
      "source": [
        "## Introduction\n",
        "\n",
        "Test\n"
      ]
    },
    {
      "cell_type": "code",
      "metadata": {
        "id": "_fiE5U9mXaJm",
        "colab_type": "code",
        "colab": {}
      },
      "source": [
        "import pandas as pd\n",
        "import os\n",
        "pd.read_"
      ],
      "execution_count": 0,
      "outputs": []
    },
    {
      "cell_type": "code",
      "metadata": {
        "id": "G2T-ZKfkxVGw",
        "colab_type": "code",
        "outputId": "2585c935-5232-4bc6-b5a5-479612a332bb",
        "colab": {
          "base_uri": "https://localhost:8080/",
          "height": 34
        }
      },
      "source": [
        "os.getenv('EDITOR')\n",
        "def testyyyy():\n",
        "    print('yes')\n",
        "testyyyy()   "
      ],
      "execution_count": 0,
      "outputs": [
        {
          "output_type": "stream",
          "text": [
            "yes\n"
          ],
          "name": "stdout"
        }
      ]
    },
    {
      "cell_type": "code",
      "metadata": {
        "id": "3d1DKgBKXcmU",
        "colab_type": "code",
        "colab": {}
      },
      "source": [
        "data = pd.Series([1,3,4,2,35,2])"
      ],
      "execution_count": 0,
      "outputs": []
    },
    {
      "cell_type": "code",
      "metadata": {
        "id": "vdrDIFWvXiUz",
        "colab_type": "code",
        "colab": {}
      },
      "source": [
        "data.plot(title='test')"
      ],
      "execution_count": 0,
      "outputs": []
    }
  ]
}