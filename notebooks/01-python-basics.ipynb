{
  "nbformat": 4,
  "nbformat_minor": 0,
  "metadata": {
    "colab": {
      "name": "reproducible-research-in-python.ipynb",
      "provenance": [],
      "collapsed_sections": []
    },
    "kernelspec": {
      "name": "python3",
      "display_name": "Python 3"
    },
    "accelerator": "GPU"
  },
  "cells": [
    {
      "cell_type": "markdown",
      "metadata": {
        "id": "mkZCKT7VCk2M",
        "colab_type": "text"
      },
      "source": [
        "# Python Basics\n",
        "\n",
        "**Learning Objective:** \n",
        "- Learn how code is executed in an Interactive Python Environment\n",
        "- Get familiar with Python and some of its data types \n",
        "- Learn how to use functions, modules, and packages.\n"
      ]
    },
    {
      "cell_type": "markdown",
      "metadata": {
        "id": "_fiE5U9mXaJm",
        "colab_type": "text"
      },
      "source": [
        "## Python \n",
        "\n",
        "- Open Source \n",
        "- General Purpose Programming Language\n",
        "- Created by Guido Van Rossum\n",
        "- Interpreted\n",
        "- Large Community \n"
      ]
    },
    {
      "cell_type": "markdown",
      "metadata": {
        "id": "XWXP479C8833",
        "colab_type": "text"
      },
      "source": [
        "## IPython Shell\n",
        "\n",
        "- Run Python commands interactively\n",
        "\n",
        "Magic Commands\n",
        "\n",
        "```\n",
        "- %lsmagic\n",
        "- %who\n",
        "- %history\n",
        "- %save\n",
        "- %run\n",
        "- %?\n",
        "```"
      ]
    },
    {
      "cell_type": "markdown",
      "metadata": {
        "id": "YkYBvekj8AWB",
        "colab_type": "text"
      },
      "source": [
        "## Hello World\n"
      ]
    },
    {
      "cell_type": "code",
      "metadata": {
        "id": "8GNA7diq8z-t",
        "colab_type": "code",
        "colab": {
          "base_uri": "https://localhost:8080/",
          "height": 34
        },
        "outputId": "3334af18-a44a-4024-816e-aae7f413638b"
      },
      "source": [
        "print(\"Greetings!\")"
      ],
      "execution_count": 1,
      "outputs": [
        {
          "output_type": "stream",
          "text": [
            "Greetings!\n"
          ],
          "name": "stdout"
        }
      ]
    },
    {
      "cell_type": "markdown",
      "metadata": {
        "id": "ikqxPVSr86zx",
        "colab_type": "text"
      },
      "source": [
        "If you run the code below, what is the output?\n"
      ]
    },
    {
      "cell_type": "code",
      "metadata": {
        "id": "5YUSoD5Ug4Af",
        "colab_type": "code",
        "colab": {
          "base_uri": "https://localhost:8080/",
          "height": 34
        },
        "outputId": "4272f01c-025e-4f08-c4b8-22a7c31d8619"
      },
      "source": [
        "# Press CTRL/CMD+ENTER to run this cell\n",
        "print(\"5\" + \"3\")"
      ],
      "execution_count": 2,
      "outputs": [
        {
          "output_type": "stream",
          "text": [
            "53\n"
          ],
          "name": "stdout"
        }
      ]
    },
    {
      "cell_type": "markdown",
      "metadata": {
        "id": "LA31CS2fqYYF",
        "colab_type": "text"
      },
      "source": [
        "In python you can sum *STRINGS*. As you are doing the sum of two *STRINGS* the result is 53."
      ]
    },
    {
      "cell_type": "markdown",
      "metadata": {
        "id": "VVsSP_3JqJVS",
        "colab_type": "text"
      },
      "source": [
        "If you run the code below, what do you see?\n"
      ]
    },
    {
      "cell_type": "code",
      "metadata": {
        "id": "U1an4ibdaJaV",
        "colab_type": "code",
        "colab": {
          "base_uri": "https://localhost:8080/",
          "height": 85
        },
        "outputId": "3688827c-51d6-4c48-b152-f1eccbc3bc5f"
      },
      "source": [
        "print(\" _____\")\n",
        "# This is a comment.\n",
        "print(\"|     |\")\n",
        "# Here's another comment.\n",
        "print(\"|     |\")\n",
        "\"This is a string\"\n",
        "print(\"|_____|\")\n"
      ],
      "execution_count": 3,
      "outputs": [
        {
          "output_type": "stream",
          "text": [
            " _____\n",
            "|     |\n",
            "|     |\n",
            "|_____|\n"
          ],
          "name": "stdout"
        }
      ]
    },
    {
      "cell_type": "markdown",
      "metadata": {
        "id": "idgh_5Q_wVDe",
        "colab_type": "text"
      },
      "source": [
        "Instructions are executed sequentially.\n"
      ]
    },
    {
      "cell_type": "markdown",
      "metadata": {
        "id": "JJT7WfvhjrH1",
        "colab_type": "text"
      },
      "source": [
        "### Hack Time"
      ]
    },
    {
      "cell_type": "code",
      "metadata": {
        "id": "tdkxojGxklzh",
        "colab_type": "code",
        "colab": {}
      },
      "source": [
        "# You code here.\n",
        "# Print your first and last name?\n"
      ],
      "execution_count": 0,
      "outputs": []
    },
    {
      "cell_type": "markdown",
      "metadata": {
        "id": "YcwnBiyWrCFl",
        "colab_type": "text"
      },
      "source": [
        "## Arithmetic with Python\n",
        "\n",
        "In its most basic form, Python can be used as a simple calculator. Consider the following arithmetic operators:\n",
        "\n",
        "- Addition: +\n",
        "- Subtraction: -\n",
        "- Multiplication: *\n",
        "- Division: /\n",
        "- Exponentiation: **\n",
        "- Modulo: % "
      ]
    },
    {
      "cell_type": "markdown",
      "metadata": {
        "id": "cLIi4NHMoq0g",
        "colab_type": "text"
      },
      "source": [
        "### Hack Time "
      ]
    },
    {
      "cell_type": "code",
      "metadata": {
        "id": "eiFKOoEcobd3",
        "colab_type": "code",
        "colab": {}
      },
      "source": [
        "# Your code here.\n",
        "# Divide 7 by 3.\n",
        "\n",
        "# Raise 2 to the 5 power.\n"
      ],
      "execution_count": 0,
      "outputs": []
    },
    {
      "cell_type": "markdown",
      "metadata": {
        "id": "rMx8hCcXm348",
        "colab_type": "text"
      },
      "source": [
        "## Variables assignment\n",
        "\n",
        "Variables are containers that allow you to store a value (e.g. 5) or an object(e.g. a function).\n",
        "\n",
        "Python uses the symbol **\"=\"** as the assignment statement.\n"
      ]
    },
    {
      "cell_type": "code",
      "metadata": {
        "id": "4xp0CxL4trTo",
        "colab_type": "code",
        "colab": {
          "base_uri": "https://localhost:8080/",
          "height": 34
        },
        "outputId": "42c06432-d594-4078-b49f-d4390109c986"
      },
      "source": [
        "x = 24\n",
        "x"
      ],
      "execution_count": 5,
      "outputs": [
        {
          "output_type": "execute_result",
          "data": {
            "text/plain": [
              "24"
            ]
          },
          "metadata": {
            "tags": []
          },
          "execution_count": 5
        }
      ]
    },
    {
      "cell_type": "markdown",
      "metadata": {
        "id": "Bzy8gpSfZdZN",
        "colab_type": "text"
      },
      "source": [
        "Note that IPython will always return the last statement. In the previous cell, we did not ask Python to print x. IPython does this by default."
      ]
    },
    {
      "cell_type": "markdown",
      "metadata": {
        "id": "RchpCgYetcHz",
        "colab_type": "text"
      },
      "source": [
        "### Hack Time\n",
        "\n"
      ]
    },
    {
      "cell_type": "code",
      "metadata": {
        "id": "ldux1N7-yOxO",
        "colab_type": "code",
        "colab": {}
      },
      "source": [
        "# Your code here.\n",
        "# Assign numerical values to two variables named `day_1` and `day_2`.\n",
        "\n",
        "# Add these two variables together.\n",
        "\n",
        "# Create a `my_total` variable containing the sum of the day `day_1` and `day_2` variables.\n",
        "\n",
        "# Print the contents of the `my_total` variable.\n"
      ],
      "execution_count": 0,
      "outputs": []
    },
    {
      "cell_type": "markdown",
      "metadata": {
        "id": "v6UGa0nm1SRX",
        "colab_type": "text"
      },
      "source": [
        "## Basic data types in Python\n",
        "\n",
        "Python works with numerous data types. Some of the most basic types to get started are:\n",
        "\n",
        "- Natural numbers like 2 are called integers (*int*). \n",
        "- Decimal values like 2.5 are called floating point (*float*).\n",
        "- Textual values like \"orange\" or 'bananas' are called strings (*str*).\n",
        "- Logical values (True or False) are called boolean (*bool*).\n",
        "- Lists are like variables but can contain any Python type (*list*)."
      ]
    },
    {
      "cell_type": "code",
      "metadata": {
        "id": "4bvNijKX3D1s",
        "colab_type": "code",
        "colab": {
          "base_uri": "https://localhost:8080/",
          "height": 34
        },
        "outputId": "9e74633a-23f9-4a3d-9314-ad6e6c5f4e53"
      },
      "source": [
        "day_1 = 20\n",
        "type(day_1)\n"
      ],
      "execution_count": 6,
      "outputs": [
        {
          "output_type": "execute_result",
          "data": {
            "text/plain": [
              "int"
            ]
          },
          "metadata": {
            "tags": []
          },
          "execution_count": 6
        }
      ]
    },
    {
      "cell_type": "code",
      "metadata": {
        "id": "jZ-RTwBh3Rxu",
        "colab_type": "code",
        "colab": {
          "base_uri": "https://localhost:8080/",
          "height": 34
        },
        "outputId": "a6c2e6b6-0f7d-455b-d2c0-39e0620cd94b"
      },
      "source": [
        "day_2 = 30\n",
        "type(day_2)\n"
      ],
      "execution_count": 7,
      "outputs": [
        {
          "output_type": "execute_result",
          "data": {
            "text/plain": [
              "int"
            ]
          },
          "metadata": {
            "tags": []
          },
          "execution_count": 7
        }
      ]
    },
    {
      "cell_type": "code",
      "metadata": {
        "id": "Pkrwcmek3WBC",
        "colab_type": "code",
        "colab": {
          "base_uri": "https://localhost:8080/",
          "height": 34
        },
        "outputId": "21523667-0f7c-43fa-9639-6f9498e92c56"
      },
      "source": [
        "description = \"Vote Intentions\"\n",
        "type(description)\n"
      ],
      "execution_count": 9,
      "outputs": [
        {
          "output_type": "execute_result",
          "data": {
            "text/plain": [
              "str"
            ]
          },
          "metadata": {
            "tags": []
          },
          "execution_count": 9
        }
      ]
    },
    {
      "cell_type": "code",
      "metadata": {
        "id": "nKWVO2EwuqmF",
        "colab_type": "code",
        "colab": {
          "base_uri": "https://localhost:8080/",
          "height": 34
        },
        "outputId": "1b418cb8-75df-4843-95ec-5564d6800035"
      },
      "source": [
        "increasing = True\n",
        "type(increasing)\n"
      ],
      "execution_count": 10,
      "outputs": [
        {
          "output_type": "execute_result",
          "data": {
            "text/plain": [
              "bool"
            ]
          },
          "metadata": {
            "tags": []
          },
          "execution_count": 10
        }
      ]
    },
    {
      "cell_type": "code",
      "metadata": {
        "id": "4JIF0KeG7NPO",
        "colab_type": "code",
        "colab": {
          "base_uri": "https://localhost:8080/",
          "height": 34
        },
        "outputId": "4d3e3bb9-eaea-4da0-9896-8979ba871aed"
      },
      "source": [
        "data = [description, increasing, \"Tuesday\", day_1, \"Wednesday\", day_2]\n",
        "type(data)"
      ],
      "execution_count": 11,
      "outputs": [
        {
          "output_type": "execute_result",
          "data": {
            "text/plain": [
              "list"
            ]
          },
          "metadata": {
            "tags": []
          },
          "execution_count": 11
        }
      ]
    },
    {
      "cell_type": "markdown",
      "metadata": {
        "id": "hUrBISRs5jdx",
        "colab_type": "text"
      },
      "source": [
        "### Hack Time"
      ]
    },
    {
      "cell_type": "code",
      "metadata": {
        "id": "fz9Eg8Ln5m0P",
        "colab_type": "code",
        "colab": {}
      },
      "source": [
        "# Your Code Here.\n",
        "## Create a variable containinig the average of vote shares for day_1 and day_2\n",
        "\n",
        "## What is the type of this new variable?\n"
      ],
      "execution_count": 0,
      "outputs": []
    },
    {
      "cell_type": "markdown",
      "metadata": {
        "id": "y1-g8bwU4r44",
        "colab_type": "text"
      },
      "source": [
        "## List Manipulation\n",
        "\n",
        "You can select, slice or edit elements in a list.\n",
        "\n",
        "Note that Python is 0 indexed.\n"
      ]
    },
    {
      "cell_type": "code",
      "metadata": {
        "id": "PBqTX5r021As",
        "colab_type": "code",
        "colab": {
          "base_uri": "https://localhost:8080/",
          "height": 34
        },
        "outputId": "30344b29-5e5b-4a1c-dab0-4e08c4f17d60"
      },
      "source": [
        "# Select an element in a list\n",
        "data\n",
        "data[3]\n"
      ],
      "execution_count": 12,
      "outputs": [
        {
          "output_type": "execute_result",
          "data": {
            "text/plain": [
              "20"
            ]
          },
          "metadata": {
            "tags": []
          },
          "execution_count": 12
        }
      ]
    },
    {
      "cell_type": "code",
      "metadata": {
        "id": "5LTIzvxN25ZS",
        "colab_type": "code",
        "colab": {
          "base_uri": "https://localhost:8080/",
          "height": 34
        },
        "outputId": "b0876076-ea92-418a-fbeb-adae0a2b61f1"
      },
      "source": [
        "# Slicing lists: list[begin:end]\n",
        "data[2:]\n"
      ],
      "execution_count": 13,
      "outputs": [
        {
          "output_type": "execute_result",
          "data": {
            "text/plain": [
              "['Tuesday', 20, 'Wednesday', 30]"
            ]
          },
          "metadata": {
            "tags": []
          },
          "execution_count": 13
        }
      ]
    },
    {
      "cell_type": "code",
      "metadata": {
        "id": "Wj8UZptK257c",
        "colab_type": "code",
        "colab": {
          "base_uri": "https://localhost:8080/",
          "height": 34
        },
        "outputId": "47b890ba-9bb6-48a8-e31a-4815364350f9"
      },
      "source": [
        "# Editing a list\n",
        "data[0] = \"Monday\"\n",
        "data[1] = 25.6\n",
        "data\n"
      ],
      "execution_count": 14,
      "outputs": [
        {
          "output_type": "execute_result",
          "data": {
            "text/plain": [
              "['Monday', 25.6, 'Tuesday', 20, 'Wednesday', 30]"
            ]
          },
          "metadata": {
            "tags": []
          },
          "execution_count": 14
        }
      ]
    },
    {
      "cell_type": "code",
      "metadata": {
        "id": "BSt4QYkd2687",
        "colab_type": "code",
        "colab": {
          "base_uri": "https://localhost:8080/",
          "height": 34
        },
        "outputId": "ba27cb42-7c15-45a9-ce1f-bdc9f35f73c2"
      },
      "source": [
        "# Adding to a list\n",
        "day_3 = [\"Thursday\", 40]\n",
        "day_3\n",
        "data = data + day_3\n",
        "data\n"
      ],
      "execution_count": 15,
      "outputs": [
        {
          "output_type": "execute_result",
          "data": {
            "text/plain": [
              "['Monday', 25.6, 'Tuesday', 20, 'Wednesday', 30, 'Thursday', 40]"
            ]
          },
          "metadata": {
            "tags": []
          },
          "execution_count": 15
        }
      ]
    },
    {
      "cell_type": "markdown",
      "metadata": {
        "id": "f66XD41Y27rv",
        "colab_type": "text"
      },
      "source": [
        "### Unpacking elements from lists\n"
      ]
    },
    {
      "cell_type": "code",
      "metadata": {
        "id": "5wRMK1JU28Y2",
        "colab_type": "code",
        "colab": {
          "base_uri": "https://localhost:8080/",
          "height": 51
        },
        "outputId": "17337d86-c831-4638-d47e-035f5fad8121"
      },
      "source": [
        "# Unpack contents of a list into multiple variables\n",
        "a, b = day_3\n",
        "\n",
        "print(\"a:\", a)\n",
        "print(\"b:\", b)\n"
      ],
      "execution_count": 18,
      "outputs": [
        {
          "output_type": "stream",
          "text": [
            "a: Thursday\n",
            "b: 40\n"
          ],
          "name": "stdout"
        }
      ]
    },
    {
      "cell_type": "code",
      "metadata": {
        "id": "AzI2lV3b4wC5",
        "colab_type": "code",
        "colab": {
          "base_uri": "https://localhost:8080/",
          "height": 68
        },
        "outputId": "71f7cfb7-6293-477c-813f-52a8ef96db73"
      },
      "source": [
        "# You can use the asterisk to unpack multiple elements\n",
        "a, b, *c = data\n",
        "\n",
        "print(\"a:\", a)\n",
        "print(\"b:\", b)\n",
        "print(\"c:\", c)\n"
      ],
      "execution_count": 19,
      "outputs": [
        {
          "output_type": "stream",
          "text": [
            "a: Monday\n",
            "b: 25.6\n",
            "c: ['Tuesday', 20, 'Wednesday', 30, 'Thursday', 40]\n"
          ],
          "name": "stdout"
        }
      ]
    },
    {
      "cell_type": "markdown",
      "metadata": {
        "id": "sH747xtD4w0u",
        "colab_type": "text"
      },
      "source": [
        "## Functions and Methods\n",
        "We have already used some functions until now (e.g. `print()`, `type()`, `range()`).\n",
        "\n",
        "- A function is a group of related statements that perform a specific task.\n",
        "- Help break our program into smaller and modular chunks.\n",
        "- Make your code more organized and manageable. \n",
        "- Avoids repetition and makes code reusable.\n",
        "\n",
        "\n",
        "The general form that functions take is:\n",
        "\n",
        "```python\n",
        "output = function_name(input)\n",
        "```\n",
        "\n"
      ]
    },
    {
      "cell_type": "code",
      "metadata": {
        "id": "9TfTXOMi4xtW",
        "colab_type": "code",
        "colab": {
          "base_uri": "https://localhost:8080/",
          "height": 34
        },
        "outputId": "54ab28b0-5bfa-48f7-e0f1-74d9c37aae0a"
      },
      "source": [
        "result = type(day_3)\n",
        "result\n"
      ],
      "execution_count": 20,
      "outputs": [
        {
          "output_type": "execute_result",
          "data": {
            "text/plain": [
              "list"
            ]
          },
          "metadata": {
            "tags": []
          },
          "execution_count": 20
        }
      ]
    },
    {
      "cell_type": "code",
      "metadata": {
        "id": "l6pHIl2b5j7X",
        "colab_type": "code",
        "colab": {
          "base_uri": "https://localhost:8080/",
          "height": 493
        },
        "outputId": "67938d17-09dd-4db9-a708-ea9287c4c978"
      },
      "source": [
        "# Note that help is also a function!\n",
        "help(help)\n"
      ],
      "execution_count": 21,
      "outputs": [
        {
          "output_type": "stream",
          "text": [
            "Help on _Helper in module _sitebuiltins object:\n",
            "\n",
            "class _Helper(builtins.object)\n",
            " |  Define the builtin 'help'.\n",
            " |  \n",
            " |  This is a wrapper around pydoc.help that provides a helpful message\n",
            " |  when 'help' is typed at the Python interactive prompt.\n",
            " |  \n",
            " |  Calling help() at the Python prompt starts an interactive help session.\n",
            " |  Calling help(thing) prints help for the python object 'thing'.\n",
            " |  \n",
            " |  Methods defined here:\n",
            " |  \n",
            " |  __call__(self, *args, **kwds)\n",
            " |      Call self as a function.\n",
            " |  \n",
            " |  __repr__(self)\n",
            " |      Return repr(self).\n",
            " |  \n",
            " |  ----------------------------------------------------------------------\n",
            " |  Data descriptors defined here:\n",
            " |  \n",
            " |  __dict__\n",
            " |      dictionary for instance variables (if defined)\n",
            " |  \n",
            " |  __weakref__\n",
            " |      list of weak references to the object (if defined)\n",
            "\n"
          ],
          "name": "stdout"
        }
      ]
    },
    {
      "cell_type": "code",
      "metadata": {
        "id": "Pum0NSjo5m_o",
        "colab_type": "code",
        "colab": {}
      },
      "source": [
        "# Alternatively IPython offers a shortcut\n",
        "?print\n"
      ],
      "execution_count": 0,
      "outputs": []
    },
    {
      "cell_type": "code",
      "metadata": {
        "id": "3F1NULbr5oIn",
        "colab_type": "code",
        "colab": {
          "base_uri": "https://localhost:8080/",
          "height": 34
        },
        "outputId": "a606a7db-898f-487a-a4da-94696b1bf608"
      },
      "source": [
        "data[1]\n"
      ],
      "execution_count": 23,
      "outputs": [
        {
          "output_type": "execute_result",
          "data": {
            "text/plain": [
              "25.6"
            ]
          },
          "metadata": {
            "tags": []
          },
          "execution_count": 23
        }
      ]
    },
    {
      "cell_type": "code",
      "metadata": {
        "id": "_xgOvtST6EvI",
        "colab_type": "code",
        "colab": {
          "base_uri": "https://localhost:8080/",
          "height": 34
        },
        "outputId": "3ecc83f8-89e2-49d1-e66f-a93a70b72929"
      },
      "source": [
        "round(data[1])\n"
      ],
      "execution_count": 24,
      "outputs": [
        {
          "output_type": "execute_result",
          "data": {
            "text/plain": [
              "26"
            ]
          },
          "metadata": {
            "tags": []
          },
          "execution_count": 24
        }
      ]
    },
    {
      "cell_type": "markdown",
      "metadata": {
        "id": "8QsegVDy5onT",
        "colab_type": "text"
      },
      "source": [
        "### Defining your own functions\n",
        "\n",
        "#### The syntax of Function\n",
        "```python\n",
        "def function_name(parameters):\n",
        "    \"\"\"A one line summary docstring of the function.\"\"\"\n",
        "    tmp = first_statement(s)\n",
        "    output = second_statement(tmp)\n",
        "    return output\n",
        "```\n",
        "A function definition consists of following components:\n",
        "- The Keyword def marks the start of a function header.\n",
        "- A function name to uniquely identify it.\n",
        "- Parameters (arguments) through which we pass values to a function. They are optional.\n",
        "- A colon (:) to mark the end of function header.\n",
        "- \"Optional\" documentation string (docstring) to describe what the function does.\n",
        "- One or more valid python statements that make up the function body. Statements must have same indentation level (usually 4 spaces).\n",
        "- An optional return statement to return a value from the function.\n"
      ]
    },
    {
      "cell_type": "markdown",
      "metadata": {
        "id": "LT3OtNyO5txU",
        "colab_type": "text"
      },
      "source": [
        "### Hack Time\n"
      ]
    },
    {
      "cell_type": "code",
      "metadata": {
        "id": "wNgujVAr64yS",
        "colab_type": "code",
        "colab": {}
      },
      "source": [
        "# Your code here.\n",
        "## Let's create a function that returns the mean of its items.\n"
      ],
      "execution_count": 0,
      "outputs": []
    },
    {
      "cell_type": "markdown",
      "metadata": {
        "id": "gOkBdOWM5wVw",
        "colab_type": "text"
      },
      "source": [
        "### Methods\n",
        "Methods are functions that belong to objects.\n",
        "\n",
        "The general form that methods take is:\n",
        "```python\n",
        "object.method(input)\n",
        "```\n"
      ]
    },
    {
      "cell_type": "code",
      "metadata": {
        "id": "DhvZq-jn69L8",
        "colab_type": "code",
        "colab": {
          "base_uri": "https://localhost:8080/",
          "height": 34
        },
        "outputId": "7d806211-1fcb-4f1b-b837-f6de9f31f99e"
      },
      "source": [
        "data.index(\"Tuesday\")\n"
      ],
      "execution_count": 25,
      "outputs": [
        {
          "output_type": "execute_result",
          "data": {
            "text/plain": [
              "2"
            ]
          },
          "metadata": {
            "tags": []
          },
          "execution_count": 25
        }
      ]
    },
    {
      "cell_type": "code",
      "metadata": {
        "id": "VzAgkeS57KbI",
        "colab_type": "code",
        "colab": {
          "base_uri": "https://localhost:8080/",
          "height": 119
        },
        "outputId": "475e1227-023a-42b5-d9a7-96281fb9c51a"
      },
      "source": [
        "help(data.index)\n"
      ],
      "execution_count": 26,
      "outputs": [
        {
          "output_type": "stream",
          "text": [
            "Help on built-in function index:\n",
            "\n",
            "index(...) method of builtins.list instance\n",
            "    L.index(value, [start, [stop]]) -> integer -- return first index of value.\n",
            "    Raises ValueError if the value is not present.\n",
            "\n"
          ],
          "name": "stdout"
        }
      ]
    },
    {
      "cell_type": "markdown",
      "metadata": {
        "id": "qXL5O4Cv7K-S",
        "colab_type": "text"
      },
      "source": [
        "Each type of data has its own set of methods.\n",
        "\n"
      ]
    },
    {
      "cell_type": "code",
      "metadata": {
        "id": "oxYiWt6q7Lue",
        "colab_type": "code",
        "colab": {
          "base_uri": "https://localhost:8080/",
          "height": 51
        },
        "outputId": "64700589-da07-4535-bad9-55a22a45d949"
      },
      "source": [
        "print(description)\n",
        "type(description)\n"
      ],
      "execution_count": 27,
      "outputs": [
        {
          "output_type": "stream",
          "text": [
            "Vote Intentions\n"
          ],
          "name": "stdout"
        },
        {
          "output_type": "execute_result",
          "data": {
            "text/plain": [
              "str"
            ]
          },
          "metadata": {
            "tags": []
          },
          "execution_count": 27
        }
      ]
    },
    {
      "cell_type": "code",
      "metadata": {
        "id": "v5J6eo9X7NDd",
        "colab_type": "code",
        "colab": {
          "base_uri": "https://localhost:8080/",
          "height": 34
        },
        "outputId": "d06224d0-d7a3-4f7a-d0b1-10d581ec2444"
      },
      "source": [
        "description.count(\"i\")\n"
      ],
      "execution_count": 31,
      "outputs": [
        {
          "output_type": "execute_result",
          "data": {
            "text/plain": [
              "1"
            ]
          },
          "metadata": {
            "tags": []
          },
          "execution_count": 31
        }
      ]
    },
    {
      "cell_type": "code",
      "metadata": {
        "id": "wCsQbUXp7MjH",
        "colab_type": "code",
        "colab": {
          "base_uri": "https://localhost:8080/",
          "height": 34
        },
        "outputId": "cbef40ae-41bf-4365-be72-36b4809463e3"
      },
      "source": [
        "description.lower()\n"
      ],
      "execution_count": 33,
      "outputs": [
        {
          "output_type": "execute_result",
          "data": {
            "text/plain": [
              "'vote intentions'"
            ]
          },
          "metadata": {
            "tags": []
          },
          "execution_count": 33
        }
      ]
    },
    {
      "cell_type": "markdown",
      "metadata": {
        "id": "4L7iBdgP7NdW",
        "colab_type": "text"
      },
      "source": [
        "You can also chain methods.\n"
      ]
    },
    {
      "cell_type": "code",
      "metadata": {
        "id": "LoTscrd78GV6",
        "colab_type": "code",
        "colab": {
          "base_uri": "https://localhost:8080/",
          "height": 34
        },
        "outputId": "3cd40d90-e1c1-4126-b2c6-94b6ce43feae"
      },
      "source": [
        "description.lower().count(\"i\")\n"
      ],
      "execution_count": 34,
      "outputs": [
        {
          "output_type": "execute_result",
          "data": {
            "text/plain": [
              "2"
            ]
          },
          "metadata": {
            "tags": []
          },
          "execution_count": 34
        }
      ]
    },
    {
      "cell_type": "code",
      "metadata": {
        "id": "rgp85wTN7N14",
        "colab_type": "code",
        "colab": {
          "base_uri": "https://localhost:8080/",
          "height": 34
        },
        "outputId": "330acbcf-693e-43b1-cc2e-59752485954b"
      },
      "source": [
        "day_4 = ['Friday', 35]\n",
        "data.extend(day_4)\n",
        "data\n"
      ],
      "execution_count": 35,
      "outputs": [
        {
          "output_type": "execute_result",
          "data": {
            "text/plain": [
              "['Monday', 25.6, 'Tuesday', 20, 'Wednesday', 30, 'Thursday', 40, 'Friday', 35]"
            ]
          },
          "metadata": {
            "tags": []
          },
          "execution_count": 35
        }
      ]
    },
    {
      "cell_type": "markdown",
      "metadata": {
        "id": "eQJNdyN47OQZ",
        "colab_type": "text"
      },
      "source": [
        "## Modules, and Packages\n",
        "\n",
        "A module is a set of python commands that are saved in a script (eg. script.py).\n",
        "You can load a module and access all its contents at anytime using the command `import module`.\n",
        "\n",
        "Packages are standardized way of organizing code and usually consist of multiple modules.\n",
        "\n",
        "Python, comes with pre-installed packages that you can directly load.\n",
        "\n"
      ]
    },
    {
      "cell_type": "code",
      "metadata": {
        "id": "Arp7dXrF7O8B",
        "colab_type": "code",
        "colab": {
          "base_uri": "https://localhost:8080/",
          "height": 34
        },
        "outputId": "cf6397c0-a8b5-4f05-b6f0-9d14d1a2356e"
      },
      "source": [
        "import math\n",
        "pi = math.pi\n",
        "pi\n"
      ],
      "execution_count": 36,
      "outputs": [
        {
          "output_type": "execute_result",
          "data": {
            "text/plain": [
              "3.141592653589793"
            ]
          },
          "metadata": {
            "tags": []
          },
          "execution_count": 36
        }
      ]
    },
    {
      "cell_type": "markdown",
      "metadata": {
        "id": "cfZHL5PI7eB9",
        "colab_type": "text"
      },
      "source": [
        "### File-system interaction.\n"
      ]
    },
    {
      "cell_type": "code",
      "metadata": {
        "id": "8Dzjjl-Z8aST",
        "colab_type": "code",
        "colab": {
          "base_uri": "https://localhost:8080/",
          "height": 34
        },
        "outputId": "57304092-1962-470d-9016-a3dfb43da31b"
      },
      "source": [
        "import os\n",
        "# Execute a shell command\n",
        "os.system(\"touch test_script.py\")\n"
      ],
      "execution_count": 37,
      "outputs": [
        {
          "output_type": "execute_result",
          "data": {
            "text/plain": [
              "0"
            ]
          },
          "metadata": {
            "tags": []
          },
          "execution_count": 37
        }
      ]
    },
    {
      "cell_type": "code",
      "metadata": {
        "id": "Qn0LLOOG8gt_",
        "colab_type": "code",
        "colab": {
          "base_uri": "https://localhost:8080/",
          "height": 34
        },
        "outputId": "cfa616dc-8e84-44c1-f28d-bda149963337"
      },
      "source": [
        "# Return the current working directory\n",
        "os.getcwd()\n"
      ],
      "execution_count": 38,
      "outputs": [
        {
          "output_type": "execute_result",
          "data": {
            "text/plain": [
              "'/content'"
            ]
          },
          "metadata": {
            "tags": []
          },
          "execution_count": 38
        }
      ]
    },
    {
      "cell_type": "code",
      "metadata": {
        "id": "-0Awpt-b8hJ2",
        "colab_type": "code",
        "colab": {
          "base_uri": "https://localhost:8080/",
          "height": 34
        },
        "outputId": "32d7d1eb-4635-4c35-a16b-6b1fd4c179f8"
      },
      "source": [
        "# List all of the files and sub-directories in a particular folder\n",
        "os.listdir()\n"
      ],
      "execution_count": 39,
      "outputs": [
        {
          "output_type": "execute_result",
          "data": {
            "text/plain": [
              "['.config', 'test_script.py', 'sample_data']"
            ]
          },
          "metadata": {
            "tags": []
          },
          "execution_count": 39
        }
      ]
    },
    {
      "cell_type": "code",
      "metadata": {
        "id": "PwQTIiEY8hm9",
        "colab_type": "code",
        "colab": {
          "base_uri": "https://localhost:8080/",
          "height": 34
        },
        "outputId": "ebcdfca0-251f-4d31-ee18-b1c31df8baf8"
      },
      "source": [
        "# Create folders recursively\n",
        "my_path = \"my_tmp_project/test1/test2/test3\"\n",
        "os.makedirs(my_path)\n",
        "os.listdir()\n"
      ],
      "execution_count": 40,
      "outputs": [
        {
          "output_type": "execute_result",
          "data": {
            "text/plain": [
              "['.config', 'test_script.py', 'my_tmp_project', 'sample_data']"
            ]
          },
          "metadata": {
            "tags": []
          },
          "execution_count": 40
        }
      ]
    },
    {
      "cell_type": "code",
      "metadata": {
        "id": "ss2YLqWF8iFo",
        "colab_type": "code",
        "colab": {
          "base_uri": "https://localhost:8080/",
          "height": 34
        },
        "outputId": "ba4c7d05-e169-4786-dc95-8dd79013a090"
      },
      "source": [
        "# Delete directories recursively.\n",
        "os.removedirs(my_path)\n",
        "os.listdir()\n"
      ],
      "execution_count": 41,
      "outputs": [
        {
          "output_type": "execute_result",
          "data": {
            "text/plain": [
              "['.config', 'test_script.py', 'sample_data']"
            ]
          },
          "metadata": {
            "tags": []
          },
          "execution_count": 41
        }
      ]
    },
    {
      "cell_type": "code",
      "metadata": {
        "id": "NXHeruRs8klu",
        "colab_type": "code",
        "colab": {
          "base_uri": "https://localhost:8080/",
          "height": 34
        },
        "outputId": "64802ec8-881d-449e-a20d-f8f3f45d059b"
      },
      "source": [
        "# Handling slashes / in file paths\n",
        "file = \"process.py\"\n",
        "folder = \"Documents/project1\"\n",
        "full_path = os.path.join(folder, file)\n",
        "full_path\n"
      ],
      "execution_count": 42,
      "outputs": [
        {
          "output_type": "execute_result",
          "data": {
            "text/plain": [
              "'Documents/project1/process.py'"
            ]
          },
          "metadata": {
            "tags": []
          },
          "execution_count": 42
        }
      ]
    },
    {
      "cell_type": "code",
      "metadata": {
        "id": "T7O7raZk8jQS",
        "colab_type": "code",
        "colab": {
          "base_uri": "https://localhost:8080/",
          "height": 34
        },
        "outputId": "1b373794-efd2-4e88-8e26-8d942b259b79"
      },
      "source": [
        "os.rename(\"test_script.py\", \"tmp_script.py\")\n",
        "os.listdir()\n"
      ],
      "execution_count": 43,
      "outputs": [
        {
          "output_type": "execute_result",
          "data": {
            "text/plain": [
              "['.config', 'tmp_script.py', 'sample_data']"
            ]
          },
          "metadata": {
            "tags": []
          },
          "execution_count": 43
        }
      ]
    },
    {
      "cell_type": "code",
      "metadata": {
        "id": "GV0AsBL7vkHa",
        "colab_type": "code",
        "colab": {}
      },
      "source": [
        "# Create and write data to a file\n",
        "file_path = \"tmp_file.txt\"\n",
        "file_contents = \"Hello Again,\\nThis is a new Line!\"\n",
        "\n",
        "file = open(file_path, 'w') \n",
        "file.write(file_contents) \n",
        "file.close() \n"
      ],
      "execution_count": 0,
      "outputs": []
    },
    {
      "cell_type": "code",
      "metadata": {
        "id": "FQbQbD1EwGuA",
        "colab_type": "code",
        "colab": {}
      },
      "source": [
        "# Using the contextual `with` statement\n",
        "with open(file_path, 'w') as file: \n",
        "    file.write(file_contents) \n"
      ],
      "execution_count": 0,
      "outputs": []
    },
    {
      "cell_type": "code",
      "metadata": {
        "id": "QluXfaYjzcLp",
        "colab_type": "code",
        "colab": {
          "base_uri": "https://localhost:8080/",
          "height": 51
        },
        "outputId": "e0de14de-2bfb-4e64-c912-b0eb3d01a2d4"
      },
      "source": [
        "# Reading the contents of a file\n",
        "with open(file_path, \"r\") as file:\n",
        "\tread_contents = file.read()\n",
        "\n",
        "print(read_contents)"
      ],
      "execution_count": 46,
      "outputs": [
        {
          "output_type": "stream",
          "text": [
            "Hello Again,\n",
            "This is a new Line!\n"
          ],
          "name": "stdout"
        }
      ]
    },
    {
      "cell_type": "code",
      "metadata": {
        "id": "JDCwla_G8jxg",
        "colab_type": "code",
        "colab": {
          "base_uri": "https://localhost:8080/",
          "height": 34
        },
        "outputId": "ffd84c94-2097-4852-f80c-9a3c576b46a1"
      },
      "source": [
        "## Delete a file\n",
        "os.remove(file_path)\n",
        "os.listdir()\n"
      ],
      "execution_count": 47,
      "outputs": [
        {
          "output_type": "execute_result",
          "data": {
            "text/plain": [
              "['.config', 'tmp_script.py', 'sample_data']"
            ]
          },
          "metadata": {
            "tags": []
          },
          "execution_count": 47
        }
      ]
    },
    {
      "cell_type": "code",
      "metadata": {
        "id": "uxwhiSOV8lu4",
        "colab_type": "code",
        "colab": {
          "base_uri": "https://localhost:8080/",
          "height": 34
        },
        "outputId": "5a2d478e-1dac-4f20-f22a-a45a1937bf3e"
      },
      "source": [
        "# Get the directory and file name from a full path\n",
        "file = os.path.basename(full_path)\n",
        "folder = os.path.dirname(full_path)\n",
        "print(file, folder)\n"
      ],
      "execution_count": 48,
      "outputs": [
        {
          "output_type": "stream",
          "text": [
            "process.py Documents/project1\n"
          ],
          "name": "stdout"
        }
      ]
    },
    {
      "cell_type": "code",
      "metadata": {
        "id": "sywOLHbk8meo",
        "colab_type": "code",
        "colab": {
          "base_uri": "https://localhost:8080/",
          "height": 34
        },
        "outputId": "968f168e-f869-4858-f71e-1184994a2315"
      },
      "source": [
        "# Check if a file or folder exists\n",
        "os.path.exists(full_path)\n"
      ],
      "execution_count": 49,
      "outputs": [
        {
          "output_type": "execute_result",
          "data": {
            "text/plain": [
              "False"
            ]
          },
          "metadata": {
            "tags": []
          },
          "execution_count": 49
        }
      ]
    },
    {
      "cell_type": "code",
      "metadata": {
        "id": "VudqGVaX8m_t",
        "colab_type": "code",
        "colab": {
          "base_uri": "https://localhost:8080/",
          "height": 34
        },
        "outputId": "8e3e9f87-9641-4964-92bd-6c87d48e3e0b"
      },
      "source": [
        "# Get the extension of a file\n",
        "name, extension = os.path.splitext(file)\n",
        "print(name, extension)\n"
      ],
      "execution_count": 50,
      "outputs": [
        {
          "output_type": "stream",
          "text": [
            "process .py\n"
          ],
          "name": "stdout"
        }
      ]
    },
    {
      "cell_type": "markdown",
      "metadata": {
        "id": "g_UNpeuM7Rdd",
        "colab_type": "text"
      },
      "source": [
        "### Installing New Packages\n",
        "\n",
        "To install a package in Python you need use your terminal and run the following command:\n",
        "\n",
        "- `pip install package_name` \n",
        "\n",
        "There are thousands of packages available such as:\n",
        "\n",
        "- matplotlib\n",
        "- numpy\n",
        "- pandas\n",
        "- pytorch\n",
        "- sci-kit learn\n",
        "- ...\n",
        "\n",
        "For more packages see:\n",
        "\n",
        "- The Python Package Index: https://pypi.org/\n"
      ]
    },
    {
      "cell_type": "code",
      "metadata": {
        "id": "1QfCcjkH7Sun",
        "colab_type": "code",
        "colab": {
          "base_uri": "https://localhost:8080/",
          "height": 360
        },
        "outputId": "03d6de03-dbb9-4c63-b45d-66c0a7053ba8"
      },
      "source": [
        "# In this notebook, we will rely on IPython magic to directly interact with the terminal by using the \"!\"\n",
        "!pip install wikipedia\n",
        "!pip install seaborn \n"
      ],
      "execution_count": 52,
      "outputs": [
        {
          "output_type": "stream",
          "text": [
            "Requirement already satisfied: wikipedia in /usr/local/lib/python3.6/dist-packages (1.4.0)\n",
            "Requirement already satisfied: requests<3.0.0,>=2.0.0 in /usr/local/lib/python3.6/dist-packages (from wikipedia) (2.21.0)\n",
            "Requirement already satisfied: beautifulsoup4 in /usr/local/lib/python3.6/dist-packages (from wikipedia) (4.6.3)\n",
            "Requirement already satisfied: idna<2.9,>=2.5 in /usr/local/lib/python3.6/dist-packages (from requests<3.0.0,>=2.0.0->wikipedia) (2.8)\n",
            "Requirement already satisfied: chardet<3.1.0,>=3.0.2 in /usr/local/lib/python3.6/dist-packages (from requests<3.0.0,>=2.0.0->wikipedia) (3.0.4)\n",
            "Requirement already satisfied: urllib3<1.25,>=1.21.1 in /usr/local/lib/python3.6/dist-packages (from requests<3.0.0,>=2.0.0->wikipedia) (1.24.3)\n",
            "Requirement already satisfied: certifi>=2017.4.17 in /usr/local/lib/python3.6/dist-packages (from requests<3.0.0,>=2.0.0->wikipedia) (2019.9.11)\n",
            "Requirement already satisfied: seaborn in /usr/local/lib/python3.6/dist-packages (0.9.0)\n",
            "Requirement already satisfied: matplotlib>=1.4.3 in /usr/local/lib/python3.6/dist-packages (from seaborn) (3.1.1)\n",
            "Requirement already satisfied: numpy>=1.9.3 in /usr/local/lib/python3.6/dist-packages (from seaborn) (1.17.3)\n",
            "Requirement already satisfied: scipy>=0.14.0 in /usr/local/lib/python3.6/dist-packages (from seaborn) (1.3.1)\n",
            "Requirement already satisfied: pandas>=0.15.2 in /usr/local/lib/python3.6/dist-packages (from seaborn) (0.25.2)\n",
            "Requirement already satisfied: pyparsing!=2.0.4,!=2.1.2,!=2.1.6,>=2.0.1 in /usr/local/lib/python3.6/dist-packages (from matplotlib>=1.4.3->seaborn) (2.4.2)\n",
            "Requirement already satisfied: cycler>=0.10 in /usr/local/lib/python3.6/dist-packages (from matplotlib>=1.4.3->seaborn) (0.10.0)\n",
            "Requirement already satisfied: kiwisolver>=1.0.1 in /usr/local/lib/python3.6/dist-packages (from matplotlib>=1.4.3->seaborn) (1.1.0)\n",
            "Requirement already satisfied: python-dateutil>=2.1 in /usr/local/lib/python3.6/dist-packages (from matplotlib>=1.4.3->seaborn) (2.6.1)\n",
            "Requirement already satisfied: pytz>=2017.2 in /usr/local/lib/python3.6/dist-packages (from pandas>=0.15.2->seaborn) (2018.9)\n",
            "Requirement already satisfied: six in /usr/local/lib/python3.6/dist-packages (from cycler>=0.10->matplotlib>=1.4.3->seaborn) (1.12.0)\n",
            "Requirement already satisfied: setuptools in /usr/local/lib/python3.6/dist-packages (from kiwisolver>=1.0.1->matplotlib>=1.4.3->seaborn) (41.4.0)\n"
          ],
          "name": "stdout"
        }
      ]
    }
  ]
}