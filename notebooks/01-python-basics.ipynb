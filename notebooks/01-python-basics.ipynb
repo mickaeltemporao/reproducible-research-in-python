{
  "nbformat": 4,
  "nbformat_minor": 0,
  "metadata": {
    "colab": {
      "name": "reproducible-research-in-python.ipynb",
      "provenance": [],
      "collapsed_sections": []
    },
    "kernelspec": {
      "name": "python3",
      "display_name": "Python 3"
    },
    "accelerator": "GPU"
  },
  "cells": [
    {
      "cell_type": "markdown",
      "metadata": {
        "id": "mkZCKT7VCk2M",
        "colab_type": "text"
      },
      "source": [
        "# Python Basics\n",
        "\n",
        "**Learning Objective:** \n",
        "- Learn how code is executed in an Interactive Python Environment\n",
        "- Get familiar with Python and some of its data types \n",
        "- Learn how to use functions, modules, and packages.\n"
      ]
    },
    {
      "cell_type": "markdown",
      "metadata": {
        "id": "_fiE5U9mXaJm",
        "colab_type": "text"
      },
      "source": [
        "## Python \n",
        "\n",
        "- Open Source \n",
        "- General Purpose Programming Language\n",
        "- Created by Guido Van Rossum\n",
        "- Interpreted\n",
        "- Large Community \n"
      ]
    },
    {
      "cell_type": "markdown",
      "metadata": {
        "id": "XWXP479C8833",
        "colab_type": "text"
      },
      "source": [
        "## IPython Shell\n",
        "\n",
        "- Run Python commands interactively\n",
        "\n",
        "Magic Commands\n",
        "\n",
        "```\n",
        "- %lsmagic\n",
        "- %who\n",
        "- %history\n",
        "- %save\n",
        "- %run\n",
        "- %?\n",
        "```"
      ]
    },
    {
      "cell_type": "markdown",
      "metadata": {
        "id": "YkYBvekj8AWB",
        "colab_type": "text"
      },
      "source": [
        "## Hello World\n"
      ]
    },
    {
      "cell_type": "code",
      "metadata": {
        "id": "8GNA7diq8z-t",
        "colab_type": "code",
        "colab": {}
      },
      "source": [
        "print(\"Greetings!\")"
      ],
      "execution_count": 0,
      "outputs": []
    },
    {
      "cell_type": "markdown",
      "metadata": {
        "id": "ikqxPVSr86zx",
        "colab_type": "text"
      },
      "source": [
        "If you run the code below, what is the output?\n"
      ]
    },
    {
      "cell_type": "code",
      "metadata": {
        "id": "5YUSoD5Ug4Af",
        "colab_type": "code",
        "colab": {}
      },
      "source": [
        "# Press CTRL/CMD+ENTER to run this cell\n",
        "print(\"5\" + \"3\")"
      ],
      "execution_count": 0,
      "outputs": []
    },
    {
      "cell_type": "markdown",
      "metadata": {
        "id": "LA31CS2fqYYF",
        "colab_type": "text"
      },
      "source": [
        "In python you can sum *STRINGS*. As you are doing the sum of two *STRINGS* the result is 53."
      ]
    },
    {
      "cell_type": "markdown",
      "metadata": {
        "id": "VVsSP_3JqJVS",
        "colab_type": "text"
      },
      "source": [
        "If you run the code below, what do you see?\n"
      ]
    },
    {
      "cell_type": "code",
      "metadata": {
        "id": "U1an4ibdaJaV",
        "colab_type": "code",
        "colab": {}
      },
      "source": [
        "print(\" _____\")\n",
        "# This is a comment.\n",
        "print(\"|     |\")\n",
        "# Here's another comment.\n",
        "print(\"|     |\")\n",
        "\"This is a string\"\n",
        "print(\"|_____|\")\n"
      ],
      "execution_count": 0,
      "outputs": []
    },
    {
      "cell_type": "markdown",
      "metadata": {
        "id": "idgh_5Q_wVDe",
        "colab_type": "text"
      },
      "source": [
        "Instructions are executed sequentially.\n"
      ]
    },
    {
      "cell_type": "markdown",
      "metadata": {
        "id": "JJT7WfvhjrH1",
        "colab_type": "text"
      },
      "source": [
        "### Hack Time"
      ]
    },
    {
      "cell_type": "code",
      "metadata": {
        "id": "tdkxojGxklzh",
        "colab_type": "code",
        "colab": {}
      },
      "source": [
        "# You code here.\n",
        "# Print your first and last name?\n"
      ],
      "execution_count": 0,
      "outputs": []
    },
    {
      "cell_type": "markdown",
      "metadata": {
        "id": "YcwnBiyWrCFl",
        "colab_type": "text"
      },
      "source": [
        "## Arithmetic with Python\n",
        "\n",
        "In its most basic form, Python can be used as a simple calculator. Consider the following arithmetic operators:\n",
        "\n",
        "- Addition: +\n",
        "- Subtraction: -\n",
        "- Multiplication: *\n",
        "- Division: /\n",
        "- Exponentiation: **\n",
        "- Modulo: % "
      ]
    },
    {
      "cell_type": "markdown",
      "metadata": {
        "id": "cLIi4NHMoq0g",
        "colab_type": "text"
      },
      "source": [
        "### Hack Time "
      ]
    },
    {
      "cell_type": "code",
      "metadata": {
        "id": "eiFKOoEcobd3",
        "colab_type": "code",
        "colab": {}
      },
      "source": [
        "# Your code here.\n",
        "# Divide 7 by 3.\n",
        "\n",
        "# Raise 2 to the 5 power.\n"
      ],
      "execution_count": 0,
      "outputs": []
    },
    {
      "cell_type": "markdown",
      "metadata": {
        "id": "rMx8hCcXm348",
        "colab_type": "text"
      },
      "source": [
        "## Variables assignment\n",
        "\n",
        "Variables are containers that allow you to store a value (e.g. 5) or an object(e.g. a function).\n",
        "\n",
        "Python uses the symbol **\"=\"** as the assignment statement.\n"
      ]
    },
    {
      "cell_type": "code",
      "metadata": {
        "id": "4xp0CxL4trTo",
        "colab_type": "code",
        "colab": {}
      },
      "source": [
        "x = 24\n",
        "x"
      ],
      "execution_count": 0,
      "outputs": []
    },
    {
      "cell_type": "markdown",
      "metadata": {
        "id": "Bzy8gpSfZdZN",
        "colab_type": "text"
      },
      "source": [
        "Note that IPython will always return the last statement. In the previous cell, we did not ask Python to print x. IPython does this by default."
      ]
    },
    {
      "cell_type": "markdown",
      "metadata": {
        "id": "RchpCgYetcHz",
        "colab_type": "text"
      },
      "source": [
        "### Hack Time\n",
        "\n"
      ]
    },
    {
      "cell_type": "code",
      "metadata": {
        "id": "ldux1N7-yOxO",
        "colab_type": "code",
        "colab": {}
      },
      "source": [
        "# Your code here.\n",
        "# Assign numerical values to two variables named `day_1` and `day_2`.\n",
        "\n",
        "# Add these two variables together.\n",
        "\n",
        "# Create a `my_total` variable containing the sum of the day `day_1` and `day_2` variables.\n",
        "\n",
        "# Print the contents of the `my_total` variable.\n"
      ],
      "execution_count": 0,
      "outputs": []
    },
    {
      "cell_type": "markdown",
      "metadata": {
        "id": "v6UGa0nm1SRX",
        "colab_type": "text"
      },
      "source": [
        "## Basic data types in Python\n",
        "\n",
        "Python works with numerous data types. Some of the most basic types to get started are:\n",
        "\n",
        "- Natural numbers like 2 are called integers (*int*). \n",
        "- Decimal values like 2.5 are called floating point (*float*).\n",
        "- Textual values like \"orange\" or 'bananas' are called strings (*str*).\n",
        "- Logical values (True or False) are called boolean (*bool*).\n",
        "- Lists are like variables but can contain any Python type (*list*)."
      ]
    },
    {
      "cell_type": "code",
      "metadata": {
        "id": "4bvNijKX3D1s",
        "colab_type": "code",
        "colab": {}
      },
      "source": [
        "day_1 = 20\n",
        "type(day_1)\n"
      ],
      "execution_count": 0,
      "outputs": []
    },
    {
      "cell_type": "code",
      "metadata": {
        "id": "jZ-RTwBh3Rxu",
        "colab_type": "code",
        "colab": {}
      },
      "source": [
        "day_2 = 30\n",
        "type(day_2)\n"
      ],
      "execution_count": 0,
      "outputs": []
    },
    {
      "cell_type": "code",
      "metadata": {
        "id": "Pkrwcmek3WBC",
        "colab_type": "code",
        "colab": {}
      },
      "source": [
        "description = \"Vote Intentions\"\n",
        "type(description)\n"
      ],
      "execution_count": 0,
      "outputs": []
    },
    {
      "cell_type": "code",
      "metadata": {
        "id": "nKWVO2EwuqmF",
        "colab_type": "code",
        "colab": {}
      },
      "source": [
        "increasing = True\n",
        "type(increasing)\n"
      ],
      "execution_count": 0,
      "outputs": []
    },
    {
      "cell_type": "code",
      "metadata": {
        "id": "4JIF0KeG7NPO",
        "colab_type": "code",
        "colab": {}
      },
      "source": [
        "data = [description, increasing, \"Tuesday\", day_1, \"Wednesday\", day_2]\n",
        "type(data)"
      ],
      "execution_count": 0,
      "outputs": []
    },
    {
      "cell_type": "markdown",
      "metadata": {
        "id": "hUrBISRs5jdx",
        "colab_type": "text"
      },
      "source": [
        "### Hack Time"
      ]
    },
    {
      "cell_type": "code",
      "metadata": {
        "id": "fz9Eg8Ln5m0P",
        "colab_type": "code",
        "colab": {}
      },
      "source": [
        "# Your Code Here.\n",
        "## Create a variable containinig the average of vote shares for day_1 and day_2\n",
        "\n",
        "## What is the type of this new variable?\n"
      ],
      "execution_count": 0,
      "outputs": []
    },
    {
      "cell_type": "markdown",
      "metadata": {
        "id": "y1-g8bwU4r44",
        "colab_type": "text"
      },
      "source": [
        "## List Manipulation\n",
        "\n",
        "You can select, slice or edit elements in a list.\n",
        "\n",
        "Note that Python is 0 indexed.\n"
      ]
    },
    {
      "cell_type": "code",
      "metadata": {
        "id": "PBqTX5r021As",
        "colab_type": "code",
        "colab": {}
      },
      "source": [
        "# Select an element in a list\n",
        "data\n",
        "data[3]\n"
      ],
      "execution_count": 0,
      "outputs": []
    },
    {
      "cell_type": "code",
      "metadata": {
        "id": "5LTIzvxN25ZS",
        "colab_type": "code",
        "colab": {}
      },
      "source": [
        "# Slicing lists: list[begin:end]\n",
        "data[2:]\n"
      ],
      "execution_count": 0,
      "outputs": []
    },
    {
      "cell_type": "code",
      "metadata": {
        "id": "Wj8UZptK257c",
        "colab_type": "code",
        "colab": {}
      },
      "source": [
        "# Editing a list\n",
        "data[0] = \"Monday\"\n",
        "data[1] = 25.6\n",
        "data\n"
      ],
      "execution_count": 0,
      "outputs": []
    },
    {
      "cell_type": "code",
      "metadata": {
        "id": "BSt4QYkd2687",
        "colab_type": "code",
        "colab": {}
      },
      "source": [
        "# Adding to a list\n",
        "day_3 = [\"Thursday\", 40]\n",
        "day_3\n",
        "data = data + day_3\n",
        "data\n"
      ],
      "execution_count": 0,
      "outputs": []
    },
    {
      "cell_type": "markdown",
      "metadata": {
        "id": "f66XD41Y27rv",
        "colab_type": "text"
      },
      "source": [
        "### Unpacking elements from lists\n"
      ]
    },
    {
      "cell_type": "code",
      "metadata": {
        "id": "5wRMK1JU28Y2",
        "colab_type": "code",
        "colab": {}
      },
      "source": [
        "# Unpack contents of a list into multiple variables\n",
        "a, b = day_3\n",
        "\n",
        "print(\"a:\", a)\n",
        "print(\"b:\", b)\n"
      ],
      "execution_count": 0,
      "outputs": []
    },
    {
      "cell_type": "code",
      "metadata": {
        "id": "AzI2lV3b4wC5",
        "colab_type": "code",
        "colab": {}
      },
      "source": [
        "# You can use the asterisk to unpack multiple elements\n",
        "a, b, *c = data\n",
        "\n",
        "print(\"a:\", a)\n",
        "print(\"b:\", b)\n",
        "print(\"c:\", c)\n"
      ],
      "execution_count": 0,
      "outputs": []
    },
    {
      "cell_type": "markdown",
      "metadata": {
        "id": "sH747xtD4w0u",
        "colab_type": "text"
      },
      "source": [
        "## Functions and Methods\n",
        "We have already used some functions until now (e.g. `print()`, `type()`, `range()`).\n",
        "\n",
        "- A function is a group of related statements that perform a specific task.\n",
        "- Help break our program into smaller and modular chunks.\n",
        "- Make your code more organized and manageable. \n",
        "- Avoids repetition and makes code reusable.\n",
        "\n",
        "\n",
        "The general form that functions take is:\n",
        "\n",
        "```python\n",
        "output = function_name(input)\n",
        "```\n",
        "\n"
      ]
    },
    {
      "cell_type": "code",
      "metadata": {
        "id": "9TfTXOMi4xtW",
        "colab_type": "code",
        "colab": {}
      },
      "source": [
        "result = type(day_3)\n",
        "result\n"
      ],
      "execution_count": 0,
      "outputs": []
    },
    {
      "cell_type": "code",
      "metadata": {
        "id": "l6pHIl2b5j7X",
        "colab_type": "code",
        "colab": {}
      },
      "source": [
        "# Note that help is also a function!\n",
        "help(help)\n"
      ],
      "execution_count": 0,
      "outputs": []
    },
    {
      "cell_type": "code",
      "metadata": {
        "id": "Pum0NSjo5m_o",
        "colab_type": "code",
        "colab": {}
      },
      "source": [
        "# Alternatively IPython offers a shortcut\n",
        "?print\n"
      ],
      "execution_count": 0,
      "outputs": []
    },
    {
      "cell_type": "code",
      "metadata": {
        "id": "3F1NULbr5oIn",
        "colab_type": "code",
        "colab": {}
      },
      "source": [
        "data[1]\n"
      ],
      "execution_count": 0,
      "outputs": []
    },
    {
      "cell_type": "code",
      "metadata": {
        "id": "_xgOvtST6EvI",
        "colab_type": "code",
        "colab": {}
      },
      "source": [
        "round(data[1])\n"
      ],
      "execution_count": 0,
      "outputs": []
    },
    {
      "cell_type": "markdown",
      "metadata": {
        "id": "8QsegVDy5onT",
        "colab_type": "text"
      },
      "source": [
        "### Defining your own functions\n",
        "\n",
        "#### The syntax of Function\n",
        "```python\n",
        "def function_name(parameters):\n",
        "    \"\"\"A one line summary docstring of the function.\"\"\"\n",
        "    tmp = first_statement(s)\n",
        "    output = second_statement(tmp)\n",
        "    return output\n",
        "```\n",
        "A function definition consists of following components:\n",
        "- The Keyword def marks the start of a function header.\n",
        "- A function name to uniquely identify it.\n",
        "- Parameters (arguments) through which we pass values to a function. They are optional.\n",
        "- A colon (:) to mark the end of function header.\n",
        "- \"Optional\" documentation string (docstring) to describe what the function does.\n",
        "- One or more valid python statements that make up the function body. Statements must have same indentation level (usually 4 spaces).\n",
        "- An optional return statement to return a value from the function.\n"
      ]
    },
    {
      "cell_type": "markdown",
      "metadata": {
        "id": "LT3OtNyO5txU",
        "colab_type": "text"
      },
      "source": [
        "### Hack Time\n"
      ]
    },
    {
      "cell_type": "code",
      "metadata": {
        "id": "wNgujVAr64yS",
        "colab_type": "code",
        "colab": {}
      },
      "source": [
        "# Your code here.\n",
        "## Let's create a function that returns the mean of its items.\n"
      ],
      "execution_count": 0,
      "outputs": []
    },
    {
      "cell_type": "markdown",
      "metadata": {
        "id": "gOkBdOWM5wVw",
        "colab_type": "text"
      },
      "source": [
        "### Methods\n",
        "Methods are functions that belong to objects.\n",
        "\n",
        "The general form that methods take is:\n",
        "```python\n",
        "object.method(input)\n",
        "```\n"
      ]
    },
    {
      "cell_type": "code",
      "metadata": {
        "id": "DhvZq-jn69L8",
        "colab_type": "code",
        "colab": {}
      },
      "source": [
        "data.index(\"Tuesday\")\n"
      ],
      "execution_count": 0,
      "outputs": []
    },
    {
      "cell_type": "code",
      "metadata": {
        "id": "VzAgkeS57KbI",
        "colab_type": "code",
        "colab": {}
      },
      "source": [
        "help(data.index)\n"
      ],
      "execution_count": 0,
      "outputs": []
    },
    {
      "cell_type": "markdown",
      "metadata": {
        "id": "qXL5O4Cv7K-S",
        "colab_type": "text"
      },
      "source": [
        "Each type of data has its own set of methods.\n",
        "\n"
      ]
    },
    {
      "cell_type": "code",
      "metadata": {
        "id": "oxYiWt6q7Lue",
        "colab_type": "code",
        "colab": {}
      },
      "source": [
        "print(description)\n",
        "type(description)\n"
      ],
      "execution_count": 0,
      "outputs": []
    },
    {
      "cell_type": "code",
      "metadata": {
        "id": "v5J6eo9X7NDd",
        "colab_type": "code",
        "colab": {}
      },
      "source": [
        "description.count(\"i\")\n"
      ],
      "execution_count": 0,
      "outputs": []
    },
    {
      "cell_type": "code",
      "metadata": {
        "id": "wCsQbUXp7MjH",
        "colab_type": "code",
        "colab": {}
      },
      "source": [
        "description.lower()\n"
      ],
      "execution_count": 0,
      "outputs": []
    },
    {
      "cell_type": "markdown",
      "metadata": {
        "id": "4L7iBdgP7NdW",
        "colab_type": "text"
      },
      "source": [
        "You can also chain methods.\n"
      ]
    },
    {
      "cell_type": "code",
      "metadata": {
        "id": "LoTscrd78GV6",
        "colab_type": "code",
        "colab": {}
      },
      "source": [
        "description.lower().count(\"i\")\n"
      ],
      "execution_count": 0,
      "outputs": []
    },
    {
      "cell_type": "code",
      "metadata": {
        "id": "rgp85wTN7N14",
        "colab_type": "code",
        "colab": {}
      },
      "source": [
        "day_4 = ['Friday', 35]\n",
        "data.extend(day_4)\n",
        "data\n"
      ],
      "execution_count": 0,
      "outputs": []
    },
    {
      "cell_type": "markdown",
      "metadata": {
        "id": "eQJNdyN47OQZ",
        "colab_type": "text"
      },
      "source": [
        "## Modules, and Packages\n",
        "\n",
        "A module is a set of python commands that are saved in a script (eg. script.py).\n",
        "You can load a module and access all its contents at anytime using the command `import module`.\n",
        "\n",
        "Packages are standardized way of organizing code and usually consist of multiple modules.\n",
        "\n",
        "Python, comes with pre-installed packages that you can directly load.\n",
        "\n"
      ]
    },
    {
      "cell_type": "code",
      "metadata": {
        "id": "Arp7dXrF7O8B",
        "colab_type": "code",
        "colab": {}
      },
      "source": [
        "import math\n",
        "pi = math.pi\n",
        "pi\n"
      ],
      "execution_count": 0,
      "outputs": []
    },
    {
      "cell_type": "markdown",
      "metadata": {
        "id": "cfZHL5PI7eB9",
        "colab_type": "text"
      },
      "source": [
        "### File-system interaction.\n"
      ]
    },
    {
      "cell_type": "code",
      "metadata": {
        "id": "8Dzjjl-Z8aST",
        "colab_type": "code",
        "colab": {}
      },
      "source": [
        "import os\n",
        "# Execute a shell command\n",
        "os.system(\"touch test_script.py\")\n"
      ],
      "execution_count": 0,
      "outputs": []
    },
    {
      "cell_type": "code",
      "metadata": {
        "id": "Qn0LLOOG8gt_",
        "colab_type": "code",
        "colab": {}
      },
      "source": [
        "# Return the current working directory\n",
        "os.getcwd()\n"
      ],
      "execution_count": 0,
      "outputs": []
    },
    {
      "cell_type": "code",
      "metadata": {
        "id": "-0Awpt-b8hJ2",
        "colab_type": "code",
        "colab": {}
      },
      "source": [
        "# List all of the files and sub-directories in a particular folder\n",
        "os.listdir()\n"
      ],
      "execution_count": 0,
      "outputs": []
    },
    {
      "cell_type": "code",
      "metadata": {
        "id": "PwQTIiEY8hm9",
        "colab_type": "code",
        "colab": {}
      },
      "source": [
        "# Create folders recursively\n",
        "my_path = \"my_tmp_project/test1/test2/test3\"\n",
        "os.makedirs(my_path)\n",
        "os.listdir()\n"
      ],
      "execution_count": 0,
      "outputs": []
    },
    {
      "cell_type": "code",
      "metadata": {
        "id": "ss2YLqWF8iFo",
        "colab_type": "code",
        "colab": {}
      },
      "source": [
        "# Delete directories recursively.\n",
        "os.removedirs(my_path)\n",
        "os.listdir()\n"
      ],
      "execution_count": 0,
      "outputs": []
    },
    {
      "cell_type": "code",
      "metadata": {
        "id": "NXHeruRs8klu",
        "colab_type": "code",
        "colab": {}
      },
      "source": [
        "# Handling slashes / in file paths\n",
        "file = \"process.py\"\n",
        "folder = \"Documents/project1\"\n",
        "full_path = os.path.join(folder, file)\n",
        "full_path\n"
      ],
      "execution_count": 0,
      "outputs": []
    },
    {
      "cell_type": "code",
      "metadata": {
        "id": "T7O7raZk8jQS",
        "colab_type": "code",
        "colab": {}
      },
      "source": [
        "os.rename(\"test_script.py\", \"tmp_script.py\")\n",
        "os.listdir()\n"
      ],
      "execution_count": 0,
      "outputs": []
    },
    {
      "cell_type": "code",
      "metadata": {
        "id": "GV0AsBL7vkHa",
        "colab_type": "code",
        "colab": {}
      },
      "source": [
        "# Create and write data to a file\n",
        "file_path = \"tmp_file.txt\"\n",
        "file_contents = \"Hello Again,\\nThis is a new Line!\"\n",
        "\n",
        "file = open(file_path, 'w') \n",
        "file.write(file_contents) \n",
        "file.close() \n"
      ],
      "execution_count": 0,
      "outputs": []
    },
    {
      "cell_type": "code",
      "metadata": {
        "id": "FQbQbD1EwGuA",
        "colab_type": "code",
        "colab": {}
      },
      "source": [
        "# Using the contextual `with` statement\n",
        "with open(file_path, 'w') as file: \n",
        "    file.write(file_contents) \n"
      ],
      "execution_count": 0,
      "outputs": []
    },
    {
      "cell_type": "code",
      "metadata": {
        "id": "QluXfaYjzcLp",
        "colab_type": "code",
        "colab": {}
      },
      "source": [
        "# Reading the contents of a file\n",
        "with open(file_path, \"r\") as file:\n",
        "\tread_contents = file.read()\n",
        "\n",
        "print(read_contents)"
      ],
      "execution_count": 0,
      "outputs": []
    },
    {
      "cell_type": "code",
      "metadata": {
        "id": "JDCwla_G8jxg",
        "colab_type": "code",
        "colab": {}
      },
      "source": [
        "## Delete a file\n",
        "os.remove(file_path)\n",
        "os.listdir()\n"
      ],
      "execution_count": 0,
      "outputs": []
    },
    {
      "cell_type": "code",
      "metadata": {
        "id": "uxwhiSOV8lu4",
        "colab_type": "code",
        "colab": {}
      },
      "source": [
        "# Get the directory and file name from a full path\n",
        "file = os.path.basename(full_path)\n",
        "folder = os.path.dirname(full_path)\n",
        "print(file, folder)\n"
      ],
      "execution_count": 0,
      "outputs": []
    },
    {
      "cell_type": "code",
      "metadata": {
        "id": "sywOLHbk8meo",
        "colab_type": "code",
        "colab": {}
      },
      "source": [
        "# Check if a file or folder exists\n",
        "os.path.exists(full_path)\n"
      ],
      "execution_count": 0,
      "outputs": []
    },
    {
      "cell_type": "code",
      "metadata": {
        "id": "VudqGVaX8m_t",
        "colab_type": "code",
        "colab": {}
      },
      "source": [
        "# Get the extension of a file\n",
        "name, extension = os.path.splitext(file)\n",
        "print(name, extension)\n"
      ],
      "execution_count": 0,
      "outputs": []
    },
    {
      "cell_type": "markdown",
      "metadata": {
        "id": "g_UNpeuM7Rdd",
        "colab_type": "text"
      },
      "source": [
        "### Installing New Packages\n",
        "\n",
        "To install a package in Python you need use your terminal and run the following command:\n",
        "\n",
        "- `pip install package_name` \n",
        "\n",
        "There are thousands of packages available such as:\n",
        "\n",
        "- matplotlib\n",
        "- numpy\n",
        "- pandas\n",
        "- pytorch\n",
        "- sci-kit learn\n",
        "- ...\n",
        "\n",
        "For more packages see:\n",
        "\n",
        "- The Python Package Index: https://pypi.org/\n"
      ]
    },
    {
      "cell_type": "code",
      "metadata": {
        "id": "1QfCcjkH7Sun",
        "colab_type": "code",
        "colab": {}
      },
      "source": [
        "# In this notebook, we will rely on IPython magic to directly interact with the terminal by using the \"!\"\n",
        "!pip install wikipedia\n",
        "!pip install seaborn \n"
      ],
      "execution_count": 0,
      "outputs": []
    }
  ]
}