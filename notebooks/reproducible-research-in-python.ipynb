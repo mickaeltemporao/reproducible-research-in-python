{
  "nbformat": 4,
  "nbformat_minor": 0,
  "metadata": {
    "colab": {
      "name": "reproducible-research-in-python.ipynb",
      "provenance": [],
      "collapsed_sections": [],
      "include_colab_link": true
    },
    "kernelspec": {
      "name": "python3",
      "display_name": "Python 3"
    },
    "accelerator": "GPU"
  },
  "cells": [
    {
      "cell_type": "markdown",
      "metadata": {
        "id": "view-in-github",
        "colab_type": "text"
      },
      "source": [
        "<a href=\"https://colab.research.google.com/github/mickaeltemporao/reproducible-research-in-python/blob/master/notebooks/reproducible-research-in-python.ipynb\" target=\"_parent\"><img src=\"https://colab.research.google.com/assets/colab-badge.svg\" alt=\"Open In Colab\"/></a>"
      ]
    },
    {
      "cell_type": "markdown",
      "metadata": {
        "id": "YA8rfoQu93ql",
        "colab_type": "text"
      },
      "source": [
        "# Reproducible Research in Python\n",
        "_Workshop at McMaster University, October 25th 2019_\n",
        "\n",
        "This notebook was created as part of a workshop on *Reproducible Research in Python*. \n",
        "- You can access the workshop materials here: [Reproducible Research in Python](https://github.com/mickaeltemporao/reproducible-research-in-python).\n",
        "\n",
        "## Important Note\n",
        "\n",
        "This is a hands on workshop. It is better if you start coding along with me during the workshop, experiment bugs and try to understand your errors. \n",
        "Learn by doing and try to avoid copy/pasting.\n",
        "\n",
        "Feel free to ask questions at any time during the workshop.\n",
        "\n",
        "## Prerequisites\n",
        "Prior to the workshop, users need to:\n",
        "- [ ] Account on [Google Colab](https://colab.research.google.com/) \n",
        "- [ ] Account on [GitHub](https://github.com/)\n",
        "\n",
        "## Structure\n",
        "This workshop is divided into three parts. The first part is an introduction the [Python](https://www.python.org/) programming language where you will learn the basics of the language and how to use built-in libraries. The second part of the workshop will teach you how to acquire, explore, and transform data. In the third and last part, you will learn how to train, save, and load models from data.\n",
        "\n",
        "## Software\n",
        "- [ ] [Python 3.6.8+](https://docs.python-guide.org/starting/installation/) \n",
        "\n",
        "## Resources\n",
        "- [The Python Package Index](https://pypi.org/)\n",
        "- [Installing Python Pakcages](https://packaging.python.org/tutorials/installing-packages/)\n",
        "- [Pandas Cheatsheet](http://pandas.pydata.org/Pandas_Cheat_Sheet.pdf)\n",
        "- [seaborn: statistical data visualization](https://seaborn.pydata.org/examples/index.html)\n",
        "- [SciKit-Learn](https://scikit-learn.org/stable/)\n",
        "- [Python Regular Expressions](https://www.w3schools.com/python/python_regex.asp)\n",
        "\n",
        "Python Packaging and Dependency Management\n",
        "- [Minimal Package Structure](https://python-packaging.readthedocs.io/en/latest/minimal.html)\n",
        "- [Project Templates](https://cookiecutter.readthedocs.io/en/latest/index.html)\n",
        "    - [Cookiecutter PyPackage](https://github.com/audreyr/cookiecutter-pypackage)\n",
        "- [Guidelines to document your code](https://sphinxcontrib-napoleon.readthedocs.io/en/latest/example_numpy.html)\n",
        "- [Guidelines to choose a licencse](https://help.github.com/en/github/creating-cloning-and-archiving-repositories/licensing-a-repository)\n",
        "- [Packaging and Dependency Management with Poetry](https://poetry.eustace.io)\n",
        "\n",
        "\n",
        "## License and credit\n",
        "Science should be open and shared. This workshop is inspired and built on top of other open licensed material, so unless otherwise noted, all materials for this workshop are licensed under the Creative Commons Attribution Share Alike 4.0 International License.\n",
        "\n",
        "The source for the materials of this course is on GitHub at [mickaeltemporao/reproducible-research-in-python](https://github.com/mickaeltemporao/reproducible-research-in-python).\n",
        "\n",
        "## Contact\n",
        "For any follow-up questions:\n",
        "- twitter: [@mickaeltemporao](https://twitter.com/mickaeltemporao)\n",
        "- email: mickael.temporao [at] gmail [dot] com\n"
      ]
    },
    {
      "cell_type": "markdown",
      "metadata": {
        "id": "OlRyHtG09958",
        "colab_type": "text"
      },
      "source": [
        "# Introduction\n",
        "\n",
        "![Draw the Owl](http://www.forimpact.org/wp-content/uploads/2014/01/HowToDrawOwl.jpg)\n",
        "\n",
        "## Agenda\n",
        "\n",
        "- [Python Basics](#python-basics) \n",
        "- [Data Acquisition and Exploration](#data-acquisition-and-exploration)\n",
        "- [Data Pre-Processing and Modeling](#data-pre-processing-and-modeling)\n",
        "\n",
        "\n",
        "\n",
        "\n"
      ]
    },
    {
      "cell_type": "markdown",
      "metadata": {
        "id": "mkZCKT7VCk2M",
        "colab_type": "text"
      },
      "source": [
        "# Python Basics\n",
        "\n",
        "**Learning Objective:** \n",
        "- Learn how code is executed in an Interactive Python Environment\n",
        "- Get familiar with Python and some of its data types \n",
        "- Learn how to use functions, modules, and packages.\n"
      ]
    },
    {
      "cell_type": "markdown",
      "metadata": {
        "id": "_fiE5U9mXaJm",
        "colab_type": "text"
      },
      "source": [
        "## Python \n",
        "\n",
        "- Open Source \n",
        "- General Purpose Programming Language\n",
        "- Created by Guido Van Rossum\n",
        "- Interpreted\n",
        "- Large Community \n"
      ]
    },
    {
      "cell_type": "markdown",
      "metadata": {
        "id": "XWXP479C8833",
        "colab_type": "text"
      },
      "source": [
        "## IPython Shell\n",
        "\n",
        "- Run Python commands interactively\n",
        "\n",
        "Magic Commands\n",
        "\n",
        "```\n",
        "- %lsmagic\n",
        "- %who\n",
        "- %history\n",
        "- %save\n",
        "- %run\n",
        "- %?\n",
        "```"
      ]
    },
    {
      "cell_type": "markdown",
      "metadata": {
        "id": "YkYBvekj8AWB",
        "colab_type": "text"
      },
      "source": [
        "## Hello World\n"
      ]
    },
    {
      "cell_type": "code",
      "metadata": {
        "id": "8GNA7diq8z-t",
        "colab_type": "code",
        "colab": {}
      },
      "source": [
        "print(\"Greetings!\")"
      ],
      "execution_count": 0,
      "outputs": []
    },
    {
      "cell_type": "markdown",
      "metadata": {
        "id": "ikqxPVSr86zx",
        "colab_type": "text"
      },
      "source": [
        "If you run the code below, what is the output?\n"
      ]
    },
    {
      "cell_type": "code",
      "metadata": {
        "id": "5YUSoD5Ug4Af",
        "colab_type": "code",
        "colab": {}
      },
      "source": [
        "# Press CTRL/CMD+ENTER to run this cell\n",
        "print(\"5\" + \"3\")"
      ],
      "execution_count": 0,
      "outputs": []
    },
    {
      "cell_type": "markdown",
      "metadata": {
        "id": "LA31CS2fqYYF",
        "colab_type": "text"
      },
      "source": [
        "In python you can sum *STRINGS*. As you are doing the sum of two *STRINGS* the result is 53."
      ]
    },
    {
      "cell_type": "markdown",
      "metadata": {
        "id": "VVsSP_3JqJVS",
        "colab_type": "text"
      },
      "source": [
        "If you run the code below, what do you see?\n"
      ]
    },
    {
      "cell_type": "code",
      "metadata": {
        "id": "U1an4ibdaJaV",
        "colab_type": "code",
        "colab": {}
      },
      "source": [
        "print(\" _____\")\n",
        "# This is a comment.\n",
        "print(\"|     |\")\n",
        "# Here's another comment.\n",
        "print(\"|     |\")\n",
        "\"This is a string\"\n",
        "print(\"|_____|\")\n"
      ],
      "execution_count": 0,
      "outputs": []
    },
    {
      "cell_type": "markdown",
      "metadata": {
        "id": "idgh_5Q_wVDe",
        "colab_type": "text"
      },
      "source": [
        "Instructions are executed sequentially.\n"
      ]
    },
    {
      "cell_type": "markdown",
      "metadata": {
        "id": "JJT7WfvhjrH1",
        "colab_type": "text"
      },
      "source": [
        "### Hack Time"
      ]
    },
    {
      "cell_type": "code",
      "metadata": {
        "id": "tdkxojGxklzh",
        "colab_type": "code",
        "colab": {}
      },
      "source": [
        "# You code here.\n",
        "# Print your first and last name?\n"
      ],
      "execution_count": 0,
      "outputs": []
    },
    {
      "cell_type": "markdown",
      "metadata": {
        "id": "YcwnBiyWrCFl",
        "colab_type": "text"
      },
      "source": [
        "## Arithmetic with Python\n",
        "\n",
        "In its most basic form, Python can be used as a simple calculator. Consider the following arithmetic operators:\n",
        "\n",
        "- Addition: +\n",
        "- Subtraction: -\n",
        "- Multiplication: *\n",
        "- Division: /\n",
        "- Exponentiation: **\n",
        "- Modulo: % "
      ]
    },
    {
      "cell_type": "markdown",
      "metadata": {
        "id": "cLIi4NHMoq0g",
        "colab_type": "text"
      },
      "source": [
        "### Hack Time "
      ]
    },
    {
      "cell_type": "code",
      "metadata": {
        "id": "eiFKOoEcobd3",
        "colab_type": "code",
        "colab": {}
      },
      "source": [
        "# Your code here.\n",
        "# Divide 7 by 3.\n",
        "\n",
        "# Raise 2 to the 5 power.\n"
      ],
      "execution_count": 0,
      "outputs": []
    },
    {
      "cell_type": "markdown",
      "metadata": {
        "id": "rMx8hCcXm348",
        "colab_type": "text"
      },
      "source": [
        "## Variables assignment\n",
        "\n",
        "Variables are containers that allow you to store a value (e.g. 5) or an object(e.g. a function).\n",
        "\n",
        "Python uses the symbol **\"=\"** as the assignment statement.\n"
      ]
    },
    {
      "cell_type": "code",
      "metadata": {
        "id": "4xp0CxL4trTo",
        "colab_type": "code",
        "colab": {}
      },
      "source": [
        "x = 24\n",
        "x"
      ],
      "execution_count": 0,
      "outputs": []
    },
    {
      "cell_type": "markdown",
      "metadata": {
        "id": "RchpCgYetcHz",
        "colab_type": "text"
      },
      "source": [
        "### Hack Time\n",
        "\n"
      ]
    },
    {
      "cell_type": "code",
      "metadata": {
        "id": "ldux1N7-yOxO",
        "colab_type": "code",
        "colab": {}
      },
      "source": [
        "# Your code here.\n",
        "# Assign numerical values to two variables named `day_1` and `day_2`.\n",
        "\n",
        "# Add these two variables together.\n",
        "\n",
        "# Create a `my_total` variable containing the sum of the day `day_1` and `day_2` variables.\n",
        "\n",
        "# Print the contents of the `my_total` variable.\n"
      ],
      "execution_count": 0,
      "outputs": []
    },
    {
      "cell_type": "markdown",
      "metadata": {
        "id": "v6UGa0nm1SRX",
        "colab_type": "text"
      },
      "source": [
        "## Basic data types in Python\n",
        "\n",
        "Python works with numerous data types. Some of the most basic types to get started are:\n",
        "\n",
        "- Natural numbers like 2 are called integers (*int*). \n",
        "- Decimal values like 2.5 are called floating point (*float*).\n",
        "- Textual values like \"orange\" or 'bananas' are called strings (*str*).\n",
        "- Logical values (True or False) are called boolean (*bool*).\n",
        "- Lists are like variables but can contain any Python type (*list*)."
      ]
    },
    {
      "cell_type": "code",
      "metadata": {
        "id": "4bvNijKX3D1s",
        "colab_type": "code",
        "colab": {}
      },
      "source": [
        "day_1 = 20\n",
        "type(day_1)\n"
      ],
      "execution_count": 0,
      "outputs": []
    },
    {
      "cell_type": "code",
      "metadata": {
        "id": "jZ-RTwBh3Rxu",
        "colab_type": "code",
        "colab": {}
      },
      "source": [
        "day_2 = 30\n",
        "type(day_2)\n"
      ],
      "execution_count": 0,
      "outputs": []
    },
    {
      "cell_type": "code",
      "metadata": {
        "id": "Pkrwcmek3WBC",
        "colab_type": "code",
        "colab": {}
      },
      "source": [
        "description = \"Vote Share\"\n",
        "type(description)\n"
      ],
      "execution_count": 0,
      "outputs": []
    },
    {
      "cell_type": "code",
      "metadata": {
        "id": "nKWVO2EwuqmF",
        "colab_type": "code",
        "colab": {}
      },
      "source": [
        "increasing = True\n",
        "type(increasing)\n"
      ],
      "execution_count": 0,
      "outputs": []
    },
    {
      "cell_type": "code",
      "metadata": {
        "id": "4JIF0KeG7NPO",
        "colab_type": "code",
        "colab": {}
      },
      "source": [
        "data = [description, increasing, \"Tuesday\", day_1, \"Wednesday\", day_2]\n",
        "type(data)"
      ],
      "execution_count": 0,
      "outputs": []
    },
    {
      "cell_type": "markdown",
      "metadata": {
        "id": "hUrBISRs5jdx",
        "colab_type": "text"
      },
      "source": [
        "### Hack Time"
      ]
    },
    {
      "cell_type": "code",
      "metadata": {
        "id": "fz9Eg8Ln5m0P",
        "colab_type": "code",
        "colab": {}
      },
      "source": [
        "# Your Code Here.\n",
        "## Create a variable containinig the average of vote shares for day_1 and day_2\n",
        "\n",
        "## What is the type of this new variable?\n"
      ],
      "execution_count": 0,
      "outputs": []
    },
    {
      "cell_type": "markdown",
      "metadata": {
        "id": "y1-g8bwU4r44",
        "colab_type": "text"
      },
      "source": [
        "## List Manipulation\n",
        "\n",
        "You can select, slice or edit elements in a list.\n",
        "\n",
        "Note that Python is 0 indexed.\n"
      ]
    },
    {
      "cell_type": "code",
      "metadata": {
        "id": "PBqTX5r021As",
        "colab_type": "code",
        "colab": {}
      },
      "source": [
        "# Select an element in a list\n",
        "data\n",
        "data[3]\n"
      ],
      "execution_count": 0,
      "outputs": []
    },
    {
      "cell_type": "code",
      "metadata": {
        "id": "5LTIzvxN25ZS",
        "colab_type": "code",
        "colab": {}
      },
      "source": [
        "# Slicing lists: list[begin:end]\n",
        "data[2:]\n"
      ],
      "execution_count": 0,
      "outputs": []
    },
    {
      "cell_type": "code",
      "metadata": {
        "id": "Wj8UZptK257c",
        "colab_type": "code",
        "colab": {}
      },
      "source": [
        "# Editing a list\n",
        "data[0] = \"Monday\"\n",
        "data[1] = 25.6\n",
        "data\n"
      ],
      "execution_count": 0,
      "outputs": []
    },
    {
      "cell_type": "code",
      "metadata": {
        "id": "BSt4QYkd2687",
        "colab_type": "code",
        "colab": {}
      },
      "source": [
        "# Adding to a list\n",
        "day_3 = [\"Thursday\", 40]\n",
        "day_3\n",
        "data = data + day_3\n",
        "data\n"
      ],
      "execution_count": 0,
      "outputs": []
    },
    {
      "cell_type": "markdown",
      "metadata": {
        "id": "f66XD41Y27rv",
        "colab_type": "text"
      },
      "source": [
        "### Unpacking elements from lists\n"
      ]
    },
    {
      "cell_type": "code",
      "metadata": {
        "id": "5wRMK1JU28Y2",
        "colab_type": "code",
        "colab": {}
      },
      "source": [
        "# Unpack contents of a list into multiple variables\n",
        "a, b = range(2)\n",
        "\n",
        "print(\"a:\", a)\n",
        "print(\"b:\", b)\n"
      ],
      "execution_count": 0,
      "outputs": []
    },
    {
      "cell_type": "code",
      "metadata": {
        "id": "AzI2lV3b4wC5",
        "colab_type": "code",
        "colab": {}
      },
      "source": [
        "# You can use the asterisk to unpack multiple elements\n",
        "a, b, *c = range(20)\n",
        "\n",
        "print(\"a:\", a)\n",
        "print(\"b:\", b)\n",
        "print(\"c:\", c)\n"
      ],
      "execution_count": 0,
      "outputs": []
    },
    {
      "cell_type": "markdown",
      "metadata": {
        "id": "sH747xtD4w0u",
        "colab_type": "text"
      },
      "source": [
        "## Functions and Methods\n",
        "We have already used some functions until now (e.g. `print()`, `type()`, `range()`).\n",
        "\n",
        "- A function is a group of related statements that perform a specific task.\n",
        "- Help break our program into smaller and modular chunks.\n",
        "- Make your code more organized and manageable. \n",
        "- Avoids repetition and makes code reusable.\n",
        "\n",
        "\n",
        "The general form that functions take is:\n",
        "\n",
        "```\n",
        "output = function_name(input)\n",
        "```\n",
        "\n"
      ]
    },
    {
      "cell_type": "code",
      "metadata": {
        "id": "9TfTXOMi4xtW",
        "colab_type": "code",
        "colab": {}
      },
      "source": [
        "result = type(day_3)\n",
        "result\n"
      ],
      "execution_count": 0,
      "outputs": []
    },
    {
      "cell_type": "code",
      "metadata": {
        "id": "l6pHIl2b5j7X",
        "colab_type": "code",
        "colab": {}
      },
      "source": [
        "# Note that help is also a function!\n",
        "help(help)\n"
      ],
      "execution_count": 0,
      "outputs": []
    },
    {
      "cell_type": "code",
      "metadata": {
        "id": "Pum0NSjo5m_o",
        "colab_type": "code",
        "colab": {}
      },
      "source": [
        "# Alternatively IPython offers a shortcut\n",
        "?print\n"
      ],
      "execution_count": 0,
      "outputs": []
    },
    {
      "cell_type": "code",
      "metadata": {
        "id": "3F1NULbr5oIn",
        "colab_type": "code",
        "colab": {}
      },
      "source": [
        "data[1]\n"
      ],
      "execution_count": 0,
      "outputs": []
    },
    {
      "cell_type": "code",
      "metadata": {
        "id": "_xgOvtST6EvI",
        "colab_type": "code",
        "colab": {}
      },
      "source": [
        "round(data[1])\n"
      ],
      "execution_count": 0,
      "outputs": []
    },
    {
      "cell_type": "markdown",
      "metadata": {
        "id": "8QsegVDy5onT",
        "colab_type": "text"
      },
      "source": [
        "### Defining your own functions\n",
        "\n",
        "#### The syntax of Function\n",
        "```python\n",
        "def function_name(parameters):\n",
        "    \"\"\"A one line summary docstring of the function.\"\"\"\n",
        "    tmp = first_statement(s)\n",
        "    output = second_statement(tmp)\n",
        "    return output\n",
        "```\n",
        "A function definition consists of following components:\n",
        "- The Keyword def marks the start of a function header.\n",
        "- A function name to uniquely identify it.\n",
        "- Parameters (arguments) through which we pass values to a function. They are optional.\n",
        "- A colon (:) to mark the end of function header.\n",
        "- \"Optional\" documentation string (docstring) to describe what the function does.\n",
        "- One or more valid python statements that make up the function body. Statements must have same indentation level (usually 4 spaces).\n",
        "- An optional return statement to return a value from the function.\n"
      ]
    },
    {
      "cell_type": "markdown",
      "metadata": {
        "id": "LT3OtNyO5txU",
        "colab_type": "text"
      },
      "source": [
        "### Hack Time\n"
      ]
    },
    {
      "cell_type": "code",
      "metadata": {
        "id": "wNgujVAr64yS",
        "colab_type": "code",
        "colab": {}
      },
      "source": [
        "# Your code here.\n",
        "## Let's create a function that returns the mean of its items.\n"
      ],
      "execution_count": 0,
      "outputs": []
    },
    {
      "cell_type": "markdown",
      "metadata": {
        "id": "gOkBdOWM5wVw",
        "colab_type": "text"
      },
      "source": [
        "### Methods\n",
        "Methods are functions that belong to objects.\n",
        "\n",
        "The general form that methods take is:\n",
        "```python\n",
        "`object.method(input)`\n",
        "```\n"
      ]
    },
    {
      "cell_type": "code",
      "metadata": {
        "id": "DhvZq-jn69L8",
        "colab_type": "code",
        "colab": {}
      },
      "source": [
        "data.index(\"Tuesday\")\n"
      ],
      "execution_count": 0,
      "outputs": []
    },
    {
      "cell_type": "code",
      "metadata": {
        "id": "VzAgkeS57KbI",
        "colab_type": "code",
        "colab": {}
      },
      "source": [
        "help(data.index)\n"
      ],
      "execution_count": 0,
      "outputs": []
    },
    {
      "cell_type": "markdown",
      "metadata": {
        "id": "qXL5O4Cv7K-S",
        "colab_type": "text"
      },
      "source": [
        "Each type of data has its own set of methods.\n",
        "\n"
      ]
    },
    {
      "cell_type": "code",
      "metadata": {
        "id": "oxYiWt6q7Lue",
        "colab_type": "code",
        "colab": {}
      },
      "source": [
        "print(description)\n",
        "type(description)\n"
      ],
      "execution_count": 0,
      "outputs": []
    },
    {
      "cell_type": "code",
      "metadata": {
        "id": "wCsQbUXp7MjH",
        "colab_type": "code",
        "colab": {}
      },
      "source": [
        "description.upper()\n"
      ],
      "execution_count": 0,
      "outputs": []
    },
    {
      "cell_type": "code",
      "metadata": {
        "id": "v5J6eo9X7NDd",
        "colab_type": "code",
        "colab": {}
      },
      "source": [
        "description.count(\"i\")\n"
      ],
      "execution_count": 0,
      "outputs": []
    },
    {
      "cell_type": "markdown",
      "metadata": {
        "id": "4L7iBdgP7NdW",
        "colab_type": "text"
      },
      "source": [
        "You can also chain methods.\n"
      ]
    },
    {
      "cell_type": "code",
      "metadata": {
        "id": "LoTscrd78GV6",
        "colab_type": "code",
        "colab": {}
      },
      "source": [
        "description.lower().count(\"i\")\n"
      ],
      "execution_count": 0,
      "outputs": []
    },
    {
      "cell_type": "code",
      "metadata": {
        "id": "rgp85wTN7N14",
        "colab_type": "code",
        "colab": {}
      },
      "source": [
        "day_4 = ['Friday', 35]\n",
        "data.extend(day_4)\n",
        "data\n"
      ],
      "execution_count": 0,
      "outputs": []
    },
    {
      "cell_type": "markdown",
      "metadata": {
        "id": "eQJNdyN47OQZ",
        "colab_type": "text"
      },
      "source": [
        "## Modules, and Packages\n",
        "\n",
        "A module is a set of python commands that are saved in a script (eg. script.py).\n",
        "You can load a module and access all its contents at anytime using the command `import module`.\n",
        "\n",
        "Packages are standardized way of organizing code and usually consist of multiple modules.\n",
        "    - Minimal Package Structure: https://python-packaging.readthedocs.io/en/latest/minimal.html\n",
        "\n",
        "Python, comes with pre-installed packages that you can directly load.\n",
        "\n"
      ]
    },
    {
      "cell_type": "code",
      "metadata": {
        "id": "Arp7dXrF7O8B",
        "colab_type": "code",
        "colab": {}
      },
      "source": [
        "import math\n",
        "pi = math.pi\n",
        "pi\n"
      ],
      "execution_count": 0,
      "outputs": []
    },
    {
      "cell_type": "markdown",
      "metadata": {
        "id": "cfZHL5PI7eB9",
        "colab_type": "text"
      },
      "source": [
        "### File-system interaction.\n"
      ]
    },
    {
      "cell_type": "code",
      "metadata": {
        "id": "8Dzjjl-Z8aST",
        "colab_type": "code",
        "colab": {}
      },
      "source": [
        "import os\n",
        "# Execute a shell command\n",
        "os.system(\"touch test_script.py\")\n"
      ],
      "execution_count": 0,
      "outputs": []
    },
    {
      "cell_type": "code",
      "metadata": {
        "id": "Qn0LLOOG8gt_",
        "colab_type": "code",
        "colab": {}
      },
      "source": [
        "# Return the current working directory\n",
        "os.getcwd()\n"
      ],
      "execution_count": 0,
      "outputs": []
    },
    {
      "cell_type": "code",
      "metadata": {
        "id": "-0Awpt-b8hJ2",
        "colab_type": "code",
        "colab": {}
      },
      "source": [
        "# List all of the files and sub-directories in a particular folder\n",
        "os.listdir()\n"
      ],
      "execution_count": 0,
      "outputs": []
    },
    {
      "cell_type": "code",
      "metadata": {
        "id": "PwQTIiEY8hm9",
        "colab_type": "code",
        "colab": {}
      },
      "source": [
        "# Create folders recursively\n",
        "my_path = \"my_tmp_project/test1/test2/test3\"\n",
        "os.makedirs(my_path)\n",
        "os.listdir()\n"
      ],
      "execution_count": 0,
      "outputs": []
    },
    {
      "cell_type": "code",
      "metadata": {
        "id": "ss2YLqWF8iFo",
        "colab_type": "code",
        "colab": {}
      },
      "source": [
        "# Delete directories recursively.\n",
        "os.removedirs(my_path)\n",
        "os.listdir()\n"
      ],
      "execution_count": 0,
      "outputs": []
    },
    {
      "cell_type": "code",
      "metadata": {
        "id": "NXHeruRs8klu",
        "colab_type": "code",
        "colab": {}
      },
      "source": [
        "# Handling slashes / in file paths\n",
        "file = \"process.py\"\n",
        "folder = \"Documents/project1\"\n",
        "full_path = os.path.join(folder, file)\n",
        "full_path\n"
      ],
      "execution_count": 0,
      "outputs": []
    },
    {
      "cell_type": "code",
      "metadata": {
        "id": "T7O7raZk8jQS",
        "colab_type": "code",
        "colab": {}
      },
      "source": [
        "os.rename(\"test_script.py\", \"tmp_script.py\")\n",
        "os.listdir()\n"
      ],
      "execution_count": 0,
      "outputs": []
    },
    {
      "cell_type": "code",
      "metadata": {
        "id": "GV0AsBL7vkHa",
        "colab_type": "code",
        "colab": {}
      },
      "source": [
        "# Create and write data to a file\n",
        "file_path = \"tmp_file.txt\"\n",
        "file_contents = \"Hello Again,\\nThis is a new Line!\"\n",
        "\n",
        "file = open(file_path, 'w') \n",
        "file.write(file_contents) \n",
        "file.close() \n"
      ],
      "execution_count": 0,
      "outputs": []
    },
    {
      "cell_type": "code",
      "metadata": {
        "id": "FQbQbD1EwGuA",
        "colab_type": "code",
        "colab": {}
      },
      "source": [
        "# Using the contextual `with` statement\n",
        "with open(file_path, 'w') as file: \n",
        "    file.write(file_contents) \n"
      ],
      "execution_count": 0,
      "outputs": []
    },
    {
      "cell_type": "code",
      "metadata": {
        "id": "QluXfaYjzcLp",
        "colab_type": "code",
        "colab": {}
      },
      "source": [
        "# Reading the contents of a file\n",
        "with open(file_path, \"r\") as file:\n",
        "\tread_contents = file.read()\n",
        "\n",
        "print(read_contents)"
      ],
      "execution_count": 0,
      "outputs": []
    },
    {
      "cell_type": "code",
      "metadata": {
        "id": "JDCwla_G8jxg",
        "colab_type": "code",
        "colab": {}
      },
      "source": [
        "## Delete a file\n",
        "os.remove(file_path)\n",
        "os.listdir()\n"
      ],
      "execution_count": 0,
      "outputs": []
    },
    {
      "cell_type": "code",
      "metadata": {
        "id": "uxwhiSOV8lu4",
        "colab_type": "code",
        "colab": {}
      },
      "source": [
        "# Get the directory and file name from a full path\n",
        "file = os.path.basename(full_path)\n",
        "folder = os.path.dirname(full_path)\n",
        "print(file, folder)\n"
      ],
      "execution_count": 0,
      "outputs": []
    },
    {
      "cell_type": "code",
      "metadata": {
        "id": "sywOLHbk8meo",
        "colab_type": "code",
        "colab": {}
      },
      "source": [
        "# Check if a file or folder exists\n",
        "os.path.exists(full_path)\n"
      ],
      "execution_count": 0,
      "outputs": []
    },
    {
      "cell_type": "code",
      "metadata": {
        "id": "VudqGVaX8m_t",
        "colab_type": "code",
        "colab": {}
      },
      "source": [
        "# Get the extension of a file\n",
        "name, extension = os.path.splitext(file)\n",
        "print(name, extension)\n"
      ],
      "execution_count": 0,
      "outputs": []
    },
    {
      "cell_type": "markdown",
      "metadata": {
        "id": "g_UNpeuM7Rdd",
        "colab_type": "text"
      },
      "source": [
        "### Install package\n",
        "\n",
        "To install a package in Python you use the command `pip install package_name` directly in your terminal.\n",
        "\n",
        "There are thousands of packages available such as:\n",
        "    - matplotlib\n",
        "    - numpy\n",
        "    - pandas\n",
        "    - pytorch\n",
        "    - sci-kit learn\n",
        "    - ...\n",
        "\n",
        "For more packages see:\n",
        "    - The Python Package Index: https://pypi.org/\n"
      ]
    },
    {
      "cell_type": "code",
      "metadata": {
        "id": "1QfCcjkH7Sun",
        "colab_type": "code",
        "colab": {}
      },
      "source": [
        "# We will rely on some IPython magic to directly interact with the terminal.\n",
        "!pip install wikipedia\n"
      ],
      "execution_count": 0,
      "outputs": []
    },
    {
      "cell_type": "markdown",
      "metadata": {
        "id": "s9nC5_RwqJcx",
        "colab_type": "text"
      },
      "source": [
        "# Data Acquisition and Exploration\n",
        "**Learning Objective:** \n",
        "- Get familiar with common data exploration libraries\n",
        "- Learn to acquire and clean data\n",
        "- Learn to explore and visualize \n",
        "\n"
      ]
    },
    {
      "cell_type": "markdown",
      "metadata": {
        "id": "sofsPeRDqNRO",
        "colab_type": "text"
      },
      "source": [
        "## Acquiring Data\n",
        "With some Python basics we will start combining existing packages to acquire, and explore data.\n"
      ]
    },
    {
      "cell_type": "code",
      "metadata": {
        "id": "PTx-1l9i4MPy",
        "colab_type": "code",
        "colab": {}
      },
      "source": [
        "# Load the required libraries\n",
        "import pandas as pd\n",
        "import wikipedia as wp\n",
        "import matplotlib\n",
        "matplotlib.rcParams['figure.figsize'] = [10, 5]\n"
      ],
      "execution_count": 0,
      "outputs": []
    },
    {
      "cell_type": "code",
      "metadata": {
        "id": "5CrD5shz5Vwu",
        "colab_type": "code",
        "colab": {}
      },
      "source": [
        "# Identify Wikipedia Page and acquire the date\n",
        "page_title = \"Opinion polling for the 2019 Canadian federal election\"\n"
      ],
      "execution_count": 0,
      "outputs": []
    },
    {
      "cell_type": "code",
      "metadata": {
        "id": "XtBh69Va9lfm",
        "colab_type": "code",
        "colab": {}
      },
      "source": [
        "#Get the html source\n",
        "html = wp.page(page_title).html().encode(\"UTF-8\")\n"
      ],
      "execution_count": 0,
      "outputs": []
    },
    {
      "cell_type": "code",
      "metadata": {
        "id": "DlqQzI8R5Zz3",
        "colab_type": "code",
        "colab": {}
      },
      "source": [
        "# Extract tables and convert the html tables into pd.DataFrame()\n",
        "df = pd.read_html(html)[0].iloc[2:,:]\n"
      ],
      "execution_count": 0,
      "outputs": []
    },
    {
      "cell_type": "markdown",
      "metadata": {
        "id": "6KIE5UUg5cu7",
        "colab_type": "text"
      },
      "source": [
        "## Cleaning Data\n"
      ]
    },
    {
      "cell_type": "code",
      "metadata": {
        "id": "K9n7kcR4dLTb",
        "colab_type": "code",
        "colab": {}
      },
      "source": [
        "# Inspect the data\n",
        "df.head()\n"
      ],
      "execution_count": 0,
      "outputs": []
    },
    {
      "cell_type": "code",
      "metadata": {
        "id": "EjUNJ9Ba5iln",
        "colab_type": "code",
        "colab": {}
      },
      "source": [
        "# We notice that there seems to be a double header\n",
        "df.columns\n"
      ],
      "execution_count": 0,
      "outputs": []
    },
    {
      "cell_type": "code",
      "metadata": {
        "id": "fK6ERcta5jWT",
        "colab_type": "code",
        "colab": {}
      },
      "source": [
        "# What is the type of columns\n",
        "type(df.columns)\n"
      ],
      "execution_count": 0,
      "outputs": []
    },
    {
      "cell_type": "code",
      "metadata": {
        "id": "xA2JYlIe5kcC",
        "colab_type": "code",
        "colab": {}
      },
      "source": [
        "# Let's use a loop to extract and edit each element of the MultiIndex dataframe\n",
        "columnn_names = []\n",
        "for c in df.columns:\n",
        "    tmp = c[0].lower()\n",
        "    columnn_names.append(tmp.replace(\" \", \"_\"))\n",
        "\n",
        "columnn_names\n"
      ],
      "execution_count": 0,
      "outputs": []
    },
    {
      "cell_type": "code",
      "metadata": {
        "id": "QrBVR0gU5lUK",
        "colab_type": "code",
        "colab": {}
      },
      "source": [
        "# Let's use regular expressions in a list comprehension this time\n",
        "import re\n",
        "regex = \"[a-z]+\"\n",
        "columnn_names = [\"_\".join(re.findall(regex, i)) for i in columnn_names]\n"
      ],
      "execution_count": 0,
      "outputs": []
    },
    {
      "cell_type": "code",
      "metadata": {
        "id": "wmGVxVMs5l3h",
        "colab_type": "code",
        "colab": {}
      },
      "source": [
        "# Let's edit the columns of our dataset\n",
        "df.columns = columnn_names\n",
        "df.head()\n"
      ],
      "execution_count": 0,
      "outputs": []
    },
    {
      "cell_type": "code",
      "metadata": {
        "id": "HSoXadEo5mXQ",
        "colab_type": "code",
        "colab": {}
      },
      "source": [
        "# Let's further rename those columns\n",
        "names_dict = {\n",
        "    \"polling_firm\": \"source\",\n",
        "    \"last_dateof_polling\": \"date\",\n",
        "    \"samplesize\": \"sample_size\",\n",
        "    \"marginof_error\": \"error\",\n",
        "    \"cons\": \"cpc\",\n",
        "    \"liberal\": \"lpc\",\n",
        "    \"green\": \"gpc\",\n",
        "    \"polling_method\": \"method\",\n",
        "}\n",
        "\n",
        "type(names_dict)\n"
      ],
      "execution_count": 0,
      "outputs": []
    },
    {
      "cell_type": "code",
      "metadata": {
        "id": "_Gke_V1T5nRh",
        "colab_type": "code",
        "colab": {}
      },
      "source": [
        "# Pass the new dictionary as an argument to the .rename method\n",
        "df.rename(columns=names_dict, inplace=True)\n",
        "df.head()\n"
      ],
      "execution_count": 0,
      "outputs": []
    },
    {
      "cell_type": "code",
      "metadata": {
        "id": "n9V7ryxd5n2h",
        "colab_type": "code",
        "colab": {}
      },
      "source": [
        "# Let's check the data types\n",
        "df.dtypes\n"
      ],
      "execution_count": 0,
      "outputs": []
    },
    {
      "cell_type": "code",
      "metadata": {
        "id": "fkoKzrsj5ppH",
        "colab_type": "code",
        "colab": {}
      },
      "source": [
        "# The date field needs to be converted\n",
        "df[['date']] = pd.to_datetime(df.date)\n",
        "df.head()\n"
      ],
      "execution_count": 0,
      "outputs": []
    },
    {
      "cell_type": "code",
      "metadata": {
        "id": "mJd2dc2Y5qWE",
        "colab_type": "code",
        "colab": {}
      },
      "source": [
        "# We should also only keep the numeric values for the margins of error\n",
        "regex = \"(\\d+\\.*\\d*)\"\n",
        "df.error = df.error.str.extract(regex)\n"
      ],
      "execution_count": 0,
      "outputs": []
    },
    {
      "cell_type": "code",
      "metadata": {
        "id": "CY-ZCGVA5q7U",
        "colab_type": "code",
        "colab": {}
      },
      "source": [
        "# Let's look again at our dataset\n",
        "df.head()\n"
      ],
      "execution_count": 0,
      "outputs": []
    },
    {
      "cell_type": "code",
      "metadata": {
        "id": "KS93D1r55rbv",
        "colab_type": "code",
        "colab": {}
      },
      "source": [
        "# What if we look at a random subsample\n",
        "df.sample(5)\n"
      ],
      "execution_count": 0,
      "outputs": []
    },
    {
      "cell_type": "code",
      "metadata": {
        "id": "0GIcT7Pq5r4W",
        "colab_type": "code",
        "colab": {}
      },
      "source": [
        "# Let's clean the sample\n",
        "regex = r\"\\(.*\\)\"\n",
        "df.sample_size = df.sample_size.str.replace(regex, \"\")\n",
        "df.sample_size = df.sample_size.str.replace(\" |,\", \"\")\n"
      ],
      "execution_count": 0,
      "outputs": []
    },
    {
      "cell_type": "code",
      "metadata": {
        "id": "4iU8LAAX5tjx",
        "colab_type": "code",
        "colab": {}
      },
      "source": [
        "# How does the data look now?\n",
        "df.sample(5)\n"
      ],
      "execution_count": 0,
      "outputs": []
    },
    {
      "cell_type": "code",
      "metadata": {
        "id": "7eaf8vO05uuZ",
        "colab_type": "code",
        "colab": {}
      },
      "source": [
        "# What about the data types?\n",
        "df.info()\n"
      ],
      "execution_count": 0,
      "outputs": []
    },
    {
      "cell_type": "code",
      "metadata": {
        "id": "6HADs6lW5vmB",
        "colab_type": "code",
        "colab": {}
      },
      "source": [
        "# Which of these variables are still objects?\n",
        "df.select_dtypes(include='object')\n"
      ],
      "execution_count": 0,
      "outputs": []
    },
    {
      "cell_type": "code",
      "metadata": {
        "id": "-rXgXmeb5yC3",
        "colab_type": "code",
        "colab": {}
      },
      "source": [
        "# Let's use a dictionary to recode the data types\n",
        "convert_dict = {\n",
        "    'error': float,\n",
        "    'sample_size': int,\n",
        "    'lead': float\n",
        "}\n",
        "\n",
        "df = df.astype(convert_dict)\n"
      ],
      "execution_count": 0,
      "outputs": []
    },
    {
      "cell_type": "code",
      "metadata": {
        "id": "nUku2bRB5y4D",
        "colab_type": "code",
        "colab": {}
      },
      "source": [
        "# Let's look once again at our data\n",
        "df.sample(5)\n"
      ],
      "execution_count": 0,
      "outputs": []
    },
    {
      "cell_type": "code",
      "metadata": {
        "id": "i84Qzw2W5zaf",
        "colab_type": "code",
        "colab": {}
      },
      "source": [
        "# What are the remaining objects?\n",
        "df.select_dtypes(include='object')\n"
      ],
      "execution_count": 0,
      "outputs": []
    },
    {
      "cell_type": "code",
      "metadata": {
        "id": "S14uJehz5z_8",
        "colab_type": "code",
        "colab": {}
      },
      "source": [
        "# Keep only necessary variables by creating a variable filter\n",
        "to_keep = [\n",
        "    'source',\n",
        "    'date',\n",
        "    'lpc',\n",
        "    'cpc',\n",
        "    'ndp',\n",
        "    'bq',\n",
        "    'gpc',\n",
        "    'ppc',\n",
        "    'method'\n",
        "]\n",
        "\n",
        "df = df[to_keep]\n"
      ],
      "execution_count": 0,
      "outputs": []
    },
    {
      "cell_type": "markdown",
      "metadata": {
        "id": "_jc2nEBV7SaA",
        "colab_type": "text"
      },
      "source": [
        "## Data IO\n"
      ]
    },
    {
      "cell_type": "code",
      "metadata": {
        "id": "5IHjSTOddkIx",
        "colab_type": "code",
        "colab": {}
      },
      "source": [
        "# Save the cleaned dataframe to a file\n",
        "file_name = \"national_polls_2019.csv\"\n",
        "df.to_csv(file_name, index=False)\n",
        "print(df)\n",
        "\n",
        "df.dtypes\n"
      ],
      "execution_count": 0,
      "outputs": []
    },
    {
      "cell_type": "code",
      "metadata": {
        "id": "CWw_gIt07TLE",
        "colab_type": "code",
        "colab": {}
      },
      "source": [
        "# Read the data back-in from the recorded csv file.\n",
        "\n",
        "# More info on read_csv\n",
        "# https://pandas.pydata.org/pandas-docs/stable/reference/api/pandas.read_csv.html\n",
        "df = pd.read_csv(\"national_polls_2019.csv\", parse_dates=['date'])\n",
        "df.dtypes\n"
      ],
      "execution_count": 0,
      "outputs": []
    },
    {
      "cell_type": "markdown",
      "metadata": {
        "id": "UpZQqLUB7Zxr",
        "colab_type": "text"
      },
      "source": [
        "## Data Exploration and Visualization\n"
      ]
    },
    {
      "cell_type": "code",
      "metadata": {
        "id": "eDoOasNpdr6D",
        "colab_type": "code",
        "colab": {}
      },
      "source": [
        "# Let's convert this into a time-series dataframe\n",
        "df.set_index('date', inplace=True)\n"
      ],
      "execution_count": 0,
      "outputs": []
    },
    {
      "cell_type": "code",
      "metadata": {
        "id": "TcaAaVWD7ch7",
        "colab_type": "code",
        "colab": {}
      },
      "source": [
        "# Time-series data should be stored in descending order\n",
        "df = df.sort_values(by=['date', 'source'])\n"
      ],
      "execution_count": 0,
      "outputs": []
    },
    {
      "cell_type": "code",
      "metadata": {
        "id": "DDLa0Ws_7c_W",
        "colab_type": "code",
        "colab": {}
      },
      "source": [
        "# How does the data look now?\n",
        "df.head()\n"
      ],
      "execution_count": 0,
      "outputs": []
    },
    {
      "cell_type": "code",
      "metadata": {
        "id": "dIMp9oU07eXZ",
        "colab_type": "code",
        "colab": {}
      },
      "source": [
        "# What about the tail?\n",
        "df.tail()\n"
      ],
      "execution_count": 0,
      "outputs": []
    },
    {
      "cell_type": "code",
      "metadata": {
        "id": "gXfA8snl7ezQ",
        "colab_type": "code",
        "colab": {}
      },
      "source": [
        "# A time indexed data frame provides much more control over the data\n",
        "df.loc[df.index > '2019-10-15']\n"
      ],
      "execution_count": 0,
      "outputs": []
    },
    {
      "cell_type": "code",
      "metadata": {
        "id": "mgCuP_EU7fOG",
        "colab_type": "code",
        "colab": {}
      },
      "source": [
        "# We can look at a single party\n",
        "df.lpc.loc['2019-10-20']\n"
      ],
      "execution_count": 0,
      "outputs": []
    },
    {
      "cell_type": "code",
      "metadata": {
        "id": "h96QxTsi7gBd",
        "colab_type": "code",
        "colab": {}
      },
      "source": [
        "# We can focus on a subset of columns\n",
        "parties = [\"lpc\", \"cpc\", \"ndp\", \"bq\", \"gpc\", \"ppc\"]\n",
        "df.loc[:, parties]\n"
      ],
      "execution_count": 0,
      "outputs": []
    },
    {
      "cell_type": "code",
      "metadata": {
        "id": "iXkeJ4CE7ggt",
        "colab_type": "code",
        "colab": {}
      },
      "source": [
        "# We can aggregate/resample the data\n",
        "df[parties].resample('D', how='mean').head()\n"
      ],
      "execution_count": 0,
      "outputs": []
    },
    {
      "cell_type": "code",
      "metadata": {
        "id": "KnKK-ba07g-E",
        "colab_type": "code",
        "colab": {}
      },
      "source": [
        "# We can also use pandas to plot\n",
        "df[parties].resample('D', how='mean').plot()\n"
      ],
      "execution_count": 0,
      "outputs": []
    },
    {
      "cell_type": "markdown",
      "metadata": {
        "id": "R30Sw-VXb1KC",
        "colab_type": "text"
      },
      "source": [
        "\n",
        "### Anatomy of a Figure\n",
        "![Anatomy of a Figure](https://matplotlib.org/3.1.1/_images/anatomy.png)\n"
      ]
    },
    {
      "cell_type": "code",
      "metadata": {
        "id": "8gJjUSkR7hYj",
        "colab_type": "code",
        "colab": {}
      },
      "source": [
        "# We can look at the distributions for each party\n",
        "df[parties].plot(kind='kde')\n"
      ],
      "execution_count": 0,
      "outputs": []
    },
    {
      "cell_type": "code",
      "metadata": {
        "id": "f4_ZrItD7iDm",
        "colab_type": "code",
        "colab": {}
      },
      "source": [
        "# Or do a simple box-plot\n",
        "df[parties].boxplot()\n"
      ],
      "execution_count": 0,
      "outputs": []
    },
    {
      "cell_type": "code",
      "metadata": {
        "id": "DZykjhTV7iei",
        "colab_type": "code",
        "colab": {}
      },
      "source": [
        "# Let's look at missing values\n",
        "df.isnull().mean()\n"
      ],
      "execution_count": 0,
      "outputs": []
    },
    {
      "cell_type": "code",
      "metadata": {
        "id": "PvyYBoaa7i72",
        "colab_type": "code",
        "colab": {}
      },
      "source": [
        "# We can remove missing values\n",
        "df.dropna()\n"
      ],
      "execution_count": 0,
      "outputs": []
    },
    {
      "cell_type": "code",
      "metadata": {
        "id": "V4IlZuOX7jou",
        "colab_type": "code",
        "colab": {}
      },
      "source": [
        "# We just lost half of our dataset...\n",
        "# Maybe we should fill the missing values\n",
        "tmp_df = df.fillna(method='ffill', limit=3).copy()\n",
        "tmp_df.isnull().mean()\n",
        "\n",
        "df = tmp_df\n"
      ],
      "execution_count": 0,
      "outputs": []
    },
    {
      "cell_type": "code",
      "metadata": {
        "id": "xu5b5Dtx7kTu",
        "colab_type": "code",
        "colab": {}
      },
      "source": [
        "# Let's investigate which polling firms have been most active\n",
        "df.source.value_counts()\n"
      ],
      "execution_count": 0,
      "outputs": []
    },
    {
      "cell_type": "code",
      "metadata": {
        "id": "bLZIK8ik7k-g",
        "colab_type": "code",
        "colab": {}
      },
      "source": [
        "# Remove the firms that released less than 5 polls\n",
        "tmp_mask = df.source.value_counts() >= 5\n",
        "mask = tmp_mask.index[tmp_mask]\n",
        "\n",
        "df = df[df.source.isin(mask)]\n"
      ],
      "execution_count": 0,
      "outputs": []
    },
    {
      "cell_type": "code",
      "metadata": {
        "id": "_Hn75nR57ll_",
        "colab_type": "code",
        "colab": {}
      },
      "source": [
        "# Once again we could decide to visualize directly the result\n",
        "df.source.value_counts().plot(kind='barh')\n"
      ],
      "execution_count": 0,
      "outputs": []
    },
    {
      "cell_type": "code",
      "metadata": {
        "id": "e8f6prY87mPR",
        "colab_type": "code",
        "colab": {}
      },
      "source": [
        "# Try to do grouped operations and see how did each of these firms portrayed the liberal party\n",
        "df.groupby('source').lpc.describe().sort_values(by='mean')\n"
      ],
      "execution_count": 0,
      "outputs": []
    },
    {
      "cell_type": "code",
      "metadata": {
        "id": "LFhQ0vrt7mvU",
        "colab_type": "code",
        "colab": {}
      },
      "source": [
        "# We can also look at the means for all the parties\n",
        "df.groupby('source')[parties].mean().sort_values('lpc')\n"
      ],
      "execution_count": 0,
      "outputs": []
    },
    {
      "cell_type": "code",
      "metadata": {
        "id": "uXft9CUK7nZ_",
        "colab_type": "code",
        "colab": {}
      },
      "source": [
        "# We can also apply custom functions by groups\n",
        "z_score = lambda x: (x-x.mean()) / x.std()\n",
        "df.reset_index().groupby('source')[parties].apply(z_score).head()\n"
      ],
      "execution_count": 0,
      "outputs": []
    },
    {
      "cell_type": "code",
      "metadata": {
        "id": "DsuHM2tt7oCX",
        "colab_type": "code",
        "colab": {}
      },
      "source": [
        "# Most algorithms need you to shape the date in a long format\n",
        "long_df = pd.melt(\n",
        "    df.reset_index(),\n",
        "    id_vars=['date', 'source'],\n",
        "    value_vars=parties,\n",
        "    var_name='party',\n",
        "    value_name='share',\n",
        ")\n",
        "\n",
        "long_df.head()\n"
      ],
      "execution_count": 0,
      "outputs": []
    },
    {
      "cell_type": "code",
      "metadata": {
        "id": "iAamHM8f7qmT",
        "colab_type": "code",
        "colab": {}
      },
      "source": [
        "# Seaborn, a statistical data visualization library uses long-format\n",
        "import seaborn as sns\n",
        "sns.set(style=\"whitegrid\", palette=\"muted\")\n",
        "\n",
        "sns.swarmplot(\n",
        "    x=\"party\",\n",
        "    y=\"share\",\n",
        "    hue=\"source\",\n",
        "    data=long_df,\n",
        ")\n"
      ],
      "execution_count": 0,
      "outputs": []
    },
    {
      "cell_type": "code",
      "metadata": {
        "id": "X1x73YzS7ud-",
        "colab_type": "code",
        "colab": {}
      },
      "source": [
        "# What if we need to add the sample size back?\n",
        "new_df = long_df.merge(\n",
        "    df[['method', 'source']].reset_index(),\n",
        "    on=['date', 'source']\n",
        ")\n",
        "\n",
        "new_df.head()\n"
      ],
      "execution_count": 0,
      "outputs": []
    },
    {
      "cell_type": "code",
      "metadata": {
        "id": "QxCX7w2j7vDh",
        "colab_type": "code",
        "colab": {}
      },
      "source": [
        "# We can also expand the dataframe back to a wide format\n",
        "new_df = new_df.pivot_table(\n",
        "    index=['date', 'source', 'method'],\n",
        "    columns='party',\n",
        "    values='share',\n",
        ")\n",
        "\n",
        "new_df.head()"
      ],
      "execution_count": 0,
      "outputs": []
    },
    {
      "cell_type": "markdown",
      "metadata": {
        "id": "Z89XnYAW4FMf",
        "colab_type": "text"
      },
      "source": [
        "# Data Modeling\n",
        "**Learning Objective:** \n",
        "- Learn create data pre-processing functions\n",
        "- Learn how to train and save model objects\n",
        "- Learn to load and make predictions on unseen data\n",
        "\n"
      ]
    },
    {
      "cell_type": "markdown",
      "metadata": {
        "id": "YuxJmjzq4G4w",
        "colab_type": "text"
      },
      "source": [
        "Let's try to forecast the election based on existing polls!\n",
        "\n",
        "## Preparing the training set"
      ]
    },
    {
      "cell_type": "code",
      "metadata": {
        "id": "q8ZQeV6O_w6b",
        "colab_type": "code",
        "colab": {}
      },
      "source": [
        "# For the training part we will rely on polls from the 2015 election.\n",
        "title_train = \"Opinion polling for the 2015 Canadian federal election\"\n",
        "html = wp.page(title_train).html().encode(\"UTF-8\")\n",
        "df_train = pd.read_html(html)[0]\n"
      ],
      "execution_count": 0,
      "outputs": []
    },
    {
      "cell_type": "code",
      "metadata": {
        "id": "8NhH4KDc_1S0",
        "colab_type": "code",
        "colab": {}
      },
      "source": [
        "# Cleaning the training set.\n",
        "import re\n"
      ],
      "execution_count": 0,
      "outputs": []
    },
    {
      "cell_type": "code",
      "metadata": {
        "id": "Vv2mh4kc_2Am",
        "colab_type": "code",
        "colab": {}
      },
      "source": [
        "# A function to fix the column names\n",
        "def fix_names(input_df, names_dict):\n",
        "    \"\"\"Renames the columns in the input dataframe.\"\"\"\n",
        "    regex = \"[a-z]+\"\n",
        "\n",
        "    columnn_names = []\n",
        "\n",
        "    tmp_df = input_df.copy()\n",
        "\n",
        "    for c in tmp_df.columns:\n",
        "        tmp = c.lower()\n",
        "        columnn_names.append(tmp.replace(\" \", \"_\"))\n",
        "\n",
        "    tmp_names = [\"_\".join(re.findall(regex, i)) for i in columnn_names]\n",
        "    tmp_df.columns = tmp_names\n",
        "\n",
        "    return tmp_df.rename(columns=names_dict)\n"
      ],
      "execution_count": 0,
      "outputs": []
    },
    {
      "cell_type": "code",
      "metadata": {
        "id": "LZ_C-bxH_2-d",
        "colab_type": "code",
        "colab": {}
      },
      "source": [
        "# Let's edit them...\n",
        "df_train = fix_names(df_train, names_dict)\n",
        "df_train.columns\n"
      ],
      "execution_count": 0,
      "outputs": []
    },
    {
      "cell_type": "code",
      "metadata": {
        "id": "Qs5-LfEo_3mt",
        "colab_type": "code",
        "colab": {}
      },
      "source": [
        "# Let's keep relevant variables only\n",
        "df_train = df_train[to_keep]\n"
      ],
      "execution_count": 0,
      "outputs": []
    },
    {
      "cell_type": "code",
      "metadata": {
        "id": "-wo9R3N1_4GZ",
        "colab_type": "code",
        "colab": {}
      },
      "source": [
        "# Remember lists also have useful methods\n",
        "to_keep.remove('ppc')\n"
      ],
      "execution_count": 0,
      "outputs": []
    },
    {
      "cell_type": "code",
      "metadata": {
        "id": "mDrGHYm8_4mg",
        "colab_type": "code",
        "colab": {}
      },
      "source": [
        "# What does the training set look like ?\n",
        "df_train = df_train[to_keep]\n",
        "df_train.head()\n"
      ],
      "execution_count": 0,
      "outputs": []
    },
    {
      "cell_type": "code",
      "metadata": {
        "id": "v16hmGjF_5DN",
        "colab_type": "code",
        "colab": {}
      },
      "source": [
        "# Let's store and remove the election results\n",
        "results_2015 = df_train.iloc[1]\n",
        "df_train = df_train.drop(1).dropna()\n"
      ],
      "execution_count": 0,
      "outputs": []
    },
    {
      "cell_type": "code",
      "metadata": {
        "id": "HRKATV5V_5hG",
        "colab_type": "code",
        "colab": {}
      },
      "source": [
        "# Let's deal with missing values\n",
        "df_train.dropna(inplace=True)\n"
      ],
      "execution_count": 0,
      "outputs": []
    },
    {
      "cell_type": "code",
      "metadata": {
        "id": "I7KfKMpj_5_d",
        "colab_type": "code",
        "colab": {}
      },
      "source": [
        "# What about the data types?\n",
        "df_train.select_dtypes(include='object')\n"
      ],
      "execution_count": 0,
      "outputs": []
    },
    {
      "cell_type": "code",
      "metadata": {
        "id": "Wb9EL1Ab_6bM",
        "colab_type": "code",
        "colab": {}
      },
      "source": [
        "# Let's fix that date variable\n",
        "df_train['date'] = pd.to_datetime(df_train.date)\n",
        "df_train.sample(3)\n"
      ],
      "execution_count": 0,
      "outputs": []
    },
    {
      "cell_type": "code",
      "metadata": {
        "id": "p3jFedUS_66O",
        "colab_type": "code",
        "colab": {}
      },
      "source": [
        "# As we mentioned, most algorithms require the data to be in long-format\n",
        "df_train = pd.melt(\n",
        "    df_train.reset_index(),\n",
        "    id_vars=['date', 'source', 'method'],\n",
        "    value_vars=parties.remove('ppc'),\n",
        "    var_name='party',\n",
        "    value_name='share',\n",
        ")\n",
        "\n",
        "df_train.head()\n"
      ],
      "execution_count": 0,
      "outputs": []
    },
    {
      "cell_type": "markdown",
      "metadata": {
        "id": "8JIVTlFk_7nW",
        "colab_type": "text"
      },
      "source": [
        "Let's do some more exploration and see if polls actually improve as we get closer to the election day?\n"
      ]
    },
    {
      "cell_type": "code",
      "metadata": {
        "id": "KiGE5ZRD_8db",
        "colab_type": "code",
        "colab": {}
      },
      "source": [
        "# We need to merge the outcome of the election back\n",
        "targets = (\n",
        "    results_2015\n",
        "    .transpose()\n",
        "    .iloc[2:-1]\n",
        "    .reset_index()\n",
        ")\n",
        "\n",
        "targets.columns = ['party', 'outcome']\n",
        "targets['outcome'] = targets.outcome.astype('float')\n",
        "\n",
        "df_train = df_train.merge(targets)\n",
        "df_train.head()\n"
      ],
      "execution_count": 0,
      "outputs": []
    },
    {
      "cell_type": "code",
      "metadata": {
        "id": "p0kr_VCd__Mj",
        "colab_type": "code",
        "colab": {}
      },
      "source": [
        "# Does time have an impact on the error of pollsters?\n",
        "df_train['error'] = abs(df_train.share - df_train.outcome)\n",
        "df_train.set_index('date', inplace=True)\n",
        "df_train.error.resample('D').mean().plot()\n"
      ],
      "execution_count": 0,
      "outputs": []
    },
    {
      "cell_type": "code",
      "metadata": {
        "id": "Aj-PEYSf__yk",
        "colab_type": "code",
        "colab": {}
      },
      "source": [
        "# What about the data collection method?\n",
        "df_train.method.value_counts()\n"
      ],
      "execution_count": 0,
      "outputs": []
    },
    {
      "cell_type": "code",
      "metadata": {
        "id": "pEB2FwS2AANM",
        "colab_type": "code",
        "colab": {}
      },
      "source": [
        "# Let's use some regex to do an initial cleaning\n",
        "regex = r\"\\(.*\\)|/| |rolling\"\n",
        "df_train['method'] = df_train.method.str.replace(regex, \"\")\n",
        "df_train['method'].value_counts()\n"
      ],
      "execution_count": 0,
      "outputs": []
    },
    {
      "cell_type": "code",
      "metadata": {
        "id": "7lYfd3naAAsY",
        "colab_type": "code",
        "colab": {}
      },
      "source": [
        "# Let's groups these even further\n",
        "df_train['method'] = df_train.method.str.lower().str[:3]\n",
        "df_train['method'].value_counts()\n"
      ],
      "execution_count": 0,
      "outputs": []
    },
    {
      "cell_type": "code",
      "metadata": {
        "id": "ol0xixb0ABGq",
        "colab_type": "code",
        "colab": {}
      },
      "source": [
        "# Let's use seaborn this time as we now have a long-dataset and see see if there is an abservable difference between the data collection methods\n",
        "sns.violinplot(x=\"method\", y=\"error\",\n",
        "               split=True, inner=\"quart\",\n",
        "               data=df_train)\n"
      ],
      "execution_count": 0,
      "outputs": []
    },
    {
      "cell_type": "markdown",
      "metadata": {
        "id": "OBcf3YkBAi7-",
        "colab_type": "text"
      },
      "source": [
        "## Preparing the test set\n"
      ]
    },
    {
      "cell_type": "code",
      "metadata": {
        "id": "n5OTq9IVeQCl",
        "colab_type": "code",
        "colab": {}
      },
      "source": [
        "# Now that we have some intuition about 2015!\n",
        "# We need to prepare our test set and verify it has the same form as the train set.\n",
        "df_test = new_df.stack()\n",
        "df_test.name = 'share'\n",
        "df_test = df_test.reset_index().set_index('date')\n",
        "\n",
        "data_2019 = {\n",
        "    \"party\": [\"lpc\", \"cpc\", \"bq\", \"ndp\", \"gpc\"],\n",
        "    \"outcome\": [33.1,34.4, 7.7, 15.9, 6.5],\n",
        "}\n",
        "\n",
        "df_test = df_test.reset_index().merge(pd.DataFrame(data_2019)).set_index('date')\n",
        "df_test['error'] = abs(df_test.share - df_test.outcome)\n",
        "all(df_test.columns == df_train.columns)\n"
      ],
      "execution_count": 0,
      "outputs": []
    },
    {
      "cell_type": "code",
      "metadata": {
        "id": "3WyU3xaeAo5w",
        "colab_type": "code",
        "colab": {}
      },
      "source": [
        "# Let's create a function to clean the method string!\n",
        "def str_magic(input_series):\n",
        "    regex = r\"\\(.*\\)|/| |rolling\"\n",
        "    tmp = input_series.copy()\n",
        "    tmp = df_test['method'].copy()\n",
        "    tmp = tmp.str.replace(regex, \"\")\n",
        "    return tmp.str.lower().str[:3]\n",
        "\n",
        "df_test['method'] = str_magic(df_test['method'])\n"
      ],
      "execution_count": 0,
      "outputs": []
    },
    {
      "cell_type": "markdown",
      "metadata": {
        "id": "_CZmdmSLApqn",
        "colab_type": "text"
      },
      "source": [
        "## Feature Creation\n"
      ]
    },
    {
      "cell_type": "code",
      "metadata": {
        "id": "OdyAlJbqAqSF",
        "colab_type": "code",
        "colab": {}
      },
      "source": [
        "# We need to prepare our features\n",
        "election_day_2015 = \"2015-10-19\"\n",
        "election_day_2019 = \"2019-10-21\"\n",
        "\n",
        "def add_days(df, election_day):\n",
        "    test = pd.to_datetime(election_day) - df.reset_index()['date']\n",
        "    test.index = df.index\n",
        "    df['days'] = test.dt.days\n",
        "    return df\n",
        "\n",
        "df_train = add_days(df_train, election_day_2015)\n",
        "df_test = add_days(df_test, election_day_2019)\n",
        "\n"
      ],
      "execution_count": 0,
      "outputs": []
    },
    {
      "cell_type": "code",
      "metadata": {
        "id": "3o7s1JInAsUG",
        "colab_type": "code",
        "colab": {}
      },
      "source": [
        "# One-Hot Encoding\n",
        "# Let's remove the group with most counts\n",
        "df_train.method.value_counts().plot(kind='barh')\n"
      ],
      "execution_count": 0,
      "outputs": []
    },
    {
      "cell_type": "code",
      "metadata": {
        "id": "jRqJ8jjKAvyx",
        "colab_type": "code",
        "colab": {}
      },
      "source": [
        "# Let's drop the most common value\n",
        "train_dummies = pd.get_dummies(df_train['method'])\n",
        "train_dummies.pop('tel')\n",
        "df_train = pd.concat([df_train, train_dummies], axis=1)\n",
        "\n",
        "test_dummies = pd.get_dummies(df_test['method'])\n",
        "test_dummies.pop('tel')\n",
        "df_test = pd.concat([df_test, test_dummies], axis=1)\n",
        "\n",
        "y_var = 'outcome'\n",
        "X_vars = ['share', 'days', 'ivr', 'onl']\n",
        "\n",
        "predictions = []\n"
      ],
      "execution_count": 0,
      "outputs": []
    },
    {
      "cell_type": "code",
      "metadata": {
        "id": "X55Thbzfez4b",
        "colab_type": "code",
        "colab": {}
      },
      "source": [
        "# Now that we have our train and test sets let's train our models\n",
        "\n",
        "from sklearn.linear_model import LinearRegression\n",
        "from sklearn.ensemble import RandomForestRegressor\n",
        "import pickle\n",
        "\n",
        "models = [\n",
        "    LinearRegression(),\n",
        "    RandomForestRegressor(),\n",
        "]\n"
      ],
      "execution_count": 0,
      "outputs": []
    },
    {
      "cell_type": "code",
      "metadata": {
        "id": "_XFmeOf1AwyJ",
        "colab_type": "code",
        "colab": {}
      },
      "source": [
        "# Fit, predict, and save your models\n",
        "for i in range(2):\n",
        "    models[i].fit(df_train[X_vars], df_train[y_var])\n",
        "    predictions.append(models[i].predict(df_test[X_vars]))\n",
        "    pickle.dump(models[i], open(f\"model_{i}.pkl\", 'wb'))\n",
        "\n",
        "predictions[0]"
      ],
      "execution_count": 0,
      "outputs": []
    },
    {
      "cell_type": "code",
      "metadata": {
        "id": "C0LPvyXjAykO",
        "colab_type": "code",
        "colab": {}
      },
      "source": [
        "# Load a saved model from disc and make a prediction\n",
        "input_date = '2019-09-20'\n",
        "\n",
        "file_name = \"model_0.pkl\"\n",
        "loaded_model = pickle.load(open(file_name, 'rb'))\n",
        "\n",
        "predictions = loaded_model.predict(df_test.loc[input_date,X_vars])\n",
        "results = df_test.loc[input_date, [y_var] + [\"party\", \"share\"]].assign(model_0=predictions)\n",
        "results['abs_e_poll'] = abs(results.outcome - results.share)\n",
        "results['abs_e_model_0'] = abs(results.outcome - results.model_0)\n"
      ],
      "execution_count": 0,
      "outputs": []
    },
    {
      "cell_type": "code",
      "metadata": {
        "id": "NeSL6vogggoM",
        "colab_type": "code",
        "colab": {}
      },
      "source": [
        "# Did our model beat the polls? \n",
        "print(results.loc[:,results.columns.str.contains('abs_e')].sum())\n"
      ],
      "execution_count": 0,
      "outputs": []
    },
    {
      "cell_type": "code",
      "metadata": {
        "id": "U6b5lNangXTA",
        "colab_type": "code",
        "colab": {}
      },
      "source": [
        "# Bonus - Packaging\n",
        "## > Let's go to your terminal!"
      ],
      "execution_count": 0,
      "outputs": []
    }
  ]
}