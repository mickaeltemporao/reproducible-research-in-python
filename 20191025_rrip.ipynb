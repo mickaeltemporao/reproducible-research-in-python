{
  "nbformat": 4,
  "nbformat_minor": 0,
  "metadata": {
    "colab": {
      "name": "20191025_rrip.ipynb",
      "provenance": []
    },
    "kernelspec": {
      "name": "python3",
      "display_name": "Python 3"
    },
    "accelerator": "GPU"
  },
  "cells": [
    {
      "cell_type": "markdown",
      "metadata": {
        "id": "jkDtvPdnFknW",
        "colab_type": "text"
      },
      "source": [
        "# Workshop: Open Source Reproducible Research in Python\n",
        "\n",
        "## Agenda\n",
        "\n",
        "- [Hello World]()\n",
        "- [Introduction to Python]()\n",
        "- [Fun with Pandas]()\n",
        "- [Let's explore data]()\n",
        "- [Let's model]()\n",
        "- [Let's ship]()"
      ]
    },
    {
      "cell_type": "code",
      "metadata": {
        "id": "_fiE5U9mXaJm",
        "colab_type": "code",
        "colab": {}
      },
      "source": [
        "import pandas as pd"
      ],
      "execution_count": 0,
      "outputs": []
    },
    {
      "cell_type": "code",
      "metadata": {
        "id": "3d1DKgBKXcmU",
        "colab_type": "code",
        "colab": {}
      },
      "source": [
        "data = pd.Series([1,3,4,2,35,2])"
      ],
      "execution_count": 0,
      "outputs": []
    },
    {
      "cell_type": "code",
      "metadata": {
        "id": "vdrDIFWvXiUz",
        "colab_type": "code",
        "colab": {
          "base_uri": "https://localhost:8080/",
          "height": 298
        },
        "outputId": "4552811b-5c5e-4aa0-d10e-cc071f6de1bf"
      },
      "source": [
        "data.plot(title='test')"
      ],
      "execution_count": 6,
      "outputs": [
        {
          "output_type": "execute_result",
          "data": {
            "text/plain": [
              "<matplotlib.axes._subplots.AxesSubplot at 0x7f318579e908>"
            ]
          },
          "metadata": {
            "tags": []
          },
          "execution_count": 6
        },
        {
          "output_type": "display_data",
          "data": {
            "image/png": "[encoded data removed]",
            "text/plain": [
              "<Figure size 432x288 with 1 Axes>"
            ]
          },
          "metadata": {
            "tags": []
          }
        }
      ]
    }
  ]
}